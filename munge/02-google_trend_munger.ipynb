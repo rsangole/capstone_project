{
 "cells": [
  {
   "cell_type": "markdown",
   "metadata": {},
   "source": [
    "# Google Trend Data"
   ]
  },
  {
   "cell_type": "markdown",
   "metadata": {},
   "source": [
    "This script prepares the weather data stored in `/data/raw/` and saves a cleaned and processed version to `/data/processed`."
   ]
  },
  {
   "cell_type": "code",
   "execution_count": 120,
   "metadata": {},
   "outputs": [],
   "source": [
    "import pandas as pd\n",
    "import numpy as np\n",
    "import altair as alt\n",
    "import glob\n",
    "%matplotlib inline"
   ]
  },
  {
   "cell_type": "markdown",
   "metadata": {},
   "source": [
    "# What trend files exist?"
   ]
  },
  {
   "cell_type": "code",
   "execution_count": 121,
   "metadata": {},
   "outputs": [
    {
     "data": {
      "text/plain": [
       "['../data/raw/google_searches/multiTimeline - symptoms of West Nile - Chicago IL.csv',\n",
       " '../data/raw/google_searches/multiTimeline - dead birds - Chicago IL.csv',\n",
       " '../data/raw/google_searches/multiTimeline - west nile - Chicago IL.csv',\n",
       " '../data/raw/google_searches/multiTimeline - mosquito bites - Chicago IL.csv']"
      ]
     },
     "execution_count": 121,
     "metadata": {},
     "output_type": "execute_result"
    }
   ],
   "source": [
    "trend_files = glob.glob(\"../data/raw/google_searches/*.csv\")\n",
    "trend_files"
   ]
  },
  {
   "cell_type": "markdown",
   "metadata": {},
   "source": [
    "# Combine the files"
   ]
  },
  {
   "cell_type": "code",
   "execution_count": 138,
   "metadata": {},
   "outputs": [],
   "source": [
    "trends = [pd.read_csv(_,skiprows = 1,index_col=\"Month\") for _ in trend_files]\n",
    "\n",
    "trends = pd.concat(trends, axis = 1)\n",
    "\n",
    "trends.columns = [\"googtrend_sym_wnv\",\"googtrend_deadbirds\",\"googtrend_westnile\",\"googtrend_mosq_bites\"]\n",
    "\n",
    "trends.replace(to_replace=\"<1\",value=0, inplace=True)\n",
    "\n",
    "trends.googtrend_deadbirds = pd.to_numeric(trends.googtrend_deadbirds)\n",
    "trends.googtrend_westnile = pd.to_numeric(trends.googtrend_westnile)\n",
    "\n",
    "trends.index.name = \"Date\""
   ]
  },
  {
   "cell_type": "code",
   "execution_count": 139,
   "metadata": {},
   "outputs": [
    {
     "name": "stdout",
     "output_type": "stream",
     "text": [
      "<class 'pandas.core.frame.DataFrame'>\n",
      "Index: 181 entries, 2004-01 to 2019-01\n",
      "Data columns (total 4 columns):\n",
      "googtrend_sym_wnv       181 non-null int64\n",
      "googtrend_deadbirds     181 non-null int64\n",
      "googtrend_westnile      181 non-null int64\n",
      "googtrend_mosq_bites    181 non-null int64\n",
      "dtypes: int64(4)\n",
      "memory usage: 7.1+ KB\n"
     ]
    }
   ],
   "source": [
    "trends.info()"
   ]
  },
  {
   "cell_type": "markdown",
   "metadata": {},
   "source": [
    "# Visualize"
   ]
  },
  {
   "cell_type": "markdown",
   "metadata": {},
   "source": [
    "## Time series plots"
   ]
  },
  {
   "cell_type": "code",
   "execution_count": 140,
   "metadata": {},
   "outputs": [
    {
     "data": {
      "application/vnd.vegalite.v2+json": {
       "$schema": "https://vega.github.io/schema/vega-lite/v2.6.0.json",
       "config": {
        "view": {
         "height": 300,
         "width": 400
        }
       },
       "datasets": {
        "data-7fd91455983d062c5f46a5e9f85cc475": [
         {
          "Date": "2004-01",
          "value": 0,
          "variable": "googtrend_sym_wnv"
         },
         {
          "Date": "2004-02",
          "value": 36,
          "variable": "googtrend_sym_wnv"
         },
         {
          "Date": "2004-03",
          "value": 0,
          "variable": "googtrend_sym_wnv"
         },
         {
          "Date": "2004-04",
          "value": 0,
          "variable": "googtrend_sym_wnv"
         },
         {
          "Date": "2004-05",
          "value": 0,
          "variable": "googtrend_sym_wnv"
         },
         {
          "Date": "2004-06",
          "value": 96,
          "variable": "googtrend_sym_wnv"
         },
         {
          "Date": "2004-07",
          "value": 32,
          "variable": "googtrend_sym_wnv"
         },
         {
          "Date": "2004-08",
          "value": 30,
          "variable": "googtrend_sym_wnv"
         },
         {
          "Date": "2004-09",
          "value": 57,
          "variable": "googtrend_sym_wnv"
         },
         {
          "Date": "2004-10",
          "value": 0,
          "variable": "googtrend_sym_wnv"
         },
         {
          "Date": "2004-11",
          "value": 0,
          "variable": "googtrend_sym_wnv"
         },
         {
          "Date": "2004-12",
          "value": 0,
          "variable": "googtrend_sym_wnv"
         },
         {
          "Date": "2005-01",
          "value": 0,
          "variable": "googtrend_sym_wnv"
         },
         {
          "Date": "2005-02",
          "value": 0,
          "variable": "googtrend_sym_wnv"
         },
         {
          "Date": "2005-03",
          "value": 0,
          "variable": "googtrend_sym_wnv"
         },
         {
          "Date": "2005-04",
          "value": 0,
          "variable": "googtrend_sym_wnv"
         },
         {
          "Date": "2005-05",
          "value": 0,
          "variable": "googtrend_sym_wnv"
         },
         {
          "Date": "2005-06",
          "value": 0,
          "variable": "googtrend_sym_wnv"
         },
         {
          "Date": "2005-07",
          "value": 20,
          "variable": "googtrend_sym_wnv"
         },
         {
          "Date": "2005-08",
          "value": 48,
          "variable": "googtrend_sym_wnv"
         },
         {
          "Date": "2005-09",
          "value": 54,
          "variable": "googtrend_sym_wnv"
         },
         {
          "Date": "2005-10",
          "value": 17,
          "variable": "googtrend_sym_wnv"
         },
         {
          "Date": "2005-11",
          "value": 0,
          "variable": "googtrend_sym_wnv"
         },
         {
          "Date": "2005-12",
          "value": 0,
          "variable": "googtrend_sym_wnv"
         },
         {
          "Date": "2006-01",
          "value": 0,
          "variable": "googtrend_sym_wnv"
         },
         {
          "Date": "2006-02",
          "value": 0,
          "variable": "googtrend_sym_wnv"
         },
         {
          "Date": "2006-03",
          "value": 0,
          "variable": "googtrend_sym_wnv"
         },
         {
          "Date": "2006-04",
          "value": 0,
          "variable": "googtrend_sym_wnv"
         },
         {
          "Date": "2006-05",
          "value": 13,
          "variable": "googtrend_sym_wnv"
         },
         {
          "Date": "2006-06",
          "value": 14,
          "variable": "googtrend_sym_wnv"
         },
         {
          "Date": "2006-07",
          "value": 13,
          "variable": "googtrend_sym_wnv"
         },
         {
          "Date": "2006-08",
          "value": 36,
          "variable": "googtrend_sym_wnv"
         },
         {
          "Date": "2006-09",
          "value": 37,
          "variable": "googtrend_sym_wnv"
         },
         {
          "Date": "2006-10",
          "value": 11,
          "variable": "googtrend_sym_wnv"
         },
         {
          "Date": "2006-11",
          "value": 0,
          "variable": "googtrend_sym_wnv"
         },
         {
          "Date": "2006-12",
          "value": 0,
          "variable": "googtrend_sym_wnv"
         },
         {
          "Date": "2007-01",
          "value": 10,
          "variable": "googtrend_sym_wnv"
         },
         {
          "Date": "2007-02",
          "value": 0,
          "variable": "googtrend_sym_wnv"
         },
         {
          "Date": "2007-03",
          "value": 0,
          "variable": "googtrend_sym_wnv"
         },
         {
          "Date": "2007-04",
          "value": 0,
          "variable": "googtrend_sym_wnv"
         },
         {
          "Date": "2007-05",
          "value": 0,
          "variable": "googtrend_sym_wnv"
         },
         {
          "Date": "2007-06",
          "value": 0,
          "variable": "googtrend_sym_wnv"
         },
         {
          "Date": "2007-07",
          "value": 9,
          "variable": "googtrend_sym_wnv"
         },
         {
          "Date": "2007-08",
          "value": 61,
          "variable": "googtrend_sym_wnv"
         },
         {
          "Date": "2007-09",
          "value": 37,
          "variable": "googtrend_sym_wnv"
         },
         {
          "Date": "2007-10",
          "value": 20,
          "variable": "googtrend_sym_wnv"
         },
         {
          "Date": "2007-11",
          "value": 8,
          "variable": "googtrend_sym_wnv"
         },
         {
          "Date": "2007-12",
          "value": 0,
          "variable": "googtrend_sym_wnv"
         },
         {
          "Date": "2008-01",
          "value": 0,
          "variable": "googtrend_sym_wnv"
         },
         {
          "Date": "2008-02",
          "value": 0,
          "variable": "googtrend_sym_wnv"
         },
         {
          "Date": "2008-03",
          "value": 0,
          "variable": "googtrend_sym_wnv"
         },
         {
          "Date": "2008-04",
          "value": 0,
          "variable": "googtrend_sym_wnv"
         },
         {
          "Date": "2008-05",
          "value": 0,
          "variable": "googtrend_sym_wnv"
         },
         {
          "Date": "2008-06",
          "value": 25,
          "variable": "googtrend_sym_wnv"
         },
         {
          "Date": "2008-07",
          "value": 8,
          "variable": "googtrend_sym_wnv"
         },
         {
          "Date": "2008-08",
          "value": 8,
          "variable": "googtrend_sym_wnv"
         },
         {
          "Date": "2008-09",
          "value": 15,
          "variable": "googtrend_sym_wnv"
         },
         {
          "Date": "2008-10",
          "value": 0,
          "variable": "googtrend_sym_wnv"
         },
         {
          "Date": "2008-11",
          "value": 0,
          "variable": "googtrend_sym_wnv"
         },
         {
          "Date": "2008-12",
          "value": 0,
          "variable": "googtrend_sym_wnv"
         },
         {
          "Date": "2009-01",
          "value": 0,
          "variable": "googtrend_sym_wnv"
         },
         {
          "Date": "2009-02",
          "value": 0,
          "variable": "googtrend_sym_wnv"
         },
         {
          "Date": "2009-03",
          "value": 0,
          "variable": "googtrend_sym_wnv"
         },
         {
          "Date": "2009-04",
          "value": 0,
          "variable": "googtrend_sym_wnv"
         },
         {
          "Date": "2009-05",
          "value": 0,
          "variable": "googtrend_sym_wnv"
         },
         {
          "Date": "2009-06",
          "value": 15,
          "variable": "googtrend_sym_wnv"
         },
         {
          "Date": "2009-07",
          "value": 7,
          "variable": "googtrend_sym_wnv"
         },
         {
          "Date": "2009-08",
          "value": 7,
          "variable": "googtrend_sym_wnv"
         },
         {
          "Date": "2009-09",
          "value": 11,
          "variable": "googtrend_sym_wnv"
         },
         {
          "Date": "2009-10",
          "value": 0,
          "variable": "googtrend_sym_wnv"
         },
         {
          "Date": "2009-11",
          "value": 0,
          "variable": "googtrend_sym_wnv"
         },
         {
          "Date": "2009-12",
          "value": 0,
          "variable": "googtrend_sym_wnv"
         },
         {
          "Date": "2010-01",
          "value": 6,
          "variable": "googtrend_sym_wnv"
         },
         {
          "Date": "2010-02",
          "value": 0,
          "variable": "googtrend_sym_wnv"
         },
         {
          "Date": "2010-03",
          "value": 0,
          "variable": "googtrend_sym_wnv"
         },
         {
          "Date": "2010-04",
          "value": 0,
          "variable": "googtrend_sym_wnv"
         },
         {
          "Date": "2010-05",
          "value": 0,
          "variable": "googtrend_sym_wnv"
         },
         {
          "Date": "2010-06",
          "value": 17,
          "variable": "googtrend_sym_wnv"
         },
         {
          "Date": "2010-07",
          "value": 13,
          "variable": "googtrend_sym_wnv"
         },
         {
          "Date": "2010-08",
          "value": 25,
          "variable": "googtrend_sym_wnv"
         },
         {
          "Date": "2010-09",
          "value": 19,
          "variable": "googtrend_sym_wnv"
         },
         {
          "Date": "2010-10",
          "value": 0,
          "variable": "googtrend_sym_wnv"
         },
         {
          "Date": "2010-11",
          "value": 0,
          "variable": "googtrend_sym_wnv"
         },
         {
          "Date": "2010-12",
          "value": 6,
          "variable": "googtrend_sym_wnv"
         },
         {
          "Date": "2011-01",
          "value": 3,
          "variable": "googtrend_sym_wnv"
         },
         {
          "Date": "2011-02",
          "value": 6,
          "variable": "googtrend_sym_wnv"
         },
         {
          "Date": "2011-03",
          "value": 0,
          "variable": "googtrend_sym_wnv"
         },
         {
          "Date": "2011-04",
          "value": 3,
          "variable": "googtrend_sym_wnv"
         },
         {
          "Date": "2011-05",
          "value": 7,
          "variable": "googtrend_sym_wnv"
         },
         {
          "Date": "2011-06",
          "value": 16,
          "variable": "googtrend_sym_wnv"
         },
         {
          "Date": "2011-07",
          "value": 18,
          "variable": "googtrend_sym_wnv"
         },
         {
          "Date": "2011-08",
          "value": 25,
          "variable": "googtrend_sym_wnv"
         },
         {
          "Date": "2011-09",
          "value": 6,
          "variable": "googtrend_sym_wnv"
         },
         {
          "Date": "2011-10",
          "value": 2,
          "variable": "googtrend_sym_wnv"
         },
         {
          "Date": "2011-11",
          "value": 0,
          "variable": "googtrend_sym_wnv"
         },
         {
          "Date": "2011-12",
          "value": 0,
          "variable": "googtrend_sym_wnv"
         },
         {
          "Date": "2012-01",
          "value": 0,
          "variable": "googtrend_sym_wnv"
         },
         {
          "Date": "2012-02",
          "value": 0,
          "variable": "googtrend_sym_wnv"
         },
         {
          "Date": "2012-03",
          "value": 2,
          "variable": "googtrend_sym_wnv"
         },
         {
          "Date": "2012-04",
          "value": 0,
          "variable": "googtrend_sym_wnv"
         },
         {
          "Date": "2012-05",
          "value": 6,
          "variable": "googtrend_sym_wnv"
         },
         {
          "Date": "2012-06",
          "value": 6,
          "variable": "googtrend_sym_wnv"
         },
         {
          "Date": "2012-07",
          "value": 15,
          "variable": "googtrend_sym_wnv"
         },
         {
          "Date": "2012-08",
          "value": 100,
          "variable": "googtrend_sym_wnv"
         },
         {
          "Date": "2012-09",
          "value": 85,
          "variable": "googtrend_sym_wnv"
         },
         {
          "Date": "2012-10",
          "value": 22,
          "variable": "googtrend_sym_wnv"
         },
         {
          "Date": "2012-11",
          "value": 8,
          "variable": "googtrend_sym_wnv"
         },
         {
          "Date": "2012-12",
          "value": 2,
          "variable": "googtrend_sym_wnv"
         },
         {
          "Date": "2013-01",
          "value": 2,
          "variable": "googtrend_sym_wnv"
         },
         {
          "Date": "2013-02",
          "value": 0,
          "variable": "googtrend_sym_wnv"
         },
         {
          "Date": "2013-03",
          "value": 2,
          "variable": "googtrend_sym_wnv"
         },
         {
          "Date": "2013-04",
          "value": 0,
          "variable": "googtrend_sym_wnv"
         },
         {
          "Date": "2013-05",
          "value": 5,
          "variable": "googtrend_sym_wnv"
         },
         {
          "Date": "2013-06",
          "value": 8,
          "variable": "googtrend_sym_wnv"
         },
         {
          "Date": "2013-07",
          "value": 24,
          "variable": "googtrend_sym_wnv"
         },
         {
          "Date": "2013-08",
          "value": 6,
          "variable": "googtrend_sym_wnv"
         },
         {
          "Date": "2013-09",
          "value": 10,
          "variable": "googtrend_sym_wnv"
         },
         {
          "Date": "2013-10",
          "value": 2,
          "variable": "googtrend_sym_wnv"
         },
         {
          "Date": "2013-11",
          "value": 2,
          "variable": "googtrend_sym_wnv"
         },
         {
          "Date": "2013-12",
          "value": 2,
          "variable": "googtrend_sym_wnv"
         },
         {
          "Date": "2014-01",
          "value": 0,
          "variable": "googtrend_sym_wnv"
         },
         {
          "Date": "2014-02",
          "value": 0,
          "variable": "googtrend_sym_wnv"
         },
         {
          "Date": "2014-03",
          "value": 2,
          "variable": "googtrend_sym_wnv"
         },
         {
          "Date": "2014-04",
          "value": 0,
          "variable": "googtrend_sym_wnv"
         },
         {
          "Date": "2014-05",
          "value": 2,
          "variable": "googtrend_sym_wnv"
         },
         {
          "Date": "2014-06",
          "value": 18,
          "variable": "googtrend_sym_wnv"
         },
         {
          "Date": "2014-07",
          "value": 33,
          "variable": "googtrend_sym_wnv"
         },
         {
          "Date": "2014-08",
          "value": 23,
          "variable": "googtrend_sym_wnv"
         },
         {
          "Date": "2014-09",
          "value": 22,
          "variable": "googtrend_sym_wnv"
         },
         {
          "Date": "2014-10",
          "value": 5,
          "variable": "googtrend_sym_wnv"
         },
         {
          "Date": "2014-11",
          "value": 2,
          "variable": "googtrend_sym_wnv"
         },
         {
          "Date": "2014-12",
          "value": 0,
          "variable": "googtrend_sym_wnv"
         },
         {
          "Date": "2015-01",
          "value": 5,
          "variable": "googtrend_sym_wnv"
         },
         {
          "Date": "2015-02",
          "value": 0,
          "variable": "googtrend_sym_wnv"
         },
         {
          "Date": "2015-03",
          "value": 2,
          "variable": "googtrend_sym_wnv"
         },
         {
          "Date": "2015-04",
          "value": 0,
          "variable": "googtrend_sym_wnv"
         },
         {
          "Date": "2015-05",
          "value": 2,
          "variable": "googtrend_sym_wnv"
         },
         {
          "Date": "2015-06",
          "value": 10,
          "variable": "googtrend_sym_wnv"
         },
         {
          "Date": "2015-07",
          "value": 18,
          "variable": "googtrend_sym_wnv"
         },
         {
          "Date": "2015-08",
          "value": 14,
          "variable": "googtrend_sym_wnv"
         },
         {
          "Date": "2015-09",
          "value": 9,
          "variable": "googtrend_sym_wnv"
         },
         {
          "Date": "2015-10",
          "value": 3,
          "variable": "googtrend_sym_wnv"
         },
         {
          "Date": "2015-11",
          "value": 2,
          "variable": "googtrend_sym_wnv"
         },
         {
          "Date": "2015-12",
          "value": 0,
          "variable": "googtrend_sym_wnv"
         },
         {
          "Date": "2016-01",
          "value": 0,
          "variable": "googtrend_sym_wnv"
         },
         {
          "Date": "2016-02",
          "value": 2,
          "variable": "googtrend_sym_wnv"
         },
         {
          "Date": "2016-03",
          "value": 0,
          "variable": "googtrend_sym_wnv"
         },
         {
          "Date": "2016-04",
          "value": 3,
          "variable": "googtrend_sym_wnv"
         },
         {
          "Date": "2016-05",
          "value": 1,
          "variable": "googtrend_sym_wnv"
         },
         {
          "Date": "2016-06",
          "value": 3,
          "variable": "googtrend_sym_wnv"
         },
         {
          "Date": "2016-07",
          "value": 5,
          "variable": "googtrend_sym_wnv"
         },
         {
          "Date": "2016-08",
          "value": 5,
          "variable": "googtrend_sym_wnv"
         },
         {
          "Date": "2016-09",
          "value": 6,
          "variable": "googtrend_sym_wnv"
         },
         {
          "Date": "2016-10",
          "value": 1,
          "variable": "googtrend_sym_wnv"
         },
         {
          "Date": "2016-11",
          "value": 1,
          "variable": "googtrend_sym_wnv"
         },
         {
          "Date": "2016-12",
          "value": 1,
          "variable": "googtrend_sym_wnv"
         },
         {
          "Date": "2017-01",
          "value": 0,
          "variable": "googtrend_sym_wnv"
         },
         {
          "Date": "2017-02",
          "value": 0,
          "variable": "googtrend_sym_wnv"
         },
         {
          "Date": "2017-03",
          "value": 1,
          "variable": "googtrend_sym_wnv"
         },
         {
          "Date": "2017-04",
          "value": 0,
          "variable": "googtrend_sym_wnv"
         },
         {
          "Date": "2017-05",
          "value": 2,
          "variable": "googtrend_sym_wnv"
         },
         {
          "Date": "2017-06",
          "value": 2,
          "variable": "googtrend_sym_wnv"
         },
         {
          "Date": "2017-07",
          "value": 16,
          "variable": "googtrend_sym_wnv"
         },
         {
          "Date": "2017-08",
          "value": 9,
          "variable": "googtrend_sym_wnv"
         },
         {
          "Date": "2017-09",
          "value": 3,
          "variable": "googtrend_sym_wnv"
         },
         {
          "Date": "2017-10",
          "value": 2,
          "variable": "googtrend_sym_wnv"
         },
         {
          "Date": "2017-11",
          "value": 0,
          "variable": "googtrend_sym_wnv"
         },
         {
          "Date": "2017-12",
          "value": 0,
          "variable": "googtrend_sym_wnv"
         },
         {
          "Date": "2018-01",
          "value": 0,
          "variable": "googtrend_sym_wnv"
         },
         {
          "Date": "2018-02",
          "value": 0,
          "variable": "googtrend_sym_wnv"
         },
         {
          "Date": "2018-03",
          "value": 0,
          "variable": "googtrend_sym_wnv"
         },
         {
          "Date": "2018-04",
          "value": 2,
          "variable": "googtrend_sym_wnv"
         },
         {
          "Date": "2018-05",
          "value": 4,
          "variable": "googtrend_sym_wnv"
         },
         {
          "Date": "2018-06",
          "value": 8,
          "variable": "googtrend_sym_wnv"
         },
         {
          "Date": "2018-07",
          "value": 11,
          "variable": "googtrend_sym_wnv"
         },
         {
          "Date": "2018-08",
          "value": 10,
          "variable": "googtrend_sym_wnv"
         },
         {
          "Date": "2018-09",
          "value": 7,
          "variable": "googtrend_sym_wnv"
         },
         {
          "Date": "2018-10",
          "value": 5,
          "variable": "googtrend_sym_wnv"
         },
         {
          "Date": "2018-11",
          "value": 0,
          "variable": "googtrend_sym_wnv"
         },
         {
          "Date": "2018-12",
          "value": 2,
          "variable": "googtrend_sym_wnv"
         },
         {
          "Date": "2019-01",
          "value": 0,
          "variable": "googtrend_sym_wnv"
         },
         {
          "Date": "2004-01",
          "value": 0,
          "variable": "googtrend_deadbirds"
         },
         {
          "Date": "2004-02",
          "value": 0,
          "variable": "googtrend_deadbirds"
         },
         {
          "Date": "2004-03",
          "value": 5,
          "variable": "googtrend_deadbirds"
         },
         {
          "Date": "2004-04",
          "value": 0,
          "variable": "googtrend_deadbirds"
         },
         {
          "Date": "2004-05",
          "value": 0,
          "variable": "googtrend_deadbirds"
         },
         {
          "Date": "2004-06",
          "value": 0,
          "variable": "googtrend_deadbirds"
         },
         {
          "Date": "2004-07",
          "value": 4,
          "variable": "googtrend_deadbirds"
         },
         {
          "Date": "2004-08",
          "value": 3,
          "variable": "googtrend_deadbirds"
         },
         {
          "Date": "2004-09",
          "value": 0,
          "variable": "googtrend_deadbirds"
         },
         {
          "Date": "2004-10",
          "value": 0,
          "variable": "googtrend_deadbirds"
         },
         {
          "Date": "2004-11",
          "value": 0,
          "variable": "googtrend_deadbirds"
         },
         {
          "Date": "2004-12",
          "value": 3,
          "variable": "googtrend_deadbirds"
         },
         {
          "Date": "2005-01",
          "value": 0,
          "variable": "googtrend_deadbirds"
         },
         {
          "Date": "2005-02",
          "value": 0,
          "variable": "googtrend_deadbirds"
         },
         {
          "Date": "2005-03",
          "value": 0,
          "variable": "googtrend_deadbirds"
         },
         {
          "Date": "2005-04",
          "value": 0,
          "variable": "googtrend_deadbirds"
         },
         {
          "Date": "2005-05",
          "value": 2,
          "variable": "googtrend_deadbirds"
         },
         {
          "Date": "2005-06",
          "value": 5,
          "variable": "googtrend_deadbirds"
         },
         {
          "Date": "2005-07",
          "value": 2,
          "variable": "googtrend_deadbirds"
         },
         {
          "Date": "2005-08",
          "value": 0,
          "variable": "googtrend_deadbirds"
         },
         {
          "Date": "2005-09",
          "value": 2,
          "variable": "googtrend_deadbirds"
         },
         {
          "Date": "2005-10",
          "value": 0,
          "variable": "googtrend_deadbirds"
         },
         {
          "Date": "2005-11",
          "value": 2,
          "variable": "googtrend_deadbirds"
         },
         {
          "Date": "2005-12",
          "value": 0,
          "variable": "googtrend_deadbirds"
         },
         {
          "Date": "2006-01",
          "value": 0,
          "variable": "googtrend_deadbirds"
         },
         {
          "Date": "2006-02",
          "value": 0,
          "variable": "googtrend_deadbirds"
         },
         {
          "Date": "2006-03",
          "value": 2,
          "variable": "googtrend_deadbirds"
         },
         {
          "Date": "2006-04",
          "value": 5,
          "variable": "googtrend_deadbirds"
         },
         {
          "Date": "2006-05",
          "value": 0,
          "variable": "googtrend_deadbirds"
         },
         {
          "Date": "2006-06",
          "value": 3,
          "variable": "googtrend_deadbirds"
         },
         {
          "Date": "2006-07",
          "value": 0,
          "variable": "googtrend_deadbirds"
         },
         {
          "Date": "2006-08",
          "value": 1,
          "variable": "googtrend_deadbirds"
         },
         {
          "Date": "2006-09",
          "value": 1,
          "variable": "googtrend_deadbirds"
         },
         {
          "Date": "2006-10",
          "value": 1,
          "variable": "googtrend_deadbirds"
         },
         {
          "Date": "2006-11",
          "value": 0,
          "variable": "googtrend_deadbirds"
         },
         {
          "Date": "2006-12",
          "value": 0,
          "variable": "googtrend_deadbirds"
         },
         {
          "Date": "2007-01",
          "value": 7,
          "variable": "googtrend_deadbirds"
         },
         {
          "Date": "2007-02",
          "value": 0,
          "variable": "googtrend_deadbirds"
         },
         {
          "Date": "2007-03",
          "value": 0,
          "variable": "googtrend_deadbirds"
         },
         {
          "Date": "2007-04",
          "value": 1,
          "variable": "googtrend_deadbirds"
         },
         {
          "Date": "2007-05",
          "value": 2,
          "variable": "googtrend_deadbirds"
         },
         {
          "Date": "2007-06",
          "value": 1,
          "variable": "googtrend_deadbirds"
         },
         {
          "Date": "2007-07",
          "value": 1,
          "variable": "googtrend_deadbirds"
         },
         {
          "Date": "2007-08",
          "value": 1,
          "variable": "googtrend_deadbirds"
         },
         {
          "Date": "2007-09",
          "value": 1,
          "variable": "googtrend_deadbirds"
         },
         {
          "Date": "2007-10",
          "value": 0,
          "variable": "googtrend_deadbirds"
         },
         {
          "Date": "2007-11",
          "value": 0,
          "variable": "googtrend_deadbirds"
         },
         {
          "Date": "2007-12",
          "value": 0,
          "variable": "googtrend_deadbirds"
         },
         {
          "Date": "2008-01",
          "value": 1,
          "variable": "googtrend_deadbirds"
         },
         {
          "Date": "2008-02",
          "value": 1,
          "variable": "googtrend_deadbirds"
         },
         {
          "Date": "2008-03",
          "value": 1,
          "variable": "googtrend_deadbirds"
         },
         {
          "Date": "2008-04",
          "value": 1,
          "variable": "googtrend_deadbirds"
         },
         {
          "Date": "2008-05",
          "value": 1,
          "variable": "googtrend_deadbirds"
         },
         {
          "Date": "2008-06",
          "value": 2,
          "variable": "googtrend_deadbirds"
         },
         {
          "Date": "2008-07",
          "value": 1,
          "variable": "googtrend_deadbirds"
         },
         {
          "Date": "2008-08",
          "value": 2,
          "variable": "googtrend_deadbirds"
         },
         {
          "Date": "2008-09",
          "value": 2,
          "variable": "googtrend_deadbirds"
         },
         {
          "Date": "2008-10",
          "value": 1,
          "variable": "googtrend_deadbirds"
         },
         {
          "Date": "2008-11",
          "value": 1,
          "variable": "googtrend_deadbirds"
         },
         {
          "Date": "2008-12",
          "value": 1,
          "variable": "googtrend_deadbirds"
         },
         {
          "Date": "2009-01",
          "value": 1,
          "variable": "googtrend_deadbirds"
         },
         {
          "Date": "2009-02",
          "value": 1,
          "variable": "googtrend_deadbirds"
         },
         {
          "Date": "2009-03",
          "value": 1,
          "variable": "googtrend_deadbirds"
         },
         {
          "Date": "2009-04",
          "value": 1,
          "variable": "googtrend_deadbirds"
         },
         {
          "Date": "2009-05",
          "value": 1,
          "variable": "googtrend_deadbirds"
         },
         {
          "Date": "2009-06",
          "value": 3,
          "variable": "googtrend_deadbirds"
         },
         {
          "Date": "2009-07",
          "value": 1,
          "variable": "googtrend_deadbirds"
         },
         {
          "Date": "2009-08",
          "value": 1,
          "variable": "googtrend_deadbirds"
         },
         {
          "Date": "2009-09",
          "value": 1,
          "variable": "googtrend_deadbirds"
         },
         {
          "Date": "2009-10",
          "value": 1,
          "variable": "googtrend_deadbirds"
         },
         {
          "Date": "2009-11",
          "value": 1,
          "variable": "googtrend_deadbirds"
         },
         {
          "Date": "2009-12",
          "value": 1,
          "variable": "googtrend_deadbirds"
         },
         {
          "Date": "2010-01",
          "value": 1,
          "variable": "googtrend_deadbirds"
         },
         {
          "Date": "2010-02",
          "value": 1,
          "variable": "googtrend_deadbirds"
         },
         {
          "Date": "2010-03",
          "value": 1,
          "variable": "googtrend_deadbirds"
         },
         {
          "Date": "2010-04",
          "value": 1,
          "variable": "googtrend_deadbirds"
         },
         {
          "Date": "2010-05",
          "value": 1,
          "variable": "googtrend_deadbirds"
         },
         {
          "Date": "2010-06",
          "value": 1,
          "variable": "googtrend_deadbirds"
         },
         {
          "Date": "2010-07",
          "value": 1,
          "variable": "googtrend_deadbirds"
         },
         {
          "Date": "2010-08",
          "value": 1,
          "variable": "googtrend_deadbirds"
         },
         {
          "Date": "2010-09",
          "value": 2,
          "variable": "googtrend_deadbirds"
         },
         {
          "Date": "2010-10",
          "value": 1,
          "variable": "googtrend_deadbirds"
         },
         {
          "Date": "2010-11",
          "value": 1,
          "variable": "googtrend_deadbirds"
         },
         {
          "Date": "2010-12",
          "value": 0,
          "variable": "googtrend_deadbirds"
         },
         {
          "Date": "2011-01",
          "value": 100,
          "variable": "googtrend_deadbirds"
         },
         {
          "Date": "2011-02",
          "value": 7,
          "variable": "googtrend_deadbirds"
         },
         {
          "Date": "2011-03",
          "value": 3,
          "variable": "googtrend_deadbirds"
         },
         {
          "Date": "2011-04",
          "value": 2,
          "variable": "googtrend_deadbirds"
         },
         {
          "Date": "2011-05",
          "value": 2,
          "variable": "googtrend_deadbirds"
         },
         {
          "Date": "2011-06",
          "value": 1,
          "variable": "googtrend_deadbirds"
         },
         {
          "Date": "2011-07",
          "value": 1,
          "variable": "googtrend_deadbirds"
         },
         {
          "Date": "2011-08",
          "value": 2,
          "variable": "googtrend_deadbirds"
         },
         {
          "Date": "2011-09",
          "value": 1,
          "variable": "googtrend_deadbirds"
         },
         {
          "Date": "2011-10",
          "value": 1,
          "variable": "googtrend_deadbirds"
         },
         {
          "Date": "2011-11",
          "value": 1,
          "variable": "googtrend_deadbirds"
         },
         {
          "Date": "2011-12",
          "value": 1,
          "variable": "googtrend_deadbirds"
         },
         {
          "Date": "2012-01",
          "value": 2,
          "variable": "googtrend_deadbirds"
         },
         {
          "Date": "2012-02",
          "value": 1,
          "variable": "googtrend_deadbirds"
         },
         {
          "Date": "2012-03",
          "value": 1,
          "variable": "googtrend_deadbirds"
         },
         {
          "Date": "2012-04",
          "value": 1,
          "variable": "googtrend_deadbirds"
         },
         {
          "Date": "2012-05",
          "value": 2,
          "variable": "googtrend_deadbirds"
         },
         {
          "Date": "2012-06",
          "value": 1,
          "variable": "googtrend_deadbirds"
         },
         {
          "Date": "2012-07",
          "value": 1,
          "variable": "googtrend_deadbirds"
         },
         {
          "Date": "2012-08",
          "value": 1,
          "variable": "googtrend_deadbirds"
         },
         {
          "Date": "2012-09",
          "value": 1,
          "variable": "googtrend_deadbirds"
         },
         {
          "Date": "2012-10",
          "value": 1,
          "variable": "googtrend_deadbirds"
         },
         {
          "Date": "2012-11",
          "value": 0,
          "variable": "googtrend_deadbirds"
         },
         {
          "Date": "2012-12",
          "value": 1,
          "variable": "googtrend_deadbirds"
         },
         {
          "Date": "2013-01",
          "value": 0,
          "variable": "googtrend_deadbirds"
         },
         {
          "Date": "2013-02",
          "value": 1,
          "variable": "googtrend_deadbirds"
         },
         {
          "Date": "2013-03",
          "value": 1,
          "variable": "googtrend_deadbirds"
         },
         {
          "Date": "2013-04",
          "value": 1,
          "variable": "googtrend_deadbirds"
         },
         {
          "Date": "2013-05",
          "value": 1,
          "variable": "googtrend_deadbirds"
         },
         {
          "Date": "2013-06",
          "value": 1,
          "variable": "googtrend_deadbirds"
         },
         {
          "Date": "2013-07",
          "value": 1,
          "variable": "googtrend_deadbirds"
         },
         {
          "Date": "2013-08",
          "value": 1,
          "variable": "googtrend_deadbirds"
         },
         {
          "Date": "2013-09",
          "value": 1,
          "variable": "googtrend_deadbirds"
         },
         {
          "Date": "2013-10",
          "value": 1,
          "variable": "googtrend_deadbirds"
         },
         {
          "Date": "2013-11",
          "value": 0,
          "variable": "googtrend_deadbirds"
         },
         {
          "Date": "2013-12",
          "value": 1,
          "variable": "googtrend_deadbirds"
         },
         {
          "Date": "2014-01",
          "value": 1,
          "variable": "googtrend_deadbirds"
         },
         {
          "Date": "2014-02",
          "value": 1,
          "variable": "googtrend_deadbirds"
         },
         {
          "Date": "2014-03",
          "value": 0,
          "variable": "googtrend_deadbirds"
         },
         {
          "Date": "2014-04",
          "value": 1,
          "variable": "googtrend_deadbirds"
         },
         {
          "Date": "2014-05",
          "value": 1,
          "variable": "googtrend_deadbirds"
         },
         {
          "Date": "2014-06",
          "value": 1,
          "variable": "googtrend_deadbirds"
         },
         {
          "Date": "2014-07",
          "value": 0,
          "variable": "googtrend_deadbirds"
         },
         {
          "Date": "2014-08",
          "value": 1,
          "variable": "googtrend_deadbirds"
         },
         {
          "Date": "2014-09",
          "value": 0,
          "variable": "googtrend_deadbirds"
         },
         {
          "Date": "2014-10",
          "value": 1,
          "variable": "googtrend_deadbirds"
         },
         {
          "Date": "2014-11",
          "value": 1,
          "variable": "googtrend_deadbirds"
         },
         {
          "Date": "2014-12",
          "value": 0,
          "variable": "googtrend_deadbirds"
         },
         {
          "Date": "2015-01",
          "value": 0,
          "variable": "googtrend_deadbirds"
         },
         {
          "Date": "2015-02",
          "value": 1,
          "variable": "googtrend_deadbirds"
         },
         {
          "Date": "2015-03",
          "value": 1,
          "variable": "googtrend_deadbirds"
         },
         {
          "Date": "2015-04",
          "value": 1,
          "variable": "googtrend_deadbirds"
         },
         {
          "Date": "2015-05",
          "value": 1,
          "variable": "googtrend_deadbirds"
         },
         {
          "Date": "2015-06",
          "value": 0,
          "variable": "googtrend_deadbirds"
         },
         {
          "Date": "2015-07",
          "value": 1,
          "variable": "googtrend_deadbirds"
         },
         {
          "Date": "2015-08",
          "value": 2,
          "variable": "googtrend_deadbirds"
         },
         {
          "Date": "2015-09",
          "value": 1,
          "variable": "googtrend_deadbirds"
         },
         {
          "Date": "2015-10",
          "value": 0,
          "variable": "googtrend_deadbirds"
         },
         {
          "Date": "2015-11",
          "value": 0,
          "variable": "googtrend_deadbirds"
         },
         {
          "Date": "2015-12",
          "value": 0,
          "variable": "googtrend_deadbirds"
         },
         {
          "Date": "2016-01",
          "value": 1,
          "variable": "googtrend_deadbirds"
         },
         {
          "Date": "2016-02",
          "value": 0,
          "variable": "googtrend_deadbirds"
         },
         {
          "Date": "2016-03",
          "value": 0,
          "variable": "googtrend_deadbirds"
         },
         {
          "Date": "2016-04",
          "value": 0,
          "variable": "googtrend_deadbirds"
         },
         {
          "Date": "2016-05",
          "value": 1,
          "variable": "googtrend_deadbirds"
         },
         {
          "Date": "2016-06",
          "value": 1,
          "variable": "googtrend_deadbirds"
         },
         {
          "Date": "2016-07",
          "value": 0,
          "variable": "googtrend_deadbirds"
         },
         {
          "Date": "2016-08",
          "value": 1,
          "variable": "googtrend_deadbirds"
         },
         {
          "Date": "2016-09",
          "value": 1,
          "variable": "googtrend_deadbirds"
         },
         {
          "Date": "2016-10",
          "value": 1,
          "variable": "googtrend_deadbirds"
         },
         {
          "Date": "2016-11",
          "value": 1,
          "variable": "googtrend_deadbirds"
         },
         {
          "Date": "2016-12",
          "value": 0,
          "variable": "googtrend_deadbirds"
         },
         {
          "Date": "2017-01",
          "value": 0,
          "variable": "googtrend_deadbirds"
         },
         {
          "Date": "2017-02",
          "value": 0,
          "variable": "googtrend_deadbirds"
         },
         {
          "Date": "2017-03",
          "value": 0,
          "variable": "googtrend_deadbirds"
         },
         {
          "Date": "2017-04",
          "value": 0,
          "variable": "googtrend_deadbirds"
         },
         {
          "Date": "2017-05",
          "value": 1,
          "variable": "googtrend_deadbirds"
         },
         {
          "Date": "2017-06",
          "value": 1,
          "variable": "googtrend_deadbirds"
         },
         {
          "Date": "2017-07",
          "value": 0,
          "variable": "googtrend_deadbirds"
         },
         {
          "Date": "2017-08",
          "value": 1,
          "variable": "googtrend_deadbirds"
         },
         {
          "Date": "2017-09",
          "value": 1,
          "variable": "googtrend_deadbirds"
         },
         {
          "Date": "2017-10",
          "value": 1,
          "variable": "googtrend_deadbirds"
         },
         {
          "Date": "2017-11",
          "value": 1,
          "variable": "googtrend_deadbirds"
         },
         {
          "Date": "2017-12",
          "value": 0,
          "variable": "googtrend_deadbirds"
         },
         {
          "Date": "2018-01",
          "value": 0,
          "variable": "googtrend_deadbirds"
         },
         {
          "Date": "2018-02",
          "value": 1,
          "variable": "googtrend_deadbirds"
         },
         {
          "Date": "2018-03",
          "value": 1,
          "variable": "googtrend_deadbirds"
         },
         {
          "Date": "2018-04",
          "value": 1,
          "variable": "googtrend_deadbirds"
         },
         {
          "Date": "2018-05",
          "value": 1,
          "variable": "googtrend_deadbirds"
         },
         {
          "Date": "2018-06",
          "value": 1,
          "variable": "googtrend_deadbirds"
         },
         {
          "Date": "2018-07",
          "value": 1,
          "variable": "googtrend_deadbirds"
         },
         {
          "Date": "2018-08",
          "value": 1,
          "variable": "googtrend_deadbirds"
         },
         {
          "Date": "2018-09",
          "value": 1,
          "variable": "googtrend_deadbirds"
         },
         {
          "Date": "2018-10",
          "value": 1,
          "variable": "googtrend_deadbirds"
         },
         {
          "Date": "2018-11",
          "value": 1,
          "variable": "googtrend_deadbirds"
         },
         {
          "Date": "2018-12",
          "value": 0,
          "variable": "googtrend_deadbirds"
         },
         {
          "Date": "2019-01",
          "value": 1,
          "variable": "googtrend_deadbirds"
         },
         {
          "Date": "2004-01",
          "value": 5,
          "variable": "googtrend_westnile"
         },
         {
          "Date": "2004-02",
          "value": 6,
          "variable": "googtrend_westnile"
         },
         {
          "Date": "2004-03",
          "value": 8,
          "variable": "googtrend_westnile"
         },
         {
          "Date": "2004-04",
          "value": 14,
          "variable": "googtrend_westnile"
         },
         {
          "Date": "2004-05",
          "value": 20,
          "variable": "googtrend_westnile"
         },
         {
          "Date": "2004-06",
          "value": 91,
          "variable": "googtrend_westnile"
         },
         {
          "Date": "2004-07",
          "value": 75,
          "variable": "googtrend_westnile"
         },
         {
          "Date": "2004-08",
          "value": 44,
          "variable": "googtrend_westnile"
         },
         {
          "Date": "2004-09",
          "value": 37,
          "variable": "googtrend_westnile"
         },
         {
          "Date": "2004-10",
          "value": 16,
          "variable": "googtrend_westnile"
         },
         {
          "Date": "2004-11",
          "value": 0,
          "variable": "googtrend_westnile"
         },
         {
          "Date": "2004-12",
          "value": 5,
          "variable": "googtrend_westnile"
         },
         {
          "Date": "2005-01",
          "value": 6,
          "variable": "googtrend_westnile"
         },
         {
          "Date": "2005-02",
          "value": 5,
          "variable": "googtrend_westnile"
         },
         {
          "Date": "2005-03",
          "value": 2,
          "variable": "googtrend_westnile"
         },
         {
          "Date": "2005-04",
          "value": 7,
          "variable": "googtrend_westnile"
         },
         {
          "Date": "2005-05",
          "value": 11,
          "variable": "googtrend_westnile"
         },
         {
          "Date": "2005-06",
          "value": 18,
          "variable": "googtrend_westnile"
         },
         {
          "Date": "2005-07",
          "value": 41,
          "variable": "googtrend_westnile"
         },
         {
          "Date": "2005-08",
          "value": 100,
          "variable": "googtrend_westnile"
         },
         {
          "Date": "2005-09",
          "value": 49,
          "variable": "googtrend_westnile"
         },
         {
          "Date": "2005-10",
          "value": 13,
          "variable": "googtrend_westnile"
         },
         {
          "Date": "2005-11",
          "value": 8,
          "variable": "googtrend_westnile"
         },
         {
          "Date": "2005-12",
          "value": 2,
          "variable": "googtrend_westnile"
         },
         {
          "Date": "2006-01",
          "value": 2,
          "variable": "googtrend_westnile"
         },
         {
          "Date": "2006-02",
          "value": 5,
          "variable": "googtrend_westnile"
         },
         {
          "Date": "2006-03",
          "value": 8,
          "variable": "googtrend_westnile"
         },
         {
          "Date": "2006-04",
          "value": 2,
          "variable": "googtrend_westnile"
         },
         {
          "Date": "2006-05",
          "value": 10,
          "variable": "googtrend_westnile"
         },
         {
          "Date": "2006-06",
          "value": 14,
          "variable": "googtrend_westnile"
         },
         {
          "Date": "2006-07",
          "value": 27,
          "variable": "googtrend_westnile"
         },
         {
          "Date": "2006-08",
          "value": 61,
          "variable": "googtrend_westnile"
         },
         {
          "Date": "2006-09",
          "value": 51,
          "variable": "googtrend_westnile"
         },
         {
          "Date": "2006-10",
          "value": 17,
          "variable": "googtrend_westnile"
         },
         {
          "Date": "2006-11",
          "value": 5,
          "variable": "googtrend_westnile"
         },
         {
          "Date": "2006-12",
          "value": 4,
          "variable": "googtrend_westnile"
         },
         {
          "Date": "2007-01",
          "value": 3,
          "variable": "googtrend_westnile"
         },
         {
          "Date": "2007-02",
          "value": 4,
          "variable": "googtrend_westnile"
         },
         {
          "Date": "2007-03",
          "value": 3,
          "variable": "googtrend_westnile"
         },
         {
          "Date": "2007-04",
          "value": 5,
          "variable": "googtrend_westnile"
         },
         {
          "Date": "2007-05",
          "value": 16,
          "variable": "googtrend_westnile"
         },
         {
          "Date": "2007-06",
          "value": 14,
          "variable": "googtrend_westnile"
         },
         {
          "Date": "2007-07",
          "value": 22,
          "variable": "googtrend_westnile"
         },
         {
          "Date": "2007-08",
          "value": 57,
          "variable": "googtrend_westnile"
         },
         {
          "Date": "2007-09",
          "value": 58,
          "variable": "googtrend_westnile"
         },
         {
          "Date": "2007-10",
          "value": 9,
          "variable": "googtrend_westnile"
         },
         {
          "Date": "2007-11",
          "value": 6,
          "variable": "googtrend_westnile"
         },
         {
          "Date": "2007-12",
          "value": 4,
          "variable": "googtrend_westnile"
         },
         {
          "Date": "2008-01",
          "value": 2,
          "variable": "googtrend_westnile"
         },
         {
          "Date": "2008-02",
          "value": 3,
          "variable": "googtrend_westnile"
         },
         {
          "Date": "2008-03",
          "value": 3,
          "variable": "googtrend_westnile"
         },
         {
          "Date": "2008-04",
          "value": 3,
          "variable": "googtrend_westnile"
         },
         {
          "Date": "2008-05",
          "value": 3,
          "variable": "googtrend_westnile"
         },
         {
          "Date": "2008-06",
          "value": 19,
          "variable": "googtrend_westnile"
         },
         {
          "Date": "2008-07",
          "value": 19,
          "variable": "googtrend_westnile"
         },
         {
          "Date": "2008-08",
          "value": 18,
          "variable": "googtrend_westnile"
         },
         {
          "Date": "2008-09",
          "value": 14,
          "variable": "googtrend_westnile"
         },
         {
          "Date": "2008-10",
          "value": 8,
          "variable": "googtrend_westnile"
         },
         {
          "Date": "2008-11",
          "value": 1,
          "variable": "googtrend_westnile"
         },
         {
          "Date": "2008-12",
          "value": 3,
          "variable": "googtrend_westnile"
         },
         {
          "Date": "2009-01",
          "value": 3,
          "variable": "googtrend_westnile"
         },
         {
          "Date": "2009-02",
          "value": 3,
          "variable": "googtrend_westnile"
         },
         {
          "Date": "2009-03",
          "value": 2,
          "variable": "googtrend_westnile"
         },
         {
          "Date": "2009-04",
          "value": 4,
          "variable": "googtrend_westnile"
         },
         {
          "Date": "2009-05",
          "value": 4,
          "variable": "googtrend_westnile"
         },
         {
          "Date": "2009-06",
          "value": 6,
          "variable": "googtrend_westnile"
         },
         {
          "Date": "2009-07",
          "value": 5,
          "variable": "googtrend_westnile"
         },
         {
          "Date": "2009-08",
          "value": 6,
          "variable": "googtrend_westnile"
         },
         {
          "Date": "2009-09",
          "value": 6,
          "variable": "googtrend_westnile"
         },
         {
          "Date": "2009-10",
          "value": 5,
          "variable": "googtrend_westnile"
         },
         {
          "Date": "2009-11",
          "value": 2,
          "variable": "googtrend_westnile"
         },
         {
          "Date": "2009-12",
          "value": 2,
          "variable": "googtrend_westnile"
         },
         {
          "Date": "2010-01",
          "value": 3,
          "variable": "googtrend_westnile"
         },
         {
          "Date": "2010-02",
          "value": 2,
          "variable": "googtrend_westnile"
         },
         {
          "Date": "2010-03",
          "value": 1,
          "variable": "googtrend_westnile"
         },
         {
          "Date": "2010-04",
          "value": 4,
          "variable": "googtrend_westnile"
         },
         {
          "Date": "2010-05",
          "value": 3,
          "variable": "googtrend_westnile"
         },
         {
          "Date": "2010-06",
          "value": 8,
          "variable": "googtrend_westnile"
         },
         {
          "Date": "2010-07",
          "value": 14,
          "variable": "googtrend_westnile"
         },
         {
          "Date": "2010-08",
          "value": 26,
          "variable": "googtrend_westnile"
         },
         {
          "Date": "2010-09",
          "value": 9,
          "variable": "googtrend_westnile"
         },
         {
          "Date": "2010-10",
          "value": 3,
          "variable": "googtrend_westnile"
         },
         {
          "Date": "2010-11",
          "value": 3,
          "variable": "googtrend_westnile"
         },
         {
          "Date": "2010-12",
          "value": 1,
          "variable": "googtrend_westnile"
         },
         {
          "Date": "2011-01",
          "value": 2,
          "variable": "googtrend_westnile"
         },
         {
          "Date": "2011-02",
          "value": 1,
          "variable": "googtrend_westnile"
         },
         {
          "Date": "2011-03",
          "value": 1,
          "variable": "googtrend_westnile"
         },
         {
          "Date": "2011-04",
          "value": 2,
          "variable": "googtrend_westnile"
         },
         {
          "Date": "2011-05",
          "value": 3,
          "variable": "googtrend_westnile"
         },
         {
          "Date": "2011-06",
          "value": 9,
          "variable": "googtrend_westnile"
         },
         {
          "Date": "2011-07",
          "value": 12,
          "variable": "googtrend_westnile"
         },
         {
          "Date": "2011-08",
          "value": 17,
          "variable": "googtrend_westnile"
         },
         {
          "Date": "2011-09",
          "value": 6,
          "variable": "googtrend_westnile"
         },
         {
          "Date": "2011-10",
          "value": 2,
          "variable": "googtrend_westnile"
         },
         {
          "Date": "2011-11",
          "value": 2,
          "variable": "googtrend_westnile"
         },
         {
          "Date": "2011-12",
          "value": 1,
          "variable": "googtrend_westnile"
         },
         {
          "Date": "2012-01",
          "value": 1,
          "variable": "googtrend_westnile"
         },
         {
          "Date": "2012-02",
          "value": 2,
          "variable": "googtrend_westnile"
         },
         {
          "Date": "2012-03",
          "value": 2,
          "variable": "googtrend_westnile"
         },
         {
          "Date": "2012-04",
          "value": 2,
          "variable": "googtrend_westnile"
         },
         {
          "Date": "2012-05",
          "value": 4,
          "variable": "googtrend_westnile"
         },
         {
          "Date": "2012-06",
          "value": 7,
          "variable": "googtrend_westnile"
         },
         {
          "Date": "2012-07",
          "value": 15,
          "variable": "googtrend_westnile"
         },
         {
          "Date": "2012-08",
          "value": 93,
          "variable": "googtrend_westnile"
         },
         {
          "Date": "2012-09",
          "value": 65,
          "variable": "googtrend_westnile"
         },
         {
          "Date": "2012-10",
          "value": 16,
          "variable": "googtrend_westnile"
         },
         {
          "Date": "2012-11",
          "value": 4,
          "variable": "googtrend_westnile"
         },
         {
          "Date": "2012-12",
          "value": 2,
          "variable": "googtrend_westnile"
         },
         {
          "Date": "2013-01",
          "value": 1,
          "variable": "googtrend_westnile"
         },
         {
          "Date": "2013-02",
          "value": 1,
          "variable": "googtrend_westnile"
         },
         {
          "Date": "2013-03",
          "value": 1,
          "variable": "googtrend_westnile"
         },
         {
          "Date": "2013-04",
          "value": 2,
          "variable": "googtrend_westnile"
         },
         {
          "Date": "2013-05",
          "value": 4,
          "variable": "googtrend_westnile"
         },
         {
          "Date": "2013-06",
          "value": 11,
          "variable": "googtrend_westnile"
         },
         {
          "Date": "2013-07",
          "value": 21,
          "variable": "googtrend_westnile"
         },
         {
          "Date": "2013-08",
          "value": 14,
          "variable": "googtrend_westnile"
         },
         {
          "Date": "2013-09",
          "value": 13,
          "variable": "googtrend_westnile"
         },
         {
          "Date": "2013-10",
          "value": 5,
          "variable": "googtrend_westnile"
         },
         {
          "Date": "2013-11",
          "value": 1,
          "variable": "googtrend_westnile"
         },
         {
          "Date": "2013-12",
          "value": 2,
          "variable": "googtrend_westnile"
         },
         {
          "Date": "2014-01",
          "value": 1,
          "variable": "googtrend_westnile"
         },
         {
          "Date": "2014-02",
          "value": 1,
          "variable": "googtrend_westnile"
         },
         {
          "Date": "2014-03",
          "value": 1,
          "variable": "googtrend_westnile"
         },
         {
          "Date": "2014-04",
          "value": 1,
          "variable": "googtrend_westnile"
         },
         {
          "Date": "2014-05",
          "value": 2,
          "variable": "googtrend_westnile"
         },
         {
          "Date": "2014-06",
          "value": 12,
          "variable": "googtrend_westnile"
         },
         {
          "Date": "2014-07",
          "value": 20,
          "variable": "googtrend_westnile"
         },
         {
          "Date": "2014-08",
          "value": 16,
          "variable": "googtrend_westnile"
         },
         {
          "Date": "2014-09",
          "value": 18,
          "variable": "googtrend_westnile"
         },
         {
          "Date": "2014-10",
          "value": 5,
          "variable": "googtrend_westnile"
         },
         {
          "Date": "2014-11",
          "value": 2,
          "variable": "googtrend_westnile"
         },
         {
          "Date": "2014-12",
          "value": 2,
          "variable": "googtrend_westnile"
         },
         {
          "Date": "2015-01",
          "value": 1,
          "variable": "googtrend_westnile"
         },
         {
          "Date": "2015-02",
          "value": 2,
          "variable": "googtrend_westnile"
         },
         {
          "Date": "2015-03",
          "value": 2,
          "variable": "googtrend_westnile"
         },
         {
          "Date": "2015-04",
          "value": 2,
          "variable": "googtrend_westnile"
         },
         {
          "Date": "2015-05",
          "value": 3,
          "variable": "googtrend_westnile"
         },
         {
          "Date": "2015-06",
          "value": 9,
          "variable": "googtrend_westnile"
         },
         {
          "Date": "2015-07",
          "value": 32,
          "variable": "googtrend_westnile"
         },
         {
          "Date": "2015-08",
          "value": 15,
          "variable": "googtrend_westnile"
         },
         {
          "Date": "2015-09",
          "value": 11,
          "variable": "googtrend_westnile"
         },
         {
          "Date": "2015-10",
          "value": 3,
          "variable": "googtrend_westnile"
         },
         {
          "Date": "2015-11",
          "value": 2,
          "variable": "googtrend_westnile"
         },
         {
          "Date": "2015-12",
          "value": 2,
          "variable": "googtrend_westnile"
         },
         {
          "Date": "2016-01",
          "value": 1,
          "variable": "googtrend_westnile"
         },
         {
          "Date": "2016-02",
          "value": 2,
          "variable": "googtrend_westnile"
         },
         {
          "Date": "2016-03",
          "value": 1,
          "variable": "googtrend_westnile"
         },
         {
          "Date": "2016-04",
          "value": 1,
          "variable": "googtrend_westnile"
         },
         {
          "Date": "2016-05",
          "value": 2,
          "variable": "googtrend_westnile"
         },
         {
          "Date": "2016-06",
          "value": 6,
          "variable": "googtrend_westnile"
         },
         {
          "Date": "2016-07",
          "value": 6,
          "variable": "googtrend_westnile"
         },
         {
          "Date": "2016-08",
          "value": 10,
          "variable": "googtrend_westnile"
         },
         {
          "Date": "2016-09",
          "value": 12,
          "variable": "googtrend_westnile"
         },
         {
          "Date": "2016-10",
          "value": 3,
          "variable": "googtrend_westnile"
         },
         {
          "Date": "2016-11",
          "value": 1,
          "variable": "googtrend_westnile"
         },
         {
          "Date": "2016-12",
          "value": 1,
          "variable": "googtrend_westnile"
         },
         {
          "Date": "2017-01",
          "value": 1,
          "variable": "googtrend_westnile"
         },
         {
          "Date": "2017-02",
          "value": 1,
          "variable": "googtrend_westnile"
         },
         {
          "Date": "2017-03",
          "value": 1,
          "variable": "googtrend_westnile"
         },
         {
          "Date": "2017-04",
          "value": 2,
          "variable": "googtrend_westnile"
         },
         {
          "Date": "2017-05",
          "value": 2,
          "variable": "googtrend_westnile"
         },
         {
          "Date": "2017-06",
          "value": 6,
          "variable": "googtrend_westnile"
         },
         {
          "Date": "2017-07",
          "value": 14,
          "variable": "googtrend_westnile"
         },
         {
          "Date": "2017-08",
          "value": 15,
          "variable": "googtrend_westnile"
         },
         {
          "Date": "2017-09",
          "value": 6,
          "variable": "googtrend_westnile"
         },
         {
          "Date": "2017-10",
          "value": 2,
          "variable": "googtrend_westnile"
         },
         {
          "Date": "2017-11",
          "value": 1,
          "variable": "googtrend_westnile"
         },
         {
          "Date": "2017-12",
          "value": 1,
          "variable": "googtrend_westnile"
         },
         {
          "Date": "2018-01",
          "value": 1,
          "variable": "googtrend_westnile"
         },
         {
          "Date": "2018-02",
          "value": 1,
          "variable": "googtrend_westnile"
         },
         {
          "Date": "2018-03",
          "value": 1,
          "variable": "googtrend_westnile"
         },
         {
          "Date": "2018-04",
          "value": 1,
          "variable": "googtrend_westnile"
         },
         {
          "Date": "2018-05",
          "value": 3,
          "variable": "googtrend_westnile"
         },
         {
          "Date": "2018-06",
          "value": 11,
          "variable": "googtrend_westnile"
         },
         {
          "Date": "2018-07",
          "value": 23,
          "variable": "googtrend_westnile"
         },
         {
          "Date": "2018-08",
          "value": 15,
          "variable": "googtrend_westnile"
         },
         {
          "Date": "2018-09",
          "value": 16,
          "variable": "googtrend_westnile"
         },
         {
          "Date": "2018-10",
          "value": 5,
          "variable": "googtrend_westnile"
         },
         {
          "Date": "2018-11",
          "value": 1,
          "variable": "googtrend_westnile"
         },
         {
          "Date": "2018-12",
          "value": 0,
          "variable": "googtrend_westnile"
         },
         {
          "Date": "2019-01",
          "value": 1,
          "variable": "googtrend_westnile"
         },
         {
          "Date": "2004-01",
          "value": 0,
          "variable": "googtrend_mosq_bites"
         },
         {
          "Date": "2004-02",
          "value": 0,
          "variable": "googtrend_mosq_bites"
         },
         {
          "Date": "2004-03",
          "value": 0,
          "variable": "googtrend_mosq_bites"
         },
         {
          "Date": "2004-04",
          "value": 0,
          "variable": "googtrend_mosq_bites"
         },
         {
          "Date": "2004-05",
          "value": 0,
          "variable": "googtrend_mosq_bites"
         },
         {
          "Date": "2004-06",
          "value": 26,
          "variable": "googtrend_mosq_bites"
         },
         {
          "Date": "2004-07",
          "value": 15,
          "variable": "googtrend_mosq_bites"
         },
         {
          "Date": "2004-08",
          "value": 7,
          "variable": "googtrend_mosq_bites"
         },
         {
          "Date": "2004-09",
          "value": 20,
          "variable": "googtrend_mosq_bites"
         },
         {
          "Date": "2004-10",
          "value": 0,
          "variable": "googtrend_mosq_bites"
         },
         {
          "Date": "2004-11",
          "value": 0,
          "variable": "googtrend_mosq_bites"
         },
         {
          "Date": "2004-12",
          "value": 0,
          "variable": "googtrend_mosq_bites"
         },
         {
          "Date": "2005-01",
          "value": 0,
          "variable": "googtrend_mosq_bites"
         },
         {
          "Date": "2005-02",
          "value": 0,
          "variable": "googtrend_mosq_bites"
         },
         {
          "Date": "2005-03",
          "value": 5,
          "variable": "googtrend_mosq_bites"
         },
         {
          "Date": "2005-04",
          "value": 0,
          "variable": "googtrend_mosq_bites"
         },
         {
          "Date": "2005-05",
          "value": 5,
          "variable": "googtrend_mosq_bites"
         },
         {
          "Date": "2005-06",
          "value": 5,
          "variable": "googtrend_mosq_bites"
         },
         {
          "Date": "2005-07",
          "value": 7,
          "variable": "googtrend_mosq_bites"
         },
         {
          "Date": "2005-08",
          "value": 9,
          "variable": "googtrend_mosq_bites"
         },
         {
          "Date": "2005-09",
          "value": 6,
          "variable": "googtrend_mosq_bites"
         },
         {
          "Date": "2005-10",
          "value": 0,
          "variable": "googtrend_mosq_bites"
         },
         {
          "Date": "2005-11",
          "value": 0,
          "variable": "googtrend_mosq_bites"
         },
         {
          "Date": "2005-12",
          "value": 0,
          "variable": "googtrend_mosq_bites"
         },
         {
          "Date": "2006-01",
          "value": 0,
          "variable": "googtrend_mosq_bites"
         },
         {
          "Date": "2006-02",
          "value": 0,
          "variable": "googtrend_mosq_bites"
         },
         {
          "Date": "2006-03",
          "value": 0,
          "variable": "googtrend_mosq_bites"
         },
         {
          "Date": "2006-04",
          "value": 0,
          "variable": "googtrend_mosq_bites"
         },
         {
          "Date": "2006-05",
          "value": 3,
          "variable": "googtrend_mosq_bites"
         },
         {
          "Date": "2006-06",
          "value": 5,
          "variable": "googtrend_mosq_bites"
         },
         {
          "Date": "2006-07",
          "value": 20,
          "variable": "googtrend_mosq_bites"
         },
         {
          "Date": "2006-08",
          "value": 18,
          "variable": "googtrend_mosq_bites"
         },
         {
          "Date": "2006-09",
          "value": 3,
          "variable": "googtrend_mosq_bites"
         },
         {
          "Date": "2006-10",
          "value": 3,
          "variable": "googtrend_mosq_bites"
         },
         {
          "Date": "2006-11",
          "value": 3,
          "variable": "googtrend_mosq_bites"
         },
         {
          "Date": "2006-12",
          "value": 0,
          "variable": "googtrend_mosq_bites"
         },
         {
          "Date": "2007-01",
          "value": 0,
          "variable": "googtrend_mosq_bites"
         },
         {
          "Date": "2007-02",
          "value": 0,
          "variable": "googtrend_mosq_bites"
         },
         {
          "Date": "2007-03",
          "value": 2,
          "variable": "googtrend_mosq_bites"
         },
         {
          "Date": "2007-04",
          "value": 2,
          "variable": "googtrend_mosq_bites"
         },
         {
          "Date": "2007-05",
          "value": 11,
          "variable": "googtrend_mosq_bites"
         },
         {
          "Date": "2007-06",
          "value": 4,
          "variable": "googtrend_mosq_bites"
         },
         {
          "Date": "2007-07",
          "value": 12,
          "variable": "googtrend_mosq_bites"
         },
         {
          "Date": "2007-08",
          "value": 35,
          "variable": "googtrend_mosq_bites"
         },
         {
          "Date": "2007-09",
          "value": 25,
          "variable": "googtrend_mosq_bites"
         },
         {
          "Date": "2007-10",
          "value": 7,
          "variable": "googtrend_mosq_bites"
         },
         {
          "Date": "2007-11",
          "value": 0,
          "variable": "googtrend_mosq_bites"
         },
         {
          "Date": "2007-12",
          "value": 0,
          "variable": "googtrend_mosq_bites"
         },
         {
          "Date": "2008-01",
          "value": 0,
          "variable": "googtrend_mosq_bites"
         },
         {
          "Date": "2008-02",
          "value": 2,
          "variable": "googtrend_mosq_bites"
         },
         {
          "Date": "2008-03",
          "value": 0,
          "variable": "googtrend_mosq_bites"
         },
         {
          "Date": "2008-04",
          "value": 4,
          "variable": "googtrend_mosq_bites"
         },
         {
          "Date": "2008-05",
          "value": 3,
          "variable": "googtrend_mosq_bites"
         },
         {
          "Date": "2008-06",
          "value": 17,
          "variable": "googtrend_mosq_bites"
         },
         {
          "Date": "2008-07",
          "value": 19,
          "variable": "googtrend_mosq_bites"
         },
         {
          "Date": "2008-08",
          "value": 16,
          "variable": "googtrend_mosq_bites"
         },
         {
          "Date": "2008-09",
          "value": 13,
          "variable": "googtrend_mosq_bites"
         },
         {
          "Date": "2008-10",
          "value": 2,
          "variable": "googtrend_mosq_bites"
         },
         {
          "Date": "2008-11",
          "value": 0,
          "variable": "googtrend_mosq_bites"
         },
         {
          "Date": "2008-12",
          "value": 0,
          "variable": "googtrend_mosq_bites"
         },
         {
          "Date": "2009-01",
          "value": 2,
          "variable": "googtrend_mosq_bites"
         },
         {
          "Date": "2009-02",
          "value": 2,
          "variable": "googtrend_mosq_bites"
         },
         {
          "Date": "2009-03",
          "value": 2,
          "variable": "googtrend_mosq_bites"
         },
         {
          "Date": "2009-04",
          "value": 0,
          "variable": "googtrend_mosq_bites"
         },
         {
          "Date": "2009-05",
          "value": 7,
          "variable": "googtrend_mosq_bites"
         },
         {
          "Date": "2009-06",
          "value": 11,
          "variable": "googtrend_mosq_bites"
         },
         {
          "Date": "2009-07",
          "value": 29,
          "variable": "googtrend_mosq_bites"
         },
         {
          "Date": "2009-08",
          "value": 21,
          "variable": "googtrend_mosq_bites"
         },
         {
          "Date": "2009-09",
          "value": 10,
          "variable": "googtrend_mosq_bites"
         },
         {
          "Date": "2009-10",
          "value": 2,
          "variable": "googtrend_mosq_bites"
         },
         {
          "Date": "2009-11",
          "value": 2,
          "variable": "googtrend_mosq_bites"
         },
         {
          "Date": "2009-12",
          "value": 2,
          "variable": "googtrend_mosq_bites"
         },
         {
          "Date": "2010-01",
          "value": 1,
          "variable": "googtrend_mosq_bites"
         },
         {
          "Date": "2010-02",
          "value": 3,
          "variable": "googtrend_mosq_bites"
         },
         {
          "Date": "2010-03",
          "value": 1,
          "variable": "googtrend_mosq_bites"
         },
         {
          "Date": "2010-04",
          "value": 1,
          "variable": "googtrend_mosq_bites"
         },
         {
          "Date": "2010-05",
          "value": 7,
          "variable": "googtrend_mosq_bites"
         },
         {
          "Date": "2010-06",
          "value": 33,
          "variable": "googtrend_mosq_bites"
         },
         {
          "Date": "2010-07",
          "value": 46,
          "variable": "googtrend_mosq_bites"
         },
         {
          "Date": "2010-08",
          "value": 81,
          "variable": "googtrend_mosq_bites"
         },
         {
          "Date": "2010-09",
          "value": 15,
          "variable": "googtrend_mosq_bites"
         },
         {
          "Date": "2010-10",
          "value": 9,
          "variable": "googtrend_mosq_bites"
         },
         {
          "Date": "2010-11",
          "value": 3,
          "variable": "googtrend_mosq_bites"
         },
         {
          "Date": "2010-12",
          "value": 6,
          "variable": "googtrend_mosq_bites"
         },
         {
          "Date": "2011-01",
          "value": 2,
          "variable": "googtrend_mosq_bites"
         },
         {
          "Date": "2011-02",
          "value": 2,
          "variable": "googtrend_mosq_bites"
         },
         {
          "Date": "2011-03",
          "value": 1,
          "variable": "googtrend_mosq_bites"
         },
         {
          "Date": "2011-04",
          "value": 3,
          "variable": "googtrend_mosq_bites"
         },
         {
          "Date": "2011-05",
          "value": 8,
          "variable": "googtrend_mosq_bites"
         },
         {
          "Date": "2011-06",
          "value": 42,
          "variable": "googtrend_mosq_bites"
         },
         {
          "Date": "2011-07",
          "value": 42,
          "variable": "googtrend_mosq_bites"
         },
         {
          "Date": "2011-08",
          "value": 54,
          "variable": "googtrend_mosq_bites"
         },
         {
          "Date": "2011-09",
          "value": 26,
          "variable": "googtrend_mosq_bites"
         },
         {
          "Date": "2011-10",
          "value": 9,
          "variable": "googtrend_mosq_bites"
         },
         {
          "Date": "2011-11",
          "value": 3,
          "variable": "googtrend_mosq_bites"
         },
         {
          "Date": "2011-12",
          "value": 2,
          "variable": "googtrend_mosq_bites"
         },
         {
          "Date": "2012-01",
          "value": 2,
          "variable": "googtrend_mosq_bites"
         },
         {
          "Date": "2012-02",
          "value": 1,
          "variable": "googtrend_mosq_bites"
         },
         {
          "Date": "2012-03",
          "value": 3,
          "variable": "googtrend_mosq_bites"
         },
         {
          "Date": "2012-04",
          "value": 2,
          "variable": "googtrend_mosq_bites"
         },
         {
          "Date": "2012-05",
          "value": 11,
          "variable": "googtrend_mosq_bites"
         },
         {
          "Date": "2012-06",
          "value": 29,
          "variable": "googtrend_mosq_bites"
         },
         {
          "Date": "2012-07",
          "value": 33,
          "variable": "googtrend_mosq_bites"
         },
         {
          "Date": "2012-08",
          "value": 30,
          "variable": "googtrend_mosq_bites"
         },
         {
          "Date": "2012-09",
          "value": 18,
          "variable": "googtrend_mosq_bites"
         },
         {
          "Date": "2012-10",
          "value": 4,
          "variable": "googtrend_mosq_bites"
         },
         {
          "Date": "2012-11",
          "value": 2,
          "variable": "googtrend_mosq_bites"
         },
         {
          "Date": "2012-12",
          "value": 2,
          "variable": "googtrend_mosq_bites"
         },
         {
          "Date": "2013-01",
          "value": 1,
          "variable": "googtrend_mosq_bites"
         },
         {
          "Date": "2013-02",
          "value": 2,
          "variable": "googtrend_mosq_bites"
         },
         {
          "Date": "2013-03",
          "value": 3,
          "variable": "googtrend_mosq_bites"
         },
         {
          "Date": "2013-04",
          "value": 2,
          "variable": "googtrend_mosq_bites"
         },
         {
          "Date": "2013-05",
          "value": 14,
          "variable": "googtrend_mosq_bites"
         },
         {
          "Date": "2013-06",
          "value": 37,
          "variable": "googtrend_mosq_bites"
         },
         {
          "Date": "2013-07",
          "value": 76,
          "variable": "googtrend_mosq_bites"
         },
         {
          "Date": "2013-08",
          "value": 52,
          "variable": "googtrend_mosq_bites"
         },
         {
          "Date": "2013-09",
          "value": 24,
          "variable": "googtrend_mosq_bites"
         },
         {
          "Date": "2013-10",
          "value": 5,
          "variable": "googtrend_mosq_bites"
         },
         {
          "Date": "2013-11",
          "value": 4,
          "variable": "googtrend_mosq_bites"
         },
         {
          "Date": "2013-12",
          "value": 2,
          "variable": "googtrend_mosq_bites"
         },
         {
          "Date": "2014-01",
          "value": 2,
          "variable": "googtrend_mosq_bites"
         },
         {
          "Date": "2014-02",
          "value": 2,
          "variable": "googtrend_mosq_bites"
         },
         {
          "Date": "2014-03",
          "value": 2,
          "variable": "googtrend_mosq_bites"
         },
         {
          "Date": "2014-04",
          "value": 2,
          "variable": "googtrend_mosq_bites"
         },
         {
          "Date": "2014-05",
          "value": 15,
          "variable": "googtrend_mosq_bites"
         },
         {
          "Date": "2014-06",
          "value": 57,
          "variable": "googtrend_mosq_bites"
         },
         {
          "Date": "2014-07",
          "value": 82,
          "variable": "googtrend_mosq_bites"
         },
         {
          "Date": "2014-08",
          "value": 53,
          "variable": "googtrend_mosq_bites"
         },
         {
          "Date": "2014-09",
          "value": 43,
          "variable": "googtrend_mosq_bites"
         },
         {
          "Date": "2014-10",
          "value": 8,
          "variable": "googtrend_mosq_bites"
         },
         {
          "Date": "2014-11",
          "value": 4,
          "variable": "googtrend_mosq_bites"
         },
         {
          "Date": "2014-12",
          "value": 3,
          "variable": "googtrend_mosq_bites"
         },
         {
          "Date": "2015-01",
          "value": 2,
          "variable": "googtrend_mosq_bites"
         },
         {
          "Date": "2015-02",
          "value": 2,
          "variable": "googtrend_mosq_bites"
         },
         {
          "Date": "2015-03",
          "value": 4,
          "variable": "googtrend_mosq_bites"
         },
         {
          "Date": "2015-04",
          "value": 6,
          "variable": "googtrend_mosq_bites"
         },
         {
          "Date": "2015-05",
          "value": 18,
          "variable": "googtrend_mosq_bites"
         },
         {
          "Date": "2015-06",
          "value": 55,
          "variable": "googtrend_mosq_bites"
         },
         {
          "Date": "2015-07",
          "value": 100,
          "variable": "googtrend_mosq_bites"
         },
         {
          "Date": "2015-08",
          "value": 43,
          "variable": "googtrend_mosq_bites"
         },
         {
          "Date": "2015-09",
          "value": 23,
          "variable": "googtrend_mosq_bites"
         },
         {
          "Date": "2015-10",
          "value": 5,
          "variable": "googtrend_mosq_bites"
         },
         {
          "Date": "2015-11",
          "value": 4,
          "variable": "googtrend_mosq_bites"
         },
         {
          "Date": "2015-12",
          "value": 3,
          "variable": "googtrend_mosq_bites"
         },
         {
          "Date": "2016-01",
          "value": 5,
          "variable": "googtrend_mosq_bites"
         },
         {
          "Date": "2016-02",
          "value": 3,
          "variable": "googtrend_mosq_bites"
         },
         {
          "Date": "2016-03",
          "value": 4,
          "variable": "googtrend_mosq_bites"
         },
         {
          "Date": "2016-04",
          "value": 4,
          "variable": "googtrend_mosq_bites"
         },
         {
          "Date": "2016-05",
          "value": 14,
          "variable": "googtrend_mosq_bites"
         },
         {
          "Date": "2016-06",
          "value": 46,
          "variable": "googtrend_mosq_bites"
         },
         {
          "Date": "2016-07",
          "value": 40,
          "variable": "googtrend_mosq_bites"
         },
         {
          "Date": "2016-08",
          "value": 60,
          "variable": "googtrend_mosq_bites"
         },
         {
          "Date": "2016-09",
          "value": 43,
          "variable": "googtrend_mosq_bites"
         },
         {
          "Date": "2016-10",
          "value": 12,
          "variable": "googtrend_mosq_bites"
         },
         {
          "Date": "2016-11",
          "value": 4,
          "variable": "googtrend_mosq_bites"
         },
         {
          "Date": "2016-12",
          "value": 3,
          "variable": "googtrend_mosq_bites"
         },
         {
          "Date": "2017-01",
          "value": 3,
          "variable": "googtrend_mosq_bites"
         },
         {
          "Date": "2017-02",
          "value": 3,
          "variable": "googtrend_mosq_bites"
         },
         {
          "Date": "2017-03",
          "value": 4,
          "variable": "googtrend_mosq_bites"
         },
         {
          "Date": "2017-04",
          "value": 6,
          "variable": "googtrend_mosq_bites"
         },
         {
          "Date": "2017-05",
          "value": 14,
          "variable": "googtrend_mosq_bites"
         },
         {
          "Date": "2017-06",
          "value": 40,
          "variable": "googtrend_mosq_bites"
         },
         {
          "Date": "2017-07",
          "value": 61,
          "variable": "googtrend_mosq_bites"
         },
         {
          "Date": "2017-08",
          "value": 49,
          "variable": "googtrend_mosq_bites"
         },
         {
          "Date": "2017-09",
          "value": 20,
          "variable": "googtrend_mosq_bites"
         },
         {
          "Date": "2017-10",
          "value": 8,
          "variable": "googtrend_mosq_bites"
         },
         {
          "Date": "2017-11",
          "value": 4,
          "variable": "googtrend_mosq_bites"
         },
         {
          "Date": "2017-12",
          "value": 2,
          "variable": "googtrend_mosq_bites"
         },
         {
          "Date": "2018-01",
          "value": 3,
          "variable": "googtrend_mosq_bites"
         },
         {
          "Date": "2018-02",
          "value": 3,
          "variable": "googtrend_mosq_bites"
         },
         {
          "Date": "2018-03",
          "value": 1,
          "variable": "googtrend_mosq_bites"
         },
         {
          "Date": "2018-04",
          "value": 3,
          "variable": "googtrend_mosq_bites"
         },
         {
          "Date": "2018-05",
          "value": 27,
          "variable": "googtrend_mosq_bites"
         },
         {
          "Date": "2018-06",
          "value": 56,
          "variable": "googtrend_mosq_bites"
         },
         {
          "Date": "2018-07",
          "value": 100,
          "variable": "googtrend_mosq_bites"
         },
         {
          "Date": "2018-08",
          "value": 46,
          "variable": "googtrend_mosq_bites"
         },
         {
          "Date": "2018-09",
          "value": 66,
          "variable": "googtrend_mosq_bites"
         },
         {
          "Date": "2018-10",
          "value": 9,
          "variable": "googtrend_mosq_bites"
         },
         {
          "Date": "2018-11",
          "value": 3,
          "variable": "googtrend_mosq_bites"
         },
         {
          "Date": "2018-12",
          "value": 3,
          "variable": "googtrend_mosq_bites"
         },
         {
          "Date": "2019-01",
          "value": 3,
          "variable": "googtrend_mosq_bites"
         }
        ]
       },
       "vconcat": [
        {
         "data": {
          "name": "data-7fd91455983d062c5f46a5e9f85cc475"
         },
         "encoding": {
          "color": {
           "field": "variable",
           "type": "nominal"
          },
          "tooltip": {
           "field": "value",
           "type": "nominal"
          },
          "x": {
           "field": "Date",
           "type": "temporal"
          },
          "y": {
           "field": "value",
           "type": "quantitative"
          }
         },
         "height": 200,
         "mark": "line",
         "selection": {
          "selector008": {
           "encodings": [
            "x"
           ],
           "mark": {
            "fill": "#333",
            "fillOpacity": 0.125,
            "stroke": "white"
           },
           "on": "[mousedown, window:mouseup] > window:mousemove!",
           "resolve": "global",
           "translate": "[mousedown, window:mouseup] > window:mousemove!",
           "type": "interval",
           "zoom": "wheel!"
          }
         },
         "width": 1024
        },
        {
         "data": {
          "name": "data-7fd91455983d062c5f46a5e9f85cc475"
         },
         "encoding": {
          "color": {
           "field": "variable",
           "type": "nominal"
          },
          "tooltip": {
           "field": "value",
           "type": "nominal"
          },
          "x": {
           "field": "Date",
           "type": "temporal"
          },
          "y": {
           "field": "value",
           "type": "quantitative"
          }
         },
         "height": 200,
         "mark": "line",
         "transform": [
          {
           "filter": {
            "selection": "selector008"
           }
          }
         ],
         "width": 1024
        }
       ]
      },
      "image/png": "[encoded data removed]",
      "text/plain": [
       "<VegaLite 2 object>\n",
       "\n",
       "If you see this message, it means the renderer has not been properly enabled\n",
       "for the frontend that you are using. For more information, see\n",
       "https://altair-viz.github.io/user_guide/troubleshooting.html\n"
      ]
     },
     "execution_count": 140,
     "metadata": {},
     "output_type": "execute_result"
    }
   ],
   "source": [
    "brush = alt.selection_interval(encodings=['x'])\n",
    "p1 = alt.Chart(trends.reset_index().melt(\"Date\")).mark_line().encode(x=\"Date:T\",y=\"value\",color=\"variable\",tooltip=\"value:N\").\\\n",
    "properties(width=1024,height=200).add_selection(brush)\n",
    "p2 = alt.Chart(trends.reset_index().melt(\"Date\")).mark_line().encode(x=\"Date:T\",y=\"value\",color=\"variable\",tooltip=\"value:N\").\\\n",
    "transform_filter(brush).properties(width=1024,height=200)\n",
    "alt.vconcat(p1,p2)"
   ]
  },
  {
   "cell_type": "markdown",
   "metadata": {},
   "source": [
    "## Average value by Year / Month"
   ]
  },
  {
   "cell_type": "code",
   "execution_count": 166,
   "metadata": {},
   "outputs": [],
   "source": [
    "df = trends.reset_index().melt(\"Date\")\n",
    "df[\"Year\"] = pd.DatetimeIndex(df.reset_index().Date).year\n",
    "df[\"Month\"] = pd.DatetimeIndex(df.reset_index().Date).month"
   ]
  },
  {
   "cell_type": "code",
   "execution_count": 167,
   "metadata": {},
   "outputs": [
    {
     "data": {
      "application/vnd.vegalite.v2+json": {
       "$schema": "https://vega.github.io/schema/vega-lite/v2.6.0.json",
       "config": {
        "view": {
         "height": 300,
         "width": 400
        }
       },
       "data": {
        "name": "data-20b159461d549ff549addaab83804422"
       },
       "datasets": {
        "data-20b159461d549ff549addaab83804422": [
         {
          "Date": "2004-01",
          "Month": 1,
          "Year": 2004,
          "value": 0,
          "variable": "googtrend_sym_wnv"
         },
         {
          "Date": "2004-02",
          "Month": 2,
          "Year": 2004,
          "value": 36,
          "variable": "googtrend_sym_wnv"
         },
         {
          "Date": "2004-03",
          "Month": 3,
          "Year": 2004,
          "value": 0,
          "variable": "googtrend_sym_wnv"
         },
         {
          "Date": "2004-04",
          "Month": 4,
          "Year": 2004,
          "value": 0,
          "variable": "googtrend_sym_wnv"
         },
         {
          "Date": "2004-05",
          "Month": 5,
          "Year": 2004,
          "value": 0,
          "variable": "googtrend_sym_wnv"
         },
         {
          "Date": "2004-06",
          "Month": 6,
          "Year": 2004,
          "value": 96,
          "variable": "googtrend_sym_wnv"
         },
         {
          "Date": "2004-07",
          "Month": 7,
          "Year": 2004,
          "value": 32,
          "variable": "googtrend_sym_wnv"
         },
         {
          "Date": "2004-08",
          "Month": 8,
          "Year": 2004,
          "value": 30,
          "variable": "googtrend_sym_wnv"
         },
         {
          "Date": "2004-09",
          "Month": 9,
          "Year": 2004,
          "value": 57,
          "variable": "googtrend_sym_wnv"
         },
         {
          "Date": "2004-10",
          "Month": 10,
          "Year": 2004,
          "value": 0,
          "variable": "googtrend_sym_wnv"
         },
         {
          "Date": "2004-11",
          "Month": 11,
          "Year": 2004,
          "value": 0,
          "variable": "googtrend_sym_wnv"
         },
         {
          "Date": "2004-12",
          "Month": 12,
          "Year": 2004,
          "value": 0,
          "variable": "googtrend_sym_wnv"
         },
         {
          "Date": "2005-01",
          "Month": 1,
          "Year": 2005,
          "value": 0,
          "variable": "googtrend_sym_wnv"
         },
         {
          "Date": "2005-02",
          "Month": 2,
          "Year": 2005,
          "value": 0,
          "variable": "googtrend_sym_wnv"
         },
         {
          "Date": "2005-03",
          "Month": 3,
          "Year": 2005,
          "value": 0,
          "variable": "googtrend_sym_wnv"
         },
         {
          "Date": "2005-04",
          "Month": 4,
          "Year": 2005,
          "value": 0,
          "variable": "googtrend_sym_wnv"
         },
         {
          "Date": "2005-05",
          "Month": 5,
          "Year": 2005,
          "value": 0,
          "variable": "googtrend_sym_wnv"
         },
         {
          "Date": "2005-06",
          "Month": 6,
          "Year": 2005,
          "value": 0,
          "variable": "googtrend_sym_wnv"
         },
         {
          "Date": "2005-07",
          "Month": 7,
          "Year": 2005,
          "value": 20,
          "variable": "googtrend_sym_wnv"
         },
         {
          "Date": "2005-08",
          "Month": 8,
          "Year": 2005,
          "value": 48,
          "variable": "googtrend_sym_wnv"
         },
         {
          "Date": "2005-09",
          "Month": 9,
          "Year": 2005,
          "value": 54,
          "variable": "googtrend_sym_wnv"
         },
         {
          "Date": "2005-10",
          "Month": 10,
          "Year": 2005,
          "value": 17,
          "variable": "googtrend_sym_wnv"
         },
         {
          "Date": "2005-11",
          "Month": 11,
          "Year": 2005,
          "value": 0,
          "variable": "googtrend_sym_wnv"
         },
         {
          "Date": "2005-12",
          "Month": 12,
          "Year": 2005,
          "value": 0,
          "variable": "googtrend_sym_wnv"
         },
         {
          "Date": "2006-01",
          "Month": 1,
          "Year": 2006,
          "value": 0,
          "variable": "googtrend_sym_wnv"
         },
         {
          "Date": "2006-02",
          "Month": 2,
          "Year": 2006,
          "value": 0,
          "variable": "googtrend_sym_wnv"
         },
         {
          "Date": "2006-03",
          "Month": 3,
          "Year": 2006,
          "value": 0,
          "variable": "googtrend_sym_wnv"
         },
         {
          "Date": "2006-04",
          "Month": 4,
          "Year": 2006,
          "value": 0,
          "variable": "googtrend_sym_wnv"
         },
         {
          "Date": "2006-05",
          "Month": 5,
          "Year": 2006,
          "value": 13,
          "variable": "googtrend_sym_wnv"
         },
         {
          "Date": "2006-06",
          "Month": 6,
          "Year": 2006,
          "value": 14,
          "variable": "googtrend_sym_wnv"
         },
         {
          "Date": "2006-07",
          "Month": 7,
          "Year": 2006,
          "value": 13,
          "variable": "googtrend_sym_wnv"
         },
         {
          "Date": "2006-08",
          "Month": 8,
          "Year": 2006,
          "value": 36,
          "variable": "googtrend_sym_wnv"
         },
         {
          "Date": "2006-09",
          "Month": 9,
          "Year": 2006,
          "value": 37,
          "variable": "googtrend_sym_wnv"
         },
         {
          "Date": "2006-10",
          "Month": 10,
          "Year": 2006,
          "value": 11,
          "variable": "googtrend_sym_wnv"
         },
         {
          "Date": "2006-11",
          "Month": 11,
          "Year": 2006,
          "value": 0,
          "variable": "googtrend_sym_wnv"
         },
         {
          "Date": "2006-12",
          "Month": 12,
          "Year": 2006,
          "value": 0,
          "variable": "googtrend_sym_wnv"
         },
         {
          "Date": "2007-01",
          "Month": 1,
          "Year": 2007,
          "value": 10,
          "variable": "googtrend_sym_wnv"
         },
         {
          "Date": "2007-02",
          "Month": 2,
          "Year": 2007,
          "value": 0,
          "variable": "googtrend_sym_wnv"
         },
         {
          "Date": "2007-03",
          "Month": 3,
          "Year": 2007,
          "value": 0,
          "variable": "googtrend_sym_wnv"
         },
         {
          "Date": "2007-04",
          "Month": 4,
          "Year": 2007,
          "value": 0,
          "variable": "googtrend_sym_wnv"
         },
         {
          "Date": "2007-05",
          "Month": 5,
          "Year": 2007,
          "value": 0,
          "variable": "googtrend_sym_wnv"
         },
         {
          "Date": "2007-06",
          "Month": 6,
          "Year": 2007,
          "value": 0,
          "variable": "googtrend_sym_wnv"
         },
         {
          "Date": "2007-07",
          "Month": 7,
          "Year": 2007,
          "value": 9,
          "variable": "googtrend_sym_wnv"
         },
         {
          "Date": "2007-08",
          "Month": 8,
          "Year": 2007,
          "value": 61,
          "variable": "googtrend_sym_wnv"
         },
         {
          "Date": "2007-09",
          "Month": 9,
          "Year": 2007,
          "value": 37,
          "variable": "googtrend_sym_wnv"
         },
         {
          "Date": "2007-10",
          "Month": 10,
          "Year": 2007,
          "value": 20,
          "variable": "googtrend_sym_wnv"
         },
         {
          "Date": "2007-11",
          "Month": 11,
          "Year": 2007,
          "value": 8,
          "variable": "googtrend_sym_wnv"
         },
         {
          "Date": "2007-12",
          "Month": 12,
          "Year": 2007,
          "value": 0,
          "variable": "googtrend_sym_wnv"
         },
         {
          "Date": "2008-01",
          "Month": 1,
          "Year": 2008,
          "value": 0,
          "variable": "googtrend_sym_wnv"
         },
         {
          "Date": "2008-02",
          "Month": 2,
          "Year": 2008,
          "value": 0,
          "variable": "googtrend_sym_wnv"
         },
         {
          "Date": "2008-03",
          "Month": 3,
          "Year": 2008,
          "value": 0,
          "variable": "googtrend_sym_wnv"
         },
         {
          "Date": "2008-04",
          "Month": 4,
          "Year": 2008,
          "value": 0,
          "variable": "googtrend_sym_wnv"
         },
         {
          "Date": "2008-05",
          "Month": 5,
          "Year": 2008,
          "value": 0,
          "variable": "googtrend_sym_wnv"
         },
         {
          "Date": "2008-06",
          "Month": 6,
          "Year": 2008,
          "value": 25,
          "variable": "googtrend_sym_wnv"
         },
         {
          "Date": "2008-07",
          "Month": 7,
          "Year": 2008,
          "value": 8,
          "variable": "googtrend_sym_wnv"
         },
         {
          "Date": "2008-08",
          "Month": 8,
          "Year": 2008,
          "value": 8,
          "variable": "googtrend_sym_wnv"
         },
         {
          "Date": "2008-09",
          "Month": 9,
          "Year": 2008,
          "value": 15,
          "variable": "googtrend_sym_wnv"
         },
         {
          "Date": "2008-10",
          "Month": 10,
          "Year": 2008,
          "value": 0,
          "variable": "googtrend_sym_wnv"
         },
         {
          "Date": "2008-11",
          "Month": 11,
          "Year": 2008,
          "value": 0,
          "variable": "googtrend_sym_wnv"
         },
         {
          "Date": "2008-12",
          "Month": 12,
          "Year": 2008,
          "value": 0,
          "variable": "googtrend_sym_wnv"
         },
         {
          "Date": "2009-01",
          "Month": 1,
          "Year": 2009,
          "value": 0,
          "variable": "googtrend_sym_wnv"
         },
         {
          "Date": "2009-02",
          "Month": 2,
          "Year": 2009,
          "value": 0,
          "variable": "googtrend_sym_wnv"
         },
         {
          "Date": "2009-03",
          "Month": 3,
          "Year": 2009,
          "value": 0,
          "variable": "googtrend_sym_wnv"
         },
         {
          "Date": "2009-04",
          "Month": 4,
          "Year": 2009,
          "value": 0,
          "variable": "googtrend_sym_wnv"
         },
         {
          "Date": "2009-05",
          "Month": 5,
          "Year": 2009,
          "value": 0,
          "variable": "googtrend_sym_wnv"
         },
         {
          "Date": "2009-06",
          "Month": 6,
          "Year": 2009,
          "value": 15,
          "variable": "googtrend_sym_wnv"
         },
         {
          "Date": "2009-07",
          "Month": 7,
          "Year": 2009,
          "value": 7,
          "variable": "googtrend_sym_wnv"
         },
         {
          "Date": "2009-08",
          "Month": 8,
          "Year": 2009,
          "value": 7,
          "variable": "googtrend_sym_wnv"
         },
         {
          "Date": "2009-09",
          "Month": 9,
          "Year": 2009,
          "value": 11,
          "variable": "googtrend_sym_wnv"
         },
         {
          "Date": "2009-10",
          "Month": 10,
          "Year": 2009,
          "value": 0,
          "variable": "googtrend_sym_wnv"
         },
         {
          "Date": "2009-11",
          "Month": 11,
          "Year": 2009,
          "value": 0,
          "variable": "googtrend_sym_wnv"
         },
         {
          "Date": "2009-12",
          "Month": 12,
          "Year": 2009,
          "value": 0,
          "variable": "googtrend_sym_wnv"
         },
         {
          "Date": "2010-01",
          "Month": 1,
          "Year": 2010,
          "value": 6,
          "variable": "googtrend_sym_wnv"
         },
         {
          "Date": "2010-02",
          "Month": 2,
          "Year": 2010,
          "value": 0,
          "variable": "googtrend_sym_wnv"
         },
         {
          "Date": "2010-03",
          "Month": 3,
          "Year": 2010,
          "value": 0,
          "variable": "googtrend_sym_wnv"
         },
         {
          "Date": "2010-04",
          "Month": 4,
          "Year": 2010,
          "value": 0,
          "variable": "googtrend_sym_wnv"
         },
         {
          "Date": "2010-05",
          "Month": 5,
          "Year": 2010,
          "value": 0,
          "variable": "googtrend_sym_wnv"
         },
         {
          "Date": "2010-06",
          "Month": 6,
          "Year": 2010,
          "value": 17,
          "variable": "googtrend_sym_wnv"
         },
         {
          "Date": "2010-07",
          "Month": 7,
          "Year": 2010,
          "value": 13,
          "variable": "googtrend_sym_wnv"
         },
         {
          "Date": "2010-08",
          "Month": 8,
          "Year": 2010,
          "value": 25,
          "variable": "googtrend_sym_wnv"
         },
         {
          "Date": "2010-09",
          "Month": 9,
          "Year": 2010,
          "value": 19,
          "variable": "googtrend_sym_wnv"
         },
         {
          "Date": "2010-10",
          "Month": 10,
          "Year": 2010,
          "value": 0,
          "variable": "googtrend_sym_wnv"
         },
         {
          "Date": "2010-11",
          "Month": 11,
          "Year": 2010,
          "value": 0,
          "variable": "googtrend_sym_wnv"
         },
         {
          "Date": "2010-12",
          "Month": 12,
          "Year": 2010,
          "value": 6,
          "variable": "googtrend_sym_wnv"
         },
         {
          "Date": "2011-01",
          "Month": 1,
          "Year": 2011,
          "value": 3,
          "variable": "googtrend_sym_wnv"
         },
         {
          "Date": "2011-02",
          "Month": 2,
          "Year": 2011,
          "value": 6,
          "variable": "googtrend_sym_wnv"
         },
         {
          "Date": "2011-03",
          "Month": 3,
          "Year": 2011,
          "value": 0,
          "variable": "googtrend_sym_wnv"
         },
         {
          "Date": "2011-04",
          "Month": 4,
          "Year": 2011,
          "value": 3,
          "variable": "googtrend_sym_wnv"
         },
         {
          "Date": "2011-05",
          "Month": 5,
          "Year": 2011,
          "value": 7,
          "variable": "googtrend_sym_wnv"
         },
         {
          "Date": "2011-06",
          "Month": 6,
          "Year": 2011,
          "value": 16,
          "variable": "googtrend_sym_wnv"
         },
         {
          "Date": "2011-07",
          "Month": 7,
          "Year": 2011,
          "value": 18,
          "variable": "googtrend_sym_wnv"
         },
         {
          "Date": "2011-08",
          "Month": 8,
          "Year": 2011,
          "value": 25,
          "variable": "googtrend_sym_wnv"
         },
         {
          "Date": "2011-09",
          "Month": 9,
          "Year": 2011,
          "value": 6,
          "variable": "googtrend_sym_wnv"
         },
         {
          "Date": "2011-10",
          "Month": 10,
          "Year": 2011,
          "value": 2,
          "variable": "googtrend_sym_wnv"
         },
         {
          "Date": "2011-11",
          "Month": 11,
          "Year": 2011,
          "value": 0,
          "variable": "googtrend_sym_wnv"
         },
         {
          "Date": "2011-12",
          "Month": 12,
          "Year": 2011,
          "value": 0,
          "variable": "googtrend_sym_wnv"
         },
         {
          "Date": "2012-01",
          "Month": 1,
          "Year": 2012,
          "value": 0,
          "variable": "googtrend_sym_wnv"
         },
         {
          "Date": "2012-02",
          "Month": 2,
          "Year": 2012,
          "value": 0,
          "variable": "googtrend_sym_wnv"
         },
         {
          "Date": "2012-03",
          "Month": 3,
          "Year": 2012,
          "value": 2,
          "variable": "googtrend_sym_wnv"
         },
         {
          "Date": "2012-04",
          "Month": 4,
          "Year": 2012,
          "value": 0,
          "variable": "googtrend_sym_wnv"
         },
         {
          "Date": "2012-05",
          "Month": 5,
          "Year": 2012,
          "value": 6,
          "variable": "googtrend_sym_wnv"
         },
         {
          "Date": "2012-06",
          "Month": 6,
          "Year": 2012,
          "value": 6,
          "variable": "googtrend_sym_wnv"
         },
         {
          "Date": "2012-07",
          "Month": 7,
          "Year": 2012,
          "value": 15,
          "variable": "googtrend_sym_wnv"
         },
         {
          "Date": "2012-08",
          "Month": 8,
          "Year": 2012,
          "value": 100,
          "variable": "googtrend_sym_wnv"
         },
         {
          "Date": "2012-09",
          "Month": 9,
          "Year": 2012,
          "value": 85,
          "variable": "googtrend_sym_wnv"
         },
         {
          "Date": "2012-10",
          "Month": 10,
          "Year": 2012,
          "value": 22,
          "variable": "googtrend_sym_wnv"
         },
         {
          "Date": "2012-11",
          "Month": 11,
          "Year": 2012,
          "value": 8,
          "variable": "googtrend_sym_wnv"
         },
         {
          "Date": "2012-12",
          "Month": 12,
          "Year": 2012,
          "value": 2,
          "variable": "googtrend_sym_wnv"
         },
         {
          "Date": "2013-01",
          "Month": 1,
          "Year": 2013,
          "value": 2,
          "variable": "googtrend_sym_wnv"
         },
         {
          "Date": "2013-02",
          "Month": 2,
          "Year": 2013,
          "value": 0,
          "variable": "googtrend_sym_wnv"
         },
         {
          "Date": "2013-03",
          "Month": 3,
          "Year": 2013,
          "value": 2,
          "variable": "googtrend_sym_wnv"
         },
         {
          "Date": "2013-04",
          "Month": 4,
          "Year": 2013,
          "value": 0,
          "variable": "googtrend_sym_wnv"
         },
         {
          "Date": "2013-05",
          "Month": 5,
          "Year": 2013,
          "value": 5,
          "variable": "googtrend_sym_wnv"
         },
         {
          "Date": "2013-06",
          "Month": 6,
          "Year": 2013,
          "value": 8,
          "variable": "googtrend_sym_wnv"
         },
         {
          "Date": "2013-07",
          "Month": 7,
          "Year": 2013,
          "value": 24,
          "variable": "googtrend_sym_wnv"
         },
         {
          "Date": "2013-08",
          "Month": 8,
          "Year": 2013,
          "value": 6,
          "variable": "googtrend_sym_wnv"
         },
         {
          "Date": "2013-09",
          "Month": 9,
          "Year": 2013,
          "value": 10,
          "variable": "googtrend_sym_wnv"
         },
         {
          "Date": "2013-10",
          "Month": 10,
          "Year": 2013,
          "value": 2,
          "variable": "googtrend_sym_wnv"
         },
         {
          "Date": "2013-11",
          "Month": 11,
          "Year": 2013,
          "value": 2,
          "variable": "googtrend_sym_wnv"
         },
         {
          "Date": "2013-12",
          "Month": 12,
          "Year": 2013,
          "value": 2,
          "variable": "googtrend_sym_wnv"
         },
         {
          "Date": "2014-01",
          "Month": 1,
          "Year": 2014,
          "value": 0,
          "variable": "googtrend_sym_wnv"
         },
         {
          "Date": "2014-02",
          "Month": 2,
          "Year": 2014,
          "value": 0,
          "variable": "googtrend_sym_wnv"
         },
         {
          "Date": "2014-03",
          "Month": 3,
          "Year": 2014,
          "value": 2,
          "variable": "googtrend_sym_wnv"
         },
         {
          "Date": "2014-04",
          "Month": 4,
          "Year": 2014,
          "value": 0,
          "variable": "googtrend_sym_wnv"
         },
         {
          "Date": "2014-05",
          "Month": 5,
          "Year": 2014,
          "value": 2,
          "variable": "googtrend_sym_wnv"
         },
         {
          "Date": "2014-06",
          "Month": 6,
          "Year": 2014,
          "value": 18,
          "variable": "googtrend_sym_wnv"
         },
         {
          "Date": "2014-07",
          "Month": 7,
          "Year": 2014,
          "value": 33,
          "variable": "googtrend_sym_wnv"
         },
         {
          "Date": "2014-08",
          "Month": 8,
          "Year": 2014,
          "value": 23,
          "variable": "googtrend_sym_wnv"
         },
         {
          "Date": "2014-09",
          "Month": 9,
          "Year": 2014,
          "value": 22,
          "variable": "googtrend_sym_wnv"
         },
         {
          "Date": "2014-10",
          "Month": 10,
          "Year": 2014,
          "value": 5,
          "variable": "googtrend_sym_wnv"
         },
         {
          "Date": "2014-11",
          "Month": 11,
          "Year": 2014,
          "value": 2,
          "variable": "googtrend_sym_wnv"
         },
         {
          "Date": "2014-12",
          "Month": 12,
          "Year": 2014,
          "value": 0,
          "variable": "googtrend_sym_wnv"
         },
         {
          "Date": "2015-01",
          "Month": 1,
          "Year": 2015,
          "value": 5,
          "variable": "googtrend_sym_wnv"
         },
         {
          "Date": "2015-02",
          "Month": 2,
          "Year": 2015,
          "value": 0,
          "variable": "googtrend_sym_wnv"
         },
         {
          "Date": "2015-03",
          "Month": 3,
          "Year": 2015,
          "value": 2,
          "variable": "googtrend_sym_wnv"
         },
         {
          "Date": "2015-04",
          "Month": 4,
          "Year": 2015,
          "value": 0,
          "variable": "googtrend_sym_wnv"
         },
         {
          "Date": "2015-05",
          "Month": 5,
          "Year": 2015,
          "value": 2,
          "variable": "googtrend_sym_wnv"
         },
         {
          "Date": "2015-06",
          "Month": 6,
          "Year": 2015,
          "value": 10,
          "variable": "googtrend_sym_wnv"
         },
         {
          "Date": "2015-07",
          "Month": 7,
          "Year": 2015,
          "value": 18,
          "variable": "googtrend_sym_wnv"
         },
         {
          "Date": "2015-08",
          "Month": 8,
          "Year": 2015,
          "value": 14,
          "variable": "googtrend_sym_wnv"
         },
         {
          "Date": "2015-09",
          "Month": 9,
          "Year": 2015,
          "value": 9,
          "variable": "googtrend_sym_wnv"
         },
         {
          "Date": "2015-10",
          "Month": 10,
          "Year": 2015,
          "value": 3,
          "variable": "googtrend_sym_wnv"
         },
         {
          "Date": "2015-11",
          "Month": 11,
          "Year": 2015,
          "value": 2,
          "variable": "googtrend_sym_wnv"
         },
         {
          "Date": "2015-12",
          "Month": 12,
          "Year": 2015,
          "value": 0,
          "variable": "googtrend_sym_wnv"
         },
         {
          "Date": "2016-01",
          "Month": 1,
          "Year": 2016,
          "value": 0,
          "variable": "googtrend_sym_wnv"
         },
         {
          "Date": "2016-02",
          "Month": 2,
          "Year": 2016,
          "value": 2,
          "variable": "googtrend_sym_wnv"
         },
         {
          "Date": "2016-03",
          "Month": 3,
          "Year": 2016,
          "value": 0,
          "variable": "googtrend_sym_wnv"
         },
         {
          "Date": "2016-04",
          "Month": 4,
          "Year": 2016,
          "value": 3,
          "variable": "googtrend_sym_wnv"
         },
         {
          "Date": "2016-05",
          "Month": 5,
          "Year": 2016,
          "value": 1,
          "variable": "googtrend_sym_wnv"
         },
         {
          "Date": "2016-06",
          "Month": 6,
          "Year": 2016,
          "value": 3,
          "variable": "googtrend_sym_wnv"
         },
         {
          "Date": "2016-07",
          "Month": 7,
          "Year": 2016,
          "value": 5,
          "variable": "googtrend_sym_wnv"
         },
         {
          "Date": "2016-08",
          "Month": 8,
          "Year": 2016,
          "value": 5,
          "variable": "googtrend_sym_wnv"
         },
         {
          "Date": "2016-09",
          "Month": 9,
          "Year": 2016,
          "value": 6,
          "variable": "googtrend_sym_wnv"
         },
         {
          "Date": "2016-10",
          "Month": 10,
          "Year": 2016,
          "value": 1,
          "variable": "googtrend_sym_wnv"
         },
         {
          "Date": "2016-11",
          "Month": 11,
          "Year": 2016,
          "value": 1,
          "variable": "googtrend_sym_wnv"
         },
         {
          "Date": "2016-12",
          "Month": 12,
          "Year": 2016,
          "value": 1,
          "variable": "googtrend_sym_wnv"
         },
         {
          "Date": "2017-01",
          "Month": 1,
          "Year": 2017,
          "value": 0,
          "variable": "googtrend_sym_wnv"
         },
         {
          "Date": "2017-02",
          "Month": 2,
          "Year": 2017,
          "value": 0,
          "variable": "googtrend_sym_wnv"
         },
         {
          "Date": "2017-03",
          "Month": 3,
          "Year": 2017,
          "value": 1,
          "variable": "googtrend_sym_wnv"
         },
         {
          "Date": "2017-04",
          "Month": 4,
          "Year": 2017,
          "value": 0,
          "variable": "googtrend_sym_wnv"
         },
         {
          "Date": "2017-05",
          "Month": 5,
          "Year": 2017,
          "value": 2,
          "variable": "googtrend_sym_wnv"
         },
         {
          "Date": "2017-06",
          "Month": 6,
          "Year": 2017,
          "value": 2,
          "variable": "googtrend_sym_wnv"
         },
         {
          "Date": "2017-07",
          "Month": 7,
          "Year": 2017,
          "value": 16,
          "variable": "googtrend_sym_wnv"
         },
         {
          "Date": "2017-08",
          "Month": 8,
          "Year": 2017,
          "value": 9,
          "variable": "googtrend_sym_wnv"
         },
         {
          "Date": "2017-09",
          "Month": 9,
          "Year": 2017,
          "value": 3,
          "variable": "googtrend_sym_wnv"
         },
         {
          "Date": "2017-10",
          "Month": 10,
          "Year": 2017,
          "value": 2,
          "variable": "googtrend_sym_wnv"
         },
         {
          "Date": "2017-11",
          "Month": 11,
          "Year": 2017,
          "value": 0,
          "variable": "googtrend_sym_wnv"
         },
         {
          "Date": "2017-12",
          "Month": 12,
          "Year": 2017,
          "value": 0,
          "variable": "googtrend_sym_wnv"
         },
         {
          "Date": "2018-01",
          "Month": 1,
          "Year": 2018,
          "value": 0,
          "variable": "googtrend_sym_wnv"
         },
         {
          "Date": "2018-02",
          "Month": 2,
          "Year": 2018,
          "value": 0,
          "variable": "googtrend_sym_wnv"
         },
         {
          "Date": "2018-03",
          "Month": 3,
          "Year": 2018,
          "value": 0,
          "variable": "googtrend_sym_wnv"
         },
         {
          "Date": "2018-04",
          "Month": 4,
          "Year": 2018,
          "value": 2,
          "variable": "googtrend_sym_wnv"
         },
         {
          "Date": "2018-05",
          "Month": 5,
          "Year": 2018,
          "value": 4,
          "variable": "googtrend_sym_wnv"
         },
         {
          "Date": "2018-06",
          "Month": 6,
          "Year": 2018,
          "value": 8,
          "variable": "googtrend_sym_wnv"
         },
         {
          "Date": "2018-07",
          "Month": 7,
          "Year": 2018,
          "value": 11,
          "variable": "googtrend_sym_wnv"
         },
         {
          "Date": "2018-08",
          "Month": 8,
          "Year": 2018,
          "value": 10,
          "variable": "googtrend_sym_wnv"
         },
         {
          "Date": "2018-09",
          "Month": 9,
          "Year": 2018,
          "value": 7,
          "variable": "googtrend_sym_wnv"
         },
         {
          "Date": "2018-10",
          "Month": 10,
          "Year": 2018,
          "value": 5,
          "variable": "googtrend_sym_wnv"
         },
         {
          "Date": "2018-11",
          "Month": 11,
          "Year": 2018,
          "value": 0,
          "variable": "googtrend_sym_wnv"
         },
         {
          "Date": "2018-12",
          "Month": 12,
          "Year": 2018,
          "value": 2,
          "variable": "googtrend_sym_wnv"
         },
         {
          "Date": "2019-01",
          "Month": 1,
          "Year": 2019,
          "value": 0,
          "variable": "googtrend_sym_wnv"
         },
         {
          "Date": "2004-01",
          "Month": 1,
          "Year": 2004,
          "value": 0,
          "variable": "googtrend_deadbirds"
         },
         {
          "Date": "2004-02",
          "Month": 2,
          "Year": 2004,
          "value": 0,
          "variable": "googtrend_deadbirds"
         },
         {
          "Date": "2004-03",
          "Month": 3,
          "Year": 2004,
          "value": 5,
          "variable": "googtrend_deadbirds"
         },
         {
          "Date": "2004-04",
          "Month": 4,
          "Year": 2004,
          "value": 0,
          "variable": "googtrend_deadbirds"
         },
         {
          "Date": "2004-05",
          "Month": 5,
          "Year": 2004,
          "value": 0,
          "variable": "googtrend_deadbirds"
         },
         {
          "Date": "2004-06",
          "Month": 6,
          "Year": 2004,
          "value": 0,
          "variable": "googtrend_deadbirds"
         },
         {
          "Date": "2004-07",
          "Month": 7,
          "Year": 2004,
          "value": 4,
          "variable": "googtrend_deadbirds"
         },
         {
          "Date": "2004-08",
          "Month": 8,
          "Year": 2004,
          "value": 3,
          "variable": "googtrend_deadbirds"
         },
         {
          "Date": "2004-09",
          "Month": 9,
          "Year": 2004,
          "value": 0,
          "variable": "googtrend_deadbirds"
         },
         {
          "Date": "2004-10",
          "Month": 10,
          "Year": 2004,
          "value": 0,
          "variable": "googtrend_deadbirds"
         },
         {
          "Date": "2004-11",
          "Month": 11,
          "Year": 2004,
          "value": 0,
          "variable": "googtrend_deadbirds"
         },
         {
          "Date": "2004-12",
          "Month": 12,
          "Year": 2004,
          "value": 3,
          "variable": "googtrend_deadbirds"
         },
         {
          "Date": "2005-01",
          "Month": 1,
          "Year": 2005,
          "value": 0,
          "variable": "googtrend_deadbirds"
         },
         {
          "Date": "2005-02",
          "Month": 2,
          "Year": 2005,
          "value": 0,
          "variable": "googtrend_deadbirds"
         },
         {
          "Date": "2005-03",
          "Month": 3,
          "Year": 2005,
          "value": 0,
          "variable": "googtrend_deadbirds"
         },
         {
          "Date": "2005-04",
          "Month": 4,
          "Year": 2005,
          "value": 0,
          "variable": "googtrend_deadbirds"
         },
         {
          "Date": "2005-05",
          "Month": 5,
          "Year": 2005,
          "value": 2,
          "variable": "googtrend_deadbirds"
         },
         {
          "Date": "2005-06",
          "Month": 6,
          "Year": 2005,
          "value": 5,
          "variable": "googtrend_deadbirds"
         },
         {
          "Date": "2005-07",
          "Month": 7,
          "Year": 2005,
          "value": 2,
          "variable": "googtrend_deadbirds"
         },
         {
          "Date": "2005-08",
          "Month": 8,
          "Year": 2005,
          "value": 0,
          "variable": "googtrend_deadbirds"
         },
         {
          "Date": "2005-09",
          "Month": 9,
          "Year": 2005,
          "value": 2,
          "variable": "googtrend_deadbirds"
         },
         {
          "Date": "2005-10",
          "Month": 10,
          "Year": 2005,
          "value": 0,
          "variable": "googtrend_deadbirds"
         },
         {
          "Date": "2005-11",
          "Month": 11,
          "Year": 2005,
          "value": 2,
          "variable": "googtrend_deadbirds"
         },
         {
          "Date": "2005-12",
          "Month": 12,
          "Year": 2005,
          "value": 0,
          "variable": "googtrend_deadbirds"
         },
         {
          "Date": "2006-01",
          "Month": 1,
          "Year": 2006,
          "value": 0,
          "variable": "googtrend_deadbirds"
         },
         {
          "Date": "2006-02",
          "Month": 2,
          "Year": 2006,
          "value": 0,
          "variable": "googtrend_deadbirds"
         },
         {
          "Date": "2006-03",
          "Month": 3,
          "Year": 2006,
          "value": 2,
          "variable": "googtrend_deadbirds"
         },
         {
          "Date": "2006-04",
          "Month": 4,
          "Year": 2006,
          "value": 5,
          "variable": "googtrend_deadbirds"
         },
         {
          "Date": "2006-05",
          "Month": 5,
          "Year": 2006,
          "value": 0,
          "variable": "googtrend_deadbirds"
         },
         {
          "Date": "2006-06",
          "Month": 6,
          "Year": 2006,
          "value": 3,
          "variable": "googtrend_deadbirds"
         },
         {
          "Date": "2006-07",
          "Month": 7,
          "Year": 2006,
          "value": 0,
          "variable": "googtrend_deadbirds"
         },
         {
          "Date": "2006-08",
          "Month": 8,
          "Year": 2006,
          "value": 1,
          "variable": "googtrend_deadbirds"
         },
         {
          "Date": "2006-09",
          "Month": 9,
          "Year": 2006,
          "value": 1,
          "variable": "googtrend_deadbirds"
         },
         {
          "Date": "2006-10",
          "Month": 10,
          "Year": 2006,
          "value": 1,
          "variable": "googtrend_deadbirds"
         },
         {
          "Date": "2006-11",
          "Month": 11,
          "Year": 2006,
          "value": 0,
          "variable": "googtrend_deadbirds"
         },
         {
          "Date": "2006-12",
          "Month": 12,
          "Year": 2006,
          "value": 0,
          "variable": "googtrend_deadbirds"
         },
         {
          "Date": "2007-01",
          "Month": 1,
          "Year": 2007,
          "value": 7,
          "variable": "googtrend_deadbirds"
         },
         {
          "Date": "2007-02",
          "Month": 2,
          "Year": 2007,
          "value": 0,
          "variable": "googtrend_deadbirds"
         },
         {
          "Date": "2007-03",
          "Month": 3,
          "Year": 2007,
          "value": 0,
          "variable": "googtrend_deadbirds"
         },
         {
          "Date": "2007-04",
          "Month": 4,
          "Year": 2007,
          "value": 1,
          "variable": "googtrend_deadbirds"
         },
         {
          "Date": "2007-05",
          "Month": 5,
          "Year": 2007,
          "value": 2,
          "variable": "googtrend_deadbirds"
         },
         {
          "Date": "2007-06",
          "Month": 6,
          "Year": 2007,
          "value": 1,
          "variable": "googtrend_deadbirds"
         },
         {
          "Date": "2007-07",
          "Month": 7,
          "Year": 2007,
          "value": 1,
          "variable": "googtrend_deadbirds"
         },
         {
          "Date": "2007-08",
          "Month": 8,
          "Year": 2007,
          "value": 1,
          "variable": "googtrend_deadbirds"
         },
         {
          "Date": "2007-09",
          "Month": 9,
          "Year": 2007,
          "value": 1,
          "variable": "googtrend_deadbirds"
         },
         {
          "Date": "2007-10",
          "Month": 10,
          "Year": 2007,
          "value": 0,
          "variable": "googtrend_deadbirds"
         },
         {
          "Date": "2007-11",
          "Month": 11,
          "Year": 2007,
          "value": 0,
          "variable": "googtrend_deadbirds"
         },
         {
          "Date": "2007-12",
          "Month": 12,
          "Year": 2007,
          "value": 0,
          "variable": "googtrend_deadbirds"
         },
         {
          "Date": "2008-01",
          "Month": 1,
          "Year": 2008,
          "value": 1,
          "variable": "googtrend_deadbirds"
         },
         {
          "Date": "2008-02",
          "Month": 2,
          "Year": 2008,
          "value": 1,
          "variable": "googtrend_deadbirds"
         },
         {
          "Date": "2008-03",
          "Month": 3,
          "Year": 2008,
          "value": 1,
          "variable": "googtrend_deadbirds"
         },
         {
          "Date": "2008-04",
          "Month": 4,
          "Year": 2008,
          "value": 1,
          "variable": "googtrend_deadbirds"
         },
         {
          "Date": "2008-05",
          "Month": 5,
          "Year": 2008,
          "value": 1,
          "variable": "googtrend_deadbirds"
         },
         {
          "Date": "2008-06",
          "Month": 6,
          "Year": 2008,
          "value": 2,
          "variable": "googtrend_deadbirds"
         },
         {
          "Date": "2008-07",
          "Month": 7,
          "Year": 2008,
          "value": 1,
          "variable": "googtrend_deadbirds"
         },
         {
          "Date": "2008-08",
          "Month": 8,
          "Year": 2008,
          "value": 2,
          "variable": "googtrend_deadbirds"
         },
         {
          "Date": "2008-09",
          "Month": 9,
          "Year": 2008,
          "value": 2,
          "variable": "googtrend_deadbirds"
         },
         {
          "Date": "2008-10",
          "Month": 10,
          "Year": 2008,
          "value": 1,
          "variable": "googtrend_deadbirds"
         },
         {
          "Date": "2008-11",
          "Month": 11,
          "Year": 2008,
          "value": 1,
          "variable": "googtrend_deadbirds"
         },
         {
          "Date": "2008-12",
          "Month": 12,
          "Year": 2008,
          "value": 1,
          "variable": "googtrend_deadbirds"
         },
         {
          "Date": "2009-01",
          "Month": 1,
          "Year": 2009,
          "value": 1,
          "variable": "googtrend_deadbirds"
         },
         {
          "Date": "2009-02",
          "Month": 2,
          "Year": 2009,
          "value": 1,
          "variable": "googtrend_deadbirds"
         },
         {
          "Date": "2009-03",
          "Month": 3,
          "Year": 2009,
          "value": 1,
          "variable": "googtrend_deadbirds"
         },
         {
          "Date": "2009-04",
          "Month": 4,
          "Year": 2009,
          "value": 1,
          "variable": "googtrend_deadbirds"
         },
         {
          "Date": "2009-05",
          "Month": 5,
          "Year": 2009,
          "value": 1,
          "variable": "googtrend_deadbirds"
         },
         {
          "Date": "2009-06",
          "Month": 6,
          "Year": 2009,
          "value": 3,
          "variable": "googtrend_deadbirds"
         },
         {
          "Date": "2009-07",
          "Month": 7,
          "Year": 2009,
          "value": 1,
          "variable": "googtrend_deadbirds"
         },
         {
          "Date": "2009-08",
          "Month": 8,
          "Year": 2009,
          "value": 1,
          "variable": "googtrend_deadbirds"
         },
         {
          "Date": "2009-09",
          "Month": 9,
          "Year": 2009,
          "value": 1,
          "variable": "googtrend_deadbirds"
         },
         {
          "Date": "2009-10",
          "Month": 10,
          "Year": 2009,
          "value": 1,
          "variable": "googtrend_deadbirds"
         },
         {
          "Date": "2009-11",
          "Month": 11,
          "Year": 2009,
          "value": 1,
          "variable": "googtrend_deadbirds"
         },
         {
          "Date": "2009-12",
          "Month": 12,
          "Year": 2009,
          "value": 1,
          "variable": "googtrend_deadbirds"
         },
         {
          "Date": "2010-01",
          "Month": 1,
          "Year": 2010,
          "value": 1,
          "variable": "googtrend_deadbirds"
         },
         {
          "Date": "2010-02",
          "Month": 2,
          "Year": 2010,
          "value": 1,
          "variable": "googtrend_deadbirds"
         },
         {
          "Date": "2010-03",
          "Month": 3,
          "Year": 2010,
          "value": 1,
          "variable": "googtrend_deadbirds"
         },
         {
          "Date": "2010-04",
          "Month": 4,
          "Year": 2010,
          "value": 1,
          "variable": "googtrend_deadbirds"
         },
         {
          "Date": "2010-05",
          "Month": 5,
          "Year": 2010,
          "value": 1,
          "variable": "googtrend_deadbirds"
         },
         {
          "Date": "2010-06",
          "Month": 6,
          "Year": 2010,
          "value": 1,
          "variable": "googtrend_deadbirds"
         },
         {
          "Date": "2010-07",
          "Month": 7,
          "Year": 2010,
          "value": 1,
          "variable": "googtrend_deadbirds"
         },
         {
          "Date": "2010-08",
          "Month": 8,
          "Year": 2010,
          "value": 1,
          "variable": "googtrend_deadbirds"
         },
         {
          "Date": "2010-09",
          "Month": 9,
          "Year": 2010,
          "value": 2,
          "variable": "googtrend_deadbirds"
         },
         {
          "Date": "2010-10",
          "Month": 10,
          "Year": 2010,
          "value": 1,
          "variable": "googtrend_deadbirds"
         },
         {
          "Date": "2010-11",
          "Month": 11,
          "Year": 2010,
          "value": 1,
          "variable": "googtrend_deadbirds"
         },
         {
          "Date": "2010-12",
          "Month": 12,
          "Year": 2010,
          "value": 0,
          "variable": "googtrend_deadbirds"
         },
         {
          "Date": "2011-01",
          "Month": 1,
          "Year": 2011,
          "value": 100,
          "variable": "googtrend_deadbirds"
         },
         {
          "Date": "2011-02",
          "Month": 2,
          "Year": 2011,
          "value": 7,
          "variable": "googtrend_deadbirds"
         },
         {
          "Date": "2011-03",
          "Month": 3,
          "Year": 2011,
          "value": 3,
          "variable": "googtrend_deadbirds"
         },
         {
          "Date": "2011-04",
          "Month": 4,
          "Year": 2011,
          "value": 2,
          "variable": "googtrend_deadbirds"
         },
         {
          "Date": "2011-05",
          "Month": 5,
          "Year": 2011,
          "value": 2,
          "variable": "googtrend_deadbirds"
         },
         {
          "Date": "2011-06",
          "Month": 6,
          "Year": 2011,
          "value": 1,
          "variable": "googtrend_deadbirds"
         },
         {
          "Date": "2011-07",
          "Month": 7,
          "Year": 2011,
          "value": 1,
          "variable": "googtrend_deadbirds"
         },
         {
          "Date": "2011-08",
          "Month": 8,
          "Year": 2011,
          "value": 2,
          "variable": "googtrend_deadbirds"
         },
         {
          "Date": "2011-09",
          "Month": 9,
          "Year": 2011,
          "value": 1,
          "variable": "googtrend_deadbirds"
         },
         {
          "Date": "2011-10",
          "Month": 10,
          "Year": 2011,
          "value": 1,
          "variable": "googtrend_deadbirds"
         },
         {
          "Date": "2011-11",
          "Month": 11,
          "Year": 2011,
          "value": 1,
          "variable": "googtrend_deadbirds"
         },
         {
          "Date": "2011-12",
          "Month": 12,
          "Year": 2011,
          "value": 1,
          "variable": "googtrend_deadbirds"
         },
         {
          "Date": "2012-01",
          "Month": 1,
          "Year": 2012,
          "value": 2,
          "variable": "googtrend_deadbirds"
         },
         {
          "Date": "2012-02",
          "Month": 2,
          "Year": 2012,
          "value": 1,
          "variable": "googtrend_deadbirds"
         },
         {
          "Date": "2012-03",
          "Month": 3,
          "Year": 2012,
          "value": 1,
          "variable": "googtrend_deadbirds"
         },
         {
          "Date": "2012-04",
          "Month": 4,
          "Year": 2012,
          "value": 1,
          "variable": "googtrend_deadbirds"
         },
         {
          "Date": "2012-05",
          "Month": 5,
          "Year": 2012,
          "value": 2,
          "variable": "googtrend_deadbirds"
         },
         {
          "Date": "2012-06",
          "Month": 6,
          "Year": 2012,
          "value": 1,
          "variable": "googtrend_deadbirds"
         },
         {
          "Date": "2012-07",
          "Month": 7,
          "Year": 2012,
          "value": 1,
          "variable": "googtrend_deadbirds"
         },
         {
          "Date": "2012-08",
          "Month": 8,
          "Year": 2012,
          "value": 1,
          "variable": "googtrend_deadbirds"
         },
         {
          "Date": "2012-09",
          "Month": 9,
          "Year": 2012,
          "value": 1,
          "variable": "googtrend_deadbirds"
         },
         {
          "Date": "2012-10",
          "Month": 10,
          "Year": 2012,
          "value": 1,
          "variable": "googtrend_deadbirds"
         },
         {
          "Date": "2012-11",
          "Month": 11,
          "Year": 2012,
          "value": 0,
          "variable": "googtrend_deadbirds"
         },
         {
          "Date": "2012-12",
          "Month": 12,
          "Year": 2012,
          "value": 1,
          "variable": "googtrend_deadbirds"
         },
         {
          "Date": "2013-01",
          "Month": 1,
          "Year": 2013,
          "value": 0,
          "variable": "googtrend_deadbirds"
         },
         {
          "Date": "2013-02",
          "Month": 2,
          "Year": 2013,
          "value": 1,
          "variable": "googtrend_deadbirds"
         },
         {
          "Date": "2013-03",
          "Month": 3,
          "Year": 2013,
          "value": 1,
          "variable": "googtrend_deadbirds"
         },
         {
          "Date": "2013-04",
          "Month": 4,
          "Year": 2013,
          "value": 1,
          "variable": "googtrend_deadbirds"
         },
         {
          "Date": "2013-05",
          "Month": 5,
          "Year": 2013,
          "value": 1,
          "variable": "googtrend_deadbirds"
         },
         {
          "Date": "2013-06",
          "Month": 6,
          "Year": 2013,
          "value": 1,
          "variable": "googtrend_deadbirds"
         },
         {
          "Date": "2013-07",
          "Month": 7,
          "Year": 2013,
          "value": 1,
          "variable": "googtrend_deadbirds"
         },
         {
          "Date": "2013-08",
          "Month": 8,
          "Year": 2013,
          "value": 1,
          "variable": "googtrend_deadbirds"
         },
         {
          "Date": "2013-09",
          "Month": 9,
          "Year": 2013,
          "value": 1,
          "variable": "googtrend_deadbirds"
         },
         {
          "Date": "2013-10",
          "Month": 10,
          "Year": 2013,
          "value": 1,
          "variable": "googtrend_deadbirds"
         },
         {
          "Date": "2013-11",
          "Month": 11,
          "Year": 2013,
          "value": 0,
          "variable": "googtrend_deadbirds"
         },
         {
          "Date": "2013-12",
          "Month": 12,
          "Year": 2013,
          "value": 1,
          "variable": "googtrend_deadbirds"
         },
         {
          "Date": "2014-01",
          "Month": 1,
          "Year": 2014,
          "value": 1,
          "variable": "googtrend_deadbirds"
         },
         {
          "Date": "2014-02",
          "Month": 2,
          "Year": 2014,
          "value": 1,
          "variable": "googtrend_deadbirds"
         },
         {
          "Date": "2014-03",
          "Month": 3,
          "Year": 2014,
          "value": 0,
          "variable": "googtrend_deadbirds"
         },
         {
          "Date": "2014-04",
          "Month": 4,
          "Year": 2014,
          "value": 1,
          "variable": "googtrend_deadbirds"
         },
         {
          "Date": "2014-05",
          "Month": 5,
          "Year": 2014,
          "value": 1,
          "variable": "googtrend_deadbirds"
         },
         {
          "Date": "2014-06",
          "Month": 6,
          "Year": 2014,
          "value": 1,
          "variable": "googtrend_deadbirds"
         },
         {
          "Date": "2014-07",
          "Month": 7,
          "Year": 2014,
          "value": 0,
          "variable": "googtrend_deadbirds"
         },
         {
          "Date": "2014-08",
          "Month": 8,
          "Year": 2014,
          "value": 1,
          "variable": "googtrend_deadbirds"
         },
         {
          "Date": "2014-09",
          "Month": 9,
          "Year": 2014,
          "value": 0,
          "variable": "googtrend_deadbirds"
         },
         {
          "Date": "2014-10",
          "Month": 10,
          "Year": 2014,
          "value": 1,
          "variable": "googtrend_deadbirds"
         },
         {
          "Date": "2014-11",
          "Month": 11,
          "Year": 2014,
          "value": 1,
          "variable": "googtrend_deadbirds"
         },
         {
          "Date": "2014-12",
          "Month": 12,
          "Year": 2014,
          "value": 0,
          "variable": "googtrend_deadbirds"
         },
         {
          "Date": "2015-01",
          "Month": 1,
          "Year": 2015,
          "value": 0,
          "variable": "googtrend_deadbirds"
         },
         {
          "Date": "2015-02",
          "Month": 2,
          "Year": 2015,
          "value": 1,
          "variable": "googtrend_deadbirds"
         },
         {
          "Date": "2015-03",
          "Month": 3,
          "Year": 2015,
          "value": 1,
          "variable": "googtrend_deadbirds"
         },
         {
          "Date": "2015-04",
          "Month": 4,
          "Year": 2015,
          "value": 1,
          "variable": "googtrend_deadbirds"
         },
         {
          "Date": "2015-05",
          "Month": 5,
          "Year": 2015,
          "value": 1,
          "variable": "googtrend_deadbirds"
         },
         {
          "Date": "2015-06",
          "Month": 6,
          "Year": 2015,
          "value": 0,
          "variable": "googtrend_deadbirds"
         },
         {
          "Date": "2015-07",
          "Month": 7,
          "Year": 2015,
          "value": 1,
          "variable": "googtrend_deadbirds"
         },
         {
          "Date": "2015-08",
          "Month": 8,
          "Year": 2015,
          "value": 2,
          "variable": "googtrend_deadbirds"
         },
         {
          "Date": "2015-09",
          "Month": 9,
          "Year": 2015,
          "value": 1,
          "variable": "googtrend_deadbirds"
         },
         {
          "Date": "2015-10",
          "Month": 10,
          "Year": 2015,
          "value": 0,
          "variable": "googtrend_deadbirds"
         },
         {
          "Date": "2015-11",
          "Month": 11,
          "Year": 2015,
          "value": 0,
          "variable": "googtrend_deadbirds"
         },
         {
          "Date": "2015-12",
          "Month": 12,
          "Year": 2015,
          "value": 0,
          "variable": "googtrend_deadbirds"
         },
         {
          "Date": "2016-01",
          "Month": 1,
          "Year": 2016,
          "value": 1,
          "variable": "googtrend_deadbirds"
         },
         {
          "Date": "2016-02",
          "Month": 2,
          "Year": 2016,
          "value": 0,
          "variable": "googtrend_deadbirds"
         },
         {
          "Date": "2016-03",
          "Month": 3,
          "Year": 2016,
          "value": 0,
          "variable": "googtrend_deadbirds"
         },
         {
          "Date": "2016-04",
          "Month": 4,
          "Year": 2016,
          "value": 0,
          "variable": "googtrend_deadbirds"
         },
         {
          "Date": "2016-05",
          "Month": 5,
          "Year": 2016,
          "value": 1,
          "variable": "googtrend_deadbirds"
         },
         {
          "Date": "2016-06",
          "Month": 6,
          "Year": 2016,
          "value": 1,
          "variable": "googtrend_deadbirds"
         },
         {
          "Date": "2016-07",
          "Month": 7,
          "Year": 2016,
          "value": 0,
          "variable": "googtrend_deadbirds"
         },
         {
          "Date": "2016-08",
          "Month": 8,
          "Year": 2016,
          "value": 1,
          "variable": "googtrend_deadbirds"
         },
         {
          "Date": "2016-09",
          "Month": 9,
          "Year": 2016,
          "value": 1,
          "variable": "googtrend_deadbirds"
         },
         {
          "Date": "2016-10",
          "Month": 10,
          "Year": 2016,
          "value": 1,
          "variable": "googtrend_deadbirds"
         },
         {
          "Date": "2016-11",
          "Month": 11,
          "Year": 2016,
          "value": 1,
          "variable": "googtrend_deadbirds"
         },
         {
          "Date": "2016-12",
          "Month": 12,
          "Year": 2016,
          "value": 0,
          "variable": "googtrend_deadbirds"
         },
         {
          "Date": "2017-01",
          "Month": 1,
          "Year": 2017,
          "value": 0,
          "variable": "googtrend_deadbirds"
         },
         {
          "Date": "2017-02",
          "Month": 2,
          "Year": 2017,
          "value": 0,
          "variable": "googtrend_deadbirds"
         },
         {
          "Date": "2017-03",
          "Month": 3,
          "Year": 2017,
          "value": 0,
          "variable": "googtrend_deadbirds"
         },
         {
          "Date": "2017-04",
          "Month": 4,
          "Year": 2017,
          "value": 0,
          "variable": "googtrend_deadbirds"
         },
         {
          "Date": "2017-05",
          "Month": 5,
          "Year": 2017,
          "value": 1,
          "variable": "googtrend_deadbirds"
         },
         {
          "Date": "2017-06",
          "Month": 6,
          "Year": 2017,
          "value": 1,
          "variable": "googtrend_deadbirds"
         },
         {
          "Date": "2017-07",
          "Month": 7,
          "Year": 2017,
          "value": 0,
          "variable": "googtrend_deadbirds"
         },
         {
          "Date": "2017-08",
          "Month": 8,
          "Year": 2017,
          "value": 1,
          "variable": "googtrend_deadbirds"
         },
         {
          "Date": "2017-09",
          "Month": 9,
          "Year": 2017,
          "value": 1,
          "variable": "googtrend_deadbirds"
         },
         {
          "Date": "2017-10",
          "Month": 10,
          "Year": 2017,
          "value": 1,
          "variable": "googtrend_deadbirds"
         },
         {
          "Date": "2017-11",
          "Month": 11,
          "Year": 2017,
          "value": 1,
          "variable": "googtrend_deadbirds"
         },
         {
          "Date": "2017-12",
          "Month": 12,
          "Year": 2017,
          "value": 0,
          "variable": "googtrend_deadbirds"
         },
         {
          "Date": "2018-01",
          "Month": 1,
          "Year": 2018,
          "value": 0,
          "variable": "googtrend_deadbirds"
         },
         {
          "Date": "2018-02",
          "Month": 2,
          "Year": 2018,
          "value": 1,
          "variable": "googtrend_deadbirds"
         },
         {
          "Date": "2018-03",
          "Month": 3,
          "Year": 2018,
          "value": 1,
          "variable": "googtrend_deadbirds"
         },
         {
          "Date": "2018-04",
          "Month": 4,
          "Year": 2018,
          "value": 1,
          "variable": "googtrend_deadbirds"
         },
         {
          "Date": "2018-05",
          "Month": 5,
          "Year": 2018,
          "value": 1,
          "variable": "googtrend_deadbirds"
         },
         {
          "Date": "2018-06",
          "Month": 6,
          "Year": 2018,
          "value": 1,
          "variable": "googtrend_deadbirds"
         },
         {
          "Date": "2018-07",
          "Month": 7,
          "Year": 2018,
          "value": 1,
          "variable": "googtrend_deadbirds"
         },
         {
          "Date": "2018-08",
          "Month": 8,
          "Year": 2018,
          "value": 1,
          "variable": "googtrend_deadbirds"
         },
         {
          "Date": "2018-09",
          "Month": 9,
          "Year": 2018,
          "value": 1,
          "variable": "googtrend_deadbirds"
         },
         {
          "Date": "2018-10",
          "Month": 10,
          "Year": 2018,
          "value": 1,
          "variable": "googtrend_deadbirds"
         },
         {
          "Date": "2018-11",
          "Month": 11,
          "Year": 2018,
          "value": 1,
          "variable": "googtrend_deadbirds"
         },
         {
          "Date": "2018-12",
          "Month": 12,
          "Year": 2018,
          "value": 0,
          "variable": "googtrend_deadbirds"
         },
         {
          "Date": "2019-01",
          "Month": 1,
          "Year": 2019,
          "value": 1,
          "variable": "googtrend_deadbirds"
         },
         {
          "Date": "2004-01",
          "Month": 1,
          "Year": 2004,
          "value": 5,
          "variable": "googtrend_westnile"
         },
         {
          "Date": "2004-02",
          "Month": 2,
          "Year": 2004,
          "value": 6,
          "variable": "googtrend_westnile"
         },
         {
          "Date": "2004-03",
          "Month": 3,
          "Year": 2004,
          "value": 8,
          "variable": "googtrend_westnile"
         },
         {
          "Date": "2004-04",
          "Month": 4,
          "Year": 2004,
          "value": 14,
          "variable": "googtrend_westnile"
         },
         {
          "Date": "2004-05",
          "Month": 5,
          "Year": 2004,
          "value": 20,
          "variable": "googtrend_westnile"
         },
         {
          "Date": "2004-06",
          "Month": 6,
          "Year": 2004,
          "value": 91,
          "variable": "googtrend_westnile"
         },
         {
          "Date": "2004-07",
          "Month": 7,
          "Year": 2004,
          "value": 75,
          "variable": "googtrend_westnile"
         },
         {
          "Date": "2004-08",
          "Month": 8,
          "Year": 2004,
          "value": 44,
          "variable": "googtrend_westnile"
         },
         {
          "Date": "2004-09",
          "Month": 9,
          "Year": 2004,
          "value": 37,
          "variable": "googtrend_westnile"
         },
         {
          "Date": "2004-10",
          "Month": 10,
          "Year": 2004,
          "value": 16,
          "variable": "googtrend_westnile"
         },
         {
          "Date": "2004-11",
          "Month": 11,
          "Year": 2004,
          "value": 0,
          "variable": "googtrend_westnile"
         },
         {
          "Date": "2004-12",
          "Month": 12,
          "Year": 2004,
          "value": 5,
          "variable": "googtrend_westnile"
         },
         {
          "Date": "2005-01",
          "Month": 1,
          "Year": 2005,
          "value": 6,
          "variable": "googtrend_westnile"
         },
         {
          "Date": "2005-02",
          "Month": 2,
          "Year": 2005,
          "value": 5,
          "variable": "googtrend_westnile"
         },
         {
          "Date": "2005-03",
          "Month": 3,
          "Year": 2005,
          "value": 2,
          "variable": "googtrend_westnile"
         },
         {
          "Date": "2005-04",
          "Month": 4,
          "Year": 2005,
          "value": 7,
          "variable": "googtrend_westnile"
         },
         {
          "Date": "2005-05",
          "Month": 5,
          "Year": 2005,
          "value": 11,
          "variable": "googtrend_westnile"
         },
         {
          "Date": "2005-06",
          "Month": 6,
          "Year": 2005,
          "value": 18,
          "variable": "googtrend_westnile"
         },
         {
          "Date": "2005-07",
          "Month": 7,
          "Year": 2005,
          "value": 41,
          "variable": "googtrend_westnile"
         },
         {
          "Date": "2005-08",
          "Month": 8,
          "Year": 2005,
          "value": 100,
          "variable": "googtrend_westnile"
         },
         {
          "Date": "2005-09",
          "Month": 9,
          "Year": 2005,
          "value": 49,
          "variable": "googtrend_westnile"
         },
         {
          "Date": "2005-10",
          "Month": 10,
          "Year": 2005,
          "value": 13,
          "variable": "googtrend_westnile"
         },
         {
          "Date": "2005-11",
          "Month": 11,
          "Year": 2005,
          "value": 8,
          "variable": "googtrend_westnile"
         },
         {
          "Date": "2005-12",
          "Month": 12,
          "Year": 2005,
          "value": 2,
          "variable": "googtrend_westnile"
         },
         {
          "Date": "2006-01",
          "Month": 1,
          "Year": 2006,
          "value": 2,
          "variable": "googtrend_westnile"
         },
         {
          "Date": "2006-02",
          "Month": 2,
          "Year": 2006,
          "value": 5,
          "variable": "googtrend_westnile"
         },
         {
          "Date": "2006-03",
          "Month": 3,
          "Year": 2006,
          "value": 8,
          "variable": "googtrend_westnile"
         },
         {
          "Date": "2006-04",
          "Month": 4,
          "Year": 2006,
          "value": 2,
          "variable": "googtrend_westnile"
         },
         {
          "Date": "2006-05",
          "Month": 5,
          "Year": 2006,
          "value": 10,
          "variable": "googtrend_westnile"
         },
         {
          "Date": "2006-06",
          "Month": 6,
          "Year": 2006,
          "value": 14,
          "variable": "googtrend_westnile"
         },
         {
          "Date": "2006-07",
          "Month": 7,
          "Year": 2006,
          "value": 27,
          "variable": "googtrend_westnile"
         },
         {
          "Date": "2006-08",
          "Month": 8,
          "Year": 2006,
          "value": 61,
          "variable": "googtrend_westnile"
         },
         {
          "Date": "2006-09",
          "Month": 9,
          "Year": 2006,
          "value": 51,
          "variable": "googtrend_westnile"
         },
         {
          "Date": "2006-10",
          "Month": 10,
          "Year": 2006,
          "value": 17,
          "variable": "googtrend_westnile"
         },
         {
          "Date": "2006-11",
          "Month": 11,
          "Year": 2006,
          "value": 5,
          "variable": "googtrend_westnile"
         },
         {
          "Date": "2006-12",
          "Month": 12,
          "Year": 2006,
          "value": 4,
          "variable": "googtrend_westnile"
         },
         {
          "Date": "2007-01",
          "Month": 1,
          "Year": 2007,
          "value": 3,
          "variable": "googtrend_westnile"
         },
         {
          "Date": "2007-02",
          "Month": 2,
          "Year": 2007,
          "value": 4,
          "variable": "googtrend_westnile"
         },
         {
          "Date": "2007-03",
          "Month": 3,
          "Year": 2007,
          "value": 3,
          "variable": "googtrend_westnile"
         },
         {
          "Date": "2007-04",
          "Month": 4,
          "Year": 2007,
          "value": 5,
          "variable": "googtrend_westnile"
         },
         {
          "Date": "2007-05",
          "Month": 5,
          "Year": 2007,
          "value": 16,
          "variable": "googtrend_westnile"
         },
         {
          "Date": "2007-06",
          "Month": 6,
          "Year": 2007,
          "value": 14,
          "variable": "googtrend_westnile"
         },
         {
          "Date": "2007-07",
          "Month": 7,
          "Year": 2007,
          "value": 22,
          "variable": "googtrend_westnile"
         },
         {
          "Date": "2007-08",
          "Month": 8,
          "Year": 2007,
          "value": 57,
          "variable": "googtrend_westnile"
         },
         {
          "Date": "2007-09",
          "Month": 9,
          "Year": 2007,
          "value": 58,
          "variable": "googtrend_westnile"
         },
         {
          "Date": "2007-10",
          "Month": 10,
          "Year": 2007,
          "value": 9,
          "variable": "googtrend_westnile"
         },
         {
          "Date": "2007-11",
          "Month": 11,
          "Year": 2007,
          "value": 6,
          "variable": "googtrend_westnile"
         },
         {
          "Date": "2007-12",
          "Month": 12,
          "Year": 2007,
          "value": 4,
          "variable": "googtrend_westnile"
         },
         {
          "Date": "2008-01",
          "Month": 1,
          "Year": 2008,
          "value": 2,
          "variable": "googtrend_westnile"
         },
         {
          "Date": "2008-02",
          "Month": 2,
          "Year": 2008,
          "value": 3,
          "variable": "googtrend_westnile"
         },
         {
          "Date": "2008-03",
          "Month": 3,
          "Year": 2008,
          "value": 3,
          "variable": "googtrend_westnile"
         },
         {
          "Date": "2008-04",
          "Month": 4,
          "Year": 2008,
          "value": 3,
          "variable": "googtrend_westnile"
         },
         {
          "Date": "2008-05",
          "Month": 5,
          "Year": 2008,
          "value": 3,
          "variable": "googtrend_westnile"
         },
         {
          "Date": "2008-06",
          "Month": 6,
          "Year": 2008,
          "value": 19,
          "variable": "googtrend_westnile"
         },
         {
          "Date": "2008-07",
          "Month": 7,
          "Year": 2008,
          "value": 19,
          "variable": "googtrend_westnile"
         },
         {
          "Date": "2008-08",
          "Month": 8,
          "Year": 2008,
          "value": 18,
          "variable": "googtrend_westnile"
         },
         {
          "Date": "2008-09",
          "Month": 9,
          "Year": 2008,
          "value": 14,
          "variable": "googtrend_westnile"
         },
         {
          "Date": "2008-10",
          "Month": 10,
          "Year": 2008,
          "value": 8,
          "variable": "googtrend_westnile"
         },
         {
          "Date": "2008-11",
          "Month": 11,
          "Year": 2008,
          "value": 1,
          "variable": "googtrend_westnile"
         },
         {
          "Date": "2008-12",
          "Month": 12,
          "Year": 2008,
          "value": 3,
          "variable": "googtrend_westnile"
         },
         {
          "Date": "2009-01",
          "Month": 1,
          "Year": 2009,
          "value": 3,
          "variable": "googtrend_westnile"
         },
         {
          "Date": "2009-02",
          "Month": 2,
          "Year": 2009,
          "value": 3,
          "variable": "googtrend_westnile"
         },
         {
          "Date": "2009-03",
          "Month": 3,
          "Year": 2009,
          "value": 2,
          "variable": "googtrend_westnile"
         },
         {
          "Date": "2009-04",
          "Month": 4,
          "Year": 2009,
          "value": 4,
          "variable": "googtrend_westnile"
         },
         {
          "Date": "2009-05",
          "Month": 5,
          "Year": 2009,
          "value": 4,
          "variable": "googtrend_westnile"
         },
         {
          "Date": "2009-06",
          "Month": 6,
          "Year": 2009,
          "value": 6,
          "variable": "googtrend_westnile"
         },
         {
          "Date": "2009-07",
          "Month": 7,
          "Year": 2009,
          "value": 5,
          "variable": "googtrend_westnile"
         },
         {
          "Date": "2009-08",
          "Month": 8,
          "Year": 2009,
          "value": 6,
          "variable": "googtrend_westnile"
         },
         {
          "Date": "2009-09",
          "Month": 9,
          "Year": 2009,
          "value": 6,
          "variable": "googtrend_westnile"
         },
         {
          "Date": "2009-10",
          "Month": 10,
          "Year": 2009,
          "value": 5,
          "variable": "googtrend_westnile"
         },
         {
          "Date": "2009-11",
          "Month": 11,
          "Year": 2009,
          "value": 2,
          "variable": "googtrend_westnile"
         },
         {
          "Date": "2009-12",
          "Month": 12,
          "Year": 2009,
          "value": 2,
          "variable": "googtrend_westnile"
         },
         {
          "Date": "2010-01",
          "Month": 1,
          "Year": 2010,
          "value": 3,
          "variable": "googtrend_westnile"
         },
         {
          "Date": "2010-02",
          "Month": 2,
          "Year": 2010,
          "value": 2,
          "variable": "googtrend_westnile"
         },
         {
          "Date": "2010-03",
          "Month": 3,
          "Year": 2010,
          "value": 1,
          "variable": "googtrend_westnile"
         },
         {
          "Date": "2010-04",
          "Month": 4,
          "Year": 2010,
          "value": 4,
          "variable": "googtrend_westnile"
         },
         {
          "Date": "2010-05",
          "Month": 5,
          "Year": 2010,
          "value": 3,
          "variable": "googtrend_westnile"
         },
         {
          "Date": "2010-06",
          "Month": 6,
          "Year": 2010,
          "value": 8,
          "variable": "googtrend_westnile"
         },
         {
          "Date": "2010-07",
          "Month": 7,
          "Year": 2010,
          "value": 14,
          "variable": "googtrend_westnile"
         },
         {
          "Date": "2010-08",
          "Month": 8,
          "Year": 2010,
          "value": 26,
          "variable": "googtrend_westnile"
         },
         {
          "Date": "2010-09",
          "Month": 9,
          "Year": 2010,
          "value": 9,
          "variable": "googtrend_westnile"
         },
         {
          "Date": "2010-10",
          "Month": 10,
          "Year": 2010,
          "value": 3,
          "variable": "googtrend_westnile"
         },
         {
          "Date": "2010-11",
          "Month": 11,
          "Year": 2010,
          "value": 3,
          "variable": "googtrend_westnile"
         },
         {
          "Date": "2010-12",
          "Month": 12,
          "Year": 2010,
          "value": 1,
          "variable": "googtrend_westnile"
         },
         {
          "Date": "2011-01",
          "Month": 1,
          "Year": 2011,
          "value": 2,
          "variable": "googtrend_westnile"
         },
         {
          "Date": "2011-02",
          "Month": 2,
          "Year": 2011,
          "value": 1,
          "variable": "googtrend_westnile"
         },
         {
          "Date": "2011-03",
          "Month": 3,
          "Year": 2011,
          "value": 1,
          "variable": "googtrend_westnile"
         },
         {
          "Date": "2011-04",
          "Month": 4,
          "Year": 2011,
          "value": 2,
          "variable": "googtrend_westnile"
         },
         {
          "Date": "2011-05",
          "Month": 5,
          "Year": 2011,
          "value": 3,
          "variable": "googtrend_westnile"
         },
         {
          "Date": "2011-06",
          "Month": 6,
          "Year": 2011,
          "value": 9,
          "variable": "googtrend_westnile"
         },
         {
          "Date": "2011-07",
          "Month": 7,
          "Year": 2011,
          "value": 12,
          "variable": "googtrend_westnile"
         },
         {
          "Date": "2011-08",
          "Month": 8,
          "Year": 2011,
          "value": 17,
          "variable": "googtrend_westnile"
         },
         {
          "Date": "2011-09",
          "Month": 9,
          "Year": 2011,
          "value": 6,
          "variable": "googtrend_westnile"
         },
         {
          "Date": "2011-10",
          "Month": 10,
          "Year": 2011,
          "value": 2,
          "variable": "googtrend_westnile"
         },
         {
          "Date": "2011-11",
          "Month": 11,
          "Year": 2011,
          "value": 2,
          "variable": "googtrend_westnile"
         },
         {
          "Date": "2011-12",
          "Month": 12,
          "Year": 2011,
          "value": 1,
          "variable": "googtrend_westnile"
         },
         {
          "Date": "2012-01",
          "Month": 1,
          "Year": 2012,
          "value": 1,
          "variable": "googtrend_westnile"
         },
         {
          "Date": "2012-02",
          "Month": 2,
          "Year": 2012,
          "value": 2,
          "variable": "googtrend_westnile"
         },
         {
          "Date": "2012-03",
          "Month": 3,
          "Year": 2012,
          "value": 2,
          "variable": "googtrend_westnile"
         },
         {
          "Date": "2012-04",
          "Month": 4,
          "Year": 2012,
          "value": 2,
          "variable": "googtrend_westnile"
         },
         {
          "Date": "2012-05",
          "Month": 5,
          "Year": 2012,
          "value": 4,
          "variable": "googtrend_westnile"
         },
         {
          "Date": "2012-06",
          "Month": 6,
          "Year": 2012,
          "value": 7,
          "variable": "googtrend_westnile"
         },
         {
          "Date": "2012-07",
          "Month": 7,
          "Year": 2012,
          "value": 15,
          "variable": "googtrend_westnile"
         },
         {
          "Date": "2012-08",
          "Month": 8,
          "Year": 2012,
          "value": 93,
          "variable": "googtrend_westnile"
         },
         {
          "Date": "2012-09",
          "Month": 9,
          "Year": 2012,
          "value": 65,
          "variable": "googtrend_westnile"
         },
         {
          "Date": "2012-10",
          "Month": 10,
          "Year": 2012,
          "value": 16,
          "variable": "googtrend_westnile"
         },
         {
          "Date": "2012-11",
          "Month": 11,
          "Year": 2012,
          "value": 4,
          "variable": "googtrend_westnile"
         },
         {
          "Date": "2012-12",
          "Month": 12,
          "Year": 2012,
          "value": 2,
          "variable": "googtrend_westnile"
         },
         {
          "Date": "2013-01",
          "Month": 1,
          "Year": 2013,
          "value": 1,
          "variable": "googtrend_westnile"
         },
         {
          "Date": "2013-02",
          "Month": 2,
          "Year": 2013,
          "value": 1,
          "variable": "googtrend_westnile"
         },
         {
          "Date": "2013-03",
          "Month": 3,
          "Year": 2013,
          "value": 1,
          "variable": "googtrend_westnile"
         },
         {
          "Date": "2013-04",
          "Month": 4,
          "Year": 2013,
          "value": 2,
          "variable": "googtrend_westnile"
         },
         {
          "Date": "2013-05",
          "Month": 5,
          "Year": 2013,
          "value": 4,
          "variable": "googtrend_westnile"
         },
         {
          "Date": "2013-06",
          "Month": 6,
          "Year": 2013,
          "value": 11,
          "variable": "googtrend_westnile"
         },
         {
          "Date": "2013-07",
          "Month": 7,
          "Year": 2013,
          "value": 21,
          "variable": "googtrend_westnile"
         },
         {
          "Date": "2013-08",
          "Month": 8,
          "Year": 2013,
          "value": 14,
          "variable": "googtrend_westnile"
         },
         {
          "Date": "2013-09",
          "Month": 9,
          "Year": 2013,
          "value": 13,
          "variable": "googtrend_westnile"
         },
         {
          "Date": "2013-10",
          "Month": 10,
          "Year": 2013,
          "value": 5,
          "variable": "googtrend_westnile"
         },
         {
          "Date": "2013-11",
          "Month": 11,
          "Year": 2013,
          "value": 1,
          "variable": "googtrend_westnile"
         },
         {
          "Date": "2013-12",
          "Month": 12,
          "Year": 2013,
          "value": 2,
          "variable": "googtrend_westnile"
         },
         {
          "Date": "2014-01",
          "Month": 1,
          "Year": 2014,
          "value": 1,
          "variable": "googtrend_westnile"
         },
         {
          "Date": "2014-02",
          "Month": 2,
          "Year": 2014,
          "value": 1,
          "variable": "googtrend_westnile"
         },
         {
          "Date": "2014-03",
          "Month": 3,
          "Year": 2014,
          "value": 1,
          "variable": "googtrend_westnile"
         },
         {
          "Date": "2014-04",
          "Month": 4,
          "Year": 2014,
          "value": 1,
          "variable": "googtrend_westnile"
         },
         {
          "Date": "2014-05",
          "Month": 5,
          "Year": 2014,
          "value": 2,
          "variable": "googtrend_westnile"
         },
         {
          "Date": "2014-06",
          "Month": 6,
          "Year": 2014,
          "value": 12,
          "variable": "googtrend_westnile"
         },
         {
          "Date": "2014-07",
          "Month": 7,
          "Year": 2014,
          "value": 20,
          "variable": "googtrend_westnile"
         },
         {
          "Date": "2014-08",
          "Month": 8,
          "Year": 2014,
          "value": 16,
          "variable": "googtrend_westnile"
         },
         {
          "Date": "2014-09",
          "Month": 9,
          "Year": 2014,
          "value": 18,
          "variable": "googtrend_westnile"
         },
         {
          "Date": "2014-10",
          "Month": 10,
          "Year": 2014,
          "value": 5,
          "variable": "googtrend_westnile"
         },
         {
          "Date": "2014-11",
          "Month": 11,
          "Year": 2014,
          "value": 2,
          "variable": "googtrend_westnile"
         },
         {
          "Date": "2014-12",
          "Month": 12,
          "Year": 2014,
          "value": 2,
          "variable": "googtrend_westnile"
         },
         {
          "Date": "2015-01",
          "Month": 1,
          "Year": 2015,
          "value": 1,
          "variable": "googtrend_westnile"
         },
         {
          "Date": "2015-02",
          "Month": 2,
          "Year": 2015,
          "value": 2,
          "variable": "googtrend_westnile"
         },
         {
          "Date": "2015-03",
          "Month": 3,
          "Year": 2015,
          "value": 2,
          "variable": "googtrend_westnile"
         },
         {
          "Date": "2015-04",
          "Month": 4,
          "Year": 2015,
          "value": 2,
          "variable": "googtrend_westnile"
         },
         {
          "Date": "2015-05",
          "Month": 5,
          "Year": 2015,
          "value": 3,
          "variable": "googtrend_westnile"
         },
         {
          "Date": "2015-06",
          "Month": 6,
          "Year": 2015,
          "value": 9,
          "variable": "googtrend_westnile"
         },
         {
          "Date": "2015-07",
          "Month": 7,
          "Year": 2015,
          "value": 32,
          "variable": "googtrend_westnile"
         },
         {
          "Date": "2015-08",
          "Month": 8,
          "Year": 2015,
          "value": 15,
          "variable": "googtrend_westnile"
         },
         {
          "Date": "2015-09",
          "Month": 9,
          "Year": 2015,
          "value": 11,
          "variable": "googtrend_westnile"
         },
         {
          "Date": "2015-10",
          "Month": 10,
          "Year": 2015,
          "value": 3,
          "variable": "googtrend_westnile"
         },
         {
          "Date": "2015-11",
          "Month": 11,
          "Year": 2015,
          "value": 2,
          "variable": "googtrend_westnile"
         },
         {
          "Date": "2015-12",
          "Month": 12,
          "Year": 2015,
          "value": 2,
          "variable": "googtrend_westnile"
         },
         {
          "Date": "2016-01",
          "Month": 1,
          "Year": 2016,
          "value": 1,
          "variable": "googtrend_westnile"
         },
         {
          "Date": "2016-02",
          "Month": 2,
          "Year": 2016,
          "value": 2,
          "variable": "googtrend_westnile"
         },
         {
          "Date": "2016-03",
          "Month": 3,
          "Year": 2016,
          "value": 1,
          "variable": "googtrend_westnile"
         },
         {
          "Date": "2016-04",
          "Month": 4,
          "Year": 2016,
          "value": 1,
          "variable": "googtrend_westnile"
         },
         {
          "Date": "2016-05",
          "Month": 5,
          "Year": 2016,
          "value": 2,
          "variable": "googtrend_westnile"
         },
         {
          "Date": "2016-06",
          "Month": 6,
          "Year": 2016,
          "value": 6,
          "variable": "googtrend_westnile"
         },
         {
          "Date": "2016-07",
          "Month": 7,
          "Year": 2016,
          "value": 6,
          "variable": "googtrend_westnile"
         },
         {
          "Date": "2016-08",
          "Month": 8,
          "Year": 2016,
          "value": 10,
          "variable": "googtrend_westnile"
         },
         {
          "Date": "2016-09",
          "Month": 9,
          "Year": 2016,
          "value": 12,
          "variable": "googtrend_westnile"
         },
         {
          "Date": "2016-10",
          "Month": 10,
          "Year": 2016,
          "value": 3,
          "variable": "googtrend_westnile"
         },
         {
          "Date": "2016-11",
          "Month": 11,
          "Year": 2016,
          "value": 1,
          "variable": "googtrend_westnile"
         },
         {
          "Date": "2016-12",
          "Month": 12,
          "Year": 2016,
          "value": 1,
          "variable": "googtrend_westnile"
         },
         {
          "Date": "2017-01",
          "Month": 1,
          "Year": 2017,
          "value": 1,
          "variable": "googtrend_westnile"
         },
         {
          "Date": "2017-02",
          "Month": 2,
          "Year": 2017,
          "value": 1,
          "variable": "googtrend_westnile"
         },
         {
          "Date": "2017-03",
          "Month": 3,
          "Year": 2017,
          "value": 1,
          "variable": "googtrend_westnile"
         },
         {
          "Date": "2017-04",
          "Month": 4,
          "Year": 2017,
          "value": 2,
          "variable": "googtrend_westnile"
         },
         {
          "Date": "2017-05",
          "Month": 5,
          "Year": 2017,
          "value": 2,
          "variable": "googtrend_westnile"
         },
         {
          "Date": "2017-06",
          "Month": 6,
          "Year": 2017,
          "value": 6,
          "variable": "googtrend_westnile"
         },
         {
          "Date": "2017-07",
          "Month": 7,
          "Year": 2017,
          "value": 14,
          "variable": "googtrend_westnile"
         },
         {
          "Date": "2017-08",
          "Month": 8,
          "Year": 2017,
          "value": 15,
          "variable": "googtrend_westnile"
         },
         {
          "Date": "2017-09",
          "Month": 9,
          "Year": 2017,
          "value": 6,
          "variable": "googtrend_westnile"
         },
         {
          "Date": "2017-10",
          "Month": 10,
          "Year": 2017,
          "value": 2,
          "variable": "googtrend_westnile"
         },
         {
          "Date": "2017-11",
          "Month": 11,
          "Year": 2017,
          "value": 1,
          "variable": "googtrend_westnile"
         },
         {
          "Date": "2017-12",
          "Month": 12,
          "Year": 2017,
          "value": 1,
          "variable": "googtrend_westnile"
         },
         {
          "Date": "2018-01",
          "Month": 1,
          "Year": 2018,
          "value": 1,
          "variable": "googtrend_westnile"
         },
         {
          "Date": "2018-02",
          "Month": 2,
          "Year": 2018,
          "value": 1,
          "variable": "googtrend_westnile"
         },
         {
          "Date": "2018-03",
          "Month": 3,
          "Year": 2018,
          "value": 1,
          "variable": "googtrend_westnile"
         },
         {
          "Date": "2018-04",
          "Month": 4,
          "Year": 2018,
          "value": 1,
          "variable": "googtrend_westnile"
         },
         {
          "Date": "2018-05",
          "Month": 5,
          "Year": 2018,
          "value": 3,
          "variable": "googtrend_westnile"
         },
         {
          "Date": "2018-06",
          "Month": 6,
          "Year": 2018,
          "value": 11,
          "variable": "googtrend_westnile"
         },
         {
          "Date": "2018-07",
          "Month": 7,
          "Year": 2018,
          "value": 23,
          "variable": "googtrend_westnile"
         },
         {
          "Date": "2018-08",
          "Month": 8,
          "Year": 2018,
          "value": 15,
          "variable": "googtrend_westnile"
         },
         {
          "Date": "2018-09",
          "Month": 9,
          "Year": 2018,
          "value": 16,
          "variable": "googtrend_westnile"
         },
         {
          "Date": "2018-10",
          "Month": 10,
          "Year": 2018,
          "value": 5,
          "variable": "googtrend_westnile"
         },
         {
          "Date": "2018-11",
          "Month": 11,
          "Year": 2018,
          "value": 1,
          "variable": "googtrend_westnile"
         },
         {
          "Date": "2018-12",
          "Month": 12,
          "Year": 2018,
          "value": 0,
          "variable": "googtrend_westnile"
         },
         {
          "Date": "2019-01",
          "Month": 1,
          "Year": 2019,
          "value": 1,
          "variable": "googtrend_westnile"
         },
         {
          "Date": "2004-01",
          "Month": 1,
          "Year": 2004,
          "value": 0,
          "variable": "googtrend_mosq_bites"
         },
         {
          "Date": "2004-02",
          "Month": 2,
          "Year": 2004,
          "value": 0,
          "variable": "googtrend_mosq_bites"
         },
         {
          "Date": "2004-03",
          "Month": 3,
          "Year": 2004,
          "value": 0,
          "variable": "googtrend_mosq_bites"
         },
         {
          "Date": "2004-04",
          "Month": 4,
          "Year": 2004,
          "value": 0,
          "variable": "googtrend_mosq_bites"
         },
         {
          "Date": "2004-05",
          "Month": 5,
          "Year": 2004,
          "value": 0,
          "variable": "googtrend_mosq_bites"
         },
         {
          "Date": "2004-06",
          "Month": 6,
          "Year": 2004,
          "value": 26,
          "variable": "googtrend_mosq_bites"
         },
         {
          "Date": "2004-07",
          "Month": 7,
          "Year": 2004,
          "value": 15,
          "variable": "googtrend_mosq_bites"
         },
         {
          "Date": "2004-08",
          "Month": 8,
          "Year": 2004,
          "value": 7,
          "variable": "googtrend_mosq_bites"
         },
         {
          "Date": "2004-09",
          "Month": 9,
          "Year": 2004,
          "value": 20,
          "variable": "googtrend_mosq_bites"
         },
         {
          "Date": "2004-10",
          "Month": 10,
          "Year": 2004,
          "value": 0,
          "variable": "googtrend_mosq_bites"
         },
         {
          "Date": "2004-11",
          "Month": 11,
          "Year": 2004,
          "value": 0,
          "variable": "googtrend_mosq_bites"
         },
         {
          "Date": "2004-12",
          "Month": 12,
          "Year": 2004,
          "value": 0,
          "variable": "googtrend_mosq_bites"
         },
         {
          "Date": "2005-01",
          "Month": 1,
          "Year": 2005,
          "value": 0,
          "variable": "googtrend_mosq_bites"
         },
         {
          "Date": "2005-02",
          "Month": 2,
          "Year": 2005,
          "value": 0,
          "variable": "googtrend_mosq_bites"
         },
         {
          "Date": "2005-03",
          "Month": 3,
          "Year": 2005,
          "value": 5,
          "variable": "googtrend_mosq_bites"
         },
         {
          "Date": "2005-04",
          "Month": 4,
          "Year": 2005,
          "value": 0,
          "variable": "googtrend_mosq_bites"
         },
         {
          "Date": "2005-05",
          "Month": 5,
          "Year": 2005,
          "value": 5,
          "variable": "googtrend_mosq_bites"
         },
         {
          "Date": "2005-06",
          "Month": 6,
          "Year": 2005,
          "value": 5,
          "variable": "googtrend_mosq_bites"
         },
         {
          "Date": "2005-07",
          "Month": 7,
          "Year": 2005,
          "value": 7,
          "variable": "googtrend_mosq_bites"
         },
         {
          "Date": "2005-08",
          "Month": 8,
          "Year": 2005,
          "value": 9,
          "variable": "googtrend_mosq_bites"
         },
         {
          "Date": "2005-09",
          "Month": 9,
          "Year": 2005,
          "value": 6,
          "variable": "googtrend_mosq_bites"
         },
         {
          "Date": "2005-10",
          "Month": 10,
          "Year": 2005,
          "value": 0,
          "variable": "googtrend_mosq_bites"
         },
         {
          "Date": "2005-11",
          "Month": 11,
          "Year": 2005,
          "value": 0,
          "variable": "googtrend_mosq_bites"
         },
         {
          "Date": "2005-12",
          "Month": 12,
          "Year": 2005,
          "value": 0,
          "variable": "googtrend_mosq_bites"
         },
         {
          "Date": "2006-01",
          "Month": 1,
          "Year": 2006,
          "value": 0,
          "variable": "googtrend_mosq_bites"
         },
         {
          "Date": "2006-02",
          "Month": 2,
          "Year": 2006,
          "value": 0,
          "variable": "googtrend_mosq_bites"
         },
         {
          "Date": "2006-03",
          "Month": 3,
          "Year": 2006,
          "value": 0,
          "variable": "googtrend_mosq_bites"
         },
         {
          "Date": "2006-04",
          "Month": 4,
          "Year": 2006,
          "value": 0,
          "variable": "googtrend_mosq_bites"
         },
         {
          "Date": "2006-05",
          "Month": 5,
          "Year": 2006,
          "value": 3,
          "variable": "googtrend_mosq_bites"
         },
         {
          "Date": "2006-06",
          "Month": 6,
          "Year": 2006,
          "value": 5,
          "variable": "googtrend_mosq_bites"
         },
         {
          "Date": "2006-07",
          "Month": 7,
          "Year": 2006,
          "value": 20,
          "variable": "googtrend_mosq_bites"
         },
         {
          "Date": "2006-08",
          "Month": 8,
          "Year": 2006,
          "value": 18,
          "variable": "googtrend_mosq_bites"
         },
         {
          "Date": "2006-09",
          "Month": 9,
          "Year": 2006,
          "value": 3,
          "variable": "googtrend_mosq_bites"
         },
         {
          "Date": "2006-10",
          "Month": 10,
          "Year": 2006,
          "value": 3,
          "variable": "googtrend_mosq_bites"
         },
         {
          "Date": "2006-11",
          "Month": 11,
          "Year": 2006,
          "value": 3,
          "variable": "googtrend_mosq_bites"
         },
         {
          "Date": "2006-12",
          "Month": 12,
          "Year": 2006,
          "value": 0,
          "variable": "googtrend_mosq_bites"
         },
         {
          "Date": "2007-01",
          "Month": 1,
          "Year": 2007,
          "value": 0,
          "variable": "googtrend_mosq_bites"
         },
         {
          "Date": "2007-02",
          "Month": 2,
          "Year": 2007,
          "value": 0,
          "variable": "googtrend_mosq_bites"
         },
         {
          "Date": "2007-03",
          "Month": 3,
          "Year": 2007,
          "value": 2,
          "variable": "googtrend_mosq_bites"
         },
         {
          "Date": "2007-04",
          "Month": 4,
          "Year": 2007,
          "value": 2,
          "variable": "googtrend_mosq_bites"
         },
         {
          "Date": "2007-05",
          "Month": 5,
          "Year": 2007,
          "value": 11,
          "variable": "googtrend_mosq_bites"
         },
         {
          "Date": "2007-06",
          "Month": 6,
          "Year": 2007,
          "value": 4,
          "variable": "googtrend_mosq_bites"
         },
         {
          "Date": "2007-07",
          "Month": 7,
          "Year": 2007,
          "value": 12,
          "variable": "googtrend_mosq_bites"
         },
         {
          "Date": "2007-08",
          "Month": 8,
          "Year": 2007,
          "value": 35,
          "variable": "googtrend_mosq_bites"
         },
         {
          "Date": "2007-09",
          "Month": 9,
          "Year": 2007,
          "value": 25,
          "variable": "googtrend_mosq_bites"
         },
         {
          "Date": "2007-10",
          "Month": 10,
          "Year": 2007,
          "value": 7,
          "variable": "googtrend_mosq_bites"
         },
         {
          "Date": "2007-11",
          "Month": 11,
          "Year": 2007,
          "value": 0,
          "variable": "googtrend_mosq_bites"
         },
         {
          "Date": "2007-12",
          "Month": 12,
          "Year": 2007,
          "value": 0,
          "variable": "googtrend_mosq_bites"
         },
         {
          "Date": "2008-01",
          "Month": 1,
          "Year": 2008,
          "value": 0,
          "variable": "googtrend_mosq_bites"
         },
         {
          "Date": "2008-02",
          "Month": 2,
          "Year": 2008,
          "value": 2,
          "variable": "googtrend_mosq_bites"
         },
         {
          "Date": "2008-03",
          "Month": 3,
          "Year": 2008,
          "value": 0,
          "variable": "googtrend_mosq_bites"
         },
         {
          "Date": "2008-04",
          "Month": 4,
          "Year": 2008,
          "value": 4,
          "variable": "googtrend_mosq_bites"
         },
         {
          "Date": "2008-05",
          "Month": 5,
          "Year": 2008,
          "value": 3,
          "variable": "googtrend_mosq_bites"
         },
         {
          "Date": "2008-06",
          "Month": 6,
          "Year": 2008,
          "value": 17,
          "variable": "googtrend_mosq_bites"
         },
         {
          "Date": "2008-07",
          "Month": 7,
          "Year": 2008,
          "value": 19,
          "variable": "googtrend_mosq_bites"
         },
         {
          "Date": "2008-08",
          "Month": 8,
          "Year": 2008,
          "value": 16,
          "variable": "googtrend_mosq_bites"
         },
         {
          "Date": "2008-09",
          "Month": 9,
          "Year": 2008,
          "value": 13,
          "variable": "googtrend_mosq_bites"
         },
         {
          "Date": "2008-10",
          "Month": 10,
          "Year": 2008,
          "value": 2,
          "variable": "googtrend_mosq_bites"
         },
         {
          "Date": "2008-11",
          "Month": 11,
          "Year": 2008,
          "value": 0,
          "variable": "googtrend_mosq_bites"
         },
         {
          "Date": "2008-12",
          "Month": 12,
          "Year": 2008,
          "value": 0,
          "variable": "googtrend_mosq_bites"
         },
         {
          "Date": "2009-01",
          "Month": 1,
          "Year": 2009,
          "value": 2,
          "variable": "googtrend_mosq_bites"
         },
         {
          "Date": "2009-02",
          "Month": 2,
          "Year": 2009,
          "value": 2,
          "variable": "googtrend_mosq_bites"
         },
         {
          "Date": "2009-03",
          "Month": 3,
          "Year": 2009,
          "value": 2,
          "variable": "googtrend_mosq_bites"
         },
         {
          "Date": "2009-04",
          "Month": 4,
          "Year": 2009,
          "value": 0,
          "variable": "googtrend_mosq_bites"
         },
         {
          "Date": "2009-05",
          "Month": 5,
          "Year": 2009,
          "value": 7,
          "variable": "googtrend_mosq_bites"
         },
         {
          "Date": "2009-06",
          "Month": 6,
          "Year": 2009,
          "value": 11,
          "variable": "googtrend_mosq_bites"
         },
         {
          "Date": "2009-07",
          "Month": 7,
          "Year": 2009,
          "value": 29,
          "variable": "googtrend_mosq_bites"
         },
         {
          "Date": "2009-08",
          "Month": 8,
          "Year": 2009,
          "value": 21,
          "variable": "googtrend_mosq_bites"
         },
         {
          "Date": "2009-09",
          "Month": 9,
          "Year": 2009,
          "value": 10,
          "variable": "googtrend_mosq_bites"
         },
         {
          "Date": "2009-10",
          "Month": 10,
          "Year": 2009,
          "value": 2,
          "variable": "googtrend_mosq_bites"
         },
         {
          "Date": "2009-11",
          "Month": 11,
          "Year": 2009,
          "value": 2,
          "variable": "googtrend_mosq_bites"
         },
         {
          "Date": "2009-12",
          "Month": 12,
          "Year": 2009,
          "value": 2,
          "variable": "googtrend_mosq_bites"
         },
         {
          "Date": "2010-01",
          "Month": 1,
          "Year": 2010,
          "value": 1,
          "variable": "googtrend_mosq_bites"
         },
         {
          "Date": "2010-02",
          "Month": 2,
          "Year": 2010,
          "value": 3,
          "variable": "googtrend_mosq_bites"
         },
         {
          "Date": "2010-03",
          "Month": 3,
          "Year": 2010,
          "value": 1,
          "variable": "googtrend_mosq_bites"
         },
         {
          "Date": "2010-04",
          "Month": 4,
          "Year": 2010,
          "value": 1,
          "variable": "googtrend_mosq_bites"
         },
         {
          "Date": "2010-05",
          "Month": 5,
          "Year": 2010,
          "value": 7,
          "variable": "googtrend_mosq_bites"
         },
         {
          "Date": "2010-06",
          "Month": 6,
          "Year": 2010,
          "value": 33,
          "variable": "googtrend_mosq_bites"
         },
         {
          "Date": "2010-07",
          "Month": 7,
          "Year": 2010,
          "value": 46,
          "variable": "googtrend_mosq_bites"
         },
         {
          "Date": "2010-08",
          "Month": 8,
          "Year": 2010,
          "value": 81,
          "variable": "googtrend_mosq_bites"
         },
         {
          "Date": "2010-09",
          "Month": 9,
          "Year": 2010,
          "value": 15,
          "variable": "googtrend_mosq_bites"
         },
         {
          "Date": "2010-10",
          "Month": 10,
          "Year": 2010,
          "value": 9,
          "variable": "googtrend_mosq_bites"
         },
         {
          "Date": "2010-11",
          "Month": 11,
          "Year": 2010,
          "value": 3,
          "variable": "googtrend_mosq_bites"
         },
         {
          "Date": "2010-12",
          "Month": 12,
          "Year": 2010,
          "value": 6,
          "variable": "googtrend_mosq_bites"
         },
         {
          "Date": "2011-01",
          "Month": 1,
          "Year": 2011,
          "value": 2,
          "variable": "googtrend_mosq_bites"
         },
         {
          "Date": "2011-02",
          "Month": 2,
          "Year": 2011,
          "value": 2,
          "variable": "googtrend_mosq_bites"
         },
         {
          "Date": "2011-03",
          "Month": 3,
          "Year": 2011,
          "value": 1,
          "variable": "googtrend_mosq_bites"
         },
         {
          "Date": "2011-04",
          "Month": 4,
          "Year": 2011,
          "value": 3,
          "variable": "googtrend_mosq_bites"
         },
         {
          "Date": "2011-05",
          "Month": 5,
          "Year": 2011,
          "value": 8,
          "variable": "googtrend_mosq_bites"
         },
         {
          "Date": "2011-06",
          "Month": 6,
          "Year": 2011,
          "value": 42,
          "variable": "googtrend_mosq_bites"
         },
         {
          "Date": "2011-07",
          "Month": 7,
          "Year": 2011,
          "value": 42,
          "variable": "googtrend_mosq_bites"
         },
         {
          "Date": "2011-08",
          "Month": 8,
          "Year": 2011,
          "value": 54,
          "variable": "googtrend_mosq_bites"
         },
         {
          "Date": "2011-09",
          "Month": 9,
          "Year": 2011,
          "value": 26,
          "variable": "googtrend_mosq_bites"
         },
         {
          "Date": "2011-10",
          "Month": 10,
          "Year": 2011,
          "value": 9,
          "variable": "googtrend_mosq_bites"
         },
         {
          "Date": "2011-11",
          "Month": 11,
          "Year": 2011,
          "value": 3,
          "variable": "googtrend_mosq_bites"
         },
         {
          "Date": "2011-12",
          "Month": 12,
          "Year": 2011,
          "value": 2,
          "variable": "googtrend_mosq_bites"
         },
         {
          "Date": "2012-01",
          "Month": 1,
          "Year": 2012,
          "value": 2,
          "variable": "googtrend_mosq_bites"
         },
         {
          "Date": "2012-02",
          "Month": 2,
          "Year": 2012,
          "value": 1,
          "variable": "googtrend_mosq_bites"
         },
         {
          "Date": "2012-03",
          "Month": 3,
          "Year": 2012,
          "value": 3,
          "variable": "googtrend_mosq_bites"
         },
         {
          "Date": "2012-04",
          "Month": 4,
          "Year": 2012,
          "value": 2,
          "variable": "googtrend_mosq_bites"
         },
         {
          "Date": "2012-05",
          "Month": 5,
          "Year": 2012,
          "value": 11,
          "variable": "googtrend_mosq_bites"
         },
         {
          "Date": "2012-06",
          "Month": 6,
          "Year": 2012,
          "value": 29,
          "variable": "googtrend_mosq_bites"
         },
         {
          "Date": "2012-07",
          "Month": 7,
          "Year": 2012,
          "value": 33,
          "variable": "googtrend_mosq_bites"
         },
         {
          "Date": "2012-08",
          "Month": 8,
          "Year": 2012,
          "value": 30,
          "variable": "googtrend_mosq_bites"
         },
         {
          "Date": "2012-09",
          "Month": 9,
          "Year": 2012,
          "value": 18,
          "variable": "googtrend_mosq_bites"
         },
         {
          "Date": "2012-10",
          "Month": 10,
          "Year": 2012,
          "value": 4,
          "variable": "googtrend_mosq_bites"
         },
         {
          "Date": "2012-11",
          "Month": 11,
          "Year": 2012,
          "value": 2,
          "variable": "googtrend_mosq_bites"
         },
         {
          "Date": "2012-12",
          "Month": 12,
          "Year": 2012,
          "value": 2,
          "variable": "googtrend_mosq_bites"
         },
         {
          "Date": "2013-01",
          "Month": 1,
          "Year": 2013,
          "value": 1,
          "variable": "googtrend_mosq_bites"
         },
         {
          "Date": "2013-02",
          "Month": 2,
          "Year": 2013,
          "value": 2,
          "variable": "googtrend_mosq_bites"
         },
         {
          "Date": "2013-03",
          "Month": 3,
          "Year": 2013,
          "value": 3,
          "variable": "googtrend_mosq_bites"
         },
         {
          "Date": "2013-04",
          "Month": 4,
          "Year": 2013,
          "value": 2,
          "variable": "googtrend_mosq_bites"
         },
         {
          "Date": "2013-05",
          "Month": 5,
          "Year": 2013,
          "value": 14,
          "variable": "googtrend_mosq_bites"
         },
         {
          "Date": "2013-06",
          "Month": 6,
          "Year": 2013,
          "value": 37,
          "variable": "googtrend_mosq_bites"
         },
         {
          "Date": "2013-07",
          "Month": 7,
          "Year": 2013,
          "value": 76,
          "variable": "googtrend_mosq_bites"
         },
         {
          "Date": "2013-08",
          "Month": 8,
          "Year": 2013,
          "value": 52,
          "variable": "googtrend_mosq_bites"
         },
         {
          "Date": "2013-09",
          "Month": 9,
          "Year": 2013,
          "value": 24,
          "variable": "googtrend_mosq_bites"
         },
         {
          "Date": "2013-10",
          "Month": 10,
          "Year": 2013,
          "value": 5,
          "variable": "googtrend_mosq_bites"
         },
         {
          "Date": "2013-11",
          "Month": 11,
          "Year": 2013,
          "value": 4,
          "variable": "googtrend_mosq_bites"
         },
         {
          "Date": "2013-12",
          "Month": 12,
          "Year": 2013,
          "value": 2,
          "variable": "googtrend_mosq_bites"
         },
         {
          "Date": "2014-01",
          "Month": 1,
          "Year": 2014,
          "value": 2,
          "variable": "googtrend_mosq_bites"
         },
         {
          "Date": "2014-02",
          "Month": 2,
          "Year": 2014,
          "value": 2,
          "variable": "googtrend_mosq_bites"
         },
         {
          "Date": "2014-03",
          "Month": 3,
          "Year": 2014,
          "value": 2,
          "variable": "googtrend_mosq_bites"
         },
         {
          "Date": "2014-04",
          "Month": 4,
          "Year": 2014,
          "value": 2,
          "variable": "googtrend_mosq_bites"
         },
         {
          "Date": "2014-05",
          "Month": 5,
          "Year": 2014,
          "value": 15,
          "variable": "googtrend_mosq_bites"
         },
         {
          "Date": "2014-06",
          "Month": 6,
          "Year": 2014,
          "value": 57,
          "variable": "googtrend_mosq_bites"
         },
         {
          "Date": "2014-07",
          "Month": 7,
          "Year": 2014,
          "value": 82,
          "variable": "googtrend_mosq_bites"
         },
         {
          "Date": "2014-08",
          "Month": 8,
          "Year": 2014,
          "value": 53,
          "variable": "googtrend_mosq_bites"
         },
         {
          "Date": "2014-09",
          "Month": 9,
          "Year": 2014,
          "value": 43,
          "variable": "googtrend_mosq_bites"
         },
         {
          "Date": "2014-10",
          "Month": 10,
          "Year": 2014,
          "value": 8,
          "variable": "googtrend_mosq_bites"
         },
         {
          "Date": "2014-11",
          "Month": 11,
          "Year": 2014,
          "value": 4,
          "variable": "googtrend_mosq_bites"
         },
         {
          "Date": "2014-12",
          "Month": 12,
          "Year": 2014,
          "value": 3,
          "variable": "googtrend_mosq_bites"
         },
         {
          "Date": "2015-01",
          "Month": 1,
          "Year": 2015,
          "value": 2,
          "variable": "googtrend_mosq_bites"
         },
         {
          "Date": "2015-02",
          "Month": 2,
          "Year": 2015,
          "value": 2,
          "variable": "googtrend_mosq_bites"
         },
         {
          "Date": "2015-03",
          "Month": 3,
          "Year": 2015,
          "value": 4,
          "variable": "googtrend_mosq_bites"
         },
         {
          "Date": "2015-04",
          "Month": 4,
          "Year": 2015,
          "value": 6,
          "variable": "googtrend_mosq_bites"
         },
         {
          "Date": "2015-05",
          "Month": 5,
          "Year": 2015,
          "value": 18,
          "variable": "googtrend_mosq_bites"
         },
         {
          "Date": "2015-06",
          "Month": 6,
          "Year": 2015,
          "value": 55,
          "variable": "googtrend_mosq_bites"
         },
         {
          "Date": "2015-07",
          "Month": 7,
          "Year": 2015,
          "value": 100,
          "variable": "googtrend_mosq_bites"
         },
         {
          "Date": "2015-08",
          "Month": 8,
          "Year": 2015,
          "value": 43,
          "variable": "googtrend_mosq_bites"
         },
         {
          "Date": "2015-09",
          "Month": 9,
          "Year": 2015,
          "value": 23,
          "variable": "googtrend_mosq_bites"
         },
         {
          "Date": "2015-10",
          "Month": 10,
          "Year": 2015,
          "value": 5,
          "variable": "googtrend_mosq_bites"
         },
         {
          "Date": "2015-11",
          "Month": 11,
          "Year": 2015,
          "value": 4,
          "variable": "googtrend_mosq_bites"
         },
         {
          "Date": "2015-12",
          "Month": 12,
          "Year": 2015,
          "value": 3,
          "variable": "googtrend_mosq_bites"
         },
         {
          "Date": "2016-01",
          "Month": 1,
          "Year": 2016,
          "value": 5,
          "variable": "googtrend_mosq_bites"
         },
         {
          "Date": "2016-02",
          "Month": 2,
          "Year": 2016,
          "value": 3,
          "variable": "googtrend_mosq_bites"
         },
         {
          "Date": "2016-03",
          "Month": 3,
          "Year": 2016,
          "value": 4,
          "variable": "googtrend_mosq_bites"
         },
         {
          "Date": "2016-04",
          "Month": 4,
          "Year": 2016,
          "value": 4,
          "variable": "googtrend_mosq_bites"
         },
         {
          "Date": "2016-05",
          "Month": 5,
          "Year": 2016,
          "value": 14,
          "variable": "googtrend_mosq_bites"
         },
         {
          "Date": "2016-06",
          "Month": 6,
          "Year": 2016,
          "value": 46,
          "variable": "googtrend_mosq_bites"
         },
         {
          "Date": "2016-07",
          "Month": 7,
          "Year": 2016,
          "value": 40,
          "variable": "googtrend_mosq_bites"
         },
         {
          "Date": "2016-08",
          "Month": 8,
          "Year": 2016,
          "value": 60,
          "variable": "googtrend_mosq_bites"
         },
         {
          "Date": "2016-09",
          "Month": 9,
          "Year": 2016,
          "value": 43,
          "variable": "googtrend_mosq_bites"
         },
         {
          "Date": "2016-10",
          "Month": 10,
          "Year": 2016,
          "value": 12,
          "variable": "googtrend_mosq_bites"
         },
         {
          "Date": "2016-11",
          "Month": 11,
          "Year": 2016,
          "value": 4,
          "variable": "googtrend_mosq_bites"
         },
         {
          "Date": "2016-12",
          "Month": 12,
          "Year": 2016,
          "value": 3,
          "variable": "googtrend_mosq_bites"
         },
         {
          "Date": "2017-01",
          "Month": 1,
          "Year": 2017,
          "value": 3,
          "variable": "googtrend_mosq_bites"
         },
         {
          "Date": "2017-02",
          "Month": 2,
          "Year": 2017,
          "value": 3,
          "variable": "googtrend_mosq_bites"
         },
         {
          "Date": "2017-03",
          "Month": 3,
          "Year": 2017,
          "value": 4,
          "variable": "googtrend_mosq_bites"
         },
         {
          "Date": "2017-04",
          "Month": 4,
          "Year": 2017,
          "value": 6,
          "variable": "googtrend_mosq_bites"
         },
         {
          "Date": "2017-05",
          "Month": 5,
          "Year": 2017,
          "value": 14,
          "variable": "googtrend_mosq_bites"
         },
         {
          "Date": "2017-06",
          "Month": 6,
          "Year": 2017,
          "value": 40,
          "variable": "googtrend_mosq_bites"
         },
         {
          "Date": "2017-07",
          "Month": 7,
          "Year": 2017,
          "value": 61,
          "variable": "googtrend_mosq_bites"
         },
         {
          "Date": "2017-08",
          "Month": 8,
          "Year": 2017,
          "value": 49,
          "variable": "googtrend_mosq_bites"
         },
         {
          "Date": "2017-09",
          "Month": 9,
          "Year": 2017,
          "value": 20,
          "variable": "googtrend_mosq_bites"
         },
         {
          "Date": "2017-10",
          "Month": 10,
          "Year": 2017,
          "value": 8,
          "variable": "googtrend_mosq_bites"
         },
         {
          "Date": "2017-11",
          "Month": 11,
          "Year": 2017,
          "value": 4,
          "variable": "googtrend_mosq_bites"
         },
         {
          "Date": "2017-12",
          "Month": 12,
          "Year": 2017,
          "value": 2,
          "variable": "googtrend_mosq_bites"
         },
         {
          "Date": "2018-01",
          "Month": 1,
          "Year": 2018,
          "value": 3,
          "variable": "googtrend_mosq_bites"
         },
         {
          "Date": "2018-02",
          "Month": 2,
          "Year": 2018,
          "value": 3,
          "variable": "googtrend_mosq_bites"
         },
         {
          "Date": "2018-03",
          "Month": 3,
          "Year": 2018,
          "value": 1,
          "variable": "googtrend_mosq_bites"
         },
         {
          "Date": "2018-04",
          "Month": 4,
          "Year": 2018,
          "value": 3,
          "variable": "googtrend_mosq_bites"
         },
         {
          "Date": "2018-05",
          "Month": 5,
          "Year": 2018,
          "value": 27,
          "variable": "googtrend_mosq_bites"
         },
         {
          "Date": "2018-06",
          "Month": 6,
          "Year": 2018,
          "value": 56,
          "variable": "googtrend_mosq_bites"
         },
         {
          "Date": "2018-07",
          "Month": 7,
          "Year": 2018,
          "value": 100,
          "variable": "googtrend_mosq_bites"
         },
         {
          "Date": "2018-08",
          "Month": 8,
          "Year": 2018,
          "value": 46,
          "variable": "googtrend_mosq_bites"
         },
         {
          "Date": "2018-09",
          "Month": 9,
          "Year": 2018,
          "value": 66,
          "variable": "googtrend_mosq_bites"
         },
         {
          "Date": "2018-10",
          "Month": 10,
          "Year": 2018,
          "value": 9,
          "variable": "googtrend_mosq_bites"
         },
         {
          "Date": "2018-11",
          "Month": 11,
          "Year": 2018,
          "value": 3,
          "variable": "googtrend_mosq_bites"
         },
         {
          "Date": "2018-12",
          "Month": 12,
          "Year": 2018,
          "value": 3,
          "variable": "googtrend_mosq_bites"
         },
         {
          "Date": "2019-01",
          "Month": 1,
          "Year": 2019,
          "value": 3,
          "variable": "googtrend_mosq_bites"
         }
        ]
       },
       "encoding": {
        "color": {
         "field": "variable",
         "type": "nominal"
        },
        "x": {
         "field": "Year",
         "type": "nominal"
        },
        "y": {
         "aggregate": "average",
         "field": "value",
         "type": "quantitative"
        }
       },
       "mark": "line"
      },
      "image/png": "[encoded data removed]",
      "text/plain": [
       "<VegaLite 2 object>\n",
       "\n",
       "If you see this message, it means the renderer has not been properly enabled\n",
       "for the frontend that you are using. For more information, see\n",
       "https://altair-viz.github.io/user_guide/troubleshooting.html\n"
      ]
     },
     "execution_count": 167,
     "metadata": {},
     "output_type": "execute_result"
    }
   ],
   "source": [
    "alt.Chart(df).mark_line().encode(x=\"Year:N\",y=\"average(value)\",color=\"variable\")"
   ]
  },
  {
   "cell_type": "code",
   "execution_count": 168,
   "metadata": {},
   "outputs": [
    {
     "data": {
      "application/vnd.vegalite.v2+json": {
       "$schema": "https://vega.github.io/schema/vega-lite/v2.6.0.json",
       "config": {
        "view": {
         "height": 300,
         "width": 400
        }
       },
       "data": {
        "name": "data-20b159461d549ff549addaab83804422"
       },
       "datasets": {
        "data-20b159461d549ff549addaab83804422": [
         {
          "Date": "2004-01",
          "Month": 1,
          "Year": 2004,
          "value": 0,
          "variable": "googtrend_sym_wnv"
         },
         {
          "Date": "2004-02",
          "Month": 2,
          "Year": 2004,
          "value": 36,
          "variable": "googtrend_sym_wnv"
         },
         {
          "Date": "2004-03",
          "Month": 3,
          "Year": 2004,
          "value": 0,
          "variable": "googtrend_sym_wnv"
         },
         {
          "Date": "2004-04",
          "Month": 4,
          "Year": 2004,
          "value": 0,
          "variable": "googtrend_sym_wnv"
         },
         {
          "Date": "2004-05",
          "Month": 5,
          "Year": 2004,
          "value": 0,
          "variable": "googtrend_sym_wnv"
         },
         {
          "Date": "2004-06",
          "Month": 6,
          "Year": 2004,
          "value": 96,
          "variable": "googtrend_sym_wnv"
         },
         {
          "Date": "2004-07",
          "Month": 7,
          "Year": 2004,
          "value": 32,
          "variable": "googtrend_sym_wnv"
         },
         {
          "Date": "2004-08",
          "Month": 8,
          "Year": 2004,
          "value": 30,
          "variable": "googtrend_sym_wnv"
         },
         {
          "Date": "2004-09",
          "Month": 9,
          "Year": 2004,
          "value": 57,
          "variable": "googtrend_sym_wnv"
         },
         {
          "Date": "2004-10",
          "Month": 10,
          "Year": 2004,
          "value": 0,
          "variable": "googtrend_sym_wnv"
         },
         {
          "Date": "2004-11",
          "Month": 11,
          "Year": 2004,
          "value": 0,
          "variable": "googtrend_sym_wnv"
         },
         {
          "Date": "2004-12",
          "Month": 12,
          "Year": 2004,
          "value": 0,
          "variable": "googtrend_sym_wnv"
         },
         {
          "Date": "2005-01",
          "Month": 1,
          "Year": 2005,
          "value": 0,
          "variable": "googtrend_sym_wnv"
         },
         {
          "Date": "2005-02",
          "Month": 2,
          "Year": 2005,
          "value": 0,
          "variable": "googtrend_sym_wnv"
         },
         {
          "Date": "2005-03",
          "Month": 3,
          "Year": 2005,
          "value": 0,
          "variable": "googtrend_sym_wnv"
         },
         {
          "Date": "2005-04",
          "Month": 4,
          "Year": 2005,
          "value": 0,
          "variable": "googtrend_sym_wnv"
         },
         {
          "Date": "2005-05",
          "Month": 5,
          "Year": 2005,
          "value": 0,
          "variable": "googtrend_sym_wnv"
         },
         {
          "Date": "2005-06",
          "Month": 6,
          "Year": 2005,
          "value": 0,
          "variable": "googtrend_sym_wnv"
         },
         {
          "Date": "2005-07",
          "Month": 7,
          "Year": 2005,
          "value": 20,
          "variable": "googtrend_sym_wnv"
         },
         {
          "Date": "2005-08",
          "Month": 8,
          "Year": 2005,
          "value": 48,
          "variable": "googtrend_sym_wnv"
         },
         {
          "Date": "2005-09",
          "Month": 9,
          "Year": 2005,
          "value": 54,
          "variable": "googtrend_sym_wnv"
         },
         {
          "Date": "2005-10",
          "Month": 10,
          "Year": 2005,
          "value": 17,
          "variable": "googtrend_sym_wnv"
         },
         {
          "Date": "2005-11",
          "Month": 11,
          "Year": 2005,
          "value": 0,
          "variable": "googtrend_sym_wnv"
         },
         {
          "Date": "2005-12",
          "Month": 12,
          "Year": 2005,
          "value": 0,
          "variable": "googtrend_sym_wnv"
         },
         {
          "Date": "2006-01",
          "Month": 1,
          "Year": 2006,
          "value": 0,
          "variable": "googtrend_sym_wnv"
         },
         {
          "Date": "2006-02",
          "Month": 2,
          "Year": 2006,
          "value": 0,
          "variable": "googtrend_sym_wnv"
         },
         {
          "Date": "2006-03",
          "Month": 3,
          "Year": 2006,
          "value": 0,
          "variable": "googtrend_sym_wnv"
         },
         {
          "Date": "2006-04",
          "Month": 4,
          "Year": 2006,
          "value": 0,
          "variable": "googtrend_sym_wnv"
         },
         {
          "Date": "2006-05",
          "Month": 5,
          "Year": 2006,
          "value": 13,
          "variable": "googtrend_sym_wnv"
         },
         {
          "Date": "2006-06",
          "Month": 6,
          "Year": 2006,
          "value": 14,
          "variable": "googtrend_sym_wnv"
         },
         {
          "Date": "2006-07",
          "Month": 7,
          "Year": 2006,
          "value": 13,
          "variable": "googtrend_sym_wnv"
         },
         {
          "Date": "2006-08",
          "Month": 8,
          "Year": 2006,
          "value": 36,
          "variable": "googtrend_sym_wnv"
         },
         {
          "Date": "2006-09",
          "Month": 9,
          "Year": 2006,
          "value": 37,
          "variable": "googtrend_sym_wnv"
         },
         {
          "Date": "2006-10",
          "Month": 10,
          "Year": 2006,
          "value": 11,
          "variable": "googtrend_sym_wnv"
         },
         {
          "Date": "2006-11",
          "Month": 11,
          "Year": 2006,
          "value": 0,
          "variable": "googtrend_sym_wnv"
         },
         {
          "Date": "2006-12",
          "Month": 12,
          "Year": 2006,
          "value": 0,
          "variable": "googtrend_sym_wnv"
         },
         {
          "Date": "2007-01",
          "Month": 1,
          "Year": 2007,
          "value": 10,
          "variable": "googtrend_sym_wnv"
         },
         {
          "Date": "2007-02",
          "Month": 2,
          "Year": 2007,
          "value": 0,
          "variable": "googtrend_sym_wnv"
         },
         {
          "Date": "2007-03",
          "Month": 3,
          "Year": 2007,
          "value": 0,
          "variable": "googtrend_sym_wnv"
         },
         {
          "Date": "2007-04",
          "Month": 4,
          "Year": 2007,
          "value": 0,
          "variable": "googtrend_sym_wnv"
         },
         {
          "Date": "2007-05",
          "Month": 5,
          "Year": 2007,
          "value": 0,
          "variable": "googtrend_sym_wnv"
         },
         {
          "Date": "2007-06",
          "Month": 6,
          "Year": 2007,
          "value": 0,
          "variable": "googtrend_sym_wnv"
         },
         {
          "Date": "2007-07",
          "Month": 7,
          "Year": 2007,
          "value": 9,
          "variable": "googtrend_sym_wnv"
         },
         {
          "Date": "2007-08",
          "Month": 8,
          "Year": 2007,
          "value": 61,
          "variable": "googtrend_sym_wnv"
         },
         {
          "Date": "2007-09",
          "Month": 9,
          "Year": 2007,
          "value": 37,
          "variable": "googtrend_sym_wnv"
         },
         {
          "Date": "2007-10",
          "Month": 10,
          "Year": 2007,
          "value": 20,
          "variable": "googtrend_sym_wnv"
         },
         {
          "Date": "2007-11",
          "Month": 11,
          "Year": 2007,
          "value": 8,
          "variable": "googtrend_sym_wnv"
         },
         {
          "Date": "2007-12",
          "Month": 12,
          "Year": 2007,
          "value": 0,
          "variable": "googtrend_sym_wnv"
         },
         {
          "Date": "2008-01",
          "Month": 1,
          "Year": 2008,
          "value": 0,
          "variable": "googtrend_sym_wnv"
         },
         {
          "Date": "2008-02",
          "Month": 2,
          "Year": 2008,
          "value": 0,
          "variable": "googtrend_sym_wnv"
         },
         {
          "Date": "2008-03",
          "Month": 3,
          "Year": 2008,
          "value": 0,
          "variable": "googtrend_sym_wnv"
         },
         {
          "Date": "2008-04",
          "Month": 4,
          "Year": 2008,
          "value": 0,
          "variable": "googtrend_sym_wnv"
         },
         {
          "Date": "2008-05",
          "Month": 5,
          "Year": 2008,
          "value": 0,
          "variable": "googtrend_sym_wnv"
         },
         {
          "Date": "2008-06",
          "Month": 6,
          "Year": 2008,
          "value": 25,
          "variable": "googtrend_sym_wnv"
         },
         {
          "Date": "2008-07",
          "Month": 7,
          "Year": 2008,
          "value": 8,
          "variable": "googtrend_sym_wnv"
         },
         {
          "Date": "2008-08",
          "Month": 8,
          "Year": 2008,
          "value": 8,
          "variable": "googtrend_sym_wnv"
         },
         {
          "Date": "2008-09",
          "Month": 9,
          "Year": 2008,
          "value": 15,
          "variable": "googtrend_sym_wnv"
         },
         {
          "Date": "2008-10",
          "Month": 10,
          "Year": 2008,
          "value": 0,
          "variable": "googtrend_sym_wnv"
         },
         {
          "Date": "2008-11",
          "Month": 11,
          "Year": 2008,
          "value": 0,
          "variable": "googtrend_sym_wnv"
         },
         {
          "Date": "2008-12",
          "Month": 12,
          "Year": 2008,
          "value": 0,
          "variable": "googtrend_sym_wnv"
         },
         {
          "Date": "2009-01",
          "Month": 1,
          "Year": 2009,
          "value": 0,
          "variable": "googtrend_sym_wnv"
         },
         {
          "Date": "2009-02",
          "Month": 2,
          "Year": 2009,
          "value": 0,
          "variable": "googtrend_sym_wnv"
         },
         {
          "Date": "2009-03",
          "Month": 3,
          "Year": 2009,
          "value": 0,
          "variable": "googtrend_sym_wnv"
         },
         {
          "Date": "2009-04",
          "Month": 4,
          "Year": 2009,
          "value": 0,
          "variable": "googtrend_sym_wnv"
         },
         {
          "Date": "2009-05",
          "Month": 5,
          "Year": 2009,
          "value": 0,
          "variable": "googtrend_sym_wnv"
         },
         {
          "Date": "2009-06",
          "Month": 6,
          "Year": 2009,
          "value": 15,
          "variable": "googtrend_sym_wnv"
         },
         {
          "Date": "2009-07",
          "Month": 7,
          "Year": 2009,
          "value": 7,
          "variable": "googtrend_sym_wnv"
         },
         {
          "Date": "2009-08",
          "Month": 8,
          "Year": 2009,
          "value": 7,
          "variable": "googtrend_sym_wnv"
         },
         {
          "Date": "2009-09",
          "Month": 9,
          "Year": 2009,
          "value": 11,
          "variable": "googtrend_sym_wnv"
         },
         {
          "Date": "2009-10",
          "Month": 10,
          "Year": 2009,
          "value": 0,
          "variable": "googtrend_sym_wnv"
         },
         {
          "Date": "2009-11",
          "Month": 11,
          "Year": 2009,
          "value": 0,
          "variable": "googtrend_sym_wnv"
         },
         {
          "Date": "2009-12",
          "Month": 12,
          "Year": 2009,
          "value": 0,
          "variable": "googtrend_sym_wnv"
         },
         {
          "Date": "2010-01",
          "Month": 1,
          "Year": 2010,
          "value": 6,
          "variable": "googtrend_sym_wnv"
         },
         {
          "Date": "2010-02",
          "Month": 2,
          "Year": 2010,
          "value": 0,
          "variable": "googtrend_sym_wnv"
         },
         {
          "Date": "2010-03",
          "Month": 3,
          "Year": 2010,
          "value": 0,
          "variable": "googtrend_sym_wnv"
         },
         {
          "Date": "2010-04",
          "Month": 4,
          "Year": 2010,
          "value": 0,
          "variable": "googtrend_sym_wnv"
         },
         {
          "Date": "2010-05",
          "Month": 5,
          "Year": 2010,
          "value": 0,
          "variable": "googtrend_sym_wnv"
         },
         {
          "Date": "2010-06",
          "Month": 6,
          "Year": 2010,
          "value": 17,
          "variable": "googtrend_sym_wnv"
         },
         {
          "Date": "2010-07",
          "Month": 7,
          "Year": 2010,
          "value": 13,
          "variable": "googtrend_sym_wnv"
         },
         {
          "Date": "2010-08",
          "Month": 8,
          "Year": 2010,
          "value": 25,
          "variable": "googtrend_sym_wnv"
         },
         {
          "Date": "2010-09",
          "Month": 9,
          "Year": 2010,
          "value": 19,
          "variable": "googtrend_sym_wnv"
         },
         {
          "Date": "2010-10",
          "Month": 10,
          "Year": 2010,
          "value": 0,
          "variable": "googtrend_sym_wnv"
         },
         {
          "Date": "2010-11",
          "Month": 11,
          "Year": 2010,
          "value": 0,
          "variable": "googtrend_sym_wnv"
         },
         {
          "Date": "2010-12",
          "Month": 12,
          "Year": 2010,
          "value": 6,
          "variable": "googtrend_sym_wnv"
         },
         {
          "Date": "2011-01",
          "Month": 1,
          "Year": 2011,
          "value": 3,
          "variable": "googtrend_sym_wnv"
         },
         {
          "Date": "2011-02",
          "Month": 2,
          "Year": 2011,
          "value": 6,
          "variable": "googtrend_sym_wnv"
         },
         {
          "Date": "2011-03",
          "Month": 3,
          "Year": 2011,
          "value": 0,
          "variable": "googtrend_sym_wnv"
         },
         {
          "Date": "2011-04",
          "Month": 4,
          "Year": 2011,
          "value": 3,
          "variable": "googtrend_sym_wnv"
         },
         {
          "Date": "2011-05",
          "Month": 5,
          "Year": 2011,
          "value": 7,
          "variable": "googtrend_sym_wnv"
         },
         {
          "Date": "2011-06",
          "Month": 6,
          "Year": 2011,
          "value": 16,
          "variable": "googtrend_sym_wnv"
         },
         {
          "Date": "2011-07",
          "Month": 7,
          "Year": 2011,
          "value": 18,
          "variable": "googtrend_sym_wnv"
         },
         {
          "Date": "2011-08",
          "Month": 8,
          "Year": 2011,
          "value": 25,
          "variable": "googtrend_sym_wnv"
         },
         {
          "Date": "2011-09",
          "Month": 9,
          "Year": 2011,
          "value": 6,
          "variable": "googtrend_sym_wnv"
         },
         {
          "Date": "2011-10",
          "Month": 10,
          "Year": 2011,
          "value": 2,
          "variable": "googtrend_sym_wnv"
         },
         {
          "Date": "2011-11",
          "Month": 11,
          "Year": 2011,
          "value": 0,
          "variable": "googtrend_sym_wnv"
         },
         {
          "Date": "2011-12",
          "Month": 12,
          "Year": 2011,
          "value": 0,
          "variable": "googtrend_sym_wnv"
         },
         {
          "Date": "2012-01",
          "Month": 1,
          "Year": 2012,
          "value": 0,
          "variable": "googtrend_sym_wnv"
         },
         {
          "Date": "2012-02",
          "Month": 2,
          "Year": 2012,
          "value": 0,
          "variable": "googtrend_sym_wnv"
         },
         {
          "Date": "2012-03",
          "Month": 3,
          "Year": 2012,
          "value": 2,
          "variable": "googtrend_sym_wnv"
         },
         {
          "Date": "2012-04",
          "Month": 4,
          "Year": 2012,
          "value": 0,
          "variable": "googtrend_sym_wnv"
         },
         {
          "Date": "2012-05",
          "Month": 5,
          "Year": 2012,
          "value": 6,
          "variable": "googtrend_sym_wnv"
         },
         {
          "Date": "2012-06",
          "Month": 6,
          "Year": 2012,
          "value": 6,
          "variable": "googtrend_sym_wnv"
         },
         {
          "Date": "2012-07",
          "Month": 7,
          "Year": 2012,
          "value": 15,
          "variable": "googtrend_sym_wnv"
         },
         {
          "Date": "2012-08",
          "Month": 8,
          "Year": 2012,
          "value": 100,
          "variable": "googtrend_sym_wnv"
         },
         {
          "Date": "2012-09",
          "Month": 9,
          "Year": 2012,
          "value": 85,
          "variable": "googtrend_sym_wnv"
         },
         {
          "Date": "2012-10",
          "Month": 10,
          "Year": 2012,
          "value": 22,
          "variable": "googtrend_sym_wnv"
         },
         {
          "Date": "2012-11",
          "Month": 11,
          "Year": 2012,
          "value": 8,
          "variable": "googtrend_sym_wnv"
         },
         {
          "Date": "2012-12",
          "Month": 12,
          "Year": 2012,
          "value": 2,
          "variable": "googtrend_sym_wnv"
         },
         {
          "Date": "2013-01",
          "Month": 1,
          "Year": 2013,
          "value": 2,
          "variable": "googtrend_sym_wnv"
         },
         {
          "Date": "2013-02",
          "Month": 2,
          "Year": 2013,
          "value": 0,
          "variable": "googtrend_sym_wnv"
         },
         {
          "Date": "2013-03",
          "Month": 3,
          "Year": 2013,
          "value": 2,
          "variable": "googtrend_sym_wnv"
         },
         {
          "Date": "2013-04",
          "Month": 4,
          "Year": 2013,
          "value": 0,
          "variable": "googtrend_sym_wnv"
         },
         {
          "Date": "2013-05",
          "Month": 5,
          "Year": 2013,
          "value": 5,
          "variable": "googtrend_sym_wnv"
         },
         {
          "Date": "2013-06",
          "Month": 6,
          "Year": 2013,
          "value": 8,
          "variable": "googtrend_sym_wnv"
         },
         {
          "Date": "2013-07",
          "Month": 7,
          "Year": 2013,
          "value": 24,
          "variable": "googtrend_sym_wnv"
         },
         {
          "Date": "2013-08",
          "Month": 8,
          "Year": 2013,
          "value": 6,
          "variable": "googtrend_sym_wnv"
         },
         {
          "Date": "2013-09",
          "Month": 9,
          "Year": 2013,
          "value": 10,
          "variable": "googtrend_sym_wnv"
         },
         {
          "Date": "2013-10",
          "Month": 10,
          "Year": 2013,
          "value": 2,
          "variable": "googtrend_sym_wnv"
         },
         {
          "Date": "2013-11",
          "Month": 11,
          "Year": 2013,
          "value": 2,
          "variable": "googtrend_sym_wnv"
         },
         {
          "Date": "2013-12",
          "Month": 12,
          "Year": 2013,
          "value": 2,
          "variable": "googtrend_sym_wnv"
         },
         {
          "Date": "2014-01",
          "Month": 1,
          "Year": 2014,
          "value": 0,
          "variable": "googtrend_sym_wnv"
         },
         {
          "Date": "2014-02",
          "Month": 2,
          "Year": 2014,
          "value": 0,
          "variable": "googtrend_sym_wnv"
         },
         {
          "Date": "2014-03",
          "Month": 3,
          "Year": 2014,
          "value": 2,
          "variable": "googtrend_sym_wnv"
         },
         {
          "Date": "2014-04",
          "Month": 4,
          "Year": 2014,
          "value": 0,
          "variable": "googtrend_sym_wnv"
         },
         {
          "Date": "2014-05",
          "Month": 5,
          "Year": 2014,
          "value": 2,
          "variable": "googtrend_sym_wnv"
         },
         {
          "Date": "2014-06",
          "Month": 6,
          "Year": 2014,
          "value": 18,
          "variable": "googtrend_sym_wnv"
         },
         {
          "Date": "2014-07",
          "Month": 7,
          "Year": 2014,
          "value": 33,
          "variable": "googtrend_sym_wnv"
         },
         {
          "Date": "2014-08",
          "Month": 8,
          "Year": 2014,
          "value": 23,
          "variable": "googtrend_sym_wnv"
         },
         {
          "Date": "2014-09",
          "Month": 9,
          "Year": 2014,
          "value": 22,
          "variable": "googtrend_sym_wnv"
         },
         {
          "Date": "2014-10",
          "Month": 10,
          "Year": 2014,
          "value": 5,
          "variable": "googtrend_sym_wnv"
         },
         {
          "Date": "2014-11",
          "Month": 11,
          "Year": 2014,
          "value": 2,
          "variable": "googtrend_sym_wnv"
         },
         {
          "Date": "2014-12",
          "Month": 12,
          "Year": 2014,
          "value": 0,
          "variable": "googtrend_sym_wnv"
         },
         {
          "Date": "2015-01",
          "Month": 1,
          "Year": 2015,
          "value": 5,
          "variable": "googtrend_sym_wnv"
         },
         {
          "Date": "2015-02",
          "Month": 2,
          "Year": 2015,
          "value": 0,
          "variable": "googtrend_sym_wnv"
         },
         {
          "Date": "2015-03",
          "Month": 3,
          "Year": 2015,
          "value": 2,
          "variable": "googtrend_sym_wnv"
         },
         {
          "Date": "2015-04",
          "Month": 4,
          "Year": 2015,
          "value": 0,
          "variable": "googtrend_sym_wnv"
         },
         {
          "Date": "2015-05",
          "Month": 5,
          "Year": 2015,
          "value": 2,
          "variable": "googtrend_sym_wnv"
         },
         {
          "Date": "2015-06",
          "Month": 6,
          "Year": 2015,
          "value": 10,
          "variable": "googtrend_sym_wnv"
         },
         {
          "Date": "2015-07",
          "Month": 7,
          "Year": 2015,
          "value": 18,
          "variable": "googtrend_sym_wnv"
         },
         {
          "Date": "2015-08",
          "Month": 8,
          "Year": 2015,
          "value": 14,
          "variable": "googtrend_sym_wnv"
         },
         {
          "Date": "2015-09",
          "Month": 9,
          "Year": 2015,
          "value": 9,
          "variable": "googtrend_sym_wnv"
         },
         {
          "Date": "2015-10",
          "Month": 10,
          "Year": 2015,
          "value": 3,
          "variable": "googtrend_sym_wnv"
         },
         {
          "Date": "2015-11",
          "Month": 11,
          "Year": 2015,
          "value": 2,
          "variable": "googtrend_sym_wnv"
         },
         {
          "Date": "2015-12",
          "Month": 12,
          "Year": 2015,
          "value": 0,
          "variable": "googtrend_sym_wnv"
         },
         {
          "Date": "2016-01",
          "Month": 1,
          "Year": 2016,
          "value": 0,
          "variable": "googtrend_sym_wnv"
         },
         {
          "Date": "2016-02",
          "Month": 2,
          "Year": 2016,
          "value": 2,
          "variable": "googtrend_sym_wnv"
         },
         {
          "Date": "2016-03",
          "Month": 3,
          "Year": 2016,
          "value": 0,
          "variable": "googtrend_sym_wnv"
         },
         {
          "Date": "2016-04",
          "Month": 4,
          "Year": 2016,
          "value": 3,
          "variable": "googtrend_sym_wnv"
         },
         {
          "Date": "2016-05",
          "Month": 5,
          "Year": 2016,
          "value": 1,
          "variable": "googtrend_sym_wnv"
         },
         {
          "Date": "2016-06",
          "Month": 6,
          "Year": 2016,
          "value": 3,
          "variable": "googtrend_sym_wnv"
         },
         {
          "Date": "2016-07",
          "Month": 7,
          "Year": 2016,
          "value": 5,
          "variable": "googtrend_sym_wnv"
         },
         {
          "Date": "2016-08",
          "Month": 8,
          "Year": 2016,
          "value": 5,
          "variable": "googtrend_sym_wnv"
         },
         {
          "Date": "2016-09",
          "Month": 9,
          "Year": 2016,
          "value": 6,
          "variable": "googtrend_sym_wnv"
         },
         {
          "Date": "2016-10",
          "Month": 10,
          "Year": 2016,
          "value": 1,
          "variable": "googtrend_sym_wnv"
         },
         {
          "Date": "2016-11",
          "Month": 11,
          "Year": 2016,
          "value": 1,
          "variable": "googtrend_sym_wnv"
         },
         {
          "Date": "2016-12",
          "Month": 12,
          "Year": 2016,
          "value": 1,
          "variable": "googtrend_sym_wnv"
         },
         {
          "Date": "2017-01",
          "Month": 1,
          "Year": 2017,
          "value": 0,
          "variable": "googtrend_sym_wnv"
         },
         {
          "Date": "2017-02",
          "Month": 2,
          "Year": 2017,
          "value": 0,
          "variable": "googtrend_sym_wnv"
         },
         {
          "Date": "2017-03",
          "Month": 3,
          "Year": 2017,
          "value": 1,
          "variable": "googtrend_sym_wnv"
         },
         {
          "Date": "2017-04",
          "Month": 4,
          "Year": 2017,
          "value": 0,
          "variable": "googtrend_sym_wnv"
         },
         {
          "Date": "2017-05",
          "Month": 5,
          "Year": 2017,
          "value": 2,
          "variable": "googtrend_sym_wnv"
         },
         {
          "Date": "2017-06",
          "Month": 6,
          "Year": 2017,
          "value": 2,
          "variable": "googtrend_sym_wnv"
         },
         {
          "Date": "2017-07",
          "Month": 7,
          "Year": 2017,
          "value": 16,
          "variable": "googtrend_sym_wnv"
         },
         {
          "Date": "2017-08",
          "Month": 8,
          "Year": 2017,
          "value": 9,
          "variable": "googtrend_sym_wnv"
         },
         {
          "Date": "2017-09",
          "Month": 9,
          "Year": 2017,
          "value": 3,
          "variable": "googtrend_sym_wnv"
         },
         {
          "Date": "2017-10",
          "Month": 10,
          "Year": 2017,
          "value": 2,
          "variable": "googtrend_sym_wnv"
         },
         {
          "Date": "2017-11",
          "Month": 11,
          "Year": 2017,
          "value": 0,
          "variable": "googtrend_sym_wnv"
         },
         {
          "Date": "2017-12",
          "Month": 12,
          "Year": 2017,
          "value": 0,
          "variable": "googtrend_sym_wnv"
         },
         {
          "Date": "2018-01",
          "Month": 1,
          "Year": 2018,
          "value": 0,
          "variable": "googtrend_sym_wnv"
         },
         {
          "Date": "2018-02",
          "Month": 2,
          "Year": 2018,
          "value": 0,
          "variable": "googtrend_sym_wnv"
         },
         {
          "Date": "2018-03",
          "Month": 3,
          "Year": 2018,
          "value": 0,
          "variable": "googtrend_sym_wnv"
         },
         {
          "Date": "2018-04",
          "Month": 4,
          "Year": 2018,
          "value": 2,
          "variable": "googtrend_sym_wnv"
         },
         {
          "Date": "2018-05",
          "Month": 5,
          "Year": 2018,
          "value": 4,
          "variable": "googtrend_sym_wnv"
         },
         {
          "Date": "2018-06",
          "Month": 6,
          "Year": 2018,
          "value": 8,
          "variable": "googtrend_sym_wnv"
         },
         {
          "Date": "2018-07",
          "Month": 7,
          "Year": 2018,
          "value": 11,
          "variable": "googtrend_sym_wnv"
         },
         {
          "Date": "2018-08",
          "Month": 8,
          "Year": 2018,
          "value": 10,
          "variable": "googtrend_sym_wnv"
         },
         {
          "Date": "2018-09",
          "Month": 9,
          "Year": 2018,
          "value": 7,
          "variable": "googtrend_sym_wnv"
         },
         {
          "Date": "2018-10",
          "Month": 10,
          "Year": 2018,
          "value": 5,
          "variable": "googtrend_sym_wnv"
         },
         {
          "Date": "2018-11",
          "Month": 11,
          "Year": 2018,
          "value": 0,
          "variable": "googtrend_sym_wnv"
         },
         {
          "Date": "2018-12",
          "Month": 12,
          "Year": 2018,
          "value": 2,
          "variable": "googtrend_sym_wnv"
         },
         {
          "Date": "2019-01",
          "Month": 1,
          "Year": 2019,
          "value": 0,
          "variable": "googtrend_sym_wnv"
         },
         {
          "Date": "2004-01",
          "Month": 1,
          "Year": 2004,
          "value": 0,
          "variable": "googtrend_deadbirds"
         },
         {
          "Date": "2004-02",
          "Month": 2,
          "Year": 2004,
          "value": 0,
          "variable": "googtrend_deadbirds"
         },
         {
          "Date": "2004-03",
          "Month": 3,
          "Year": 2004,
          "value": 5,
          "variable": "googtrend_deadbirds"
         },
         {
          "Date": "2004-04",
          "Month": 4,
          "Year": 2004,
          "value": 0,
          "variable": "googtrend_deadbirds"
         },
         {
          "Date": "2004-05",
          "Month": 5,
          "Year": 2004,
          "value": 0,
          "variable": "googtrend_deadbirds"
         },
         {
          "Date": "2004-06",
          "Month": 6,
          "Year": 2004,
          "value": 0,
          "variable": "googtrend_deadbirds"
         },
         {
          "Date": "2004-07",
          "Month": 7,
          "Year": 2004,
          "value": 4,
          "variable": "googtrend_deadbirds"
         },
         {
          "Date": "2004-08",
          "Month": 8,
          "Year": 2004,
          "value": 3,
          "variable": "googtrend_deadbirds"
         },
         {
          "Date": "2004-09",
          "Month": 9,
          "Year": 2004,
          "value": 0,
          "variable": "googtrend_deadbirds"
         },
         {
          "Date": "2004-10",
          "Month": 10,
          "Year": 2004,
          "value": 0,
          "variable": "googtrend_deadbirds"
         },
         {
          "Date": "2004-11",
          "Month": 11,
          "Year": 2004,
          "value": 0,
          "variable": "googtrend_deadbirds"
         },
         {
          "Date": "2004-12",
          "Month": 12,
          "Year": 2004,
          "value": 3,
          "variable": "googtrend_deadbirds"
         },
         {
          "Date": "2005-01",
          "Month": 1,
          "Year": 2005,
          "value": 0,
          "variable": "googtrend_deadbirds"
         },
         {
          "Date": "2005-02",
          "Month": 2,
          "Year": 2005,
          "value": 0,
          "variable": "googtrend_deadbirds"
         },
         {
          "Date": "2005-03",
          "Month": 3,
          "Year": 2005,
          "value": 0,
          "variable": "googtrend_deadbirds"
         },
         {
          "Date": "2005-04",
          "Month": 4,
          "Year": 2005,
          "value": 0,
          "variable": "googtrend_deadbirds"
         },
         {
          "Date": "2005-05",
          "Month": 5,
          "Year": 2005,
          "value": 2,
          "variable": "googtrend_deadbirds"
         },
         {
          "Date": "2005-06",
          "Month": 6,
          "Year": 2005,
          "value": 5,
          "variable": "googtrend_deadbirds"
         },
         {
          "Date": "2005-07",
          "Month": 7,
          "Year": 2005,
          "value": 2,
          "variable": "googtrend_deadbirds"
         },
         {
          "Date": "2005-08",
          "Month": 8,
          "Year": 2005,
          "value": 0,
          "variable": "googtrend_deadbirds"
         },
         {
          "Date": "2005-09",
          "Month": 9,
          "Year": 2005,
          "value": 2,
          "variable": "googtrend_deadbirds"
         },
         {
          "Date": "2005-10",
          "Month": 10,
          "Year": 2005,
          "value": 0,
          "variable": "googtrend_deadbirds"
         },
         {
          "Date": "2005-11",
          "Month": 11,
          "Year": 2005,
          "value": 2,
          "variable": "googtrend_deadbirds"
         },
         {
          "Date": "2005-12",
          "Month": 12,
          "Year": 2005,
          "value": 0,
          "variable": "googtrend_deadbirds"
         },
         {
          "Date": "2006-01",
          "Month": 1,
          "Year": 2006,
          "value": 0,
          "variable": "googtrend_deadbirds"
         },
         {
          "Date": "2006-02",
          "Month": 2,
          "Year": 2006,
          "value": 0,
          "variable": "googtrend_deadbirds"
         },
         {
          "Date": "2006-03",
          "Month": 3,
          "Year": 2006,
          "value": 2,
          "variable": "googtrend_deadbirds"
         },
         {
          "Date": "2006-04",
          "Month": 4,
          "Year": 2006,
          "value": 5,
          "variable": "googtrend_deadbirds"
         },
         {
          "Date": "2006-05",
          "Month": 5,
          "Year": 2006,
          "value": 0,
          "variable": "googtrend_deadbirds"
         },
         {
          "Date": "2006-06",
          "Month": 6,
          "Year": 2006,
          "value": 3,
          "variable": "googtrend_deadbirds"
         },
         {
          "Date": "2006-07",
          "Month": 7,
          "Year": 2006,
          "value": 0,
          "variable": "googtrend_deadbirds"
         },
         {
          "Date": "2006-08",
          "Month": 8,
          "Year": 2006,
          "value": 1,
          "variable": "googtrend_deadbirds"
         },
         {
          "Date": "2006-09",
          "Month": 9,
          "Year": 2006,
          "value": 1,
          "variable": "googtrend_deadbirds"
         },
         {
          "Date": "2006-10",
          "Month": 10,
          "Year": 2006,
          "value": 1,
          "variable": "googtrend_deadbirds"
         },
         {
          "Date": "2006-11",
          "Month": 11,
          "Year": 2006,
          "value": 0,
          "variable": "googtrend_deadbirds"
         },
         {
          "Date": "2006-12",
          "Month": 12,
          "Year": 2006,
          "value": 0,
          "variable": "googtrend_deadbirds"
         },
         {
          "Date": "2007-01",
          "Month": 1,
          "Year": 2007,
          "value": 7,
          "variable": "googtrend_deadbirds"
         },
         {
          "Date": "2007-02",
          "Month": 2,
          "Year": 2007,
          "value": 0,
          "variable": "googtrend_deadbirds"
         },
         {
          "Date": "2007-03",
          "Month": 3,
          "Year": 2007,
          "value": 0,
          "variable": "googtrend_deadbirds"
         },
         {
          "Date": "2007-04",
          "Month": 4,
          "Year": 2007,
          "value": 1,
          "variable": "googtrend_deadbirds"
         },
         {
          "Date": "2007-05",
          "Month": 5,
          "Year": 2007,
          "value": 2,
          "variable": "googtrend_deadbirds"
         },
         {
          "Date": "2007-06",
          "Month": 6,
          "Year": 2007,
          "value": 1,
          "variable": "googtrend_deadbirds"
         },
         {
          "Date": "2007-07",
          "Month": 7,
          "Year": 2007,
          "value": 1,
          "variable": "googtrend_deadbirds"
         },
         {
          "Date": "2007-08",
          "Month": 8,
          "Year": 2007,
          "value": 1,
          "variable": "googtrend_deadbirds"
         },
         {
          "Date": "2007-09",
          "Month": 9,
          "Year": 2007,
          "value": 1,
          "variable": "googtrend_deadbirds"
         },
         {
          "Date": "2007-10",
          "Month": 10,
          "Year": 2007,
          "value": 0,
          "variable": "googtrend_deadbirds"
         },
         {
          "Date": "2007-11",
          "Month": 11,
          "Year": 2007,
          "value": 0,
          "variable": "googtrend_deadbirds"
         },
         {
          "Date": "2007-12",
          "Month": 12,
          "Year": 2007,
          "value": 0,
          "variable": "googtrend_deadbirds"
         },
         {
          "Date": "2008-01",
          "Month": 1,
          "Year": 2008,
          "value": 1,
          "variable": "googtrend_deadbirds"
         },
         {
          "Date": "2008-02",
          "Month": 2,
          "Year": 2008,
          "value": 1,
          "variable": "googtrend_deadbirds"
         },
         {
          "Date": "2008-03",
          "Month": 3,
          "Year": 2008,
          "value": 1,
          "variable": "googtrend_deadbirds"
         },
         {
          "Date": "2008-04",
          "Month": 4,
          "Year": 2008,
          "value": 1,
          "variable": "googtrend_deadbirds"
         },
         {
          "Date": "2008-05",
          "Month": 5,
          "Year": 2008,
          "value": 1,
          "variable": "googtrend_deadbirds"
         },
         {
          "Date": "2008-06",
          "Month": 6,
          "Year": 2008,
          "value": 2,
          "variable": "googtrend_deadbirds"
         },
         {
          "Date": "2008-07",
          "Month": 7,
          "Year": 2008,
          "value": 1,
          "variable": "googtrend_deadbirds"
         },
         {
          "Date": "2008-08",
          "Month": 8,
          "Year": 2008,
          "value": 2,
          "variable": "googtrend_deadbirds"
         },
         {
          "Date": "2008-09",
          "Month": 9,
          "Year": 2008,
          "value": 2,
          "variable": "googtrend_deadbirds"
         },
         {
          "Date": "2008-10",
          "Month": 10,
          "Year": 2008,
          "value": 1,
          "variable": "googtrend_deadbirds"
         },
         {
          "Date": "2008-11",
          "Month": 11,
          "Year": 2008,
          "value": 1,
          "variable": "googtrend_deadbirds"
         },
         {
          "Date": "2008-12",
          "Month": 12,
          "Year": 2008,
          "value": 1,
          "variable": "googtrend_deadbirds"
         },
         {
          "Date": "2009-01",
          "Month": 1,
          "Year": 2009,
          "value": 1,
          "variable": "googtrend_deadbirds"
         },
         {
          "Date": "2009-02",
          "Month": 2,
          "Year": 2009,
          "value": 1,
          "variable": "googtrend_deadbirds"
         },
         {
          "Date": "2009-03",
          "Month": 3,
          "Year": 2009,
          "value": 1,
          "variable": "googtrend_deadbirds"
         },
         {
          "Date": "2009-04",
          "Month": 4,
          "Year": 2009,
          "value": 1,
          "variable": "googtrend_deadbirds"
         },
         {
          "Date": "2009-05",
          "Month": 5,
          "Year": 2009,
          "value": 1,
          "variable": "googtrend_deadbirds"
         },
         {
          "Date": "2009-06",
          "Month": 6,
          "Year": 2009,
          "value": 3,
          "variable": "googtrend_deadbirds"
         },
         {
          "Date": "2009-07",
          "Month": 7,
          "Year": 2009,
          "value": 1,
          "variable": "googtrend_deadbirds"
         },
         {
          "Date": "2009-08",
          "Month": 8,
          "Year": 2009,
          "value": 1,
          "variable": "googtrend_deadbirds"
         },
         {
          "Date": "2009-09",
          "Month": 9,
          "Year": 2009,
          "value": 1,
          "variable": "googtrend_deadbirds"
         },
         {
          "Date": "2009-10",
          "Month": 10,
          "Year": 2009,
          "value": 1,
          "variable": "googtrend_deadbirds"
         },
         {
          "Date": "2009-11",
          "Month": 11,
          "Year": 2009,
          "value": 1,
          "variable": "googtrend_deadbirds"
         },
         {
          "Date": "2009-12",
          "Month": 12,
          "Year": 2009,
          "value": 1,
          "variable": "googtrend_deadbirds"
         },
         {
          "Date": "2010-01",
          "Month": 1,
          "Year": 2010,
          "value": 1,
          "variable": "googtrend_deadbirds"
         },
         {
          "Date": "2010-02",
          "Month": 2,
          "Year": 2010,
          "value": 1,
          "variable": "googtrend_deadbirds"
         },
         {
          "Date": "2010-03",
          "Month": 3,
          "Year": 2010,
          "value": 1,
          "variable": "googtrend_deadbirds"
         },
         {
          "Date": "2010-04",
          "Month": 4,
          "Year": 2010,
          "value": 1,
          "variable": "googtrend_deadbirds"
         },
         {
          "Date": "2010-05",
          "Month": 5,
          "Year": 2010,
          "value": 1,
          "variable": "googtrend_deadbirds"
         },
         {
          "Date": "2010-06",
          "Month": 6,
          "Year": 2010,
          "value": 1,
          "variable": "googtrend_deadbirds"
         },
         {
          "Date": "2010-07",
          "Month": 7,
          "Year": 2010,
          "value": 1,
          "variable": "googtrend_deadbirds"
         },
         {
          "Date": "2010-08",
          "Month": 8,
          "Year": 2010,
          "value": 1,
          "variable": "googtrend_deadbirds"
         },
         {
          "Date": "2010-09",
          "Month": 9,
          "Year": 2010,
          "value": 2,
          "variable": "googtrend_deadbirds"
         },
         {
          "Date": "2010-10",
          "Month": 10,
          "Year": 2010,
          "value": 1,
          "variable": "googtrend_deadbirds"
         },
         {
          "Date": "2010-11",
          "Month": 11,
          "Year": 2010,
          "value": 1,
          "variable": "googtrend_deadbirds"
         },
         {
          "Date": "2010-12",
          "Month": 12,
          "Year": 2010,
          "value": 0,
          "variable": "googtrend_deadbirds"
         },
         {
          "Date": "2011-01",
          "Month": 1,
          "Year": 2011,
          "value": 100,
          "variable": "googtrend_deadbirds"
         },
         {
          "Date": "2011-02",
          "Month": 2,
          "Year": 2011,
          "value": 7,
          "variable": "googtrend_deadbirds"
         },
         {
          "Date": "2011-03",
          "Month": 3,
          "Year": 2011,
          "value": 3,
          "variable": "googtrend_deadbirds"
         },
         {
          "Date": "2011-04",
          "Month": 4,
          "Year": 2011,
          "value": 2,
          "variable": "googtrend_deadbirds"
         },
         {
          "Date": "2011-05",
          "Month": 5,
          "Year": 2011,
          "value": 2,
          "variable": "googtrend_deadbirds"
         },
         {
          "Date": "2011-06",
          "Month": 6,
          "Year": 2011,
          "value": 1,
          "variable": "googtrend_deadbirds"
         },
         {
          "Date": "2011-07",
          "Month": 7,
          "Year": 2011,
          "value": 1,
          "variable": "googtrend_deadbirds"
         },
         {
          "Date": "2011-08",
          "Month": 8,
          "Year": 2011,
          "value": 2,
          "variable": "googtrend_deadbirds"
         },
         {
          "Date": "2011-09",
          "Month": 9,
          "Year": 2011,
          "value": 1,
          "variable": "googtrend_deadbirds"
         },
         {
          "Date": "2011-10",
          "Month": 10,
          "Year": 2011,
          "value": 1,
          "variable": "googtrend_deadbirds"
         },
         {
          "Date": "2011-11",
          "Month": 11,
          "Year": 2011,
          "value": 1,
          "variable": "googtrend_deadbirds"
         },
         {
          "Date": "2011-12",
          "Month": 12,
          "Year": 2011,
          "value": 1,
          "variable": "googtrend_deadbirds"
         },
         {
          "Date": "2012-01",
          "Month": 1,
          "Year": 2012,
          "value": 2,
          "variable": "googtrend_deadbirds"
         },
         {
          "Date": "2012-02",
          "Month": 2,
          "Year": 2012,
          "value": 1,
          "variable": "googtrend_deadbirds"
         },
         {
          "Date": "2012-03",
          "Month": 3,
          "Year": 2012,
          "value": 1,
          "variable": "googtrend_deadbirds"
         },
         {
          "Date": "2012-04",
          "Month": 4,
          "Year": 2012,
          "value": 1,
          "variable": "googtrend_deadbirds"
         },
         {
          "Date": "2012-05",
          "Month": 5,
          "Year": 2012,
          "value": 2,
          "variable": "googtrend_deadbirds"
         },
         {
          "Date": "2012-06",
          "Month": 6,
          "Year": 2012,
          "value": 1,
          "variable": "googtrend_deadbirds"
         },
         {
          "Date": "2012-07",
          "Month": 7,
          "Year": 2012,
          "value": 1,
          "variable": "googtrend_deadbirds"
         },
         {
          "Date": "2012-08",
          "Month": 8,
          "Year": 2012,
          "value": 1,
          "variable": "googtrend_deadbirds"
         },
         {
          "Date": "2012-09",
          "Month": 9,
          "Year": 2012,
          "value": 1,
          "variable": "googtrend_deadbirds"
         },
         {
          "Date": "2012-10",
          "Month": 10,
          "Year": 2012,
          "value": 1,
          "variable": "googtrend_deadbirds"
         },
         {
          "Date": "2012-11",
          "Month": 11,
          "Year": 2012,
          "value": 0,
          "variable": "googtrend_deadbirds"
         },
         {
          "Date": "2012-12",
          "Month": 12,
          "Year": 2012,
          "value": 1,
          "variable": "googtrend_deadbirds"
         },
         {
          "Date": "2013-01",
          "Month": 1,
          "Year": 2013,
          "value": 0,
          "variable": "googtrend_deadbirds"
         },
         {
          "Date": "2013-02",
          "Month": 2,
          "Year": 2013,
          "value": 1,
          "variable": "googtrend_deadbirds"
         },
         {
          "Date": "2013-03",
          "Month": 3,
          "Year": 2013,
          "value": 1,
          "variable": "googtrend_deadbirds"
         },
         {
          "Date": "2013-04",
          "Month": 4,
          "Year": 2013,
          "value": 1,
          "variable": "googtrend_deadbirds"
         },
         {
          "Date": "2013-05",
          "Month": 5,
          "Year": 2013,
          "value": 1,
          "variable": "googtrend_deadbirds"
         },
         {
          "Date": "2013-06",
          "Month": 6,
          "Year": 2013,
          "value": 1,
          "variable": "googtrend_deadbirds"
         },
         {
          "Date": "2013-07",
          "Month": 7,
          "Year": 2013,
          "value": 1,
          "variable": "googtrend_deadbirds"
         },
         {
          "Date": "2013-08",
          "Month": 8,
          "Year": 2013,
          "value": 1,
          "variable": "googtrend_deadbirds"
         },
         {
          "Date": "2013-09",
          "Month": 9,
          "Year": 2013,
          "value": 1,
          "variable": "googtrend_deadbirds"
         },
         {
          "Date": "2013-10",
          "Month": 10,
          "Year": 2013,
          "value": 1,
          "variable": "googtrend_deadbirds"
         },
         {
          "Date": "2013-11",
          "Month": 11,
          "Year": 2013,
          "value": 0,
          "variable": "googtrend_deadbirds"
         },
         {
          "Date": "2013-12",
          "Month": 12,
          "Year": 2013,
          "value": 1,
          "variable": "googtrend_deadbirds"
         },
         {
          "Date": "2014-01",
          "Month": 1,
          "Year": 2014,
          "value": 1,
          "variable": "googtrend_deadbirds"
         },
         {
          "Date": "2014-02",
          "Month": 2,
          "Year": 2014,
          "value": 1,
          "variable": "googtrend_deadbirds"
         },
         {
          "Date": "2014-03",
          "Month": 3,
          "Year": 2014,
          "value": 0,
          "variable": "googtrend_deadbirds"
         },
         {
          "Date": "2014-04",
          "Month": 4,
          "Year": 2014,
          "value": 1,
          "variable": "googtrend_deadbirds"
         },
         {
          "Date": "2014-05",
          "Month": 5,
          "Year": 2014,
          "value": 1,
          "variable": "googtrend_deadbirds"
         },
         {
          "Date": "2014-06",
          "Month": 6,
          "Year": 2014,
          "value": 1,
          "variable": "googtrend_deadbirds"
         },
         {
          "Date": "2014-07",
          "Month": 7,
          "Year": 2014,
          "value": 0,
          "variable": "googtrend_deadbirds"
         },
         {
          "Date": "2014-08",
          "Month": 8,
          "Year": 2014,
          "value": 1,
          "variable": "googtrend_deadbirds"
         },
         {
          "Date": "2014-09",
          "Month": 9,
          "Year": 2014,
          "value": 0,
          "variable": "googtrend_deadbirds"
         },
         {
          "Date": "2014-10",
          "Month": 10,
          "Year": 2014,
          "value": 1,
          "variable": "googtrend_deadbirds"
         },
         {
          "Date": "2014-11",
          "Month": 11,
          "Year": 2014,
          "value": 1,
          "variable": "googtrend_deadbirds"
         },
         {
          "Date": "2014-12",
          "Month": 12,
          "Year": 2014,
          "value": 0,
          "variable": "googtrend_deadbirds"
         },
         {
          "Date": "2015-01",
          "Month": 1,
          "Year": 2015,
          "value": 0,
          "variable": "googtrend_deadbirds"
         },
         {
          "Date": "2015-02",
          "Month": 2,
          "Year": 2015,
          "value": 1,
          "variable": "googtrend_deadbirds"
         },
         {
          "Date": "2015-03",
          "Month": 3,
          "Year": 2015,
          "value": 1,
          "variable": "googtrend_deadbirds"
         },
         {
          "Date": "2015-04",
          "Month": 4,
          "Year": 2015,
          "value": 1,
          "variable": "googtrend_deadbirds"
         },
         {
          "Date": "2015-05",
          "Month": 5,
          "Year": 2015,
          "value": 1,
          "variable": "googtrend_deadbirds"
         },
         {
          "Date": "2015-06",
          "Month": 6,
          "Year": 2015,
          "value": 0,
          "variable": "googtrend_deadbirds"
         },
         {
          "Date": "2015-07",
          "Month": 7,
          "Year": 2015,
          "value": 1,
          "variable": "googtrend_deadbirds"
         },
         {
          "Date": "2015-08",
          "Month": 8,
          "Year": 2015,
          "value": 2,
          "variable": "googtrend_deadbirds"
         },
         {
          "Date": "2015-09",
          "Month": 9,
          "Year": 2015,
          "value": 1,
          "variable": "googtrend_deadbirds"
         },
         {
          "Date": "2015-10",
          "Month": 10,
          "Year": 2015,
          "value": 0,
          "variable": "googtrend_deadbirds"
         },
         {
          "Date": "2015-11",
          "Month": 11,
          "Year": 2015,
          "value": 0,
          "variable": "googtrend_deadbirds"
         },
         {
          "Date": "2015-12",
          "Month": 12,
          "Year": 2015,
          "value": 0,
          "variable": "googtrend_deadbirds"
         },
         {
          "Date": "2016-01",
          "Month": 1,
          "Year": 2016,
          "value": 1,
          "variable": "googtrend_deadbirds"
         },
         {
          "Date": "2016-02",
          "Month": 2,
          "Year": 2016,
          "value": 0,
          "variable": "googtrend_deadbirds"
         },
         {
          "Date": "2016-03",
          "Month": 3,
          "Year": 2016,
          "value": 0,
          "variable": "googtrend_deadbirds"
         },
         {
          "Date": "2016-04",
          "Month": 4,
          "Year": 2016,
          "value": 0,
          "variable": "googtrend_deadbirds"
         },
         {
          "Date": "2016-05",
          "Month": 5,
          "Year": 2016,
          "value": 1,
          "variable": "googtrend_deadbirds"
         },
         {
          "Date": "2016-06",
          "Month": 6,
          "Year": 2016,
          "value": 1,
          "variable": "googtrend_deadbirds"
         },
         {
          "Date": "2016-07",
          "Month": 7,
          "Year": 2016,
          "value": 0,
          "variable": "googtrend_deadbirds"
         },
         {
          "Date": "2016-08",
          "Month": 8,
          "Year": 2016,
          "value": 1,
          "variable": "googtrend_deadbirds"
         },
         {
          "Date": "2016-09",
          "Month": 9,
          "Year": 2016,
          "value": 1,
          "variable": "googtrend_deadbirds"
         },
         {
          "Date": "2016-10",
          "Month": 10,
          "Year": 2016,
          "value": 1,
          "variable": "googtrend_deadbirds"
         },
         {
          "Date": "2016-11",
          "Month": 11,
          "Year": 2016,
          "value": 1,
          "variable": "googtrend_deadbirds"
         },
         {
          "Date": "2016-12",
          "Month": 12,
          "Year": 2016,
          "value": 0,
          "variable": "googtrend_deadbirds"
         },
         {
          "Date": "2017-01",
          "Month": 1,
          "Year": 2017,
          "value": 0,
          "variable": "googtrend_deadbirds"
         },
         {
          "Date": "2017-02",
          "Month": 2,
          "Year": 2017,
          "value": 0,
          "variable": "googtrend_deadbirds"
         },
         {
          "Date": "2017-03",
          "Month": 3,
          "Year": 2017,
          "value": 0,
          "variable": "googtrend_deadbirds"
         },
         {
          "Date": "2017-04",
          "Month": 4,
          "Year": 2017,
          "value": 0,
          "variable": "googtrend_deadbirds"
         },
         {
          "Date": "2017-05",
          "Month": 5,
          "Year": 2017,
          "value": 1,
          "variable": "googtrend_deadbirds"
         },
         {
          "Date": "2017-06",
          "Month": 6,
          "Year": 2017,
          "value": 1,
          "variable": "googtrend_deadbirds"
         },
         {
          "Date": "2017-07",
          "Month": 7,
          "Year": 2017,
          "value": 0,
          "variable": "googtrend_deadbirds"
         },
         {
          "Date": "2017-08",
          "Month": 8,
          "Year": 2017,
          "value": 1,
          "variable": "googtrend_deadbirds"
         },
         {
          "Date": "2017-09",
          "Month": 9,
          "Year": 2017,
          "value": 1,
          "variable": "googtrend_deadbirds"
         },
         {
          "Date": "2017-10",
          "Month": 10,
          "Year": 2017,
          "value": 1,
          "variable": "googtrend_deadbirds"
         },
         {
          "Date": "2017-11",
          "Month": 11,
          "Year": 2017,
          "value": 1,
          "variable": "googtrend_deadbirds"
         },
         {
          "Date": "2017-12",
          "Month": 12,
          "Year": 2017,
          "value": 0,
          "variable": "googtrend_deadbirds"
         },
         {
          "Date": "2018-01",
          "Month": 1,
          "Year": 2018,
          "value": 0,
          "variable": "googtrend_deadbirds"
         },
         {
          "Date": "2018-02",
          "Month": 2,
          "Year": 2018,
          "value": 1,
          "variable": "googtrend_deadbirds"
         },
         {
          "Date": "2018-03",
          "Month": 3,
          "Year": 2018,
          "value": 1,
          "variable": "googtrend_deadbirds"
         },
         {
          "Date": "2018-04",
          "Month": 4,
          "Year": 2018,
          "value": 1,
          "variable": "googtrend_deadbirds"
         },
         {
          "Date": "2018-05",
          "Month": 5,
          "Year": 2018,
          "value": 1,
          "variable": "googtrend_deadbirds"
         },
         {
          "Date": "2018-06",
          "Month": 6,
          "Year": 2018,
          "value": 1,
          "variable": "googtrend_deadbirds"
         },
         {
          "Date": "2018-07",
          "Month": 7,
          "Year": 2018,
          "value": 1,
          "variable": "googtrend_deadbirds"
         },
         {
          "Date": "2018-08",
          "Month": 8,
          "Year": 2018,
          "value": 1,
          "variable": "googtrend_deadbirds"
         },
         {
          "Date": "2018-09",
          "Month": 9,
          "Year": 2018,
          "value": 1,
          "variable": "googtrend_deadbirds"
         },
         {
          "Date": "2018-10",
          "Month": 10,
          "Year": 2018,
          "value": 1,
          "variable": "googtrend_deadbirds"
         },
         {
          "Date": "2018-11",
          "Month": 11,
          "Year": 2018,
          "value": 1,
          "variable": "googtrend_deadbirds"
         },
         {
          "Date": "2018-12",
          "Month": 12,
          "Year": 2018,
          "value": 0,
          "variable": "googtrend_deadbirds"
         },
         {
          "Date": "2019-01",
          "Month": 1,
          "Year": 2019,
          "value": 1,
          "variable": "googtrend_deadbirds"
         },
         {
          "Date": "2004-01",
          "Month": 1,
          "Year": 2004,
          "value": 5,
          "variable": "googtrend_westnile"
         },
         {
          "Date": "2004-02",
          "Month": 2,
          "Year": 2004,
          "value": 6,
          "variable": "googtrend_westnile"
         },
         {
          "Date": "2004-03",
          "Month": 3,
          "Year": 2004,
          "value": 8,
          "variable": "googtrend_westnile"
         },
         {
          "Date": "2004-04",
          "Month": 4,
          "Year": 2004,
          "value": 14,
          "variable": "googtrend_westnile"
         },
         {
          "Date": "2004-05",
          "Month": 5,
          "Year": 2004,
          "value": 20,
          "variable": "googtrend_westnile"
         },
         {
          "Date": "2004-06",
          "Month": 6,
          "Year": 2004,
          "value": 91,
          "variable": "googtrend_westnile"
         },
         {
          "Date": "2004-07",
          "Month": 7,
          "Year": 2004,
          "value": 75,
          "variable": "googtrend_westnile"
         },
         {
          "Date": "2004-08",
          "Month": 8,
          "Year": 2004,
          "value": 44,
          "variable": "googtrend_westnile"
         },
         {
          "Date": "2004-09",
          "Month": 9,
          "Year": 2004,
          "value": 37,
          "variable": "googtrend_westnile"
         },
         {
          "Date": "2004-10",
          "Month": 10,
          "Year": 2004,
          "value": 16,
          "variable": "googtrend_westnile"
         },
         {
          "Date": "2004-11",
          "Month": 11,
          "Year": 2004,
          "value": 0,
          "variable": "googtrend_westnile"
         },
         {
          "Date": "2004-12",
          "Month": 12,
          "Year": 2004,
          "value": 5,
          "variable": "googtrend_westnile"
         },
         {
          "Date": "2005-01",
          "Month": 1,
          "Year": 2005,
          "value": 6,
          "variable": "googtrend_westnile"
         },
         {
          "Date": "2005-02",
          "Month": 2,
          "Year": 2005,
          "value": 5,
          "variable": "googtrend_westnile"
         },
         {
          "Date": "2005-03",
          "Month": 3,
          "Year": 2005,
          "value": 2,
          "variable": "googtrend_westnile"
         },
         {
          "Date": "2005-04",
          "Month": 4,
          "Year": 2005,
          "value": 7,
          "variable": "googtrend_westnile"
         },
         {
          "Date": "2005-05",
          "Month": 5,
          "Year": 2005,
          "value": 11,
          "variable": "googtrend_westnile"
         },
         {
          "Date": "2005-06",
          "Month": 6,
          "Year": 2005,
          "value": 18,
          "variable": "googtrend_westnile"
         },
         {
          "Date": "2005-07",
          "Month": 7,
          "Year": 2005,
          "value": 41,
          "variable": "googtrend_westnile"
         },
         {
          "Date": "2005-08",
          "Month": 8,
          "Year": 2005,
          "value": 100,
          "variable": "googtrend_westnile"
         },
         {
          "Date": "2005-09",
          "Month": 9,
          "Year": 2005,
          "value": 49,
          "variable": "googtrend_westnile"
         },
         {
          "Date": "2005-10",
          "Month": 10,
          "Year": 2005,
          "value": 13,
          "variable": "googtrend_westnile"
         },
         {
          "Date": "2005-11",
          "Month": 11,
          "Year": 2005,
          "value": 8,
          "variable": "googtrend_westnile"
         },
         {
          "Date": "2005-12",
          "Month": 12,
          "Year": 2005,
          "value": 2,
          "variable": "googtrend_westnile"
         },
         {
          "Date": "2006-01",
          "Month": 1,
          "Year": 2006,
          "value": 2,
          "variable": "googtrend_westnile"
         },
         {
          "Date": "2006-02",
          "Month": 2,
          "Year": 2006,
          "value": 5,
          "variable": "googtrend_westnile"
         },
         {
          "Date": "2006-03",
          "Month": 3,
          "Year": 2006,
          "value": 8,
          "variable": "googtrend_westnile"
         },
         {
          "Date": "2006-04",
          "Month": 4,
          "Year": 2006,
          "value": 2,
          "variable": "googtrend_westnile"
         },
         {
          "Date": "2006-05",
          "Month": 5,
          "Year": 2006,
          "value": 10,
          "variable": "googtrend_westnile"
         },
         {
          "Date": "2006-06",
          "Month": 6,
          "Year": 2006,
          "value": 14,
          "variable": "googtrend_westnile"
         },
         {
          "Date": "2006-07",
          "Month": 7,
          "Year": 2006,
          "value": 27,
          "variable": "googtrend_westnile"
         },
         {
          "Date": "2006-08",
          "Month": 8,
          "Year": 2006,
          "value": 61,
          "variable": "googtrend_westnile"
         },
         {
          "Date": "2006-09",
          "Month": 9,
          "Year": 2006,
          "value": 51,
          "variable": "googtrend_westnile"
         },
         {
          "Date": "2006-10",
          "Month": 10,
          "Year": 2006,
          "value": 17,
          "variable": "googtrend_westnile"
         },
         {
          "Date": "2006-11",
          "Month": 11,
          "Year": 2006,
          "value": 5,
          "variable": "googtrend_westnile"
         },
         {
          "Date": "2006-12",
          "Month": 12,
          "Year": 2006,
          "value": 4,
          "variable": "googtrend_westnile"
         },
         {
          "Date": "2007-01",
          "Month": 1,
          "Year": 2007,
          "value": 3,
          "variable": "googtrend_westnile"
         },
         {
          "Date": "2007-02",
          "Month": 2,
          "Year": 2007,
          "value": 4,
          "variable": "googtrend_westnile"
         },
         {
          "Date": "2007-03",
          "Month": 3,
          "Year": 2007,
          "value": 3,
          "variable": "googtrend_westnile"
         },
         {
          "Date": "2007-04",
          "Month": 4,
          "Year": 2007,
          "value": 5,
          "variable": "googtrend_westnile"
         },
         {
          "Date": "2007-05",
          "Month": 5,
          "Year": 2007,
          "value": 16,
          "variable": "googtrend_westnile"
         },
         {
          "Date": "2007-06",
          "Month": 6,
          "Year": 2007,
          "value": 14,
          "variable": "googtrend_westnile"
         },
         {
          "Date": "2007-07",
          "Month": 7,
          "Year": 2007,
          "value": 22,
          "variable": "googtrend_westnile"
         },
         {
          "Date": "2007-08",
          "Month": 8,
          "Year": 2007,
          "value": 57,
          "variable": "googtrend_westnile"
         },
         {
          "Date": "2007-09",
          "Month": 9,
          "Year": 2007,
          "value": 58,
          "variable": "googtrend_westnile"
         },
         {
          "Date": "2007-10",
          "Month": 10,
          "Year": 2007,
          "value": 9,
          "variable": "googtrend_westnile"
         },
         {
          "Date": "2007-11",
          "Month": 11,
          "Year": 2007,
          "value": 6,
          "variable": "googtrend_westnile"
         },
         {
          "Date": "2007-12",
          "Month": 12,
          "Year": 2007,
          "value": 4,
          "variable": "googtrend_westnile"
         },
         {
          "Date": "2008-01",
          "Month": 1,
          "Year": 2008,
          "value": 2,
          "variable": "googtrend_westnile"
         },
         {
          "Date": "2008-02",
          "Month": 2,
          "Year": 2008,
          "value": 3,
          "variable": "googtrend_westnile"
         },
         {
          "Date": "2008-03",
          "Month": 3,
          "Year": 2008,
          "value": 3,
          "variable": "googtrend_westnile"
         },
         {
          "Date": "2008-04",
          "Month": 4,
          "Year": 2008,
          "value": 3,
          "variable": "googtrend_westnile"
         },
         {
          "Date": "2008-05",
          "Month": 5,
          "Year": 2008,
          "value": 3,
          "variable": "googtrend_westnile"
         },
         {
          "Date": "2008-06",
          "Month": 6,
          "Year": 2008,
          "value": 19,
          "variable": "googtrend_westnile"
         },
         {
          "Date": "2008-07",
          "Month": 7,
          "Year": 2008,
          "value": 19,
          "variable": "googtrend_westnile"
         },
         {
          "Date": "2008-08",
          "Month": 8,
          "Year": 2008,
          "value": 18,
          "variable": "googtrend_westnile"
         },
         {
          "Date": "2008-09",
          "Month": 9,
          "Year": 2008,
          "value": 14,
          "variable": "googtrend_westnile"
         },
         {
          "Date": "2008-10",
          "Month": 10,
          "Year": 2008,
          "value": 8,
          "variable": "googtrend_westnile"
         },
         {
          "Date": "2008-11",
          "Month": 11,
          "Year": 2008,
          "value": 1,
          "variable": "googtrend_westnile"
         },
         {
          "Date": "2008-12",
          "Month": 12,
          "Year": 2008,
          "value": 3,
          "variable": "googtrend_westnile"
         },
         {
          "Date": "2009-01",
          "Month": 1,
          "Year": 2009,
          "value": 3,
          "variable": "googtrend_westnile"
         },
         {
          "Date": "2009-02",
          "Month": 2,
          "Year": 2009,
          "value": 3,
          "variable": "googtrend_westnile"
         },
         {
          "Date": "2009-03",
          "Month": 3,
          "Year": 2009,
          "value": 2,
          "variable": "googtrend_westnile"
         },
         {
          "Date": "2009-04",
          "Month": 4,
          "Year": 2009,
          "value": 4,
          "variable": "googtrend_westnile"
         },
         {
          "Date": "2009-05",
          "Month": 5,
          "Year": 2009,
          "value": 4,
          "variable": "googtrend_westnile"
         },
         {
          "Date": "2009-06",
          "Month": 6,
          "Year": 2009,
          "value": 6,
          "variable": "googtrend_westnile"
         },
         {
          "Date": "2009-07",
          "Month": 7,
          "Year": 2009,
          "value": 5,
          "variable": "googtrend_westnile"
         },
         {
          "Date": "2009-08",
          "Month": 8,
          "Year": 2009,
          "value": 6,
          "variable": "googtrend_westnile"
         },
         {
          "Date": "2009-09",
          "Month": 9,
          "Year": 2009,
          "value": 6,
          "variable": "googtrend_westnile"
         },
         {
          "Date": "2009-10",
          "Month": 10,
          "Year": 2009,
          "value": 5,
          "variable": "googtrend_westnile"
         },
         {
          "Date": "2009-11",
          "Month": 11,
          "Year": 2009,
          "value": 2,
          "variable": "googtrend_westnile"
         },
         {
          "Date": "2009-12",
          "Month": 12,
          "Year": 2009,
          "value": 2,
          "variable": "googtrend_westnile"
         },
         {
          "Date": "2010-01",
          "Month": 1,
          "Year": 2010,
          "value": 3,
          "variable": "googtrend_westnile"
         },
         {
          "Date": "2010-02",
          "Month": 2,
          "Year": 2010,
          "value": 2,
          "variable": "googtrend_westnile"
         },
         {
          "Date": "2010-03",
          "Month": 3,
          "Year": 2010,
          "value": 1,
          "variable": "googtrend_westnile"
         },
         {
          "Date": "2010-04",
          "Month": 4,
          "Year": 2010,
          "value": 4,
          "variable": "googtrend_westnile"
         },
         {
          "Date": "2010-05",
          "Month": 5,
          "Year": 2010,
          "value": 3,
          "variable": "googtrend_westnile"
         },
         {
          "Date": "2010-06",
          "Month": 6,
          "Year": 2010,
          "value": 8,
          "variable": "googtrend_westnile"
         },
         {
          "Date": "2010-07",
          "Month": 7,
          "Year": 2010,
          "value": 14,
          "variable": "googtrend_westnile"
         },
         {
          "Date": "2010-08",
          "Month": 8,
          "Year": 2010,
          "value": 26,
          "variable": "googtrend_westnile"
         },
         {
          "Date": "2010-09",
          "Month": 9,
          "Year": 2010,
          "value": 9,
          "variable": "googtrend_westnile"
         },
         {
          "Date": "2010-10",
          "Month": 10,
          "Year": 2010,
          "value": 3,
          "variable": "googtrend_westnile"
         },
         {
          "Date": "2010-11",
          "Month": 11,
          "Year": 2010,
          "value": 3,
          "variable": "googtrend_westnile"
         },
         {
          "Date": "2010-12",
          "Month": 12,
          "Year": 2010,
          "value": 1,
          "variable": "googtrend_westnile"
         },
         {
          "Date": "2011-01",
          "Month": 1,
          "Year": 2011,
          "value": 2,
          "variable": "googtrend_westnile"
         },
         {
          "Date": "2011-02",
          "Month": 2,
          "Year": 2011,
          "value": 1,
          "variable": "googtrend_westnile"
         },
         {
          "Date": "2011-03",
          "Month": 3,
          "Year": 2011,
          "value": 1,
          "variable": "googtrend_westnile"
         },
         {
          "Date": "2011-04",
          "Month": 4,
          "Year": 2011,
          "value": 2,
          "variable": "googtrend_westnile"
         },
         {
          "Date": "2011-05",
          "Month": 5,
          "Year": 2011,
          "value": 3,
          "variable": "googtrend_westnile"
         },
         {
          "Date": "2011-06",
          "Month": 6,
          "Year": 2011,
          "value": 9,
          "variable": "googtrend_westnile"
         },
         {
          "Date": "2011-07",
          "Month": 7,
          "Year": 2011,
          "value": 12,
          "variable": "googtrend_westnile"
         },
         {
          "Date": "2011-08",
          "Month": 8,
          "Year": 2011,
          "value": 17,
          "variable": "googtrend_westnile"
         },
         {
          "Date": "2011-09",
          "Month": 9,
          "Year": 2011,
          "value": 6,
          "variable": "googtrend_westnile"
         },
         {
          "Date": "2011-10",
          "Month": 10,
          "Year": 2011,
          "value": 2,
          "variable": "googtrend_westnile"
         },
         {
          "Date": "2011-11",
          "Month": 11,
          "Year": 2011,
          "value": 2,
          "variable": "googtrend_westnile"
         },
         {
          "Date": "2011-12",
          "Month": 12,
          "Year": 2011,
          "value": 1,
          "variable": "googtrend_westnile"
         },
         {
          "Date": "2012-01",
          "Month": 1,
          "Year": 2012,
          "value": 1,
          "variable": "googtrend_westnile"
         },
         {
          "Date": "2012-02",
          "Month": 2,
          "Year": 2012,
          "value": 2,
          "variable": "googtrend_westnile"
         },
         {
          "Date": "2012-03",
          "Month": 3,
          "Year": 2012,
          "value": 2,
          "variable": "googtrend_westnile"
         },
         {
          "Date": "2012-04",
          "Month": 4,
          "Year": 2012,
          "value": 2,
          "variable": "googtrend_westnile"
         },
         {
          "Date": "2012-05",
          "Month": 5,
          "Year": 2012,
          "value": 4,
          "variable": "googtrend_westnile"
         },
         {
          "Date": "2012-06",
          "Month": 6,
          "Year": 2012,
          "value": 7,
          "variable": "googtrend_westnile"
         },
         {
          "Date": "2012-07",
          "Month": 7,
          "Year": 2012,
          "value": 15,
          "variable": "googtrend_westnile"
         },
         {
          "Date": "2012-08",
          "Month": 8,
          "Year": 2012,
          "value": 93,
          "variable": "googtrend_westnile"
         },
         {
          "Date": "2012-09",
          "Month": 9,
          "Year": 2012,
          "value": 65,
          "variable": "googtrend_westnile"
         },
         {
          "Date": "2012-10",
          "Month": 10,
          "Year": 2012,
          "value": 16,
          "variable": "googtrend_westnile"
         },
         {
          "Date": "2012-11",
          "Month": 11,
          "Year": 2012,
          "value": 4,
          "variable": "googtrend_westnile"
         },
         {
          "Date": "2012-12",
          "Month": 12,
          "Year": 2012,
          "value": 2,
          "variable": "googtrend_westnile"
         },
         {
          "Date": "2013-01",
          "Month": 1,
          "Year": 2013,
          "value": 1,
          "variable": "googtrend_westnile"
         },
         {
          "Date": "2013-02",
          "Month": 2,
          "Year": 2013,
          "value": 1,
          "variable": "googtrend_westnile"
         },
         {
          "Date": "2013-03",
          "Month": 3,
          "Year": 2013,
          "value": 1,
          "variable": "googtrend_westnile"
         },
         {
          "Date": "2013-04",
          "Month": 4,
          "Year": 2013,
          "value": 2,
          "variable": "googtrend_westnile"
         },
         {
          "Date": "2013-05",
          "Month": 5,
          "Year": 2013,
          "value": 4,
          "variable": "googtrend_westnile"
         },
         {
          "Date": "2013-06",
          "Month": 6,
          "Year": 2013,
          "value": 11,
          "variable": "googtrend_westnile"
         },
         {
          "Date": "2013-07",
          "Month": 7,
          "Year": 2013,
          "value": 21,
          "variable": "googtrend_westnile"
         },
         {
          "Date": "2013-08",
          "Month": 8,
          "Year": 2013,
          "value": 14,
          "variable": "googtrend_westnile"
         },
         {
          "Date": "2013-09",
          "Month": 9,
          "Year": 2013,
          "value": 13,
          "variable": "googtrend_westnile"
         },
         {
          "Date": "2013-10",
          "Month": 10,
          "Year": 2013,
          "value": 5,
          "variable": "googtrend_westnile"
         },
         {
          "Date": "2013-11",
          "Month": 11,
          "Year": 2013,
          "value": 1,
          "variable": "googtrend_westnile"
         },
         {
          "Date": "2013-12",
          "Month": 12,
          "Year": 2013,
          "value": 2,
          "variable": "googtrend_westnile"
         },
         {
          "Date": "2014-01",
          "Month": 1,
          "Year": 2014,
          "value": 1,
          "variable": "googtrend_westnile"
         },
         {
          "Date": "2014-02",
          "Month": 2,
          "Year": 2014,
          "value": 1,
          "variable": "googtrend_westnile"
         },
         {
          "Date": "2014-03",
          "Month": 3,
          "Year": 2014,
          "value": 1,
          "variable": "googtrend_westnile"
         },
         {
          "Date": "2014-04",
          "Month": 4,
          "Year": 2014,
          "value": 1,
          "variable": "googtrend_westnile"
         },
         {
          "Date": "2014-05",
          "Month": 5,
          "Year": 2014,
          "value": 2,
          "variable": "googtrend_westnile"
         },
         {
          "Date": "2014-06",
          "Month": 6,
          "Year": 2014,
          "value": 12,
          "variable": "googtrend_westnile"
         },
         {
          "Date": "2014-07",
          "Month": 7,
          "Year": 2014,
          "value": 20,
          "variable": "googtrend_westnile"
         },
         {
          "Date": "2014-08",
          "Month": 8,
          "Year": 2014,
          "value": 16,
          "variable": "googtrend_westnile"
         },
         {
          "Date": "2014-09",
          "Month": 9,
          "Year": 2014,
          "value": 18,
          "variable": "googtrend_westnile"
         },
         {
          "Date": "2014-10",
          "Month": 10,
          "Year": 2014,
          "value": 5,
          "variable": "googtrend_westnile"
         },
         {
          "Date": "2014-11",
          "Month": 11,
          "Year": 2014,
          "value": 2,
          "variable": "googtrend_westnile"
         },
         {
          "Date": "2014-12",
          "Month": 12,
          "Year": 2014,
          "value": 2,
          "variable": "googtrend_westnile"
         },
         {
          "Date": "2015-01",
          "Month": 1,
          "Year": 2015,
          "value": 1,
          "variable": "googtrend_westnile"
         },
         {
          "Date": "2015-02",
          "Month": 2,
          "Year": 2015,
          "value": 2,
          "variable": "googtrend_westnile"
         },
         {
          "Date": "2015-03",
          "Month": 3,
          "Year": 2015,
          "value": 2,
          "variable": "googtrend_westnile"
         },
         {
          "Date": "2015-04",
          "Month": 4,
          "Year": 2015,
          "value": 2,
          "variable": "googtrend_westnile"
         },
         {
          "Date": "2015-05",
          "Month": 5,
          "Year": 2015,
          "value": 3,
          "variable": "googtrend_westnile"
         },
         {
          "Date": "2015-06",
          "Month": 6,
          "Year": 2015,
          "value": 9,
          "variable": "googtrend_westnile"
         },
         {
          "Date": "2015-07",
          "Month": 7,
          "Year": 2015,
          "value": 32,
          "variable": "googtrend_westnile"
         },
         {
          "Date": "2015-08",
          "Month": 8,
          "Year": 2015,
          "value": 15,
          "variable": "googtrend_westnile"
         },
         {
          "Date": "2015-09",
          "Month": 9,
          "Year": 2015,
          "value": 11,
          "variable": "googtrend_westnile"
         },
         {
          "Date": "2015-10",
          "Month": 10,
          "Year": 2015,
          "value": 3,
          "variable": "googtrend_westnile"
         },
         {
          "Date": "2015-11",
          "Month": 11,
          "Year": 2015,
          "value": 2,
          "variable": "googtrend_westnile"
         },
         {
          "Date": "2015-12",
          "Month": 12,
          "Year": 2015,
          "value": 2,
          "variable": "googtrend_westnile"
         },
         {
          "Date": "2016-01",
          "Month": 1,
          "Year": 2016,
          "value": 1,
          "variable": "googtrend_westnile"
         },
         {
          "Date": "2016-02",
          "Month": 2,
          "Year": 2016,
          "value": 2,
          "variable": "googtrend_westnile"
         },
         {
          "Date": "2016-03",
          "Month": 3,
          "Year": 2016,
          "value": 1,
          "variable": "googtrend_westnile"
         },
         {
          "Date": "2016-04",
          "Month": 4,
          "Year": 2016,
          "value": 1,
          "variable": "googtrend_westnile"
         },
         {
          "Date": "2016-05",
          "Month": 5,
          "Year": 2016,
          "value": 2,
          "variable": "googtrend_westnile"
         },
         {
          "Date": "2016-06",
          "Month": 6,
          "Year": 2016,
          "value": 6,
          "variable": "googtrend_westnile"
         },
         {
          "Date": "2016-07",
          "Month": 7,
          "Year": 2016,
          "value": 6,
          "variable": "googtrend_westnile"
         },
         {
          "Date": "2016-08",
          "Month": 8,
          "Year": 2016,
          "value": 10,
          "variable": "googtrend_westnile"
         },
         {
          "Date": "2016-09",
          "Month": 9,
          "Year": 2016,
          "value": 12,
          "variable": "googtrend_westnile"
         },
         {
          "Date": "2016-10",
          "Month": 10,
          "Year": 2016,
          "value": 3,
          "variable": "googtrend_westnile"
         },
         {
          "Date": "2016-11",
          "Month": 11,
          "Year": 2016,
          "value": 1,
          "variable": "googtrend_westnile"
         },
         {
          "Date": "2016-12",
          "Month": 12,
          "Year": 2016,
          "value": 1,
          "variable": "googtrend_westnile"
         },
         {
          "Date": "2017-01",
          "Month": 1,
          "Year": 2017,
          "value": 1,
          "variable": "googtrend_westnile"
         },
         {
          "Date": "2017-02",
          "Month": 2,
          "Year": 2017,
          "value": 1,
          "variable": "googtrend_westnile"
         },
         {
          "Date": "2017-03",
          "Month": 3,
          "Year": 2017,
          "value": 1,
          "variable": "googtrend_westnile"
         },
         {
          "Date": "2017-04",
          "Month": 4,
          "Year": 2017,
          "value": 2,
          "variable": "googtrend_westnile"
         },
         {
          "Date": "2017-05",
          "Month": 5,
          "Year": 2017,
          "value": 2,
          "variable": "googtrend_westnile"
         },
         {
          "Date": "2017-06",
          "Month": 6,
          "Year": 2017,
          "value": 6,
          "variable": "googtrend_westnile"
         },
         {
          "Date": "2017-07",
          "Month": 7,
          "Year": 2017,
          "value": 14,
          "variable": "googtrend_westnile"
         },
         {
          "Date": "2017-08",
          "Month": 8,
          "Year": 2017,
          "value": 15,
          "variable": "googtrend_westnile"
         },
         {
          "Date": "2017-09",
          "Month": 9,
          "Year": 2017,
          "value": 6,
          "variable": "googtrend_westnile"
         },
         {
          "Date": "2017-10",
          "Month": 10,
          "Year": 2017,
          "value": 2,
          "variable": "googtrend_westnile"
         },
         {
          "Date": "2017-11",
          "Month": 11,
          "Year": 2017,
          "value": 1,
          "variable": "googtrend_westnile"
         },
         {
          "Date": "2017-12",
          "Month": 12,
          "Year": 2017,
          "value": 1,
          "variable": "googtrend_westnile"
         },
         {
          "Date": "2018-01",
          "Month": 1,
          "Year": 2018,
          "value": 1,
          "variable": "googtrend_westnile"
         },
         {
          "Date": "2018-02",
          "Month": 2,
          "Year": 2018,
          "value": 1,
          "variable": "googtrend_westnile"
         },
         {
          "Date": "2018-03",
          "Month": 3,
          "Year": 2018,
          "value": 1,
          "variable": "googtrend_westnile"
         },
         {
          "Date": "2018-04",
          "Month": 4,
          "Year": 2018,
          "value": 1,
          "variable": "googtrend_westnile"
         },
         {
          "Date": "2018-05",
          "Month": 5,
          "Year": 2018,
          "value": 3,
          "variable": "googtrend_westnile"
         },
         {
          "Date": "2018-06",
          "Month": 6,
          "Year": 2018,
          "value": 11,
          "variable": "googtrend_westnile"
         },
         {
          "Date": "2018-07",
          "Month": 7,
          "Year": 2018,
          "value": 23,
          "variable": "googtrend_westnile"
         },
         {
          "Date": "2018-08",
          "Month": 8,
          "Year": 2018,
          "value": 15,
          "variable": "googtrend_westnile"
         },
         {
          "Date": "2018-09",
          "Month": 9,
          "Year": 2018,
          "value": 16,
          "variable": "googtrend_westnile"
         },
         {
          "Date": "2018-10",
          "Month": 10,
          "Year": 2018,
          "value": 5,
          "variable": "googtrend_westnile"
         },
         {
          "Date": "2018-11",
          "Month": 11,
          "Year": 2018,
          "value": 1,
          "variable": "googtrend_westnile"
         },
         {
          "Date": "2018-12",
          "Month": 12,
          "Year": 2018,
          "value": 0,
          "variable": "googtrend_westnile"
         },
         {
          "Date": "2019-01",
          "Month": 1,
          "Year": 2019,
          "value": 1,
          "variable": "googtrend_westnile"
         },
         {
          "Date": "2004-01",
          "Month": 1,
          "Year": 2004,
          "value": 0,
          "variable": "googtrend_mosq_bites"
         },
         {
          "Date": "2004-02",
          "Month": 2,
          "Year": 2004,
          "value": 0,
          "variable": "googtrend_mosq_bites"
         },
         {
          "Date": "2004-03",
          "Month": 3,
          "Year": 2004,
          "value": 0,
          "variable": "googtrend_mosq_bites"
         },
         {
          "Date": "2004-04",
          "Month": 4,
          "Year": 2004,
          "value": 0,
          "variable": "googtrend_mosq_bites"
         },
         {
          "Date": "2004-05",
          "Month": 5,
          "Year": 2004,
          "value": 0,
          "variable": "googtrend_mosq_bites"
         },
         {
          "Date": "2004-06",
          "Month": 6,
          "Year": 2004,
          "value": 26,
          "variable": "googtrend_mosq_bites"
         },
         {
          "Date": "2004-07",
          "Month": 7,
          "Year": 2004,
          "value": 15,
          "variable": "googtrend_mosq_bites"
         },
         {
          "Date": "2004-08",
          "Month": 8,
          "Year": 2004,
          "value": 7,
          "variable": "googtrend_mosq_bites"
         },
         {
          "Date": "2004-09",
          "Month": 9,
          "Year": 2004,
          "value": 20,
          "variable": "googtrend_mosq_bites"
         },
         {
          "Date": "2004-10",
          "Month": 10,
          "Year": 2004,
          "value": 0,
          "variable": "googtrend_mosq_bites"
         },
         {
          "Date": "2004-11",
          "Month": 11,
          "Year": 2004,
          "value": 0,
          "variable": "googtrend_mosq_bites"
         },
         {
          "Date": "2004-12",
          "Month": 12,
          "Year": 2004,
          "value": 0,
          "variable": "googtrend_mosq_bites"
         },
         {
          "Date": "2005-01",
          "Month": 1,
          "Year": 2005,
          "value": 0,
          "variable": "googtrend_mosq_bites"
         },
         {
          "Date": "2005-02",
          "Month": 2,
          "Year": 2005,
          "value": 0,
          "variable": "googtrend_mosq_bites"
         },
         {
          "Date": "2005-03",
          "Month": 3,
          "Year": 2005,
          "value": 5,
          "variable": "googtrend_mosq_bites"
         },
         {
          "Date": "2005-04",
          "Month": 4,
          "Year": 2005,
          "value": 0,
          "variable": "googtrend_mosq_bites"
         },
         {
          "Date": "2005-05",
          "Month": 5,
          "Year": 2005,
          "value": 5,
          "variable": "googtrend_mosq_bites"
         },
         {
          "Date": "2005-06",
          "Month": 6,
          "Year": 2005,
          "value": 5,
          "variable": "googtrend_mosq_bites"
         },
         {
          "Date": "2005-07",
          "Month": 7,
          "Year": 2005,
          "value": 7,
          "variable": "googtrend_mosq_bites"
         },
         {
          "Date": "2005-08",
          "Month": 8,
          "Year": 2005,
          "value": 9,
          "variable": "googtrend_mosq_bites"
         },
         {
          "Date": "2005-09",
          "Month": 9,
          "Year": 2005,
          "value": 6,
          "variable": "googtrend_mosq_bites"
         },
         {
          "Date": "2005-10",
          "Month": 10,
          "Year": 2005,
          "value": 0,
          "variable": "googtrend_mosq_bites"
         },
         {
          "Date": "2005-11",
          "Month": 11,
          "Year": 2005,
          "value": 0,
          "variable": "googtrend_mosq_bites"
         },
         {
          "Date": "2005-12",
          "Month": 12,
          "Year": 2005,
          "value": 0,
          "variable": "googtrend_mosq_bites"
         },
         {
          "Date": "2006-01",
          "Month": 1,
          "Year": 2006,
          "value": 0,
          "variable": "googtrend_mosq_bites"
         },
         {
          "Date": "2006-02",
          "Month": 2,
          "Year": 2006,
          "value": 0,
          "variable": "googtrend_mosq_bites"
         },
         {
          "Date": "2006-03",
          "Month": 3,
          "Year": 2006,
          "value": 0,
          "variable": "googtrend_mosq_bites"
         },
         {
          "Date": "2006-04",
          "Month": 4,
          "Year": 2006,
          "value": 0,
          "variable": "googtrend_mosq_bites"
         },
         {
          "Date": "2006-05",
          "Month": 5,
          "Year": 2006,
          "value": 3,
          "variable": "googtrend_mosq_bites"
         },
         {
          "Date": "2006-06",
          "Month": 6,
          "Year": 2006,
          "value": 5,
          "variable": "googtrend_mosq_bites"
         },
         {
          "Date": "2006-07",
          "Month": 7,
          "Year": 2006,
          "value": 20,
          "variable": "googtrend_mosq_bites"
         },
         {
          "Date": "2006-08",
          "Month": 8,
          "Year": 2006,
          "value": 18,
          "variable": "googtrend_mosq_bites"
         },
         {
          "Date": "2006-09",
          "Month": 9,
          "Year": 2006,
          "value": 3,
          "variable": "googtrend_mosq_bites"
         },
         {
          "Date": "2006-10",
          "Month": 10,
          "Year": 2006,
          "value": 3,
          "variable": "googtrend_mosq_bites"
         },
         {
          "Date": "2006-11",
          "Month": 11,
          "Year": 2006,
          "value": 3,
          "variable": "googtrend_mosq_bites"
         },
         {
          "Date": "2006-12",
          "Month": 12,
          "Year": 2006,
          "value": 0,
          "variable": "googtrend_mosq_bites"
         },
         {
          "Date": "2007-01",
          "Month": 1,
          "Year": 2007,
          "value": 0,
          "variable": "googtrend_mosq_bites"
         },
         {
          "Date": "2007-02",
          "Month": 2,
          "Year": 2007,
          "value": 0,
          "variable": "googtrend_mosq_bites"
         },
         {
          "Date": "2007-03",
          "Month": 3,
          "Year": 2007,
          "value": 2,
          "variable": "googtrend_mosq_bites"
         },
         {
          "Date": "2007-04",
          "Month": 4,
          "Year": 2007,
          "value": 2,
          "variable": "googtrend_mosq_bites"
         },
         {
          "Date": "2007-05",
          "Month": 5,
          "Year": 2007,
          "value": 11,
          "variable": "googtrend_mosq_bites"
         },
         {
          "Date": "2007-06",
          "Month": 6,
          "Year": 2007,
          "value": 4,
          "variable": "googtrend_mosq_bites"
         },
         {
          "Date": "2007-07",
          "Month": 7,
          "Year": 2007,
          "value": 12,
          "variable": "googtrend_mosq_bites"
         },
         {
          "Date": "2007-08",
          "Month": 8,
          "Year": 2007,
          "value": 35,
          "variable": "googtrend_mosq_bites"
         },
         {
          "Date": "2007-09",
          "Month": 9,
          "Year": 2007,
          "value": 25,
          "variable": "googtrend_mosq_bites"
         },
         {
          "Date": "2007-10",
          "Month": 10,
          "Year": 2007,
          "value": 7,
          "variable": "googtrend_mosq_bites"
         },
         {
          "Date": "2007-11",
          "Month": 11,
          "Year": 2007,
          "value": 0,
          "variable": "googtrend_mosq_bites"
         },
         {
          "Date": "2007-12",
          "Month": 12,
          "Year": 2007,
          "value": 0,
          "variable": "googtrend_mosq_bites"
         },
         {
          "Date": "2008-01",
          "Month": 1,
          "Year": 2008,
          "value": 0,
          "variable": "googtrend_mosq_bites"
         },
         {
          "Date": "2008-02",
          "Month": 2,
          "Year": 2008,
          "value": 2,
          "variable": "googtrend_mosq_bites"
         },
         {
          "Date": "2008-03",
          "Month": 3,
          "Year": 2008,
          "value": 0,
          "variable": "googtrend_mosq_bites"
         },
         {
          "Date": "2008-04",
          "Month": 4,
          "Year": 2008,
          "value": 4,
          "variable": "googtrend_mosq_bites"
         },
         {
          "Date": "2008-05",
          "Month": 5,
          "Year": 2008,
          "value": 3,
          "variable": "googtrend_mosq_bites"
         },
         {
          "Date": "2008-06",
          "Month": 6,
          "Year": 2008,
          "value": 17,
          "variable": "googtrend_mosq_bites"
         },
         {
          "Date": "2008-07",
          "Month": 7,
          "Year": 2008,
          "value": 19,
          "variable": "googtrend_mosq_bites"
         },
         {
          "Date": "2008-08",
          "Month": 8,
          "Year": 2008,
          "value": 16,
          "variable": "googtrend_mosq_bites"
         },
         {
          "Date": "2008-09",
          "Month": 9,
          "Year": 2008,
          "value": 13,
          "variable": "googtrend_mosq_bites"
         },
         {
          "Date": "2008-10",
          "Month": 10,
          "Year": 2008,
          "value": 2,
          "variable": "googtrend_mosq_bites"
         },
         {
          "Date": "2008-11",
          "Month": 11,
          "Year": 2008,
          "value": 0,
          "variable": "googtrend_mosq_bites"
         },
         {
          "Date": "2008-12",
          "Month": 12,
          "Year": 2008,
          "value": 0,
          "variable": "googtrend_mosq_bites"
         },
         {
          "Date": "2009-01",
          "Month": 1,
          "Year": 2009,
          "value": 2,
          "variable": "googtrend_mosq_bites"
         },
         {
          "Date": "2009-02",
          "Month": 2,
          "Year": 2009,
          "value": 2,
          "variable": "googtrend_mosq_bites"
         },
         {
          "Date": "2009-03",
          "Month": 3,
          "Year": 2009,
          "value": 2,
          "variable": "googtrend_mosq_bites"
         },
         {
          "Date": "2009-04",
          "Month": 4,
          "Year": 2009,
          "value": 0,
          "variable": "googtrend_mosq_bites"
         },
         {
          "Date": "2009-05",
          "Month": 5,
          "Year": 2009,
          "value": 7,
          "variable": "googtrend_mosq_bites"
         },
         {
          "Date": "2009-06",
          "Month": 6,
          "Year": 2009,
          "value": 11,
          "variable": "googtrend_mosq_bites"
         },
         {
          "Date": "2009-07",
          "Month": 7,
          "Year": 2009,
          "value": 29,
          "variable": "googtrend_mosq_bites"
         },
         {
          "Date": "2009-08",
          "Month": 8,
          "Year": 2009,
          "value": 21,
          "variable": "googtrend_mosq_bites"
         },
         {
          "Date": "2009-09",
          "Month": 9,
          "Year": 2009,
          "value": 10,
          "variable": "googtrend_mosq_bites"
         },
         {
          "Date": "2009-10",
          "Month": 10,
          "Year": 2009,
          "value": 2,
          "variable": "googtrend_mosq_bites"
         },
         {
          "Date": "2009-11",
          "Month": 11,
          "Year": 2009,
          "value": 2,
          "variable": "googtrend_mosq_bites"
         },
         {
          "Date": "2009-12",
          "Month": 12,
          "Year": 2009,
          "value": 2,
          "variable": "googtrend_mosq_bites"
         },
         {
          "Date": "2010-01",
          "Month": 1,
          "Year": 2010,
          "value": 1,
          "variable": "googtrend_mosq_bites"
         },
         {
          "Date": "2010-02",
          "Month": 2,
          "Year": 2010,
          "value": 3,
          "variable": "googtrend_mosq_bites"
         },
         {
          "Date": "2010-03",
          "Month": 3,
          "Year": 2010,
          "value": 1,
          "variable": "googtrend_mosq_bites"
         },
         {
          "Date": "2010-04",
          "Month": 4,
          "Year": 2010,
          "value": 1,
          "variable": "googtrend_mosq_bites"
         },
         {
          "Date": "2010-05",
          "Month": 5,
          "Year": 2010,
          "value": 7,
          "variable": "googtrend_mosq_bites"
         },
         {
          "Date": "2010-06",
          "Month": 6,
          "Year": 2010,
          "value": 33,
          "variable": "googtrend_mosq_bites"
         },
         {
          "Date": "2010-07",
          "Month": 7,
          "Year": 2010,
          "value": 46,
          "variable": "googtrend_mosq_bites"
         },
         {
          "Date": "2010-08",
          "Month": 8,
          "Year": 2010,
          "value": 81,
          "variable": "googtrend_mosq_bites"
         },
         {
          "Date": "2010-09",
          "Month": 9,
          "Year": 2010,
          "value": 15,
          "variable": "googtrend_mosq_bites"
         },
         {
          "Date": "2010-10",
          "Month": 10,
          "Year": 2010,
          "value": 9,
          "variable": "googtrend_mosq_bites"
         },
         {
          "Date": "2010-11",
          "Month": 11,
          "Year": 2010,
          "value": 3,
          "variable": "googtrend_mosq_bites"
         },
         {
          "Date": "2010-12",
          "Month": 12,
          "Year": 2010,
          "value": 6,
          "variable": "googtrend_mosq_bites"
         },
         {
          "Date": "2011-01",
          "Month": 1,
          "Year": 2011,
          "value": 2,
          "variable": "googtrend_mosq_bites"
         },
         {
          "Date": "2011-02",
          "Month": 2,
          "Year": 2011,
          "value": 2,
          "variable": "googtrend_mosq_bites"
         },
         {
          "Date": "2011-03",
          "Month": 3,
          "Year": 2011,
          "value": 1,
          "variable": "googtrend_mosq_bites"
         },
         {
          "Date": "2011-04",
          "Month": 4,
          "Year": 2011,
          "value": 3,
          "variable": "googtrend_mosq_bites"
         },
         {
          "Date": "2011-05",
          "Month": 5,
          "Year": 2011,
          "value": 8,
          "variable": "googtrend_mosq_bites"
         },
         {
          "Date": "2011-06",
          "Month": 6,
          "Year": 2011,
          "value": 42,
          "variable": "googtrend_mosq_bites"
         },
         {
          "Date": "2011-07",
          "Month": 7,
          "Year": 2011,
          "value": 42,
          "variable": "googtrend_mosq_bites"
         },
         {
          "Date": "2011-08",
          "Month": 8,
          "Year": 2011,
          "value": 54,
          "variable": "googtrend_mosq_bites"
         },
         {
          "Date": "2011-09",
          "Month": 9,
          "Year": 2011,
          "value": 26,
          "variable": "googtrend_mosq_bites"
         },
         {
          "Date": "2011-10",
          "Month": 10,
          "Year": 2011,
          "value": 9,
          "variable": "googtrend_mosq_bites"
         },
         {
          "Date": "2011-11",
          "Month": 11,
          "Year": 2011,
          "value": 3,
          "variable": "googtrend_mosq_bites"
         },
         {
          "Date": "2011-12",
          "Month": 12,
          "Year": 2011,
          "value": 2,
          "variable": "googtrend_mosq_bites"
         },
         {
          "Date": "2012-01",
          "Month": 1,
          "Year": 2012,
          "value": 2,
          "variable": "googtrend_mosq_bites"
         },
         {
          "Date": "2012-02",
          "Month": 2,
          "Year": 2012,
          "value": 1,
          "variable": "googtrend_mosq_bites"
         },
         {
          "Date": "2012-03",
          "Month": 3,
          "Year": 2012,
          "value": 3,
          "variable": "googtrend_mosq_bites"
         },
         {
          "Date": "2012-04",
          "Month": 4,
          "Year": 2012,
          "value": 2,
          "variable": "googtrend_mosq_bites"
         },
         {
          "Date": "2012-05",
          "Month": 5,
          "Year": 2012,
          "value": 11,
          "variable": "googtrend_mosq_bites"
         },
         {
          "Date": "2012-06",
          "Month": 6,
          "Year": 2012,
          "value": 29,
          "variable": "googtrend_mosq_bites"
         },
         {
          "Date": "2012-07",
          "Month": 7,
          "Year": 2012,
          "value": 33,
          "variable": "googtrend_mosq_bites"
         },
         {
          "Date": "2012-08",
          "Month": 8,
          "Year": 2012,
          "value": 30,
          "variable": "googtrend_mosq_bites"
         },
         {
          "Date": "2012-09",
          "Month": 9,
          "Year": 2012,
          "value": 18,
          "variable": "googtrend_mosq_bites"
         },
         {
          "Date": "2012-10",
          "Month": 10,
          "Year": 2012,
          "value": 4,
          "variable": "googtrend_mosq_bites"
         },
         {
          "Date": "2012-11",
          "Month": 11,
          "Year": 2012,
          "value": 2,
          "variable": "googtrend_mosq_bites"
         },
         {
          "Date": "2012-12",
          "Month": 12,
          "Year": 2012,
          "value": 2,
          "variable": "googtrend_mosq_bites"
         },
         {
          "Date": "2013-01",
          "Month": 1,
          "Year": 2013,
          "value": 1,
          "variable": "googtrend_mosq_bites"
         },
         {
          "Date": "2013-02",
          "Month": 2,
          "Year": 2013,
          "value": 2,
          "variable": "googtrend_mosq_bites"
         },
         {
          "Date": "2013-03",
          "Month": 3,
          "Year": 2013,
          "value": 3,
          "variable": "googtrend_mosq_bites"
         },
         {
          "Date": "2013-04",
          "Month": 4,
          "Year": 2013,
          "value": 2,
          "variable": "googtrend_mosq_bites"
         },
         {
          "Date": "2013-05",
          "Month": 5,
          "Year": 2013,
          "value": 14,
          "variable": "googtrend_mosq_bites"
         },
         {
          "Date": "2013-06",
          "Month": 6,
          "Year": 2013,
          "value": 37,
          "variable": "googtrend_mosq_bites"
         },
         {
          "Date": "2013-07",
          "Month": 7,
          "Year": 2013,
          "value": 76,
          "variable": "googtrend_mosq_bites"
         },
         {
          "Date": "2013-08",
          "Month": 8,
          "Year": 2013,
          "value": 52,
          "variable": "googtrend_mosq_bites"
         },
         {
          "Date": "2013-09",
          "Month": 9,
          "Year": 2013,
          "value": 24,
          "variable": "googtrend_mosq_bites"
         },
         {
          "Date": "2013-10",
          "Month": 10,
          "Year": 2013,
          "value": 5,
          "variable": "googtrend_mosq_bites"
         },
         {
          "Date": "2013-11",
          "Month": 11,
          "Year": 2013,
          "value": 4,
          "variable": "googtrend_mosq_bites"
         },
         {
          "Date": "2013-12",
          "Month": 12,
          "Year": 2013,
          "value": 2,
          "variable": "googtrend_mosq_bites"
         },
         {
          "Date": "2014-01",
          "Month": 1,
          "Year": 2014,
          "value": 2,
          "variable": "googtrend_mosq_bites"
         },
         {
          "Date": "2014-02",
          "Month": 2,
          "Year": 2014,
          "value": 2,
          "variable": "googtrend_mosq_bites"
         },
         {
          "Date": "2014-03",
          "Month": 3,
          "Year": 2014,
          "value": 2,
          "variable": "googtrend_mosq_bites"
         },
         {
          "Date": "2014-04",
          "Month": 4,
          "Year": 2014,
          "value": 2,
          "variable": "googtrend_mosq_bites"
         },
         {
          "Date": "2014-05",
          "Month": 5,
          "Year": 2014,
          "value": 15,
          "variable": "googtrend_mosq_bites"
         },
         {
          "Date": "2014-06",
          "Month": 6,
          "Year": 2014,
          "value": 57,
          "variable": "googtrend_mosq_bites"
         },
         {
          "Date": "2014-07",
          "Month": 7,
          "Year": 2014,
          "value": 82,
          "variable": "googtrend_mosq_bites"
         },
         {
          "Date": "2014-08",
          "Month": 8,
          "Year": 2014,
          "value": 53,
          "variable": "googtrend_mosq_bites"
         },
         {
          "Date": "2014-09",
          "Month": 9,
          "Year": 2014,
          "value": 43,
          "variable": "googtrend_mosq_bites"
         },
         {
          "Date": "2014-10",
          "Month": 10,
          "Year": 2014,
          "value": 8,
          "variable": "googtrend_mosq_bites"
         },
         {
          "Date": "2014-11",
          "Month": 11,
          "Year": 2014,
          "value": 4,
          "variable": "googtrend_mosq_bites"
         },
         {
          "Date": "2014-12",
          "Month": 12,
          "Year": 2014,
          "value": 3,
          "variable": "googtrend_mosq_bites"
         },
         {
          "Date": "2015-01",
          "Month": 1,
          "Year": 2015,
          "value": 2,
          "variable": "googtrend_mosq_bites"
         },
         {
          "Date": "2015-02",
          "Month": 2,
          "Year": 2015,
          "value": 2,
          "variable": "googtrend_mosq_bites"
         },
         {
          "Date": "2015-03",
          "Month": 3,
          "Year": 2015,
          "value": 4,
          "variable": "googtrend_mosq_bites"
         },
         {
          "Date": "2015-04",
          "Month": 4,
          "Year": 2015,
          "value": 6,
          "variable": "googtrend_mosq_bites"
         },
         {
          "Date": "2015-05",
          "Month": 5,
          "Year": 2015,
          "value": 18,
          "variable": "googtrend_mosq_bites"
         },
         {
          "Date": "2015-06",
          "Month": 6,
          "Year": 2015,
          "value": 55,
          "variable": "googtrend_mosq_bites"
         },
         {
          "Date": "2015-07",
          "Month": 7,
          "Year": 2015,
          "value": 100,
          "variable": "googtrend_mosq_bites"
         },
         {
          "Date": "2015-08",
          "Month": 8,
          "Year": 2015,
          "value": 43,
          "variable": "googtrend_mosq_bites"
         },
         {
          "Date": "2015-09",
          "Month": 9,
          "Year": 2015,
          "value": 23,
          "variable": "googtrend_mosq_bites"
         },
         {
          "Date": "2015-10",
          "Month": 10,
          "Year": 2015,
          "value": 5,
          "variable": "googtrend_mosq_bites"
         },
         {
          "Date": "2015-11",
          "Month": 11,
          "Year": 2015,
          "value": 4,
          "variable": "googtrend_mosq_bites"
         },
         {
          "Date": "2015-12",
          "Month": 12,
          "Year": 2015,
          "value": 3,
          "variable": "googtrend_mosq_bites"
         },
         {
          "Date": "2016-01",
          "Month": 1,
          "Year": 2016,
          "value": 5,
          "variable": "googtrend_mosq_bites"
         },
         {
          "Date": "2016-02",
          "Month": 2,
          "Year": 2016,
          "value": 3,
          "variable": "googtrend_mosq_bites"
         },
         {
          "Date": "2016-03",
          "Month": 3,
          "Year": 2016,
          "value": 4,
          "variable": "googtrend_mosq_bites"
         },
         {
          "Date": "2016-04",
          "Month": 4,
          "Year": 2016,
          "value": 4,
          "variable": "googtrend_mosq_bites"
         },
         {
          "Date": "2016-05",
          "Month": 5,
          "Year": 2016,
          "value": 14,
          "variable": "googtrend_mosq_bites"
         },
         {
          "Date": "2016-06",
          "Month": 6,
          "Year": 2016,
          "value": 46,
          "variable": "googtrend_mosq_bites"
         },
         {
          "Date": "2016-07",
          "Month": 7,
          "Year": 2016,
          "value": 40,
          "variable": "googtrend_mosq_bites"
         },
         {
          "Date": "2016-08",
          "Month": 8,
          "Year": 2016,
          "value": 60,
          "variable": "googtrend_mosq_bites"
         },
         {
          "Date": "2016-09",
          "Month": 9,
          "Year": 2016,
          "value": 43,
          "variable": "googtrend_mosq_bites"
         },
         {
          "Date": "2016-10",
          "Month": 10,
          "Year": 2016,
          "value": 12,
          "variable": "googtrend_mosq_bites"
         },
         {
          "Date": "2016-11",
          "Month": 11,
          "Year": 2016,
          "value": 4,
          "variable": "googtrend_mosq_bites"
         },
         {
          "Date": "2016-12",
          "Month": 12,
          "Year": 2016,
          "value": 3,
          "variable": "googtrend_mosq_bites"
         },
         {
          "Date": "2017-01",
          "Month": 1,
          "Year": 2017,
          "value": 3,
          "variable": "googtrend_mosq_bites"
         },
         {
          "Date": "2017-02",
          "Month": 2,
          "Year": 2017,
          "value": 3,
          "variable": "googtrend_mosq_bites"
         },
         {
          "Date": "2017-03",
          "Month": 3,
          "Year": 2017,
          "value": 4,
          "variable": "googtrend_mosq_bites"
         },
         {
          "Date": "2017-04",
          "Month": 4,
          "Year": 2017,
          "value": 6,
          "variable": "googtrend_mosq_bites"
         },
         {
          "Date": "2017-05",
          "Month": 5,
          "Year": 2017,
          "value": 14,
          "variable": "googtrend_mosq_bites"
         },
         {
          "Date": "2017-06",
          "Month": 6,
          "Year": 2017,
          "value": 40,
          "variable": "googtrend_mosq_bites"
         },
         {
          "Date": "2017-07",
          "Month": 7,
          "Year": 2017,
          "value": 61,
          "variable": "googtrend_mosq_bites"
         },
         {
          "Date": "2017-08",
          "Month": 8,
          "Year": 2017,
          "value": 49,
          "variable": "googtrend_mosq_bites"
         },
         {
          "Date": "2017-09",
          "Month": 9,
          "Year": 2017,
          "value": 20,
          "variable": "googtrend_mosq_bites"
         },
         {
          "Date": "2017-10",
          "Month": 10,
          "Year": 2017,
          "value": 8,
          "variable": "googtrend_mosq_bites"
         },
         {
          "Date": "2017-11",
          "Month": 11,
          "Year": 2017,
          "value": 4,
          "variable": "googtrend_mosq_bites"
         },
         {
          "Date": "2017-12",
          "Month": 12,
          "Year": 2017,
          "value": 2,
          "variable": "googtrend_mosq_bites"
         },
         {
          "Date": "2018-01",
          "Month": 1,
          "Year": 2018,
          "value": 3,
          "variable": "googtrend_mosq_bites"
         },
         {
          "Date": "2018-02",
          "Month": 2,
          "Year": 2018,
          "value": 3,
          "variable": "googtrend_mosq_bites"
         },
         {
          "Date": "2018-03",
          "Month": 3,
          "Year": 2018,
          "value": 1,
          "variable": "googtrend_mosq_bites"
         },
         {
          "Date": "2018-04",
          "Month": 4,
          "Year": 2018,
          "value": 3,
          "variable": "googtrend_mosq_bites"
         },
         {
          "Date": "2018-05",
          "Month": 5,
          "Year": 2018,
          "value": 27,
          "variable": "googtrend_mosq_bites"
         },
         {
          "Date": "2018-06",
          "Month": 6,
          "Year": 2018,
          "value": 56,
          "variable": "googtrend_mosq_bites"
         },
         {
          "Date": "2018-07",
          "Month": 7,
          "Year": 2018,
          "value": 100,
          "variable": "googtrend_mosq_bites"
         },
         {
          "Date": "2018-08",
          "Month": 8,
          "Year": 2018,
          "value": 46,
          "variable": "googtrend_mosq_bites"
         },
         {
          "Date": "2018-09",
          "Month": 9,
          "Year": 2018,
          "value": 66,
          "variable": "googtrend_mosq_bites"
         },
         {
          "Date": "2018-10",
          "Month": 10,
          "Year": 2018,
          "value": 9,
          "variable": "googtrend_mosq_bites"
         },
         {
          "Date": "2018-11",
          "Month": 11,
          "Year": 2018,
          "value": 3,
          "variable": "googtrend_mosq_bites"
         },
         {
          "Date": "2018-12",
          "Month": 12,
          "Year": 2018,
          "value": 3,
          "variable": "googtrend_mosq_bites"
         },
         {
          "Date": "2019-01",
          "Month": 1,
          "Year": 2019,
          "value": 3,
          "variable": "googtrend_mosq_bites"
         }
        ]
       },
       "encoding": {
        "color": {
         "field": "variable",
         "type": "nominal"
        },
        "x": {
         "field": "Month",
         "type": "nominal"
        },
        "y": {
         "aggregate": "average",
         "field": "value",
         "type": "quantitative"
        }
       },
       "mark": "line"
      },
      "image/png": "[encoded data removed]",
      "text/plain": [
       "<VegaLite 2 object>\n",
       "\n",
       "If you see this message, it means the renderer has not been properly enabled\n",
       "for the frontend that you are using. For more information, see\n",
       "https://altair-viz.github.io/user_guide/troubleshooting.html\n"
      ]
     },
     "execution_count": 168,
     "metadata": {},
     "output_type": "execute_result"
    }
   ],
   "source": [
    "alt.Chart(df).mark_line().encode(x=\"Month:N\",y=\"average(value)\",color=\"variable\")"
   ]
  },
  {
   "cell_type": "markdown",
   "metadata": {},
   "source": [
    "# Save to `data/processed`"
   ]
  },
  {
   "cell_type": "code",
   "execution_count": 169,
   "metadata": {},
   "outputs": [],
   "source": [
    "trends.to_csv(path_or_buf=\"../data/processed/google_trends.csv\",index_label=\"date\")"
   ]
  }
 ],
 "metadata": {
  "kernelspec": {
   "display_name": "Python 3",
   "language": "python",
   "name": "python3"
  },
  "language_info": {
   "codemirror_mode": {
    "name": "ipython",
    "version": 3
   },
   "file_extension": ".py",
   "mimetype": "text/x-python",
   "name": "python",
   "nbconvert_exporter": "python",
   "pygments_lexer": "ipython3",
   "version": "3.6.6"
  }
 },
 "nbformat": 4,
 "nbformat_minor": 2
}
