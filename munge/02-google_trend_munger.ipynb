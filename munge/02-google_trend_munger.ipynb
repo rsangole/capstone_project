{
 "cells": [
  {
   "cell_type": "markdown",
   "metadata": {},
   "source": [
    "# Google Trend Data"
   ]
  },
  {
   "cell_type": "markdown",
   "metadata": {},
   "source": [
    "This script prepares the weather data stored in `/data/raw/` and saves a cleaned and processed version to `/data/processed`."
   ]
  },
  {
   "cell_type": "code",
   "execution_count": 1,
   "metadata": {},
   "outputs": [],
   "source": [
    "import pandas as pd\n",
    "import numpy as np\n",
    "import altair as alt\n",
    "import glob\n",
    "%matplotlib inline"
   ]
  },
  {
   "cell_type": "markdown",
   "metadata": {},
   "source": [
    "# What trend files exist?"
   ]
  },
  {
   "cell_type": "code",
   "execution_count": 44,
   "metadata": {},
   "outputs": [
    {
     "data": {
      "text/plain": [
       "['../data/raw/google_searches/multiTimeline - symptoms of West Nile - Chicago IL.csv',\n",
       " '../data/raw/google_searches/multiTimeline - dead birds - Chicago IL.csv',\n",
       " '../data/raw/google_searches/multiTimeline - west nile - Chicago IL.csv',\n",
       " '../data/raw/google_searches/multiTimeline - mosquito bites - Chicago IL.csv']"
      ]
     },
     "execution_count": 44,
     "metadata": {},
     "output_type": "execute_result"
    }
   ],
   "source": [
    "trend_files = glob.glob(\"../data/raw/google_searches/*.csv\")\n",
    "trend_files"
   ]
  },
  {
   "cell_type": "markdown",
   "metadata": {},
   "source": [
    "# Combine the files"
   ]
  },
  {
   "cell_type": "code",
   "execution_count": 111,
   "metadata": {},
   "outputs": [],
   "source": [
    "trends = [pd.read_csv(_,skiprows=1,index_col=\"Month\") for _ in trend_files]\n",
    "\n",
    "trends = pd.concat(trends, axis =1)\n",
    "\n",
    "trends.columns = [\"googtrend_sym_wnv\",\"googtrend_deadbirds\",\"googtrend_westnile\",\"googtrend_mosq_bites\"]\n",
    "\n",
    "trends.replace(to_replace=\"<1\",value=0, inplace=True)\n",
    "\n",
    "trends.googtrend_deadbirds = pd.to_numeric(trends.googtrend_deadbirds)\n",
    "trends.googtrend_westnile = pd.to_numeric(trends.googtrend_westnile)"
   ]
  },
  {
   "cell_type": "code",
   "execution_count": 112,
   "metadata": {},
   "outputs": [
    {
     "name": "stdout",
     "output_type": "stream",
     "text": [
      "<class 'pandas.core.frame.DataFrame'>\n",
      "Index: 181 entries, 2004-01 to 2019-01\n",
      "Data columns (total 4 columns):\n",
      "googtrend_sym_wnv       181 non-null int64\n",
      "googtrend_deadbirds     181 non-null int64\n",
      "googtrend_westnile      181 non-null int64\n",
      "googtrend_mosq_bites    181 non-null int64\n",
      "dtypes: int64(4)\n",
      "memory usage: 7.1+ KB\n"
     ]
    }
   ],
   "source": [
    "trends.info()"
   ]
  },
  {
   "cell_type": "markdown",
   "metadata": {},
   "source": [
    "# Visualize"
   ]
  },
  {
   "cell_type": "code",
   "execution_count": 110,
   "metadata": {},
   "outputs": [
    {
     "data": {
      "application/vnd.vegalite.v2+json": {
       "$schema": "https://vega.github.io/schema/vega-lite/v2.6.0.json",
       "config": {
        "view": {
         "height": 300,
         "width": 400
        }
       },
       "datasets": {
        "data-59542ac6e037097076c883f43a5688fa": [
         {
          "Month": "2004-01",
          "value": 0,
          "variable": "googtrend_sym_wnv"
         },
         {
          "Month": "2004-02",
          "value": 36,
          "variable": "googtrend_sym_wnv"
         },
         {
          "Month": "2004-03",
          "value": 0,
          "variable": "googtrend_sym_wnv"
         },
         {
          "Month": "2004-04",
          "value": 0,
          "variable": "googtrend_sym_wnv"
         },
         {
          "Month": "2004-05",
          "value": 0,
          "variable": "googtrend_sym_wnv"
         },
         {
          "Month": "2004-06",
          "value": 96,
          "variable": "googtrend_sym_wnv"
         },
         {
          "Month": "2004-07",
          "value": 32,
          "variable": "googtrend_sym_wnv"
         },
         {
          "Month": "2004-08",
          "value": 30,
          "variable": "googtrend_sym_wnv"
         },
         {
          "Month": "2004-09",
          "value": 57,
          "variable": "googtrend_sym_wnv"
         },
         {
          "Month": "2004-10",
          "value": 0,
          "variable": "googtrend_sym_wnv"
         },
         {
          "Month": "2004-11",
          "value": 0,
          "variable": "googtrend_sym_wnv"
         },
         {
          "Month": "2004-12",
          "value": 0,
          "variable": "googtrend_sym_wnv"
         },
         {
          "Month": "2005-01",
          "value": 0,
          "variable": "googtrend_sym_wnv"
         },
         {
          "Month": "2005-02",
          "value": 0,
          "variable": "googtrend_sym_wnv"
         },
         {
          "Month": "2005-03",
          "value": 0,
          "variable": "googtrend_sym_wnv"
         },
         {
          "Month": "2005-04",
          "value": 0,
          "variable": "googtrend_sym_wnv"
         },
         {
          "Month": "2005-05",
          "value": 0,
          "variable": "googtrend_sym_wnv"
         },
         {
          "Month": "2005-06",
          "value": 0,
          "variable": "googtrend_sym_wnv"
         },
         {
          "Month": "2005-07",
          "value": 20,
          "variable": "googtrend_sym_wnv"
         },
         {
          "Month": "2005-08",
          "value": 48,
          "variable": "googtrend_sym_wnv"
         },
         {
          "Month": "2005-09",
          "value": 54,
          "variable": "googtrend_sym_wnv"
         },
         {
          "Month": "2005-10",
          "value": 17,
          "variable": "googtrend_sym_wnv"
         },
         {
          "Month": "2005-11",
          "value": 0,
          "variable": "googtrend_sym_wnv"
         },
         {
          "Month": "2005-12",
          "value": 0,
          "variable": "googtrend_sym_wnv"
         },
         {
          "Month": "2006-01",
          "value": 0,
          "variable": "googtrend_sym_wnv"
         },
         {
          "Month": "2006-02",
          "value": 0,
          "variable": "googtrend_sym_wnv"
         },
         {
          "Month": "2006-03",
          "value": 0,
          "variable": "googtrend_sym_wnv"
         },
         {
          "Month": "2006-04",
          "value": 0,
          "variable": "googtrend_sym_wnv"
         },
         {
          "Month": "2006-05",
          "value": 13,
          "variable": "googtrend_sym_wnv"
         },
         {
          "Month": "2006-06",
          "value": 14,
          "variable": "googtrend_sym_wnv"
         },
         {
          "Month": "2006-07",
          "value": 13,
          "variable": "googtrend_sym_wnv"
         },
         {
          "Month": "2006-08",
          "value": 36,
          "variable": "googtrend_sym_wnv"
         },
         {
          "Month": "2006-09",
          "value": 37,
          "variable": "googtrend_sym_wnv"
         },
         {
          "Month": "2006-10",
          "value": 11,
          "variable": "googtrend_sym_wnv"
         },
         {
          "Month": "2006-11",
          "value": 0,
          "variable": "googtrend_sym_wnv"
         },
         {
          "Month": "2006-12",
          "value": 0,
          "variable": "googtrend_sym_wnv"
         },
         {
          "Month": "2007-01",
          "value": 10,
          "variable": "googtrend_sym_wnv"
         },
         {
          "Month": "2007-02",
          "value": 0,
          "variable": "googtrend_sym_wnv"
         },
         {
          "Month": "2007-03",
          "value": 0,
          "variable": "googtrend_sym_wnv"
         },
         {
          "Month": "2007-04",
          "value": 0,
          "variable": "googtrend_sym_wnv"
         },
         {
          "Month": "2007-05",
          "value": 0,
          "variable": "googtrend_sym_wnv"
         },
         {
          "Month": "2007-06",
          "value": 0,
          "variable": "googtrend_sym_wnv"
         },
         {
          "Month": "2007-07",
          "value": 9,
          "variable": "googtrend_sym_wnv"
         },
         {
          "Month": "2007-08",
          "value": 61,
          "variable": "googtrend_sym_wnv"
         },
         {
          "Month": "2007-09",
          "value": 37,
          "variable": "googtrend_sym_wnv"
         },
         {
          "Month": "2007-10",
          "value": 20,
          "variable": "googtrend_sym_wnv"
         },
         {
          "Month": "2007-11",
          "value": 8,
          "variable": "googtrend_sym_wnv"
         },
         {
          "Month": "2007-12",
          "value": 0,
          "variable": "googtrend_sym_wnv"
         },
         {
          "Month": "2008-01",
          "value": 0,
          "variable": "googtrend_sym_wnv"
         },
         {
          "Month": "2008-02",
          "value": 0,
          "variable": "googtrend_sym_wnv"
         },
         {
          "Month": "2008-03",
          "value": 0,
          "variable": "googtrend_sym_wnv"
         },
         {
          "Month": "2008-04",
          "value": 0,
          "variable": "googtrend_sym_wnv"
         },
         {
          "Month": "2008-05",
          "value": 0,
          "variable": "googtrend_sym_wnv"
         },
         {
          "Month": "2008-06",
          "value": 25,
          "variable": "googtrend_sym_wnv"
         },
         {
          "Month": "2008-07",
          "value": 8,
          "variable": "googtrend_sym_wnv"
         },
         {
          "Month": "2008-08",
          "value": 8,
          "variable": "googtrend_sym_wnv"
         },
         {
          "Month": "2008-09",
          "value": 15,
          "variable": "googtrend_sym_wnv"
         },
         {
          "Month": "2008-10",
          "value": 0,
          "variable": "googtrend_sym_wnv"
         },
         {
          "Month": "2008-11",
          "value": 0,
          "variable": "googtrend_sym_wnv"
         },
         {
          "Month": "2008-12",
          "value": 0,
          "variable": "googtrend_sym_wnv"
         },
         {
          "Month": "2009-01",
          "value": 0,
          "variable": "googtrend_sym_wnv"
         },
         {
          "Month": "2009-02",
          "value": 0,
          "variable": "googtrend_sym_wnv"
         },
         {
          "Month": "2009-03",
          "value": 0,
          "variable": "googtrend_sym_wnv"
         },
         {
          "Month": "2009-04",
          "value": 0,
          "variable": "googtrend_sym_wnv"
         },
         {
          "Month": "2009-05",
          "value": 0,
          "variable": "googtrend_sym_wnv"
         },
         {
          "Month": "2009-06",
          "value": 15,
          "variable": "googtrend_sym_wnv"
         },
         {
          "Month": "2009-07",
          "value": 7,
          "variable": "googtrend_sym_wnv"
         },
         {
          "Month": "2009-08",
          "value": 7,
          "variable": "googtrend_sym_wnv"
         },
         {
          "Month": "2009-09",
          "value": 11,
          "variable": "googtrend_sym_wnv"
         },
         {
          "Month": "2009-10",
          "value": 0,
          "variable": "googtrend_sym_wnv"
         },
         {
          "Month": "2009-11",
          "value": 0,
          "variable": "googtrend_sym_wnv"
         },
         {
          "Month": "2009-12",
          "value": 0,
          "variable": "googtrend_sym_wnv"
         },
         {
          "Month": "2010-01",
          "value": 6,
          "variable": "googtrend_sym_wnv"
         },
         {
          "Month": "2010-02",
          "value": 0,
          "variable": "googtrend_sym_wnv"
         },
         {
          "Month": "2010-03",
          "value": 0,
          "variable": "googtrend_sym_wnv"
         },
         {
          "Month": "2010-04",
          "value": 0,
          "variable": "googtrend_sym_wnv"
         },
         {
          "Month": "2010-05",
          "value": 0,
          "variable": "googtrend_sym_wnv"
         },
         {
          "Month": "2010-06",
          "value": 17,
          "variable": "googtrend_sym_wnv"
         },
         {
          "Month": "2010-07",
          "value": 13,
          "variable": "googtrend_sym_wnv"
         },
         {
          "Month": "2010-08",
          "value": 25,
          "variable": "googtrend_sym_wnv"
         },
         {
          "Month": "2010-09",
          "value": 19,
          "variable": "googtrend_sym_wnv"
         },
         {
          "Month": "2010-10",
          "value": 0,
          "variable": "googtrend_sym_wnv"
         },
         {
          "Month": "2010-11",
          "value": 0,
          "variable": "googtrend_sym_wnv"
         },
         {
          "Month": "2010-12",
          "value": 6,
          "variable": "googtrend_sym_wnv"
         },
         {
          "Month": "2011-01",
          "value": 3,
          "variable": "googtrend_sym_wnv"
         },
         {
          "Month": "2011-02",
          "value": 6,
          "variable": "googtrend_sym_wnv"
         },
         {
          "Month": "2011-03",
          "value": 0,
          "variable": "googtrend_sym_wnv"
         },
         {
          "Month": "2011-04",
          "value": 3,
          "variable": "googtrend_sym_wnv"
         },
         {
          "Month": "2011-05",
          "value": 7,
          "variable": "googtrend_sym_wnv"
         },
         {
          "Month": "2011-06",
          "value": 16,
          "variable": "googtrend_sym_wnv"
         },
         {
          "Month": "2011-07",
          "value": 18,
          "variable": "googtrend_sym_wnv"
         },
         {
          "Month": "2011-08",
          "value": 25,
          "variable": "googtrend_sym_wnv"
         },
         {
          "Month": "2011-09",
          "value": 6,
          "variable": "googtrend_sym_wnv"
         },
         {
          "Month": "2011-10",
          "value": 2,
          "variable": "googtrend_sym_wnv"
         },
         {
          "Month": "2011-11",
          "value": 0,
          "variable": "googtrend_sym_wnv"
         },
         {
          "Month": "2011-12",
          "value": 0,
          "variable": "googtrend_sym_wnv"
         },
         {
          "Month": "2012-01",
          "value": 0,
          "variable": "googtrend_sym_wnv"
         },
         {
          "Month": "2012-02",
          "value": 0,
          "variable": "googtrend_sym_wnv"
         },
         {
          "Month": "2012-03",
          "value": 2,
          "variable": "googtrend_sym_wnv"
         },
         {
          "Month": "2012-04",
          "value": 0,
          "variable": "googtrend_sym_wnv"
         },
         {
          "Month": "2012-05",
          "value": 6,
          "variable": "googtrend_sym_wnv"
         },
         {
          "Month": "2012-06",
          "value": 6,
          "variable": "googtrend_sym_wnv"
         },
         {
          "Month": "2012-07",
          "value": 15,
          "variable": "googtrend_sym_wnv"
         },
         {
          "Month": "2012-08",
          "value": 100,
          "variable": "googtrend_sym_wnv"
         },
         {
          "Month": "2012-09",
          "value": 85,
          "variable": "googtrend_sym_wnv"
         },
         {
          "Month": "2012-10",
          "value": 22,
          "variable": "googtrend_sym_wnv"
         },
         {
          "Month": "2012-11",
          "value": 8,
          "variable": "googtrend_sym_wnv"
         },
         {
          "Month": "2012-12",
          "value": 2,
          "variable": "googtrend_sym_wnv"
         },
         {
          "Month": "2013-01",
          "value": 2,
          "variable": "googtrend_sym_wnv"
         },
         {
          "Month": "2013-02",
          "value": 0,
          "variable": "googtrend_sym_wnv"
         },
         {
          "Month": "2013-03",
          "value": 2,
          "variable": "googtrend_sym_wnv"
         },
         {
          "Month": "2013-04",
          "value": 0,
          "variable": "googtrend_sym_wnv"
         },
         {
          "Month": "2013-05",
          "value": 5,
          "variable": "googtrend_sym_wnv"
         },
         {
          "Month": "2013-06",
          "value": 8,
          "variable": "googtrend_sym_wnv"
         },
         {
          "Month": "2013-07",
          "value": 24,
          "variable": "googtrend_sym_wnv"
         },
         {
          "Month": "2013-08",
          "value": 6,
          "variable": "googtrend_sym_wnv"
         },
         {
          "Month": "2013-09",
          "value": 10,
          "variable": "googtrend_sym_wnv"
         },
         {
          "Month": "2013-10",
          "value": 2,
          "variable": "googtrend_sym_wnv"
         },
         {
          "Month": "2013-11",
          "value": 2,
          "variable": "googtrend_sym_wnv"
         },
         {
          "Month": "2013-12",
          "value": 2,
          "variable": "googtrend_sym_wnv"
         },
         {
          "Month": "2014-01",
          "value": 0,
          "variable": "googtrend_sym_wnv"
         },
         {
          "Month": "2014-02",
          "value": 0,
          "variable": "googtrend_sym_wnv"
         },
         {
          "Month": "2014-03",
          "value": 2,
          "variable": "googtrend_sym_wnv"
         },
         {
          "Month": "2014-04",
          "value": 0,
          "variable": "googtrend_sym_wnv"
         },
         {
          "Month": "2014-05",
          "value": 2,
          "variable": "googtrend_sym_wnv"
         },
         {
          "Month": "2014-06",
          "value": 18,
          "variable": "googtrend_sym_wnv"
         },
         {
          "Month": "2014-07",
          "value": 33,
          "variable": "googtrend_sym_wnv"
         },
         {
          "Month": "2014-08",
          "value": 23,
          "variable": "googtrend_sym_wnv"
         },
         {
          "Month": "2014-09",
          "value": 22,
          "variable": "googtrend_sym_wnv"
         },
         {
          "Month": "2014-10",
          "value": 5,
          "variable": "googtrend_sym_wnv"
         },
         {
          "Month": "2014-11",
          "value": 2,
          "variable": "googtrend_sym_wnv"
         },
         {
          "Month": "2014-12",
          "value": 0,
          "variable": "googtrend_sym_wnv"
         },
         {
          "Month": "2015-01",
          "value": 5,
          "variable": "googtrend_sym_wnv"
         },
         {
          "Month": "2015-02",
          "value": 0,
          "variable": "googtrend_sym_wnv"
         },
         {
          "Month": "2015-03",
          "value": 2,
          "variable": "googtrend_sym_wnv"
         },
         {
          "Month": "2015-04",
          "value": 0,
          "variable": "googtrend_sym_wnv"
         },
         {
          "Month": "2015-05",
          "value": 2,
          "variable": "googtrend_sym_wnv"
         },
         {
          "Month": "2015-06",
          "value": 10,
          "variable": "googtrend_sym_wnv"
         },
         {
          "Month": "2015-07",
          "value": 18,
          "variable": "googtrend_sym_wnv"
         },
         {
          "Month": "2015-08",
          "value": 14,
          "variable": "googtrend_sym_wnv"
         },
         {
          "Month": "2015-09",
          "value": 9,
          "variable": "googtrend_sym_wnv"
         },
         {
          "Month": "2015-10",
          "value": 3,
          "variable": "googtrend_sym_wnv"
         },
         {
          "Month": "2015-11",
          "value": 2,
          "variable": "googtrend_sym_wnv"
         },
         {
          "Month": "2015-12",
          "value": 0,
          "variable": "googtrend_sym_wnv"
         },
         {
          "Month": "2016-01",
          "value": 0,
          "variable": "googtrend_sym_wnv"
         },
         {
          "Month": "2016-02",
          "value": 2,
          "variable": "googtrend_sym_wnv"
         },
         {
          "Month": "2016-03",
          "value": 0,
          "variable": "googtrend_sym_wnv"
         },
         {
          "Month": "2016-04",
          "value": 3,
          "variable": "googtrend_sym_wnv"
         },
         {
          "Month": "2016-05",
          "value": 1,
          "variable": "googtrend_sym_wnv"
         },
         {
          "Month": "2016-06",
          "value": 3,
          "variable": "googtrend_sym_wnv"
         },
         {
          "Month": "2016-07",
          "value": 5,
          "variable": "googtrend_sym_wnv"
         },
         {
          "Month": "2016-08",
          "value": 5,
          "variable": "googtrend_sym_wnv"
         },
         {
          "Month": "2016-09",
          "value": 6,
          "variable": "googtrend_sym_wnv"
         },
         {
          "Month": "2016-10",
          "value": 1,
          "variable": "googtrend_sym_wnv"
         },
         {
          "Month": "2016-11",
          "value": 1,
          "variable": "googtrend_sym_wnv"
         },
         {
          "Month": "2016-12",
          "value": 1,
          "variable": "googtrend_sym_wnv"
         },
         {
          "Month": "2017-01",
          "value": 0,
          "variable": "googtrend_sym_wnv"
         },
         {
          "Month": "2017-02",
          "value": 0,
          "variable": "googtrend_sym_wnv"
         },
         {
          "Month": "2017-03",
          "value": 1,
          "variable": "googtrend_sym_wnv"
         },
         {
          "Month": "2017-04",
          "value": 0,
          "variable": "googtrend_sym_wnv"
         },
         {
          "Month": "2017-05",
          "value": 2,
          "variable": "googtrend_sym_wnv"
         },
         {
          "Month": "2017-06",
          "value": 2,
          "variable": "googtrend_sym_wnv"
         },
         {
          "Month": "2017-07",
          "value": 16,
          "variable": "googtrend_sym_wnv"
         },
         {
          "Month": "2017-08",
          "value": 9,
          "variable": "googtrend_sym_wnv"
         },
         {
          "Month": "2017-09",
          "value": 3,
          "variable": "googtrend_sym_wnv"
         },
         {
          "Month": "2017-10",
          "value": 2,
          "variable": "googtrend_sym_wnv"
         },
         {
          "Month": "2017-11",
          "value": 0,
          "variable": "googtrend_sym_wnv"
         },
         {
          "Month": "2017-12",
          "value": 0,
          "variable": "googtrend_sym_wnv"
         },
         {
          "Month": "2018-01",
          "value": 0,
          "variable": "googtrend_sym_wnv"
         },
         {
          "Month": "2018-02",
          "value": 0,
          "variable": "googtrend_sym_wnv"
         },
         {
          "Month": "2018-03",
          "value": 0,
          "variable": "googtrend_sym_wnv"
         },
         {
          "Month": "2018-04",
          "value": 2,
          "variable": "googtrend_sym_wnv"
         },
         {
          "Month": "2018-05",
          "value": 4,
          "variable": "googtrend_sym_wnv"
         },
         {
          "Month": "2018-06",
          "value": 8,
          "variable": "googtrend_sym_wnv"
         },
         {
          "Month": "2018-07",
          "value": 11,
          "variable": "googtrend_sym_wnv"
         },
         {
          "Month": "2018-08",
          "value": 10,
          "variable": "googtrend_sym_wnv"
         },
         {
          "Month": "2018-09",
          "value": 7,
          "variable": "googtrend_sym_wnv"
         },
         {
          "Month": "2018-10",
          "value": 5,
          "variable": "googtrend_sym_wnv"
         },
         {
          "Month": "2018-11",
          "value": 0,
          "variable": "googtrend_sym_wnv"
         },
         {
          "Month": "2018-12",
          "value": 2,
          "variable": "googtrend_sym_wnv"
         },
         {
          "Month": "2019-01",
          "value": 0,
          "variable": "googtrend_sym_wnv"
         },
         {
          "Month": "2004-01",
          "value": 0,
          "variable": "googtrend_deadbirds"
         },
         {
          "Month": "2004-02",
          "value": 0,
          "variable": "googtrend_deadbirds"
         },
         {
          "Month": "2004-03",
          "value": 5,
          "variable": "googtrend_deadbirds"
         },
         {
          "Month": "2004-04",
          "value": 0,
          "variable": "googtrend_deadbirds"
         },
         {
          "Month": "2004-05",
          "value": 0,
          "variable": "googtrend_deadbirds"
         },
         {
          "Month": "2004-06",
          "value": 0,
          "variable": "googtrend_deadbirds"
         },
         {
          "Month": "2004-07",
          "value": 4,
          "variable": "googtrend_deadbirds"
         },
         {
          "Month": "2004-08",
          "value": 3,
          "variable": "googtrend_deadbirds"
         },
         {
          "Month": "2004-09",
          "value": 0,
          "variable": "googtrend_deadbirds"
         },
         {
          "Month": "2004-10",
          "value": 0,
          "variable": "googtrend_deadbirds"
         },
         {
          "Month": "2004-11",
          "value": 0,
          "variable": "googtrend_deadbirds"
         },
         {
          "Month": "2004-12",
          "value": 3,
          "variable": "googtrend_deadbirds"
         },
         {
          "Month": "2005-01",
          "value": 0,
          "variable": "googtrend_deadbirds"
         },
         {
          "Month": "2005-02",
          "value": 0,
          "variable": "googtrend_deadbirds"
         },
         {
          "Month": "2005-03",
          "value": 0,
          "variable": "googtrend_deadbirds"
         },
         {
          "Month": "2005-04",
          "value": 0,
          "variable": "googtrend_deadbirds"
         },
         {
          "Month": "2005-05",
          "value": 2,
          "variable": "googtrend_deadbirds"
         },
         {
          "Month": "2005-06",
          "value": 5,
          "variable": "googtrend_deadbirds"
         },
         {
          "Month": "2005-07",
          "value": 2,
          "variable": "googtrend_deadbirds"
         },
         {
          "Month": "2005-08",
          "value": 0,
          "variable": "googtrend_deadbirds"
         },
         {
          "Month": "2005-09",
          "value": 2,
          "variable": "googtrend_deadbirds"
         },
         {
          "Month": "2005-10",
          "value": 0,
          "variable": "googtrend_deadbirds"
         },
         {
          "Month": "2005-11",
          "value": 2,
          "variable": "googtrend_deadbirds"
         },
         {
          "Month": "2005-12",
          "value": 0,
          "variable": "googtrend_deadbirds"
         },
         {
          "Month": "2006-01",
          "value": 0,
          "variable": "googtrend_deadbirds"
         },
         {
          "Month": "2006-02",
          "value": 0,
          "variable": "googtrend_deadbirds"
         },
         {
          "Month": "2006-03",
          "value": 2,
          "variable": "googtrend_deadbirds"
         },
         {
          "Month": "2006-04",
          "value": 5,
          "variable": "googtrend_deadbirds"
         },
         {
          "Month": "2006-05",
          "value": 0,
          "variable": "googtrend_deadbirds"
         },
         {
          "Month": "2006-06",
          "value": 3,
          "variable": "googtrend_deadbirds"
         },
         {
          "Month": "2006-07",
          "value": 0,
          "variable": "googtrend_deadbirds"
         },
         {
          "Month": "2006-08",
          "value": 1,
          "variable": "googtrend_deadbirds"
         },
         {
          "Month": "2006-09",
          "value": 1,
          "variable": "googtrend_deadbirds"
         },
         {
          "Month": "2006-10",
          "value": 1,
          "variable": "googtrend_deadbirds"
         },
         {
          "Month": "2006-11",
          "value": 0,
          "variable": "googtrend_deadbirds"
         },
         {
          "Month": "2006-12",
          "value": 0,
          "variable": "googtrend_deadbirds"
         },
         {
          "Month": "2007-01",
          "value": 7,
          "variable": "googtrend_deadbirds"
         },
         {
          "Month": "2007-02",
          "value": 0,
          "variable": "googtrend_deadbirds"
         },
         {
          "Month": "2007-03",
          "value": 0,
          "variable": "googtrend_deadbirds"
         },
         {
          "Month": "2007-04",
          "value": 1,
          "variable": "googtrend_deadbirds"
         },
         {
          "Month": "2007-05",
          "value": 2,
          "variable": "googtrend_deadbirds"
         },
         {
          "Month": "2007-06",
          "value": 1,
          "variable": "googtrend_deadbirds"
         },
         {
          "Month": "2007-07",
          "value": 1,
          "variable": "googtrend_deadbirds"
         },
         {
          "Month": "2007-08",
          "value": 1,
          "variable": "googtrend_deadbirds"
         },
         {
          "Month": "2007-09",
          "value": 1,
          "variable": "googtrend_deadbirds"
         },
         {
          "Month": "2007-10",
          "value": 0,
          "variable": "googtrend_deadbirds"
         },
         {
          "Month": "2007-11",
          "value": 0,
          "variable": "googtrend_deadbirds"
         },
         {
          "Month": "2007-12",
          "value": 0,
          "variable": "googtrend_deadbirds"
         },
         {
          "Month": "2008-01",
          "value": 1,
          "variable": "googtrend_deadbirds"
         },
         {
          "Month": "2008-02",
          "value": 1,
          "variable": "googtrend_deadbirds"
         },
         {
          "Month": "2008-03",
          "value": 1,
          "variable": "googtrend_deadbirds"
         },
         {
          "Month": "2008-04",
          "value": 1,
          "variable": "googtrend_deadbirds"
         },
         {
          "Month": "2008-05",
          "value": 1,
          "variable": "googtrend_deadbirds"
         },
         {
          "Month": "2008-06",
          "value": 2,
          "variable": "googtrend_deadbirds"
         },
         {
          "Month": "2008-07",
          "value": 1,
          "variable": "googtrend_deadbirds"
         },
         {
          "Month": "2008-08",
          "value": 2,
          "variable": "googtrend_deadbirds"
         },
         {
          "Month": "2008-09",
          "value": 2,
          "variable": "googtrend_deadbirds"
         },
         {
          "Month": "2008-10",
          "value": 1,
          "variable": "googtrend_deadbirds"
         },
         {
          "Month": "2008-11",
          "value": 1,
          "variable": "googtrend_deadbirds"
         },
         {
          "Month": "2008-12",
          "value": 1,
          "variable": "googtrend_deadbirds"
         },
         {
          "Month": "2009-01",
          "value": 1,
          "variable": "googtrend_deadbirds"
         },
         {
          "Month": "2009-02",
          "value": 1,
          "variable": "googtrend_deadbirds"
         },
         {
          "Month": "2009-03",
          "value": 1,
          "variable": "googtrend_deadbirds"
         },
         {
          "Month": "2009-04",
          "value": 1,
          "variable": "googtrend_deadbirds"
         },
         {
          "Month": "2009-05",
          "value": 1,
          "variable": "googtrend_deadbirds"
         },
         {
          "Month": "2009-06",
          "value": 3,
          "variable": "googtrend_deadbirds"
         },
         {
          "Month": "2009-07",
          "value": 1,
          "variable": "googtrend_deadbirds"
         },
         {
          "Month": "2009-08",
          "value": 1,
          "variable": "googtrend_deadbirds"
         },
         {
          "Month": "2009-09",
          "value": 1,
          "variable": "googtrend_deadbirds"
         },
         {
          "Month": "2009-10",
          "value": 1,
          "variable": "googtrend_deadbirds"
         },
         {
          "Month": "2009-11",
          "value": 1,
          "variable": "googtrend_deadbirds"
         },
         {
          "Month": "2009-12",
          "value": 1,
          "variable": "googtrend_deadbirds"
         },
         {
          "Month": "2010-01",
          "value": 1,
          "variable": "googtrend_deadbirds"
         },
         {
          "Month": "2010-02",
          "value": 1,
          "variable": "googtrend_deadbirds"
         },
         {
          "Month": "2010-03",
          "value": 1,
          "variable": "googtrend_deadbirds"
         },
         {
          "Month": "2010-04",
          "value": 1,
          "variable": "googtrend_deadbirds"
         },
         {
          "Month": "2010-05",
          "value": 1,
          "variable": "googtrend_deadbirds"
         },
         {
          "Month": "2010-06",
          "value": 1,
          "variable": "googtrend_deadbirds"
         },
         {
          "Month": "2010-07",
          "value": 1,
          "variable": "googtrend_deadbirds"
         },
         {
          "Month": "2010-08",
          "value": 1,
          "variable": "googtrend_deadbirds"
         },
         {
          "Month": "2010-09",
          "value": 2,
          "variable": "googtrend_deadbirds"
         },
         {
          "Month": "2010-10",
          "value": 1,
          "variable": "googtrend_deadbirds"
         },
         {
          "Month": "2010-11",
          "value": 1,
          "variable": "googtrend_deadbirds"
         },
         {
          "Month": "2010-12",
          "value": 0,
          "variable": "googtrend_deadbirds"
         },
         {
          "Month": "2011-01",
          "value": 100,
          "variable": "googtrend_deadbirds"
         },
         {
          "Month": "2011-02",
          "value": 7,
          "variable": "googtrend_deadbirds"
         },
         {
          "Month": "2011-03",
          "value": 3,
          "variable": "googtrend_deadbirds"
         },
         {
          "Month": "2011-04",
          "value": 2,
          "variable": "googtrend_deadbirds"
         },
         {
          "Month": "2011-05",
          "value": 2,
          "variable": "googtrend_deadbirds"
         },
         {
          "Month": "2011-06",
          "value": 1,
          "variable": "googtrend_deadbirds"
         },
         {
          "Month": "2011-07",
          "value": 1,
          "variable": "googtrend_deadbirds"
         },
         {
          "Month": "2011-08",
          "value": 2,
          "variable": "googtrend_deadbirds"
         },
         {
          "Month": "2011-09",
          "value": 1,
          "variable": "googtrend_deadbirds"
         },
         {
          "Month": "2011-10",
          "value": 1,
          "variable": "googtrend_deadbirds"
         },
         {
          "Month": "2011-11",
          "value": 1,
          "variable": "googtrend_deadbirds"
         },
         {
          "Month": "2011-12",
          "value": 1,
          "variable": "googtrend_deadbirds"
         },
         {
          "Month": "2012-01",
          "value": 2,
          "variable": "googtrend_deadbirds"
         },
         {
          "Month": "2012-02",
          "value": 1,
          "variable": "googtrend_deadbirds"
         },
         {
          "Month": "2012-03",
          "value": 1,
          "variable": "googtrend_deadbirds"
         },
         {
          "Month": "2012-04",
          "value": 1,
          "variable": "googtrend_deadbirds"
         },
         {
          "Month": "2012-05",
          "value": 2,
          "variable": "googtrend_deadbirds"
         },
         {
          "Month": "2012-06",
          "value": 1,
          "variable": "googtrend_deadbirds"
         },
         {
          "Month": "2012-07",
          "value": 1,
          "variable": "googtrend_deadbirds"
         },
         {
          "Month": "2012-08",
          "value": 1,
          "variable": "googtrend_deadbirds"
         },
         {
          "Month": "2012-09",
          "value": 1,
          "variable": "googtrend_deadbirds"
         },
         {
          "Month": "2012-10",
          "value": 1,
          "variable": "googtrend_deadbirds"
         },
         {
          "Month": "2012-11",
          "value": 0,
          "variable": "googtrend_deadbirds"
         },
         {
          "Month": "2012-12",
          "value": 1,
          "variable": "googtrend_deadbirds"
         },
         {
          "Month": "2013-01",
          "value": 0,
          "variable": "googtrend_deadbirds"
         },
         {
          "Month": "2013-02",
          "value": 1,
          "variable": "googtrend_deadbirds"
         },
         {
          "Month": "2013-03",
          "value": 1,
          "variable": "googtrend_deadbirds"
         },
         {
          "Month": "2013-04",
          "value": 1,
          "variable": "googtrend_deadbirds"
         },
         {
          "Month": "2013-05",
          "value": 1,
          "variable": "googtrend_deadbirds"
         },
         {
          "Month": "2013-06",
          "value": 1,
          "variable": "googtrend_deadbirds"
         },
         {
          "Month": "2013-07",
          "value": 1,
          "variable": "googtrend_deadbirds"
         },
         {
          "Month": "2013-08",
          "value": 1,
          "variable": "googtrend_deadbirds"
         },
         {
          "Month": "2013-09",
          "value": 1,
          "variable": "googtrend_deadbirds"
         },
         {
          "Month": "2013-10",
          "value": 1,
          "variable": "googtrend_deadbirds"
         },
         {
          "Month": "2013-11",
          "value": 0,
          "variable": "googtrend_deadbirds"
         },
         {
          "Month": "2013-12",
          "value": 1,
          "variable": "googtrend_deadbirds"
         },
         {
          "Month": "2014-01",
          "value": 1,
          "variable": "googtrend_deadbirds"
         },
         {
          "Month": "2014-02",
          "value": 1,
          "variable": "googtrend_deadbirds"
         },
         {
          "Month": "2014-03",
          "value": 0,
          "variable": "googtrend_deadbirds"
         },
         {
          "Month": "2014-04",
          "value": 1,
          "variable": "googtrend_deadbirds"
         },
         {
          "Month": "2014-05",
          "value": 1,
          "variable": "googtrend_deadbirds"
         },
         {
          "Month": "2014-06",
          "value": 1,
          "variable": "googtrend_deadbirds"
         },
         {
          "Month": "2014-07",
          "value": 0,
          "variable": "googtrend_deadbirds"
         },
         {
          "Month": "2014-08",
          "value": 1,
          "variable": "googtrend_deadbirds"
         },
         {
          "Month": "2014-09",
          "value": 0,
          "variable": "googtrend_deadbirds"
         },
         {
          "Month": "2014-10",
          "value": 1,
          "variable": "googtrend_deadbirds"
         },
         {
          "Month": "2014-11",
          "value": 1,
          "variable": "googtrend_deadbirds"
         },
         {
          "Month": "2014-12",
          "value": 0,
          "variable": "googtrend_deadbirds"
         },
         {
          "Month": "2015-01",
          "value": 0,
          "variable": "googtrend_deadbirds"
         },
         {
          "Month": "2015-02",
          "value": 1,
          "variable": "googtrend_deadbirds"
         },
         {
          "Month": "2015-03",
          "value": 1,
          "variable": "googtrend_deadbirds"
         },
         {
          "Month": "2015-04",
          "value": 1,
          "variable": "googtrend_deadbirds"
         },
         {
          "Month": "2015-05",
          "value": 1,
          "variable": "googtrend_deadbirds"
         },
         {
          "Month": "2015-06",
          "value": 0,
          "variable": "googtrend_deadbirds"
         },
         {
          "Month": "2015-07",
          "value": 1,
          "variable": "googtrend_deadbirds"
         },
         {
          "Month": "2015-08",
          "value": 2,
          "variable": "googtrend_deadbirds"
         },
         {
          "Month": "2015-09",
          "value": 1,
          "variable": "googtrend_deadbirds"
         },
         {
          "Month": "2015-10",
          "value": 0,
          "variable": "googtrend_deadbirds"
         },
         {
          "Month": "2015-11",
          "value": 0,
          "variable": "googtrend_deadbirds"
         },
         {
          "Month": "2015-12",
          "value": 0,
          "variable": "googtrend_deadbirds"
         },
         {
          "Month": "2016-01",
          "value": 1,
          "variable": "googtrend_deadbirds"
         },
         {
          "Month": "2016-02",
          "value": 0,
          "variable": "googtrend_deadbirds"
         },
         {
          "Month": "2016-03",
          "value": 0,
          "variable": "googtrend_deadbirds"
         },
         {
          "Month": "2016-04",
          "value": 0,
          "variable": "googtrend_deadbirds"
         },
         {
          "Month": "2016-05",
          "value": 1,
          "variable": "googtrend_deadbirds"
         },
         {
          "Month": "2016-06",
          "value": 1,
          "variable": "googtrend_deadbirds"
         },
         {
          "Month": "2016-07",
          "value": 0,
          "variable": "googtrend_deadbirds"
         },
         {
          "Month": "2016-08",
          "value": 1,
          "variable": "googtrend_deadbirds"
         },
         {
          "Month": "2016-09",
          "value": 1,
          "variable": "googtrend_deadbirds"
         },
         {
          "Month": "2016-10",
          "value": 1,
          "variable": "googtrend_deadbirds"
         },
         {
          "Month": "2016-11",
          "value": 1,
          "variable": "googtrend_deadbirds"
         },
         {
          "Month": "2016-12",
          "value": 0,
          "variable": "googtrend_deadbirds"
         },
         {
          "Month": "2017-01",
          "value": 0,
          "variable": "googtrend_deadbirds"
         },
         {
          "Month": "2017-02",
          "value": 0,
          "variable": "googtrend_deadbirds"
         },
         {
          "Month": "2017-03",
          "value": 0,
          "variable": "googtrend_deadbirds"
         },
         {
          "Month": "2017-04",
          "value": 0,
          "variable": "googtrend_deadbirds"
         },
         {
          "Month": "2017-05",
          "value": 1,
          "variable": "googtrend_deadbirds"
         },
         {
          "Month": "2017-06",
          "value": 1,
          "variable": "googtrend_deadbirds"
         },
         {
          "Month": "2017-07",
          "value": 0,
          "variable": "googtrend_deadbirds"
         },
         {
          "Month": "2017-08",
          "value": 1,
          "variable": "googtrend_deadbirds"
         },
         {
          "Month": "2017-09",
          "value": 1,
          "variable": "googtrend_deadbirds"
         },
         {
          "Month": "2017-10",
          "value": 1,
          "variable": "googtrend_deadbirds"
         },
         {
          "Month": "2017-11",
          "value": 1,
          "variable": "googtrend_deadbirds"
         },
         {
          "Month": "2017-12",
          "value": 0,
          "variable": "googtrend_deadbirds"
         },
         {
          "Month": "2018-01",
          "value": 0,
          "variable": "googtrend_deadbirds"
         },
         {
          "Month": "2018-02",
          "value": 1,
          "variable": "googtrend_deadbirds"
         },
         {
          "Month": "2018-03",
          "value": 1,
          "variable": "googtrend_deadbirds"
         },
         {
          "Month": "2018-04",
          "value": 1,
          "variable": "googtrend_deadbirds"
         },
         {
          "Month": "2018-05",
          "value": 1,
          "variable": "googtrend_deadbirds"
         },
         {
          "Month": "2018-06",
          "value": 1,
          "variable": "googtrend_deadbirds"
         },
         {
          "Month": "2018-07",
          "value": 1,
          "variable": "googtrend_deadbirds"
         },
         {
          "Month": "2018-08",
          "value": 1,
          "variable": "googtrend_deadbirds"
         },
         {
          "Month": "2018-09",
          "value": 1,
          "variable": "googtrend_deadbirds"
         },
         {
          "Month": "2018-10",
          "value": 1,
          "variable": "googtrend_deadbirds"
         },
         {
          "Month": "2018-11",
          "value": 1,
          "variable": "googtrend_deadbirds"
         },
         {
          "Month": "2018-12",
          "value": 0,
          "variable": "googtrend_deadbirds"
         },
         {
          "Month": "2019-01",
          "value": 1,
          "variable": "googtrend_deadbirds"
         },
         {
          "Month": "2004-01",
          "value": 5,
          "variable": "googtrend_westnile"
         },
         {
          "Month": "2004-02",
          "value": 6,
          "variable": "googtrend_westnile"
         },
         {
          "Month": "2004-03",
          "value": 8,
          "variable": "googtrend_westnile"
         },
         {
          "Month": "2004-04",
          "value": 14,
          "variable": "googtrend_westnile"
         },
         {
          "Month": "2004-05",
          "value": 20,
          "variable": "googtrend_westnile"
         },
         {
          "Month": "2004-06",
          "value": 91,
          "variable": "googtrend_westnile"
         },
         {
          "Month": "2004-07",
          "value": 75,
          "variable": "googtrend_westnile"
         },
         {
          "Month": "2004-08",
          "value": 44,
          "variable": "googtrend_westnile"
         },
         {
          "Month": "2004-09",
          "value": 37,
          "variable": "googtrend_westnile"
         },
         {
          "Month": "2004-10",
          "value": 16,
          "variable": "googtrend_westnile"
         },
         {
          "Month": "2004-11",
          "value": 0,
          "variable": "googtrend_westnile"
         },
         {
          "Month": "2004-12",
          "value": 5,
          "variable": "googtrend_westnile"
         },
         {
          "Month": "2005-01",
          "value": 6,
          "variable": "googtrend_westnile"
         },
         {
          "Month": "2005-02",
          "value": 5,
          "variable": "googtrend_westnile"
         },
         {
          "Month": "2005-03",
          "value": 2,
          "variable": "googtrend_westnile"
         },
         {
          "Month": "2005-04",
          "value": 7,
          "variable": "googtrend_westnile"
         },
         {
          "Month": "2005-05",
          "value": 11,
          "variable": "googtrend_westnile"
         },
         {
          "Month": "2005-06",
          "value": 18,
          "variable": "googtrend_westnile"
         },
         {
          "Month": "2005-07",
          "value": 41,
          "variable": "googtrend_westnile"
         },
         {
          "Month": "2005-08",
          "value": 100,
          "variable": "googtrend_westnile"
         },
         {
          "Month": "2005-09",
          "value": 49,
          "variable": "googtrend_westnile"
         },
         {
          "Month": "2005-10",
          "value": 13,
          "variable": "googtrend_westnile"
         },
         {
          "Month": "2005-11",
          "value": 8,
          "variable": "googtrend_westnile"
         },
         {
          "Month": "2005-12",
          "value": 2,
          "variable": "googtrend_westnile"
         },
         {
          "Month": "2006-01",
          "value": 2,
          "variable": "googtrend_westnile"
         },
         {
          "Month": "2006-02",
          "value": 5,
          "variable": "googtrend_westnile"
         },
         {
          "Month": "2006-03",
          "value": 8,
          "variable": "googtrend_westnile"
         },
         {
          "Month": "2006-04",
          "value": 2,
          "variable": "googtrend_westnile"
         },
         {
          "Month": "2006-05",
          "value": 10,
          "variable": "googtrend_westnile"
         },
         {
          "Month": "2006-06",
          "value": 14,
          "variable": "googtrend_westnile"
         },
         {
          "Month": "2006-07",
          "value": 27,
          "variable": "googtrend_westnile"
         },
         {
          "Month": "2006-08",
          "value": 61,
          "variable": "googtrend_westnile"
         },
         {
          "Month": "2006-09",
          "value": 51,
          "variable": "googtrend_westnile"
         },
         {
          "Month": "2006-10",
          "value": 17,
          "variable": "googtrend_westnile"
         },
         {
          "Month": "2006-11",
          "value": 5,
          "variable": "googtrend_westnile"
         },
         {
          "Month": "2006-12",
          "value": 4,
          "variable": "googtrend_westnile"
         },
         {
          "Month": "2007-01",
          "value": 3,
          "variable": "googtrend_westnile"
         },
         {
          "Month": "2007-02",
          "value": 4,
          "variable": "googtrend_westnile"
         },
         {
          "Month": "2007-03",
          "value": 3,
          "variable": "googtrend_westnile"
         },
         {
          "Month": "2007-04",
          "value": 5,
          "variable": "googtrend_westnile"
         },
         {
          "Month": "2007-05",
          "value": 16,
          "variable": "googtrend_westnile"
         },
         {
          "Month": "2007-06",
          "value": 14,
          "variable": "googtrend_westnile"
         },
         {
          "Month": "2007-07",
          "value": 22,
          "variable": "googtrend_westnile"
         },
         {
          "Month": "2007-08",
          "value": 57,
          "variable": "googtrend_westnile"
         },
         {
          "Month": "2007-09",
          "value": 58,
          "variable": "googtrend_westnile"
         },
         {
          "Month": "2007-10",
          "value": 9,
          "variable": "googtrend_westnile"
         },
         {
          "Month": "2007-11",
          "value": 6,
          "variable": "googtrend_westnile"
         },
         {
          "Month": "2007-12",
          "value": 4,
          "variable": "googtrend_westnile"
         },
         {
          "Month": "2008-01",
          "value": 2,
          "variable": "googtrend_westnile"
         },
         {
          "Month": "2008-02",
          "value": 3,
          "variable": "googtrend_westnile"
         },
         {
          "Month": "2008-03",
          "value": 3,
          "variable": "googtrend_westnile"
         },
         {
          "Month": "2008-04",
          "value": 3,
          "variable": "googtrend_westnile"
         },
         {
          "Month": "2008-05",
          "value": 3,
          "variable": "googtrend_westnile"
         },
         {
          "Month": "2008-06",
          "value": 19,
          "variable": "googtrend_westnile"
         },
         {
          "Month": "2008-07",
          "value": 19,
          "variable": "googtrend_westnile"
         },
         {
          "Month": "2008-08",
          "value": 18,
          "variable": "googtrend_westnile"
         },
         {
          "Month": "2008-09",
          "value": 14,
          "variable": "googtrend_westnile"
         },
         {
          "Month": "2008-10",
          "value": 8,
          "variable": "googtrend_westnile"
         },
         {
          "Month": "2008-11",
          "value": 1,
          "variable": "googtrend_westnile"
         },
         {
          "Month": "2008-12",
          "value": 3,
          "variable": "googtrend_westnile"
         },
         {
          "Month": "2009-01",
          "value": 3,
          "variable": "googtrend_westnile"
         },
         {
          "Month": "2009-02",
          "value": 3,
          "variable": "googtrend_westnile"
         },
         {
          "Month": "2009-03",
          "value": 2,
          "variable": "googtrend_westnile"
         },
         {
          "Month": "2009-04",
          "value": 4,
          "variable": "googtrend_westnile"
         },
         {
          "Month": "2009-05",
          "value": 4,
          "variable": "googtrend_westnile"
         },
         {
          "Month": "2009-06",
          "value": 6,
          "variable": "googtrend_westnile"
         },
         {
          "Month": "2009-07",
          "value": 5,
          "variable": "googtrend_westnile"
         },
         {
          "Month": "2009-08",
          "value": 6,
          "variable": "googtrend_westnile"
         },
         {
          "Month": "2009-09",
          "value": 6,
          "variable": "googtrend_westnile"
         },
         {
          "Month": "2009-10",
          "value": 5,
          "variable": "googtrend_westnile"
         },
         {
          "Month": "2009-11",
          "value": 2,
          "variable": "googtrend_westnile"
         },
         {
          "Month": "2009-12",
          "value": 2,
          "variable": "googtrend_westnile"
         },
         {
          "Month": "2010-01",
          "value": 3,
          "variable": "googtrend_westnile"
         },
         {
          "Month": "2010-02",
          "value": 2,
          "variable": "googtrend_westnile"
         },
         {
          "Month": "2010-03",
          "value": 1,
          "variable": "googtrend_westnile"
         },
         {
          "Month": "2010-04",
          "value": 4,
          "variable": "googtrend_westnile"
         },
         {
          "Month": "2010-05",
          "value": 3,
          "variable": "googtrend_westnile"
         },
         {
          "Month": "2010-06",
          "value": 8,
          "variable": "googtrend_westnile"
         },
         {
          "Month": "2010-07",
          "value": 14,
          "variable": "googtrend_westnile"
         },
         {
          "Month": "2010-08",
          "value": 26,
          "variable": "googtrend_westnile"
         },
         {
          "Month": "2010-09",
          "value": 9,
          "variable": "googtrend_westnile"
         },
         {
          "Month": "2010-10",
          "value": 3,
          "variable": "googtrend_westnile"
         },
         {
          "Month": "2010-11",
          "value": 3,
          "variable": "googtrend_westnile"
         },
         {
          "Month": "2010-12",
          "value": 1,
          "variable": "googtrend_westnile"
         },
         {
          "Month": "2011-01",
          "value": 2,
          "variable": "googtrend_westnile"
         },
         {
          "Month": "2011-02",
          "value": 1,
          "variable": "googtrend_westnile"
         },
         {
          "Month": "2011-03",
          "value": 1,
          "variable": "googtrend_westnile"
         },
         {
          "Month": "2011-04",
          "value": 2,
          "variable": "googtrend_westnile"
         },
         {
          "Month": "2011-05",
          "value": 3,
          "variable": "googtrend_westnile"
         },
         {
          "Month": "2011-06",
          "value": 9,
          "variable": "googtrend_westnile"
         },
         {
          "Month": "2011-07",
          "value": 12,
          "variable": "googtrend_westnile"
         },
         {
          "Month": "2011-08",
          "value": 17,
          "variable": "googtrend_westnile"
         },
         {
          "Month": "2011-09",
          "value": 6,
          "variable": "googtrend_westnile"
         },
         {
          "Month": "2011-10",
          "value": 2,
          "variable": "googtrend_westnile"
         },
         {
          "Month": "2011-11",
          "value": 2,
          "variable": "googtrend_westnile"
         },
         {
          "Month": "2011-12",
          "value": 1,
          "variable": "googtrend_westnile"
         },
         {
          "Month": "2012-01",
          "value": 1,
          "variable": "googtrend_westnile"
         },
         {
          "Month": "2012-02",
          "value": 2,
          "variable": "googtrend_westnile"
         },
         {
          "Month": "2012-03",
          "value": 2,
          "variable": "googtrend_westnile"
         },
         {
          "Month": "2012-04",
          "value": 2,
          "variable": "googtrend_westnile"
         },
         {
          "Month": "2012-05",
          "value": 4,
          "variable": "googtrend_westnile"
         },
         {
          "Month": "2012-06",
          "value": 7,
          "variable": "googtrend_westnile"
         },
         {
          "Month": "2012-07",
          "value": 15,
          "variable": "googtrend_westnile"
         },
         {
          "Month": "2012-08",
          "value": 93,
          "variable": "googtrend_westnile"
         },
         {
          "Month": "2012-09",
          "value": 65,
          "variable": "googtrend_westnile"
         },
         {
          "Month": "2012-10",
          "value": 16,
          "variable": "googtrend_westnile"
         },
         {
          "Month": "2012-11",
          "value": 4,
          "variable": "googtrend_westnile"
         },
         {
          "Month": "2012-12",
          "value": 2,
          "variable": "googtrend_westnile"
         },
         {
          "Month": "2013-01",
          "value": 1,
          "variable": "googtrend_westnile"
         },
         {
          "Month": "2013-02",
          "value": 1,
          "variable": "googtrend_westnile"
         },
         {
          "Month": "2013-03",
          "value": 1,
          "variable": "googtrend_westnile"
         },
         {
          "Month": "2013-04",
          "value": 2,
          "variable": "googtrend_westnile"
         },
         {
          "Month": "2013-05",
          "value": 4,
          "variable": "googtrend_westnile"
         },
         {
          "Month": "2013-06",
          "value": 11,
          "variable": "googtrend_westnile"
         },
         {
          "Month": "2013-07",
          "value": 21,
          "variable": "googtrend_westnile"
         },
         {
          "Month": "2013-08",
          "value": 14,
          "variable": "googtrend_westnile"
         },
         {
          "Month": "2013-09",
          "value": 13,
          "variable": "googtrend_westnile"
         },
         {
          "Month": "2013-10",
          "value": 5,
          "variable": "googtrend_westnile"
         },
         {
          "Month": "2013-11",
          "value": 1,
          "variable": "googtrend_westnile"
         },
         {
          "Month": "2013-12",
          "value": 2,
          "variable": "googtrend_westnile"
         },
         {
          "Month": "2014-01",
          "value": 1,
          "variable": "googtrend_westnile"
         },
         {
          "Month": "2014-02",
          "value": 1,
          "variable": "googtrend_westnile"
         },
         {
          "Month": "2014-03",
          "value": 1,
          "variable": "googtrend_westnile"
         },
         {
          "Month": "2014-04",
          "value": 1,
          "variable": "googtrend_westnile"
         },
         {
          "Month": "2014-05",
          "value": 2,
          "variable": "googtrend_westnile"
         },
         {
          "Month": "2014-06",
          "value": 12,
          "variable": "googtrend_westnile"
         },
         {
          "Month": "2014-07",
          "value": 20,
          "variable": "googtrend_westnile"
         },
         {
          "Month": "2014-08",
          "value": 16,
          "variable": "googtrend_westnile"
         },
         {
          "Month": "2014-09",
          "value": 18,
          "variable": "googtrend_westnile"
         },
         {
          "Month": "2014-10",
          "value": 5,
          "variable": "googtrend_westnile"
         },
         {
          "Month": "2014-11",
          "value": 2,
          "variable": "googtrend_westnile"
         },
         {
          "Month": "2014-12",
          "value": 2,
          "variable": "googtrend_westnile"
         },
         {
          "Month": "2015-01",
          "value": 1,
          "variable": "googtrend_westnile"
         },
         {
          "Month": "2015-02",
          "value": 2,
          "variable": "googtrend_westnile"
         },
         {
          "Month": "2015-03",
          "value": 2,
          "variable": "googtrend_westnile"
         },
         {
          "Month": "2015-04",
          "value": 2,
          "variable": "googtrend_westnile"
         },
         {
          "Month": "2015-05",
          "value": 3,
          "variable": "googtrend_westnile"
         },
         {
          "Month": "2015-06",
          "value": 9,
          "variable": "googtrend_westnile"
         },
         {
          "Month": "2015-07",
          "value": 32,
          "variable": "googtrend_westnile"
         },
         {
          "Month": "2015-08",
          "value": 15,
          "variable": "googtrend_westnile"
         },
         {
          "Month": "2015-09",
          "value": 11,
          "variable": "googtrend_westnile"
         },
         {
          "Month": "2015-10",
          "value": 3,
          "variable": "googtrend_westnile"
         },
         {
          "Month": "2015-11",
          "value": 2,
          "variable": "googtrend_westnile"
         },
         {
          "Month": "2015-12",
          "value": 2,
          "variable": "googtrend_westnile"
         },
         {
          "Month": "2016-01",
          "value": 1,
          "variable": "googtrend_westnile"
         },
         {
          "Month": "2016-02",
          "value": 2,
          "variable": "googtrend_westnile"
         },
         {
          "Month": "2016-03",
          "value": 1,
          "variable": "googtrend_westnile"
         },
         {
          "Month": "2016-04",
          "value": 1,
          "variable": "googtrend_westnile"
         },
         {
          "Month": "2016-05",
          "value": 2,
          "variable": "googtrend_westnile"
         },
         {
          "Month": "2016-06",
          "value": 6,
          "variable": "googtrend_westnile"
         },
         {
          "Month": "2016-07",
          "value": 6,
          "variable": "googtrend_westnile"
         },
         {
          "Month": "2016-08",
          "value": 10,
          "variable": "googtrend_westnile"
         },
         {
          "Month": "2016-09",
          "value": 12,
          "variable": "googtrend_westnile"
         },
         {
          "Month": "2016-10",
          "value": 3,
          "variable": "googtrend_westnile"
         },
         {
          "Month": "2016-11",
          "value": 1,
          "variable": "googtrend_westnile"
         },
         {
          "Month": "2016-12",
          "value": 1,
          "variable": "googtrend_westnile"
         },
         {
          "Month": "2017-01",
          "value": 1,
          "variable": "googtrend_westnile"
         },
         {
          "Month": "2017-02",
          "value": 1,
          "variable": "googtrend_westnile"
         },
         {
          "Month": "2017-03",
          "value": 1,
          "variable": "googtrend_westnile"
         },
         {
          "Month": "2017-04",
          "value": 2,
          "variable": "googtrend_westnile"
         },
         {
          "Month": "2017-05",
          "value": 2,
          "variable": "googtrend_westnile"
         },
         {
          "Month": "2017-06",
          "value": 6,
          "variable": "googtrend_westnile"
         },
         {
          "Month": "2017-07",
          "value": 14,
          "variable": "googtrend_westnile"
         },
         {
          "Month": "2017-08",
          "value": 15,
          "variable": "googtrend_westnile"
         },
         {
          "Month": "2017-09",
          "value": 6,
          "variable": "googtrend_westnile"
         },
         {
          "Month": "2017-10",
          "value": 2,
          "variable": "googtrend_westnile"
         },
         {
          "Month": "2017-11",
          "value": 1,
          "variable": "googtrend_westnile"
         },
         {
          "Month": "2017-12",
          "value": 1,
          "variable": "googtrend_westnile"
         },
         {
          "Month": "2018-01",
          "value": 1,
          "variable": "googtrend_westnile"
         },
         {
          "Month": "2018-02",
          "value": 1,
          "variable": "googtrend_westnile"
         },
         {
          "Month": "2018-03",
          "value": 1,
          "variable": "googtrend_westnile"
         },
         {
          "Month": "2018-04",
          "value": 1,
          "variable": "googtrend_westnile"
         },
         {
          "Month": "2018-05",
          "value": 3,
          "variable": "googtrend_westnile"
         },
         {
          "Month": "2018-06",
          "value": 11,
          "variable": "googtrend_westnile"
         },
         {
          "Month": "2018-07",
          "value": 23,
          "variable": "googtrend_westnile"
         },
         {
          "Month": "2018-08",
          "value": 15,
          "variable": "googtrend_westnile"
         },
         {
          "Month": "2018-09",
          "value": 16,
          "variable": "googtrend_westnile"
         },
         {
          "Month": "2018-10",
          "value": 5,
          "variable": "googtrend_westnile"
         },
         {
          "Month": "2018-11",
          "value": 1,
          "variable": "googtrend_westnile"
         },
         {
          "Month": "2018-12",
          "value": 0,
          "variable": "googtrend_westnile"
         },
         {
          "Month": "2019-01",
          "value": 1,
          "variable": "googtrend_westnile"
         },
         {
          "Month": "2004-01",
          "value": 0,
          "variable": "googtrend_mosq_bites"
         },
         {
          "Month": "2004-02",
          "value": 0,
          "variable": "googtrend_mosq_bites"
         },
         {
          "Month": "2004-03",
          "value": 0,
          "variable": "googtrend_mosq_bites"
         },
         {
          "Month": "2004-04",
          "value": 0,
          "variable": "googtrend_mosq_bites"
         },
         {
          "Month": "2004-05",
          "value": 0,
          "variable": "googtrend_mosq_bites"
         },
         {
          "Month": "2004-06",
          "value": 26,
          "variable": "googtrend_mosq_bites"
         },
         {
          "Month": "2004-07",
          "value": 15,
          "variable": "googtrend_mosq_bites"
         },
         {
          "Month": "2004-08",
          "value": 7,
          "variable": "googtrend_mosq_bites"
         },
         {
          "Month": "2004-09",
          "value": 20,
          "variable": "googtrend_mosq_bites"
         },
         {
          "Month": "2004-10",
          "value": 0,
          "variable": "googtrend_mosq_bites"
         },
         {
          "Month": "2004-11",
          "value": 0,
          "variable": "googtrend_mosq_bites"
         },
         {
          "Month": "2004-12",
          "value": 0,
          "variable": "googtrend_mosq_bites"
         },
         {
          "Month": "2005-01",
          "value": 0,
          "variable": "googtrend_mosq_bites"
         },
         {
          "Month": "2005-02",
          "value": 0,
          "variable": "googtrend_mosq_bites"
         },
         {
          "Month": "2005-03",
          "value": 5,
          "variable": "googtrend_mosq_bites"
         },
         {
          "Month": "2005-04",
          "value": 0,
          "variable": "googtrend_mosq_bites"
         },
         {
          "Month": "2005-05",
          "value": 5,
          "variable": "googtrend_mosq_bites"
         },
         {
          "Month": "2005-06",
          "value": 5,
          "variable": "googtrend_mosq_bites"
         },
         {
          "Month": "2005-07",
          "value": 7,
          "variable": "googtrend_mosq_bites"
         },
         {
          "Month": "2005-08",
          "value": 9,
          "variable": "googtrend_mosq_bites"
         },
         {
          "Month": "2005-09",
          "value": 6,
          "variable": "googtrend_mosq_bites"
         },
         {
          "Month": "2005-10",
          "value": 0,
          "variable": "googtrend_mosq_bites"
         },
         {
          "Month": "2005-11",
          "value": 0,
          "variable": "googtrend_mosq_bites"
         },
         {
          "Month": "2005-12",
          "value": 0,
          "variable": "googtrend_mosq_bites"
         },
         {
          "Month": "2006-01",
          "value": 0,
          "variable": "googtrend_mosq_bites"
         },
         {
          "Month": "2006-02",
          "value": 0,
          "variable": "googtrend_mosq_bites"
         },
         {
          "Month": "2006-03",
          "value": 0,
          "variable": "googtrend_mosq_bites"
         },
         {
          "Month": "2006-04",
          "value": 0,
          "variable": "googtrend_mosq_bites"
         },
         {
          "Month": "2006-05",
          "value": 3,
          "variable": "googtrend_mosq_bites"
         },
         {
          "Month": "2006-06",
          "value": 5,
          "variable": "googtrend_mosq_bites"
         },
         {
          "Month": "2006-07",
          "value": 20,
          "variable": "googtrend_mosq_bites"
         },
         {
          "Month": "2006-08",
          "value": 18,
          "variable": "googtrend_mosq_bites"
         },
         {
          "Month": "2006-09",
          "value": 3,
          "variable": "googtrend_mosq_bites"
         },
         {
          "Month": "2006-10",
          "value": 3,
          "variable": "googtrend_mosq_bites"
         },
         {
          "Month": "2006-11",
          "value": 3,
          "variable": "googtrend_mosq_bites"
         },
         {
          "Month": "2006-12",
          "value": 0,
          "variable": "googtrend_mosq_bites"
         },
         {
          "Month": "2007-01",
          "value": 0,
          "variable": "googtrend_mosq_bites"
         },
         {
          "Month": "2007-02",
          "value": 0,
          "variable": "googtrend_mosq_bites"
         },
         {
          "Month": "2007-03",
          "value": 2,
          "variable": "googtrend_mosq_bites"
         },
         {
          "Month": "2007-04",
          "value": 2,
          "variable": "googtrend_mosq_bites"
         },
         {
          "Month": "2007-05",
          "value": 11,
          "variable": "googtrend_mosq_bites"
         },
         {
          "Month": "2007-06",
          "value": 4,
          "variable": "googtrend_mosq_bites"
         },
         {
          "Month": "2007-07",
          "value": 12,
          "variable": "googtrend_mosq_bites"
         },
         {
          "Month": "2007-08",
          "value": 35,
          "variable": "googtrend_mosq_bites"
         },
         {
          "Month": "2007-09",
          "value": 25,
          "variable": "googtrend_mosq_bites"
         },
         {
          "Month": "2007-10",
          "value": 7,
          "variable": "googtrend_mosq_bites"
         },
         {
          "Month": "2007-11",
          "value": 0,
          "variable": "googtrend_mosq_bites"
         },
         {
          "Month": "2007-12",
          "value": 0,
          "variable": "googtrend_mosq_bites"
         },
         {
          "Month": "2008-01",
          "value": 0,
          "variable": "googtrend_mosq_bites"
         },
         {
          "Month": "2008-02",
          "value": 2,
          "variable": "googtrend_mosq_bites"
         },
         {
          "Month": "2008-03",
          "value": 0,
          "variable": "googtrend_mosq_bites"
         },
         {
          "Month": "2008-04",
          "value": 4,
          "variable": "googtrend_mosq_bites"
         },
         {
          "Month": "2008-05",
          "value": 3,
          "variable": "googtrend_mosq_bites"
         },
         {
          "Month": "2008-06",
          "value": 17,
          "variable": "googtrend_mosq_bites"
         },
         {
          "Month": "2008-07",
          "value": 19,
          "variable": "googtrend_mosq_bites"
         },
         {
          "Month": "2008-08",
          "value": 16,
          "variable": "googtrend_mosq_bites"
         },
         {
          "Month": "2008-09",
          "value": 13,
          "variable": "googtrend_mosq_bites"
         },
         {
          "Month": "2008-10",
          "value": 2,
          "variable": "googtrend_mosq_bites"
         },
         {
          "Month": "2008-11",
          "value": 0,
          "variable": "googtrend_mosq_bites"
         },
         {
          "Month": "2008-12",
          "value": 0,
          "variable": "googtrend_mosq_bites"
         },
         {
          "Month": "2009-01",
          "value": 2,
          "variable": "googtrend_mosq_bites"
         },
         {
          "Month": "2009-02",
          "value": 2,
          "variable": "googtrend_mosq_bites"
         },
         {
          "Month": "2009-03",
          "value": 2,
          "variable": "googtrend_mosq_bites"
         },
         {
          "Month": "2009-04",
          "value": 0,
          "variable": "googtrend_mosq_bites"
         },
         {
          "Month": "2009-05",
          "value": 7,
          "variable": "googtrend_mosq_bites"
         },
         {
          "Month": "2009-06",
          "value": 11,
          "variable": "googtrend_mosq_bites"
         },
         {
          "Month": "2009-07",
          "value": 29,
          "variable": "googtrend_mosq_bites"
         },
         {
          "Month": "2009-08",
          "value": 21,
          "variable": "googtrend_mosq_bites"
         },
         {
          "Month": "2009-09",
          "value": 10,
          "variable": "googtrend_mosq_bites"
         },
         {
          "Month": "2009-10",
          "value": 2,
          "variable": "googtrend_mosq_bites"
         },
         {
          "Month": "2009-11",
          "value": 2,
          "variable": "googtrend_mosq_bites"
         },
         {
          "Month": "2009-12",
          "value": 2,
          "variable": "googtrend_mosq_bites"
         },
         {
          "Month": "2010-01",
          "value": 1,
          "variable": "googtrend_mosq_bites"
         },
         {
          "Month": "2010-02",
          "value": 3,
          "variable": "googtrend_mosq_bites"
         },
         {
          "Month": "2010-03",
          "value": 1,
          "variable": "googtrend_mosq_bites"
         },
         {
          "Month": "2010-04",
          "value": 1,
          "variable": "googtrend_mosq_bites"
         },
         {
          "Month": "2010-05",
          "value": 7,
          "variable": "googtrend_mosq_bites"
         },
         {
          "Month": "2010-06",
          "value": 33,
          "variable": "googtrend_mosq_bites"
         },
         {
          "Month": "2010-07",
          "value": 46,
          "variable": "googtrend_mosq_bites"
         },
         {
          "Month": "2010-08",
          "value": 81,
          "variable": "googtrend_mosq_bites"
         },
         {
          "Month": "2010-09",
          "value": 15,
          "variable": "googtrend_mosq_bites"
         },
         {
          "Month": "2010-10",
          "value": 9,
          "variable": "googtrend_mosq_bites"
         },
         {
          "Month": "2010-11",
          "value": 3,
          "variable": "googtrend_mosq_bites"
         },
         {
          "Month": "2010-12",
          "value": 6,
          "variable": "googtrend_mosq_bites"
         },
         {
          "Month": "2011-01",
          "value": 2,
          "variable": "googtrend_mosq_bites"
         },
         {
          "Month": "2011-02",
          "value": 2,
          "variable": "googtrend_mosq_bites"
         },
         {
          "Month": "2011-03",
          "value": 1,
          "variable": "googtrend_mosq_bites"
         },
         {
          "Month": "2011-04",
          "value": 3,
          "variable": "googtrend_mosq_bites"
         },
         {
          "Month": "2011-05",
          "value": 8,
          "variable": "googtrend_mosq_bites"
         },
         {
          "Month": "2011-06",
          "value": 42,
          "variable": "googtrend_mosq_bites"
         },
         {
          "Month": "2011-07",
          "value": 42,
          "variable": "googtrend_mosq_bites"
         },
         {
          "Month": "2011-08",
          "value": 54,
          "variable": "googtrend_mosq_bites"
         },
         {
          "Month": "2011-09",
          "value": 26,
          "variable": "googtrend_mosq_bites"
         },
         {
          "Month": "2011-10",
          "value": 9,
          "variable": "googtrend_mosq_bites"
         },
         {
          "Month": "2011-11",
          "value": 3,
          "variable": "googtrend_mosq_bites"
         },
         {
          "Month": "2011-12",
          "value": 2,
          "variable": "googtrend_mosq_bites"
         },
         {
          "Month": "2012-01",
          "value": 2,
          "variable": "googtrend_mosq_bites"
         },
         {
          "Month": "2012-02",
          "value": 1,
          "variable": "googtrend_mosq_bites"
         },
         {
          "Month": "2012-03",
          "value": 3,
          "variable": "googtrend_mosq_bites"
         },
         {
          "Month": "2012-04",
          "value": 2,
          "variable": "googtrend_mosq_bites"
         },
         {
          "Month": "2012-05",
          "value": 11,
          "variable": "googtrend_mosq_bites"
         },
         {
          "Month": "2012-06",
          "value": 29,
          "variable": "googtrend_mosq_bites"
         },
         {
          "Month": "2012-07",
          "value": 33,
          "variable": "googtrend_mosq_bites"
         },
         {
          "Month": "2012-08",
          "value": 30,
          "variable": "googtrend_mosq_bites"
         },
         {
          "Month": "2012-09",
          "value": 18,
          "variable": "googtrend_mosq_bites"
         },
         {
          "Month": "2012-10",
          "value": 4,
          "variable": "googtrend_mosq_bites"
         },
         {
          "Month": "2012-11",
          "value": 2,
          "variable": "googtrend_mosq_bites"
         },
         {
          "Month": "2012-12",
          "value": 2,
          "variable": "googtrend_mosq_bites"
         },
         {
          "Month": "2013-01",
          "value": 1,
          "variable": "googtrend_mosq_bites"
         },
         {
          "Month": "2013-02",
          "value": 2,
          "variable": "googtrend_mosq_bites"
         },
         {
          "Month": "2013-03",
          "value": 3,
          "variable": "googtrend_mosq_bites"
         },
         {
          "Month": "2013-04",
          "value": 2,
          "variable": "googtrend_mosq_bites"
         },
         {
          "Month": "2013-05",
          "value": 14,
          "variable": "googtrend_mosq_bites"
         },
         {
          "Month": "2013-06",
          "value": 37,
          "variable": "googtrend_mosq_bites"
         },
         {
          "Month": "2013-07",
          "value": 76,
          "variable": "googtrend_mosq_bites"
         },
         {
          "Month": "2013-08",
          "value": 52,
          "variable": "googtrend_mosq_bites"
         },
         {
          "Month": "2013-09",
          "value": 24,
          "variable": "googtrend_mosq_bites"
         },
         {
          "Month": "2013-10",
          "value": 5,
          "variable": "googtrend_mosq_bites"
         },
         {
          "Month": "2013-11",
          "value": 4,
          "variable": "googtrend_mosq_bites"
         },
         {
          "Month": "2013-12",
          "value": 2,
          "variable": "googtrend_mosq_bites"
         },
         {
          "Month": "2014-01",
          "value": 2,
          "variable": "googtrend_mosq_bites"
         },
         {
          "Month": "2014-02",
          "value": 2,
          "variable": "googtrend_mosq_bites"
         },
         {
          "Month": "2014-03",
          "value": 2,
          "variable": "googtrend_mosq_bites"
         },
         {
          "Month": "2014-04",
          "value": 2,
          "variable": "googtrend_mosq_bites"
         },
         {
          "Month": "2014-05",
          "value": 15,
          "variable": "googtrend_mosq_bites"
         },
         {
          "Month": "2014-06",
          "value": 57,
          "variable": "googtrend_mosq_bites"
         },
         {
          "Month": "2014-07",
          "value": 82,
          "variable": "googtrend_mosq_bites"
         },
         {
          "Month": "2014-08",
          "value": 53,
          "variable": "googtrend_mosq_bites"
         },
         {
          "Month": "2014-09",
          "value": 43,
          "variable": "googtrend_mosq_bites"
         },
         {
          "Month": "2014-10",
          "value": 8,
          "variable": "googtrend_mosq_bites"
         },
         {
          "Month": "2014-11",
          "value": 4,
          "variable": "googtrend_mosq_bites"
         },
         {
          "Month": "2014-12",
          "value": 3,
          "variable": "googtrend_mosq_bites"
         },
         {
          "Month": "2015-01",
          "value": 2,
          "variable": "googtrend_mosq_bites"
         },
         {
          "Month": "2015-02",
          "value": 2,
          "variable": "googtrend_mosq_bites"
         },
         {
          "Month": "2015-03",
          "value": 4,
          "variable": "googtrend_mosq_bites"
         },
         {
          "Month": "2015-04",
          "value": 6,
          "variable": "googtrend_mosq_bites"
         },
         {
          "Month": "2015-05",
          "value": 18,
          "variable": "googtrend_mosq_bites"
         },
         {
          "Month": "2015-06",
          "value": 55,
          "variable": "googtrend_mosq_bites"
         },
         {
          "Month": "2015-07",
          "value": 100,
          "variable": "googtrend_mosq_bites"
         },
         {
          "Month": "2015-08",
          "value": 43,
          "variable": "googtrend_mosq_bites"
         },
         {
          "Month": "2015-09",
          "value": 23,
          "variable": "googtrend_mosq_bites"
         },
         {
          "Month": "2015-10",
          "value": 5,
          "variable": "googtrend_mosq_bites"
         },
         {
          "Month": "2015-11",
          "value": 4,
          "variable": "googtrend_mosq_bites"
         },
         {
          "Month": "2015-12",
          "value": 3,
          "variable": "googtrend_mosq_bites"
         },
         {
          "Month": "2016-01",
          "value": 5,
          "variable": "googtrend_mosq_bites"
         },
         {
          "Month": "2016-02",
          "value": 3,
          "variable": "googtrend_mosq_bites"
         },
         {
          "Month": "2016-03",
          "value": 4,
          "variable": "googtrend_mosq_bites"
         },
         {
          "Month": "2016-04",
          "value": 4,
          "variable": "googtrend_mosq_bites"
         },
         {
          "Month": "2016-05",
          "value": 14,
          "variable": "googtrend_mosq_bites"
         },
         {
          "Month": "2016-06",
          "value": 46,
          "variable": "googtrend_mosq_bites"
         },
         {
          "Month": "2016-07",
          "value": 40,
          "variable": "googtrend_mosq_bites"
         },
         {
          "Month": "2016-08",
          "value": 60,
          "variable": "googtrend_mosq_bites"
         },
         {
          "Month": "2016-09",
          "value": 43,
          "variable": "googtrend_mosq_bites"
         },
         {
          "Month": "2016-10",
          "value": 12,
          "variable": "googtrend_mosq_bites"
         },
         {
          "Month": "2016-11",
          "value": 4,
          "variable": "googtrend_mosq_bites"
         },
         {
          "Month": "2016-12",
          "value": 3,
          "variable": "googtrend_mosq_bites"
         },
         {
          "Month": "2017-01",
          "value": 3,
          "variable": "googtrend_mosq_bites"
         },
         {
          "Month": "2017-02",
          "value": 3,
          "variable": "googtrend_mosq_bites"
         },
         {
          "Month": "2017-03",
          "value": 4,
          "variable": "googtrend_mosq_bites"
         },
         {
          "Month": "2017-04",
          "value": 6,
          "variable": "googtrend_mosq_bites"
         },
         {
          "Month": "2017-05",
          "value": 14,
          "variable": "googtrend_mosq_bites"
         },
         {
          "Month": "2017-06",
          "value": 40,
          "variable": "googtrend_mosq_bites"
         },
         {
          "Month": "2017-07",
          "value": 61,
          "variable": "googtrend_mosq_bites"
         },
         {
          "Month": "2017-08",
          "value": 49,
          "variable": "googtrend_mosq_bites"
         },
         {
          "Month": "2017-09",
          "value": 20,
          "variable": "googtrend_mosq_bites"
         },
         {
          "Month": "2017-10",
          "value": 8,
          "variable": "googtrend_mosq_bites"
         },
         {
          "Month": "2017-11",
          "value": 4,
          "variable": "googtrend_mosq_bites"
         },
         {
          "Month": "2017-12",
          "value": 2,
          "variable": "googtrend_mosq_bites"
         },
         {
          "Month": "2018-01",
          "value": 3,
          "variable": "googtrend_mosq_bites"
         },
         {
          "Month": "2018-02",
          "value": 3,
          "variable": "googtrend_mosq_bites"
         },
         {
          "Month": "2018-03",
          "value": 1,
          "variable": "googtrend_mosq_bites"
         },
         {
          "Month": "2018-04",
          "value": 3,
          "variable": "googtrend_mosq_bites"
         },
         {
          "Month": "2018-05",
          "value": 27,
          "variable": "googtrend_mosq_bites"
         },
         {
          "Month": "2018-06",
          "value": 56,
          "variable": "googtrend_mosq_bites"
         },
         {
          "Month": "2018-07",
          "value": 100,
          "variable": "googtrend_mosq_bites"
         },
         {
          "Month": "2018-08",
          "value": 46,
          "variable": "googtrend_mosq_bites"
         },
         {
          "Month": "2018-09",
          "value": 66,
          "variable": "googtrend_mosq_bites"
         },
         {
          "Month": "2018-10",
          "value": 9,
          "variable": "googtrend_mosq_bites"
         },
         {
          "Month": "2018-11",
          "value": 3,
          "variable": "googtrend_mosq_bites"
         },
         {
          "Month": "2018-12",
          "value": 3,
          "variable": "googtrend_mosq_bites"
         },
         {
          "Month": "2019-01",
          "value": 3,
          "variable": "googtrend_mosq_bites"
         }
        ]
       },
       "vconcat": [
        {
         "data": {
          "name": "data-59542ac6e037097076c883f43a5688fa"
         },
         "encoding": {
          "color": {
           "field": "variable",
           "type": "nominal"
          },
          "tooltip": {
           "field": "value",
           "type": "nominal"
          },
          "x": {
           "field": "Month",
           "type": "temporal"
          },
          "y": {
           "field": "value",
           "type": "quantitative"
          }
         },
         "height": 200,
         "mark": "line",
         "selection": {
          "selector004": {
           "encodings": [
            "x"
           ],
           "mark": {
            "fill": "#333",
            "fillOpacity": 0.125,
            "stroke": "white"
           },
           "on": "[mousedown, window:mouseup] > window:mousemove!",
           "resolve": "global",
           "translate": "[mousedown, window:mouseup] > window:mousemove!",
           "type": "interval",
           "zoom": "wheel!"
          }
         },
         "width": 1024
        },
        {
         "data": {
          "name": "data-59542ac6e037097076c883f43a5688fa"
         },
         "encoding": {
          "color": {
           "field": "variable",
           "type": "nominal"
          },
          "tooltip": {
           "field": "value",
           "type": "nominal"
          },
          "x": {
           "field": "Month",
           "type": "temporal"
          },
          "y": {
           "field": "value",
           "type": "quantitative"
          }
         },
         "height": 200,
         "mark": "line",
         "transform": [
          {
           "filter": {
            "selection": "selector004"
           }
          }
         ],
         "width": 1024
        }
       ]
      },
      "image/png": "[encoded data removed]",
      "text/plain": [
       "<VegaLite 2 object>\n",
       "\n",
       "If you see this message, it means the renderer has not been properly enabled\n",
       "for the frontend that you are using. For more information, see\n",
       "https://altair-viz.github.io/user_guide/troubleshooting.html\n"
      ]
     },
     "execution_count": 110,
     "metadata": {},
     "output_type": "execute_result"
    }
   ],
   "source": [
    "brush = alt.selection_interval(encodings=['x'])\n",
    "p1 = alt.Chart(trends.reset_index().melt(\"Month\")).mark_line().encode(x=\"Month:T\",y=\"value\",color=\"variable\",tooltip=\"value:N\").\\\n",
    "properties(width=1024,height=200).add_selection(brush)\n",
    "p2 = alt.Chart(trends.reset_index().melt(\"Month\")).mark_line().encode(x=\"Month:T\",y=\"value\",color=\"variable\",tooltip=\"value:N\").\\\n",
    "transform_filter(brush).properties(width=1024,height=200)\n",
    "alt.vconcat(p1,p2)"
   ]
  }
 ],
 "metadata": {
  "kernelspec": {
   "display_name": "Python 3",
   "language": "python",
   "name": "python3"
  },
  "language_info": {
   "codemirror_mode": {
    "name": "ipython",
    "version": 3
   },
   "file_extension": ".py",
   "mimetype": "text/x-python",
   "name": "python",
   "nbconvert_exporter": "python",
   "pygments_lexer": "ipython3",
   "version": "3.6.6"
  }
 },
 "nbformat": 4,
 "nbformat_minor": 2
}
