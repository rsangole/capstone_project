{
 "cells": [
  {
   "cell_type": "markdown",
   "metadata": {},
   "source": [
    "# Weather Data Munger"
   ]
  },
  {
   "cell_type": "markdown",
   "metadata": {},
   "source": [
    "This script prepares the weather data stored in `/data/raw/` and saves a cleaned and processed version to `/data/processed`."
   ]
  },
  {
   "cell_type": "code",
   "execution_count": 8,
   "metadata": {},
   "outputs": [],
   "source": [
    "import pandas as pd\n",
    "import numpy as np\n",
    "import altair as alt\n",
    "import glob\n",
    "%matplotlib inline"
   ]
  },
  {
   "cell_type": "markdown",
   "metadata": {},
   "source": [
    "# What weather files exist?"
   ]
  },
  {
   "cell_type": "code",
   "execution_count": 17,
   "metadata": {},
   "outputs": [
    {
     "name": "stdout",
     "output_type": "stream",
     "text": [
      "['../data/raw/chi_weather/Chicago area weather stations daily 2006-07.csv', '../data/raw/chi_weather/Chicago area weather stations daily 2008-09.csv', '../data/raw/chi_weather/Chicago area weather stations daily 2017-18.csv', '../data/raw/chi_weather/Chicago area weather stations daily 2015-16.csv', '../data/raw/chi_weather/Chicago area weather stations daily 2013-14.csv', '../data/raw/chi_weather/Chicago area weather stations daily 2011-12.csv', '../data/raw/chi_weather/Chicago area weather stations daily 2010-11.csv']\n"
     ]
    }
   ],
   "source": [
    "weather_files = glob.glob(\"../data/raw/chi_weather/Chi*.csv\")\n",
    "print(weather_files)"
   ]
  },
  {
   "cell_type": "code",
   "execution_count": 18,
   "metadata": {},
   "outputs": [
    {
     "name": "stderr",
     "output_type": "stream",
     "text": [
      "/home/rahul/anaconda3/envs/tf/lib/python3.6/site-packages/IPython/core/interactiveshell.py:3020: DtypeWarning: Columns (7,9,13,15,17,19,21,23,25,29,31,37,39,49,51,53,59,61,67,79,81,87,89,91,93,95,97,99,101,103) have mixed types. Specify dtype option on import or set low_memory=False.\n",
      "  interactivity=interactivity, compiler=compiler, result=result)\n"
     ]
    }
   ],
   "source": [
    "x=pd.read_csv(weather_files[0])"
   ]
  },
  {
   "cell_type": "code",
   "execution_count": null,
   "metadata": {},
   "outputs": [],
   "source": []
  }
 ],
 "metadata": {
  "kernelspec": {
   "display_name": "Python 3",
   "language": "python",
   "name": "python3"
  },
  "language_info": {
   "codemirror_mode": {
    "name": "ipython",
    "version": 3
   },
   "file_extension": ".py",
   "mimetype": "text/x-python",
   "name": "python",
   "nbconvert_exporter": "python",
   "pygments_lexer": "ipython3",
   "version": "3.6.6"
  }
 },
 "nbformat": 4,
 "nbformat_minor": 2
}
