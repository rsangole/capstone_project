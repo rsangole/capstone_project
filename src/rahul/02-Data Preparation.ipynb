{
 "cells": [
  {
   "cell_type": "markdown",
   "metadata": {},
   "source": [
    "# Read the main data file"
   ]
  },
  {
   "cell_type": "code",
   "execution_count": 1,
   "metadata": {},
   "outputs": [
    {
     "name": "stderr",
     "output_type": "stream",
     "text": [
      "── Attaching packages ─────────────────────────────────────── tidyverse 1.2.1 ──\n",
      "✔ ggplot2 3.0.0     ✔ purrr   0.2.5\n",
      "✔ tibble  1.4.2     ✔ dplyr   0.7.6\n",
      "✔ tidyr   0.8.1     ✔ stringr 1.3.1\n",
      "✔ readr   1.1.1     ✔ forcats 0.3.0\n",
      "── Conflicts ────────────────────────────────────────── tidyverse_conflicts() ──\n",
      "✖ dplyr::filter() masks stats::filter()\n",
      "✖ dplyr::lag()    masks stats::lag()\n"
     ]
    }
   ],
   "source": [
    "library(\"tidyverse\")"
   ]
  },
  {
   "cell_type": "code",
   "execution_count": 2,
   "metadata": {},
   "outputs": [
    {
     "name": "stderr",
     "output_type": "stream",
     "text": [
      "Parsed with column specification:\n",
      "cols(\n",
      "  .default = col_double(),\n",
      "  t_date = col_date(format = \"\"),\n",
      "  t_yr = col_integer(),\n",
      "  t_mo = col_integer(),\n",
      "  t_day = col_integer(),\n",
      "  t_qtr = col_integer(),\n",
      "  t_wk = col_integer(),\n",
      "  t_day_of_yr = col_integer(),\n",
      "  t_day_of_wk = col_integer(),\n",
      "  t_day_of_wk_name = col_character(),\n",
      "  t_eval_day = col_integer(),\n",
      "  t_eval_wk = col_integer(),\n",
      "  part_train = col_logical(),\n",
      "  part_validate = col_logical(),\n",
      "  part_test = col_logical(),\n",
      "  part_partition = col_character(),\n",
      "  trap_trap_name = col_character(),\n",
      "  loc_lat_lng_src = col_character(),\n",
      "  trap_satellite_ind = col_logical(),\n",
      "  loc_zipcode = col_integer(),\n",
      "  loc_community = col_character()\n",
      "  # ... with 33 more columns\n",
      ")\n",
      "See spec(...) for full column specifications.\n"
     ]
    },
    {
     "data": {
      "text/html": [
       "<table>\n",
       "<thead><tr><th scope=col>t_date</th><th scope=col>t_yr</th><th scope=col>t_mo</th><th scope=col>t_day</th><th scope=col>t_qtr</th><th scope=col>t_wk</th><th scope=col>t_day_of_yr</th><th scope=col>t_day_of_wk</th><th scope=col>t_day_of_wk_name</th><th scope=col>t_eval_day</th><th scope=col>⋯</th><th scope=col>wea_ohare_tavg2_ma60_lag14</th><th scope=col>wea_ohare_tavg2_ma60_lag21</th><th scope=col>wea_ohare_tavg2_ma60_lag28</th><th scope=col>wea_ohare_tavg2_ma60_lag35</th><th scope=col>wea_ohare_tavg2_ma60_lag42</th><th scope=col>wea_ohare_tavg2_ma60_lag49</th><th scope=col>wea_ohare_tavg2_ma60_lag56</th><th scope=col>wea_ohare_tavg2_ma60_lag63</th><th scope=col>wea_ohare_tavg2_ma60_lag90</th><th scope=col>wea_ohare_tavg2_ma60_lag120</th></tr></thead>\n",
       "<tbody>\n",
       "\t<tr><td>2007-05-29</td><td>2007      </td><td>5         </td><td>29        </td><td>2         </td><td>22        </td><td>149       </td><td>2         </td><td>Mon       </td><td>514       </td><td>⋯         </td><td>51.00833  </td><td>48.725    </td><td>44.69167  </td><td>42.1      </td><td>38.61667  </td><td>35.55     </td><td>31.775    </td><td>27.80833  </td><td>23.83333  </td><td>31.73333  </td></tr>\n",
       "\t<tr><td>2007-05-29</td><td>2007      </td><td>5         </td><td>29        </td><td>2         </td><td>22        </td><td>149       </td><td>2         </td><td>Mon       </td><td>514       </td><td>⋯         </td><td>51.00833  </td><td>48.725    </td><td>44.69167  </td><td>42.1      </td><td>38.61667  </td><td>35.55     </td><td>31.775    </td><td>27.80833  </td><td>23.83333  </td><td>31.73333  </td></tr>\n",
       "\t<tr><td>2007-05-29</td><td>2007      </td><td>5         </td><td>29        </td><td>2         </td><td>22        </td><td>149       </td><td>2         </td><td>Mon       </td><td>514       </td><td>⋯         </td><td>51.00833  </td><td>48.725    </td><td>44.69167  </td><td>42.1      </td><td>38.61667  </td><td>35.55     </td><td>31.775    </td><td>27.80833  </td><td>23.83333  </td><td>31.73333  </td></tr>\n",
       "\t<tr><td>2007-05-29</td><td>2007      </td><td>5         </td><td>29        </td><td>2         </td><td>22        </td><td>149       </td><td>2         </td><td>Mon       </td><td>514       </td><td>⋯         </td><td>51.00833  </td><td>48.725    </td><td>44.69167  </td><td>42.1      </td><td>38.61667  </td><td>35.55     </td><td>31.775    </td><td>27.80833  </td><td>23.83333  </td><td>31.73333  </td></tr>\n",
       "\t<tr><td>2007-05-29</td><td>2007      </td><td>5         </td><td>29        </td><td>2         </td><td>22        </td><td>149       </td><td>2         </td><td>Mon       </td><td>514       </td><td>⋯         </td><td>51.00833  </td><td>48.725    </td><td>44.69167  </td><td>42.1      </td><td>38.61667  </td><td>35.55     </td><td>31.775    </td><td>27.80833  </td><td>23.83333  </td><td>31.73333  </td></tr>\n",
       "\t<tr><td>2007-05-29</td><td>2007      </td><td>5         </td><td>29        </td><td>2         </td><td>22        </td><td>149       </td><td>2         </td><td>Mon       </td><td>514       </td><td>⋯         </td><td>51.00833  </td><td>48.725    </td><td>44.69167  </td><td>42.1      </td><td>38.61667  </td><td>35.55     </td><td>31.775    </td><td>27.80833  </td><td>23.83333  </td><td>31.73333  </td></tr>\n",
       "</tbody>\n",
       "</table>\n"
      ],
      "text/latex": [
       "\\begin{tabular}{r|lllllllllllllllllllllllllllllllllllllllllllllllllllllllllllllllllllllllllllllllllllllllllllllllllllllllllllllllllllll}\n",
       " t\\_date & t\\_yr & t\\_mo & t\\_day & t\\_qtr & t\\_wk & t\\_day\\_of\\_yr & t\\_day\\_of\\_wk & t\\_day\\_of\\_wk\\_name & t\\_eval\\_day & ⋯ & wea\\_ohare\\_tavg2\\_ma60\\_lag14 & wea\\_ohare\\_tavg2\\_ma60\\_lag21 & wea\\_ohare\\_tavg2\\_ma60\\_lag28 & wea\\_ohare\\_tavg2\\_ma60\\_lag35 & wea\\_ohare\\_tavg2\\_ma60\\_lag42 & wea\\_ohare\\_tavg2\\_ma60\\_lag49 & wea\\_ohare\\_tavg2\\_ma60\\_lag56 & wea\\_ohare\\_tavg2\\_ma60\\_lag63 & wea\\_ohare\\_tavg2\\_ma60\\_lag90 & wea\\_ohare\\_tavg2\\_ma60\\_lag120\\\\\n",
       "\\hline\n",
       "\t 2007-05-29 & 2007       & 5          & 29         & 2          & 22         & 149        & 2          & Mon        & 514        & ⋯          & 51.00833   & 48.725     & 44.69167   & 42.1       & 38.61667   & 35.55      & 31.775     & 27.80833   & 23.83333   & 31.73333  \\\\\n",
       "\t 2007-05-29 & 2007       & 5          & 29         & 2          & 22         & 149        & 2          & Mon        & 514        & ⋯          & 51.00833   & 48.725     & 44.69167   & 42.1       & 38.61667   & 35.55      & 31.775     & 27.80833   & 23.83333   & 31.73333  \\\\\n",
       "\t 2007-05-29 & 2007       & 5          & 29         & 2          & 22         & 149        & 2          & Mon        & 514        & ⋯          & 51.00833   & 48.725     & 44.69167   & 42.1       & 38.61667   & 35.55      & 31.775     & 27.80833   & 23.83333   & 31.73333  \\\\\n",
       "\t 2007-05-29 & 2007       & 5          & 29         & 2          & 22         & 149        & 2          & Mon        & 514        & ⋯          & 51.00833   & 48.725     & 44.69167   & 42.1       & 38.61667   & 35.55      & 31.775     & 27.80833   & 23.83333   & 31.73333  \\\\\n",
       "\t 2007-05-29 & 2007       & 5          & 29         & 2          & 22         & 149        & 2          & Mon        & 514        & ⋯          & 51.00833   & 48.725     & 44.69167   & 42.1       & 38.61667   & 35.55      & 31.775     & 27.80833   & 23.83333   & 31.73333  \\\\\n",
       "\t 2007-05-29 & 2007       & 5          & 29         & 2          & 22         & 149        & 2          & Mon        & 514        & ⋯          & 51.00833   & 48.725     & 44.69167   & 42.1       & 38.61667   & 35.55      & 31.775     & 27.80833   & 23.83333   & 31.73333  \\\\\n",
       "\\end{tabular}\n"
      ],
      "text/markdown": [
       "\n",
       "t_date | t_yr | t_mo | t_day | t_qtr | t_wk | t_day_of_yr | t_day_of_wk | t_day_of_wk_name | t_eval_day | ⋯ | wea_ohare_tavg2_ma60_lag14 | wea_ohare_tavg2_ma60_lag21 | wea_ohare_tavg2_ma60_lag28 | wea_ohare_tavg2_ma60_lag35 | wea_ohare_tavg2_ma60_lag42 | wea_ohare_tavg2_ma60_lag49 | wea_ohare_tavg2_ma60_lag56 | wea_ohare_tavg2_ma60_lag63 | wea_ohare_tavg2_ma60_lag90 | wea_ohare_tavg2_ma60_lag120 | \n",
       "|---|---|---|---|---|---|\n",
       "| 2007-05-29 | 2007       | 5          | 29         | 2          | 22         | 149        | 2          | Mon        | 514        | ⋯          | 51.00833   | 48.725     | 44.69167   | 42.1       | 38.61667   | 35.55      | 31.775     | 27.80833   | 23.83333   | 31.73333   | \n",
       "| 2007-05-29 | 2007       | 5          | 29         | 2          | 22         | 149        | 2          | Mon        | 514        | ⋯          | 51.00833   | 48.725     | 44.69167   | 42.1       | 38.61667   | 35.55      | 31.775     | 27.80833   | 23.83333   | 31.73333   | \n",
       "| 2007-05-29 | 2007       | 5          | 29         | 2          | 22         | 149        | 2          | Mon        | 514        | ⋯          | 51.00833   | 48.725     | 44.69167   | 42.1       | 38.61667   | 35.55      | 31.775     | 27.80833   | 23.83333   | 31.73333   | \n",
       "| 2007-05-29 | 2007       | 5          | 29         | 2          | 22         | 149        | 2          | Mon        | 514        | ⋯          | 51.00833   | 48.725     | 44.69167   | 42.1       | 38.61667   | 35.55      | 31.775     | 27.80833   | 23.83333   | 31.73333   | \n",
       "| 2007-05-29 | 2007       | 5          | 29         | 2          | 22         | 149        | 2          | Mon        | 514        | ⋯          | 51.00833   | 48.725     | 44.69167   | 42.1       | 38.61667   | 35.55      | 31.775     | 27.80833   | 23.83333   | 31.73333   | \n",
       "| 2007-05-29 | 2007       | 5          | 29         | 2          | 22         | 149        | 2          | Mon        | 514        | ⋯          | 51.00833   | 48.725     | 44.69167   | 42.1       | 38.61667   | 35.55      | 31.775     | 27.80833   | 23.83333   | 31.73333   | \n",
       "\n",
       "\n"
      ],
      "text/plain": [
       "  t_date     t_yr t_mo t_day t_qtr t_wk t_day_of_yr t_day_of_wk\n",
       "1 2007-05-29 2007 5    29    2     22   149         2          \n",
       "2 2007-05-29 2007 5    29    2     22   149         2          \n",
       "3 2007-05-29 2007 5    29    2     22   149         2          \n",
       "4 2007-05-29 2007 5    29    2     22   149         2          \n",
       "5 2007-05-29 2007 5    29    2     22   149         2          \n",
       "6 2007-05-29 2007 5    29    2     22   149         2          \n",
       "  t_day_of_wk_name t_eval_day ⋯ wea_ohare_tavg2_ma60_lag14\n",
       "1 Mon              514        ⋯ 51.00833                  \n",
       "2 Mon              514        ⋯ 51.00833                  \n",
       "3 Mon              514        ⋯ 51.00833                  \n",
       "4 Mon              514        ⋯ 51.00833                  \n",
       "5 Mon              514        ⋯ 51.00833                  \n",
       "6 Mon              514        ⋯ 51.00833                  \n",
       "  wea_ohare_tavg2_ma60_lag21 wea_ohare_tavg2_ma60_lag28\n",
       "1 48.725                     44.69167                  \n",
       "2 48.725                     44.69167                  \n",
       "3 48.725                     44.69167                  \n",
       "4 48.725                     44.69167                  \n",
       "5 48.725                     44.69167                  \n",
       "6 48.725                     44.69167                  \n",
       "  wea_ohare_tavg2_ma60_lag35 wea_ohare_tavg2_ma60_lag42\n",
       "1 42.1                       38.61667                  \n",
       "2 42.1                       38.61667                  \n",
       "3 42.1                       38.61667                  \n",
       "4 42.1                       38.61667                  \n",
       "5 42.1                       38.61667                  \n",
       "6 42.1                       38.61667                  \n",
       "  wea_ohare_tavg2_ma60_lag49 wea_ohare_tavg2_ma60_lag56\n",
       "1 35.55                      31.775                    \n",
       "2 35.55                      31.775                    \n",
       "3 35.55                      31.775                    \n",
       "4 35.55                      31.775                    \n",
       "5 35.55                      31.775                    \n",
       "6 35.55                      31.775                    \n",
       "  wea_ohare_tavg2_ma60_lag63 wea_ohare_tavg2_ma60_lag90\n",
       "1 27.80833                   23.83333                  \n",
       "2 27.80833                   23.83333                  \n",
       "3 27.80833                   23.83333                  \n",
       "4 27.80833                   23.83333                  \n",
       "5 27.80833                   23.83333                  \n",
       "6 27.80833                   23.83333                  \n",
       "  wea_ohare_tavg2_ma60_lag120\n",
       "1 31.73333                   \n",
       "2 31.73333                   \n",
       "3 31.73333                   \n",
       "4 31.73333                   \n",
       "5 31.73333                   \n",
       "6 31.73333                   "
      ]
     },
     "metadata": {},
     "output_type": "display_data"
    }
   ],
   "source": [
    "df = read_csv(file = \"../../data/processed/wnv.trap.date.rev3b.csv\")\n",
    "head(df)"
   ]
  },
  {
   "cell_type": "code",
   "execution_count": 3,
   "metadata": {},
   "outputs": [
    {
     "name": "stdout",
     "output_type": "stream",
     "text": [
      "Observations: 13,631\n",
      "Variables: 117\n",
      "$ t_date                             <date> 2007-05-29, 2007-05-29, 2007-05...\n",
      "$ t_yr                               <int> 2007, 2007, 2007, 2007, 2007, 20...\n",
      "$ t_mo                               <int> 5, 5, 5, 5, 5, 5, 5, 5, 5, 5, 5,...\n",
      "$ t_day                              <int> 29, 29, 29, 29, 29, 29, 29, 29, ...\n",
      "$ t_qtr                              <int> 2, 2, 2, 2, 2, 2, 2, 2, 2, 2, 2,...\n",
      "$ t_wk                               <int> 22, 22, 22, 22, 22, 22, 22, 22, ...\n",
      "$ t_day_of_yr                        <int> 149, 149, 149, 149, 149, 149, 14...\n",
      "$ t_day_of_wk                        <int> 2, 2, 2, 2, 2, 2, 2, 2, 2, 2, 2,...\n",
      "$ t_day_of_wk_name                   <chr> \"Mon\", \"Mon\", \"Mon\", \"Mon\", \"Mon...\n",
      "$ t_eval_day                         <int> 514, 514, 514, 514, 514, 514, 51...\n",
      "$ t_eval_wk                          <int> 74, 74, 74, 74, 74, 74, 74, 74, ...\n",
      "$ part_train                         <lgl> TRUE, TRUE, TRUE, TRUE, TRUE, TR...\n",
      "$ part_validate                      <lgl> FALSE, FALSE, FALSE, FALSE, FALS...\n",
      "$ part_test                          <lgl> FALSE, FALSE, FALSE, FALSE, FALS...\n",
      "$ part_partition                     <chr> \"train\", \"train\", \"train\", \"trai...\n",
      "$ trap_trap_name                     <chr> \"T002\", \"T007\", \"T015\", \"T045\", ...\n",
      "$ loc_lat                            <dbl> 41.95630, 41.99549, 41.97418, 41...\n",
      "$ loc_lng                            <dbl> -87.79752, -87.76961, -87.82524,...\n",
      "$ loc_lat_lng_src                    <chr> \"CDPH\", \"CDPH\", \"CDPH\", \"CDPH\", ...\n",
      "$ trap_satellite_ind                 <lgl> FALSE, FALSE, FALSE, FALSE, FALS...\n",
      "$ loc_zipcode                        <int> 60634, 60646, 60656, 60614, 6061...\n",
      "$ loc_census_block_group_id          <dbl> 170311701001, 170311201003, 1703...\n",
      "$ loc_census_tract_id                <dbl> 17031170100, 17031120100, 170311...\n",
      "$ loc_community                      <chr> \"DUNNING\", \"FOREST GLEN\", \"NORWO...\n",
      "$ zone_class                         <chr> \"RS-2\", \"POS-1\", \"RS-2\", \"PD 103...\n",
      "$ zone_type                          <int> 4, 12, 4, 5, 6, 5, 2, 4, 12, 4, ...\n",
      "$ ses_lt_hs_pct_blk_grp2017          <dbl> 17.4209547, 4.8346056, 3.5010941...\n",
      "$ ses_median_hh_inc_blk_grp2017      <int> 39643, 84073, 101101, 91094, 382...\n",
      "$ ses_lt_pov_pct_blk_grp2017         <dbl> 16.029144, 3.612167, 7.580175, 2...\n",
      "$ ses_lt_hs_pct_tract2017            <dbl> 17.4209547, 2.1681248, 8.8379284...\n",
      "$ ses_median_hh_inc_tract2017        <int> 39643, 124338, 82865, 116935, 24...\n",
      "$ ses_lt_pov_pct_tract2017           <dbl> 16.0291439, 2.7443806, 4.9787940...\n",
      "$ trap_trap_type                     <chr> \"GRAVID\", \"CDC\", \"GRAVID\", \"GRAV...\n",
      "$ mos_erraticus_num_mosquitos        <int> 0, 0, 0, 0, 0, 0, 0, 0, 0, 0, 0,...\n",
      "$ mos_pipiens_num_mosquitos          <int> 0, 0, 0, 0, 0, 0, 0, 0, 0, 0, 0,...\n",
      "$ mos_pipiens_restuans_num_mosquitos <int> 1, 0, 1, 0, 0, 1, 0, 1, 2, 1, 0,...\n",
      "$ mos_restuans_num_mosquitos         <int> 1, 1, 4, 2, 1, 2, 1, 0, 3, 0, 1,...\n",
      "$ mos_salinarius_num_mosquitos       <int> 0, 0, 0, 0, 0, 0, 0, 0, 0, 0, 0,...\n",
      "$ mos_tarsalis_num_mosquitos         <int> 0, 0, 0, 0, 0, 0, 0, 0, 0, 0, 0,...\n",
      "$ mos_territans_num_mosquitos        <int> 0, 0, 0, 0, 0, 0, 0, 0, 0, 0, 0,...\n",
      "$ mos_unspecified_num_mosquitos      <int> 0, 0, 0, 0, 0, 0, 0, 0, 0, 0, 0,...\n",
      "$ mos_tot_num_mosquitos              <int> 2, 1, 5, 2, 1, 3, 1, 1, 5, 1, 1,...\n",
      "$ mos_erraticus_wnv_present          <lgl> FALSE, FALSE, FALSE, FALSE, FALS...\n",
      "$ mos_pipiens_wnv_present            <lgl> FALSE, FALSE, FALSE, FALSE, FALS...\n",
      "$ mos_pipiens_restuans_wnv_present   <lgl> FALSE, FALSE, FALSE, FALSE, FALS...\n",
      "$ mos_restuans_wnv_present           <lgl> FALSE, FALSE, FALSE, FALSE, FALS...\n",
      "$ mos_salinarius_wnv_present         <lgl> FALSE, FALSE, FALSE, FALSE, FALS...\n",
      "$ mos_tarsalis_wnv_present           <lgl> FALSE, FALSE, FALSE, FALSE, FALS...\n",
      "$ mos_territans_wnv_present          <lgl> FALSE, FALSE, FALSE, FALSE, FALS...\n",
      "$ mos_unspecified_wnv_present        <lgl> FALSE, FALSE, FALSE, FALSE, FALS...\n",
      "$ mos_any_wnv_present                <lgl> FALSE, FALSE, FALSE, FALSE, FALS...\n",
      "$ nbrhud_comm_180d_violation_cnt     <int> 315, 80, 211, 1100, 3058, 1416, ...\n",
      "$ nbrhud_blk_grp_180d_violation_cnt  <int> 20, 3, 7, 33, 136, 10, 67, 21, 4...\n",
      "$ nbrhud_zipcode_180d_violation_cnt  <int> 656, 166, 132, 1119, 2002, 1975,...\n",
      "$ nbrhud_comm_180d_vacancies_cnt     <int> 0, 0, 0, 0, 0, 0, 0, 0, 0, 0, 0,...\n",
      "$ nbrhud_blk_grp_180d_vacancies_cnt  <int> 0, 0, 0, 0, 0, 0, 0, 0, 0, 0, 0,...\n",
      "$ nbrhud_zipcode_180d_vacancies_cnt  <int> 0, 0, 0, 0, 0, 0, 0, 0, 0, 0, 0,...\n",
      "$ wea_midway_prcp                    <dbl> 0.00, 0.00, 0.00, 0.00, 0.00, 0....\n",
      "$ wea_midway_tavg2                   <dbl> 76.5, 76.5, 76.5, 76.5, 76.5, 76...\n",
      "$ wea_midway_tmax                    <int> 88, 88, 88, 88, 88, 88, 88, 88, ...\n",
      "$ wea_midway_tmin                    <int> 65, 65, 65, 65, 65, 65, 65, 65, ...\n",
      "$ wea_ohare_prcp                     <dbl> 0.00, 0.00, 0.00, 0.00, 0.00, 0....\n",
      "$ wea_ohare_tavg2                    <dbl> 74.0, 74.0, 74.0, 74.0, 74.0, 74...\n",
      "$ wea_ohare_tmax                     <int> 88, 88, 88, 88, 88, 88, 88, 88, ...\n",
      "$ wea_ohare_tmin                     <int> 60, 60, 60, 60, 60, 60, 60, 60, ...\n",
      "$ wea_midway_tavg2_ma7               <dbl> 66.64286, 76.50000, 76.50000, 76...\n",
      "$ wea_ohare_tavg2_ma7                <dbl> 67.35714, 67.35714, 67.35714, 67...\n",
      "$ wea_midway_tavg2_ma60              <dbl> 55.325, 55.325, 55.325, 55.325, ...\n",
      "$ wea_ohare_tavg2_ma60               <dbl> 54.37500, 54.37500, 54.37500, 54...\n",
      "$ wea_midway_prcp_sum7               <dbl> 0.45, 0.45, 0.45, 0.45, 0.45, 0....\n",
      "$ wea_ohare_prcp_sum7                <dbl> 1.07, 1.07, 1.07, 1.07, 1.07, 1....\n",
      "$ wea_midway_prcp_sum60              <dbl> 5.33, 5.33, 5.33, 5.33, 5.33, 5....\n",
      "$ wea_ohare_prcp_sum60               <dbl> 5.79, 5.79, 5.79, 5.79, 5.79, 5....\n",
      "$ wea_midway_prcp_sum60_lag7         <dbl> 5.31, 5.31, 5.31, 5.31, 5.31, 5....\n",
      "$ wea_midway_prcp_sum60_lag14        <dbl> 5.98, 5.98, 5.98, 5.98, 5.98, 5....\n",
      "$ wea_midway_prcp_sum60_lag21        <dbl> 6.34, 6.34, 6.34, 6.34, 6.34, 6....\n",
      "$ wea_midway_prcp_sum60_lag28        <dbl> 6.37, 6.37, 6.37, 6.37, 6.37, 6....\n",
      "$ wea_midway_prcp_sum60_lag35        <dbl> 5.09, 5.09, 5.09, 5.09, 5.09, 5....\n",
      "$ wea_midway_prcp_sum60_lag42        <dbl> 5.14, 5.14, 5.14, 5.14, 5.14, 5....\n",
      "$ wea_midway_prcp_sum60_lag49        <dbl> 4.29, 4.29, 4.29, 4.29, 4.29, 4....\n",
      "$ wea_midway_prcp_sum60_lag56        <dbl> 4.30, 4.30, 4.30, 4.30, 4.30, 4....\n",
      "$ wea_midway_prcp_sum60_lag63        <dbl> 3.48, 3.48, 3.48, 3.48, 3.48, 3....\n",
      "$ wea_midway_prcp_sum60_lag90        <dbl> 3.60, 3.60, 3.60, 3.60, 3.60, 3....\n",
      "$ wea_midway_prcp_sum60_lag120       <dbl> 5.36, 5.36, 5.36, 5.36, 5.36, 5....\n",
      "$ wea_midway_tavg2_ma60_lag7         <dbl> 54.00833, 54.00833, 54.00833, 54...\n",
      "$ wea_midway_tavg2_ma60_lag14        <dbl> 51.89167, 51.89167, 51.89167, 51...\n",
      "$ wea_midway_tavg2_ma60_lag21        <dbl> 49.70000, 49.70000, 49.70000, 49...\n",
      "$ wea_midway_tavg2_ma60_lag28        <dbl> 45.53333, 45.53333, 45.53333, 45...\n",
      "$ wea_midway_tavg2_ma60_lag35        <dbl> 42.84167, 42.84167, 42.84167, 42...\n",
      "$ wea_midway_tavg2_ma60_lag42        <dbl> 39.32500, 39.32500, 39.32500, 39...\n",
      "$ wea_midway_tavg2_ma60_lag49        <dbl> 36.35833, 36.35833, 36.35833, 36...\n",
      "$ wea_midway_tavg2_ma60_lag56        <dbl> 32.69167, 32.69167, 32.69167, 32...\n",
      "$ wea_midway_tavg2_ma60_lag63        <dbl> 28.85000, 28.85000, 28.85000, 28...\n",
      "$ wea_midway_tavg2_ma60_lag90        <dbl> 25.95833, 25.95833, 25.95833, 25...\n",
      "$ wea_midway_tavg2_ma60_lag120       <dbl> 34.950, 34.950, 34.950, 34.950, ...\n",
      "$ wea_ohare_prcp_sum60_lag7          <dbl> 4.96, 4.96, 4.96, 4.96, 4.96, 4....\n",
      "$ wea_ohare_prcp_sum60_lag14         <dbl> 5.59, 5.59, 5.59, 5.59, 5.59, 5....\n",
      "$ wea_ohare_prcp_sum60_lag21         <dbl> 5.90, 5.90, 5.90, 5.90, 5.90, 5....\n",
      "$ wea_ohare_prcp_sum60_lag28         <dbl> 6.06, 6.06, 6.06, 6.06, 6.06, 6....\n",
      "$ wea_ohare_prcp_sum60_lag35         <dbl> 6.05, 6.05, 6.05, 6.05, 6.05, 6....\n",
      "$ wea_ohare_prcp_sum60_lag42         <dbl> 6.13, 6.13, 6.13, 6.13, 6.13, 6....\n",
      "$ wea_ohare_prcp_sum60_lag49         <dbl> 5.40, 5.40, 5.40, 5.40, 5.40, 5....\n",
      "$ wea_ohare_prcp_sum60_lag56         <dbl> 5.36, 5.36, 5.36, 5.36, 5.36, 5....\n",
      "$ wea_ohare_prcp_sum60_lag63         <dbl> 4.59, 4.59, 4.59, 4.59, 4.59, 4....\n",
      "$ wea_ohare_prcp_sum60_lag90         <dbl> 3.53, 3.53, 3.53, 3.53, 3.53, 3....\n",
      "$ wea_ohare_prcp_sum60_lag120        <dbl> 5.35, 5.35, 5.35, 5.35, 5.35, 5....\n",
      "$ wea_ohare_tavg2_ma60_lag7          <dbl> 53.175, 53.175, 53.175, 53.175, ...\n",
      "$ wea_ohare_tavg2_ma60_lag14         <dbl> 51.00833, 51.00833, 51.00833, 51...\n",
      "$ wea_ohare_tavg2_ma60_lag21         <dbl> 48.72500, 48.72500, 48.72500, 48...\n",
      "$ wea_ohare_tavg2_ma60_lag28         <dbl> 44.69167, 44.69167, 44.69167, 44...\n",
      "$ wea_ohare_tavg2_ma60_lag35         <dbl> 42.10000, 42.10000, 42.10000, 42...\n",
      "$ wea_ohare_tavg2_ma60_lag42         <dbl> 38.61667, 38.61667, 38.61667, 38...\n",
      "$ wea_ohare_tavg2_ma60_lag49         <dbl> 35.55000, 35.55000, 35.55000, 35...\n",
      "$ wea_ohare_tavg2_ma60_lag56         <dbl> 31.775, 31.775, 31.775, 31.775, ...\n",
      "$ wea_ohare_tavg2_ma60_lag63         <dbl> 27.80833, 27.80833, 27.80833, 27...\n",
      "$ wea_ohare_tavg2_ma60_lag90         <dbl> 23.83333, 23.83333, 23.83333, 23...\n",
      "$ wea_ohare_tavg2_ma60_lag120        <dbl> 31.73333, 31.73333, 31.73333, 31...\n"
     ]
    }
   ],
   "source": [
    "glimpse(df)"
   ]
  },
  {
   "cell_type": "markdown",
   "metadata": {},
   "source": [
    "# Data Type Conversions"
   ]
  },
  {
   "cell_type": "code",
   "execution_count": 4,
   "metadata": {},
   "outputs": [],
   "source": [
    "factor_vars = c(\"loc_zipcode\", \"loc_census_block_group_id\",\"loc_census_tract_id\",\"zone_type\")\n",
    "for (col in factor_vars){\n",
    "    df[,col] = as.factor(df[,col][[1]])\n",
    "}"
   ]
  },
  {
   "cell_type": "code",
   "execution_count": 5,
   "metadata": {},
   "outputs": [],
   "source": [
    "library(\"forcats\")"
   ]
  },
  {
   "cell_type": "code",
   "execution_count": 6,
   "metadata": {},
   "outputs": [],
   "source": [
    "df$loc_zipcode = fct_infreq(df$loc_zipcode)\n",
    "df$loc_census_block_group_id = fct_infreq(df$loc_census_block_group_id)\n",
    "df$loc_census_tract_id = fct_infreq(df$loc_census_tract_id)\n",
    "df$zone_type = fct_infreq(df$zone_type)"
   ]
  },
  {
   "cell_type": "markdown",
   "metadata": {},
   "source": [
    "# Split into train, validation and test datasets"
   ]
  },
  {
   "cell_type": "code",
   "execution_count": 7,
   "metadata": {},
   "outputs": [
    {
     "data": {
      "text/html": [
       "<table>\n",
       "<thead><tr><th scope=col>part_partition</th><th scope=col>n</th></tr></thead>\n",
       "<tbody>\n",
       "\t<tr><td>test    </td><td>1979    </td></tr>\n",
       "\t<tr><td>train   </td><td>8222    </td></tr>\n",
       "\t<tr><td>validate</td><td>3430    </td></tr>\n",
       "</tbody>\n",
       "</table>\n"
      ],
      "text/latex": [
       "\\begin{tabular}{r|ll}\n",
       " part\\_partition & n\\\\\n",
       "\\hline\n",
       "\t test     & 1979    \\\\\n",
       "\t train    & 8222    \\\\\n",
       "\t validate & 3430    \\\\\n",
       "\\end{tabular}\n"
      ],
      "text/markdown": [
       "\n",
       "part_partition | n | \n",
       "|---|---|---|\n",
       "| test     | 1979     | \n",
       "| train    | 8222     | \n",
       "| validate | 3430     | \n",
       "\n",
       "\n"
      ],
      "text/plain": [
       "  part_partition n   \n",
       "1 test           1979\n",
       "2 train          8222\n",
       "3 validate       3430"
      ]
     },
     "metadata": {},
     "output_type": "display_data"
    }
   ],
   "source": [
    "df %>% count(part_partition)"
   ]
  },
  {
   "cell_type": "code",
   "execution_count": 8,
   "metadata": {},
   "outputs": [],
   "source": [
    "partition_vars = df %>% select(starts_with(\"part_\")) %>% names()"
   ]
  },
  {
   "cell_type": "code",
   "execution_count": 9,
   "metadata": {},
   "outputs": [],
   "source": [
    "df_sub = df %>% select(-partition_vars)"
   ]
  },
  {
   "cell_type": "code",
   "execution_count": 10,
   "metadata": {},
   "outputs": [],
   "source": [
    "df_train = df_sub[df$part_partition==\"train\",]\n",
    "df_val   = df_sub[df$part_partition==\"validate\",]\n",
    "df_test  = df_sub[df$part_partition==\"test\",]"
   ]
  },
  {
   "cell_type": "markdown",
   "metadata": {},
   "source": [
    "What are the date ranges for each of these splits?"
   ]
  },
  {
   "cell_type": "code",
   "execution_count": 11,
   "metadata": {},
   "outputs": [
    {
     "data": {
      "text/html": [
       "<ol class=list-inline>\n",
       "\t<li><time datetime=\"2007-05-29\">2007-05-29</time></li>\n",
       "\t<li><time datetime=\"2013-09-26\">2013-09-26</time></li>\n",
       "</ol>\n"
      ],
      "text/latex": [
       "\\begin{enumerate*}\n",
       "\\item 2007-05-29\n",
       "\\item 2013-09-26\n",
       "\\end{enumerate*}\n"
      ],
      "text/markdown": [
       "1. 2007-05-29\n",
       "2. 2013-09-26\n",
       "\n",
       "\n"
      ],
      "text/plain": [
       "[1] \"2007-05-29\" \"2013-09-26\""
      ]
     },
     "metadata": {},
     "output_type": "display_data"
    }
   ],
   "source": [
    "range(df_train$t_date)"
   ]
  },
  {
   "cell_type": "code",
   "execution_count": 12,
   "metadata": {},
   "outputs": [
    {
     "data": {
      "text/html": [
       "<ol class=list-inline>\n",
       "\t<li><time datetime=\"2014-06-05\">2014-06-05</time></li>\n",
       "\t<li><time datetime=\"2016-09-29\">2016-09-29</time></li>\n",
       "</ol>\n"
      ],
      "text/latex": [
       "\\begin{enumerate*}\n",
       "\\item 2014-06-05\n",
       "\\item 2016-09-29\n",
       "\\end{enumerate*}\n"
      ],
      "text/markdown": [
       "1. 2014-06-05\n",
       "2. 2016-09-29\n",
       "\n",
       "\n"
      ],
      "text/plain": [
       "[1] \"2014-06-05\" \"2016-09-29\""
      ]
     },
     "metadata": {},
     "output_type": "display_data"
    }
   ],
   "source": [
    "range(df_val$t_date)"
   ]
  },
  {
   "cell_type": "code",
   "execution_count": 13,
   "metadata": {},
   "outputs": [
    {
     "data": {
      "text/html": [
       "<ol class=list-inline>\n",
       "\t<li><time datetime=\"2017-06-16\">2017-06-16</time></li>\n",
       "\t<li><time datetime=\"2018-09-27\">2018-09-27</time></li>\n",
       "</ol>\n"
      ],
      "text/latex": [
       "\\begin{enumerate*}\n",
       "\\item 2017-06-16\n",
       "\\item 2018-09-27\n",
       "\\end{enumerate*}\n"
      ],
      "text/markdown": [
       "1. 2017-06-16\n",
       "2. 2018-09-27\n",
       "\n",
       "\n"
      ],
      "text/plain": [
       "[1] \"2017-06-16\" \"2018-09-27\""
      ]
     },
     "metadata": {},
     "output_type": "display_data"
    }
   ],
   "source": [
    "range(df_test$t_date)"
   ]
  },
  {
   "cell_type": "markdown",
   "metadata": {},
   "source": [
    "# Save to file"
   ]
  },
  {
   "cell_type": "code",
   "execution_count": 14,
   "metadata": {},
   "outputs": [],
   "source": [
    "saveRDS(df_train,file = \"df_train.RData\")\n",
    "saveRDS(df_val,file = \"df_val.RData\")\n",
    "saveRDS(df_test,file = \"df_test.RData\")"
   ]
  }
 ],
 "metadata": {
  "kernelspec": {
   "display_name": "R",
   "language": "R",
   "name": "ir"
  },
  "language_info": {
   "codemirror_mode": "r",
   "file_extension": ".r",
   "mimetype": "text/x-r-source",
   "name": "R",
   "pygments_lexer": "r",
   "version": "3.5.1"
  }
 },
 "nbformat": 4,
 "nbformat_minor": 2
}
