{
 "cells": [
  {
   "cell_type": "markdown",
   "metadata": {},
   "source": [
    "# Read the files"
   ]
  },
  {
   "cell_type": "code",
   "execution_count": 1,
   "metadata": {},
   "outputs": [
    {
     "name": "stderr",
     "output_type": "stream",
     "text": [
      "── Attaching packages ─────────────────────────────────────── tidyverse 1.2.1 ──\n",
      "✔ ggplot2 3.0.0     ✔ purrr   0.2.5\n",
      "✔ tibble  1.4.2     ✔ dplyr   0.7.6\n",
      "✔ tidyr   0.8.1     ✔ stringr 1.3.1\n",
      "✔ readr   1.1.1     ✔ forcats 0.3.0\n",
      "── Conflicts ────────────────────────────────────────── tidyverse_conflicts() ──\n",
      "✖ dplyr::filter() masks stats::filter()\n",
      "✖ dplyr::lag()    masks stats::lag()\n"
     ]
    }
   ],
   "source": [
    "library(\"tidyverse\")\n",
    "library(\"janitor\")"
   ]
  },
  {
   "cell_type": "code",
   "execution_count": 2,
   "metadata": {},
   "outputs": [
    {
     "name": "stderr",
     "output_type": "stream",
     "text": [
      "Parsed with column specification:\n",
      "cols(\n",
      "  .default = col_double(),\n",
      "  t_date = col_date(format = \"\"),\n",
      "  t_yr = col_integer(),\n",
      "  t_mo = col_integer(),\n",
      "  t_day = col_integer(),\n",
      "  t_qtr = col_integer(),\n",
      "  t_wk = col_integer(),\n",
      "  t_day_of_yr = col_integer(),\n",
      "  t_day_of_wk = col_integer(),\n",
      "  t_day_of_wk_name = col_character(),\n",
      "  t_eval_day = col_integer(),\n",
      "  t_eval_wk = col_integer(),\n",
      "  part_train = col_logical(),\n",
      "  part_validate = col_logical(),\n",
      "  part_test = col_logical(),\n",
      "  part_partition = col_character(),\n",
      "  trap_trap_name = col_character(),\n",
      "  loc_lat_lng_src = col_character(),\n",
      "  trap_satellite_ind = col_logical(),\n",
      "  loc_zipcode = col_integer(),\n",
      "  loc_community = col_character()\n",
      "  # ... with 33 more columns\n",
      ")\n",
      "See spec(...) for full column specifications.\n"
     ]
    }
   ],
   "source": [
    "df_train = read_csv(\"df_train.csv\")"
   ]
  },
  {
   "cell_type": "code",
   "execution_count": 3,
   "metadata": {},
   "outputs": [
    {
     "data": {
      "text/html": [
       "<table>\n",
       "<thead><tr><th scope=col>t_date</th><th scope=col>t_yr</th><th scope=col>t_mo</th><th scope=col>t_day</th><th scope=col>t_qtr</th><th scope=col>t_wk</th><th scope=col>t_day_of_yr</th><th scope=col>t_day_of_wk</th><th scope=col>t_day_of_wk_name</th><th scope=col>t_eval_day</th><th scope=col>⋯</th><th scope=col>wea_ohare_tavg2_ma60_lag14</th><th scope=col>wea_ohare_tavg2_ma60_lag21</th><th scope=col>wea_ohare_tavg2_ma60_lag28</th><th scope=col>wea_ohare_tavg2_ma60_lag35</th><th scope=col>wea_ohare_tavg2_ma60_lag42</th><th scope=col>wea_ohare_tavg2_ma60_lag49</th><th scope=col>wea_ohare_tavg2_ma60_lag56</th><th scope=col>wea_ohare_tavg2_ma60_lag63</th><th scope=col>wea_ohare_tavg2_ma60_lag90</th><th scope=col>wea_ohare_tavg2_ma60_lag120</th></tr></thead>\n",
       "<tbody>\n",
       "\t<tr><td>2007-05-29</td><td>2007      </td><td>5         </td><td>29        </td><td>2         </td><td>22        </td><td>149       </td><td>2         </td><td>Mon       </td><td>514       </td><td>⋯         </td><td>51.00833  </td><td>48.725    </td><td>44.69167  </td><td>42.1      </td><td>38.61667  </td><td>35.55     </td><td>31.775    </td><td>27.80833  </td><td>23.83333  </td><td>31.73333  </td></tr>\n",
       "\t<tr><td>2007-05-29</td><td>2007      </td><td>5         </td><td>29        </td><td>2         </td><td>22        </td><td>149       </td><td>2         </td><td>Mon       </td><td>514       </td><td>⋯         </td><td>51.00833  </td><td>48.725    </td><td>44.69167  </td><td>42.1      </td><td>38.61667  </td><td>35.55     </td><td>31.775    </td><td>27.80833  </td><td>23.83333  </td><td>31.73333  </td></tr>\n",
       "\t<tr><td>2007-05-29</td><td>2007      </td><td>5         </td><td>29        </td><td>2         </td><td>22        </td><td>149       </td><td>2         </td><td>Mon       </td><td>514       </td><td>⋯         </td><td>51.00833  </td><td>48.725    </td><td>44.69167  </td><td>42.1      </td><td>38.61667  </td><td>35.55     </td><td>31.775    </td><td>27.80833  </td><td>23.83333  </td><td>31.73333  </td></tr>\n",
       "\t<tr><td>2007-05-29</td><td>2007      </td><td>5         </td><td>29        </td><td>2         </td><td>22        </td><td>149       </td><td>2         </td><td>Mon       </td><td>514       </td><td>⋯         </td><td>51.00833  </td><td>48.725    </td><td>44.69167  </td><td>42.1      </td><td>38.61667  </td><td>35.55     </td><td>31.775    </td><td>27.80833  </td><td>23.83333  </td><td>31.73333  </td></tr>\n",
       "\t<tr><td>2007-05-29</td><td>2007      </td><td>5         </td><td>29        </td><td>2         </td><td>22        </td><td>149       </td><td>2         </td><td>Mon       </td><td>514       </td><td>⋯         </td><td>51.00833  </td><td>48.725    </td><td>44.69167  </td><td>42.1      </td><td>38.61667  </td><td>35.55     </td><td>31.775    </td><td>27.80833  </td><td>23.83333  </td><td>31.73333  </td></tr>\n",
       "\t<tr><td>2007-05-29</td><td>2007      </td><td>5         </td><td>29        </td><td>2         </td><td>22        </td><td>149       </td><td>2         </td><td>Mon       </td><td>514       </td><td>⋯         </td><td>51.00833  </td><td>48.725    </td><td>44.69167  </td><td>42.1      </td><td>38.61667  </td><td>35.55     </td><td>31.775    </td><td>27.80833  </td><td>23.83333  </td><td>31.73333  </td></tr>\n",
       "</tbody>\n",
       "</table>\n"
      ],
      "text/latex": [
       "\\begin{tabular}{r|lllllllllllllllllllllllllllllllllllllllllllllllllllllllllllllllllllllllllllllllllllllllllllllllllllllllllllllllllllll}\n",
       " t\\_date & t\\_yr & t\\_mo & t\\_day & t\\_qtr & t\\_wk & t\\_day\\_of\\_yr & t\\_day\\_of\\_wk & t\\_day\\_of\\_wk\\_name & t\\_eval\\_day & ⋯ & wea\\_ohare\\_tavg2\\_ma60\\_lag14 & wea\\_ohare\\_tavg2\\_ma60\\_lag21 & wea\\_ohare\\_tavg2\\_ma60\\_lag28 & wea\\_ohare\\_tavg2\\_ma60\\_lag35 & wea\\_ohare\\_tavg2\\_ma60\\_lag42 & wea\\_ohare\\_tavg2\\_ma60\\_lag49 & wea\\_ohare\\_tavg2\\_ma60\\_lag56 & wea\\_ohare\\_tavg2\\_ma60\\_lag63 & wea\\_ohare\\_tavg2\\_ma60\\_lag90 & wea\\_ohare\\_tavg2\\_ma60\\_lag120\\\\\n",
       "\\hline\n",
       "\t 2007-05-29 & 2007       & 5          & 29         & 2          & 22         & 149        & 2          & Mon        & 514        & ⋯          & 51.00833   & 48.725     & 44.69167   & 42.1       & 38.61667   & 35.55      & 31.775     & 27.80833   & 23.83333   & 31.73333  \\\\\n",
       "\t 2007-05-29 & 2007       & 5          & 29         & 2          & 22         & 149        & 2          & Mon        & 514        & ⋯          & 51.00833   & 48.725     & 44.69167   & 42.1       & 38.61667   & 35.55      & 31.775     & 27.80833   & 23.83333   & 31.73333  \\\\\n",
       "\t 2007-05-29 & 2007       & 5          & 29         & 2          & 22         & 149        & 2          & Mon        & 514        & ⋯          & 51.00833   & 48.725     & 44.69167   & 42.1       & 38.61667   & 35.55      & 31.775     & 27.80833   & 23.83333   & 31.73333  \\\\\n",
       "\t 2007-05-29 & 2007       & 5          & 29         & 2          & 22         & 149        & 2          & Mon        & 514        & ⋯          & 51.00833   & 48.725     & 44.69167   & 42.1       & 38.61667   & 35.55      & 31.775     & 27.80833   & 23.83333   & 31.73333  \\\\\n",
       "\t 2007-05-29 & 2007       & 5          & 29         & 2          & 22         & 149        & 2          & Mon        & 514        & ⋯          & 51.00833   & 48.725     & 44.69167   & 42.1       & 38.61667   & 35.55      & 31.775     & 27.80833   & 23.83333   & 31.73333  \\\\\n",
       "\t 2007-05-29 & 2007       & 5          & 29         & 2          & 22         & 149        & 2          & Mon        & 514        & ⋯          & 51.00833   & 48.725     & 44.69167   & 42.1       & 38.61667   & 35.55      & 31.775     & 27.80833   & 23.83333   & 31.73333  \\\\\n",
       "\\end{tabular}\n"
      ],
      "text/markdown": [
       "\n",
       "t_date | t_yr | t_mo | t_day | t_qtr | t_wk | t_day_of_yr | t_day_of_wk | t_day_of_wk_name | t_eval_day | ⋯ | wea_ohare_tavg2_ma60_lag14 | wea_ohare_tavg2_ma60_lag21 | wea_ohare_tavg2_ma60_lag28 | wea_ohare_tavg2_ma60_lag35 | wea_ohare_tavg2_ma60_lag42 | wea_ohare_tavg2_ma60_lag49 | wea_ohare_tavg2_ma60_lag56 | wea_ohare_tavg2_ma60_lag63 | wea_ohare_tavg2_ma60_lag90 | wea_ohare_tavg2_ma60_lag120 | \n",
       "|---|---|---|---|---|---|\n",
       "| 2007-05-29 | 2007       | 5          | 29         | 2          | 22         | 149        | 2          | Mon        | 514        | ⋯          | 51.00833   | 48.725     | 44.69167   | 42.1       | 38.61667   | 35.55      | 31.775     | 27.80833   | 23.83333   | 31.73333   | \n",
       "| 2007-05-29 | 2007       | 5          | 29         | 2          | 22         | 149        | 2          | Mon        | 514        | ⋯          | 51.00833   | 48.725     | 44.69167   | 42.1       | 38.61667   | 35.55      | 31.775     | 27.80833   | 23.83333   | 31.73333   | \n",
       "| 2007-05-29 | 2007       | 5          | 29         | 2          | 22         | 149        | 2          | Mon        | 514        | ⋯          | 51.00833   | 48.725     | 44.69167   | 42.1       | 38.61667   | 35.55      | 31.775     | 27.80833   | 23.83333   | 31.73333   | \n",
       "| 2007-05-29 | 2007       | 5          | 29         | 2          | 22         | 149        | 2          | Mon        | 514        | ⋯          | 51.00833   | 48.725     | 44.69167   | 42.1       | 38.61667   | 35.55      | 31.775     | 27.80833   | 23.83333   | 31.73333   | \n",
       "| 2007-05-29 | 2007       | 5          | 29         | 2          | 22         | 149        | 2          | Mon        | 514        | ⋯          | 51.00833   | 48.725     | 44.69167   | 42.1       | 38.61667   | 35.55      | 31.775     | 27.80833   | 23.83333   | 31.73333   | \n",
       "| 2007-05-29 | 2007       | 5          | 29         | 2          | 22         | 149        | 2          | Mon        | 514        | ⋯          | 51.00833   | 48.725     | 44.69167   | 42.1       | 38.61667   | 35.55      | 31.775     | 27.80833   | 23.83333   | 31.73333   | \n",
       "\n",
       "\n"
      ],
      "text/plain": [
       "  t_date     t_yr t_mo t_day t_qtr t_wk t_day_of_yr t_day_of_wk\n",
       "1 2007-05-29 2007 5    29    2     22   149         2          \n",
       "2 2007-05-29 2007 5    29    2     22   149         2          \n",
       "3 2007-05-29 2007 5    29    2     22   149         2          \n",
       "4 2007-05-29 2007 5    29    2     22   149         2          \n",
       "5 2007-05-29 2007 5    29    2     22   149         2          \n",
       "6 2007-05-29 2007 5    29    2     22   149         2          \n",
       "  t_day_of_wk_name t_eval_day ⋯ wea_ohare_tavg2_ma60_lag14\n",
       "1 Mon              514        ⋯ 51.00833                  \n",
       "2 Mon              514        ⋯ 51.00833                  \n",
       "3 Mon              514        ⋯ 51.00833                  \n",
       "4 Mon              514        ⋯ 51.00833                  \n",
       "5 Mon              514        ⋯ 51.00833                  \n",
       "6 Mon              514        ⋯ 51.00833                  \n",
       "  wea_ohare_tavg2_ma60_lag21 wea_ohare_tavg2_ma60_lag28\n",
       "1 48.725                     44.69167                  \n",
       "2 48.725                     44.69167                  \n",
       "3 48.725                     44.69167                  \n",
       "4 48.725                     44.69167                  \n",
       "5 48.725                     44.69167                  \n",
       "6 48.725                     44.69167                  \n",
       "  wea_ohare_tavg2_ma60_lag35 wea_ohare_tavg2_ma60_lag42\n",
       "1 42.1                       38.61667                  \n",
       "2 42.1                       38.61667                  \n",
       "3 42.1                       38.61667                  \n",
       "4 42.1                       38.61667                  \n",
       "5 42.1                       38.61667                  \n",
       "6 42.1                       38.61667                  \n",
       "  wea_ohare_tavg2_ma60_lag49 wea_ohare_tavg2_ma60_lag56\n",
       "1 35.55                      31.775                    \n",
       "2 35.55                      31.775                    \n",
       "3 35.55                      31.775                    \n",
       "4 35.55                      31.775                    \n",
       "5 35.55                      31.775                    \n",
       "6 35.55                      31.775                    \n",
       "  wea_ohare_tavg2_ma60_lag63 wea_ohare_tavg2_ma60_lag90\n",
       "1 27.80833                   23.83333                  \n",
       "2 27.80833                   23.83333                  \n",
       "3 27.80833                   23.83333                  \n",
       "4 27.80833                   23.83333                  \n",
       "5 27.80833                   23.83333                  \n",
       "6 27.80833                   23.83333                  \n",
       "  wea_ohare_tavg2_ma60_lag120\n",
       "1 31.73333                   \n",
       "2 31.73333                   \n",
       "3 31.73333                   \n",
       "4 31.73333                   \n",
       "5 31.73333                   \n",
       "6 31.73333                   "
      ]
     },
     "metadata": {},
     "output_type": "display_data"
    }
   ],
   "source": [
    "head(df_train)"
   ]
  },
  {
   "cell_type": "code",
   "execution_count": null,
   "metadata": {},
   "outputs": [],
   "source": []
  },
  {
   "cell_type": "markdown",
   "metadata": {},
   "source": [
    "## Add WOE Features"
   ]
  },
  {
   "cell_type": "code",
   "execution_count": null,
   "metadata": {},
   "outputs": [],
   "source": []
  },
  {
   "cell_type": "markdown",
   "metadata": {},
   "source": [
    "## Convert certain cols to factors"
   ]
  },
  {
   "cell_type": "code",
   "execution_count": null,
   "metadata": {},
   "outputs": [],
   "source": []
  },
  {
   "cell_type": "markdown",
   "metadata": {},
   "source": [
    "## Time related features"
   ]
  },
  {
   "cell_type": "code",
   "execution_count": null,
   "metadata": {},
   "outputs": [],
   "source": []
  },
  {
   "cell_type": "markdown",
   "metadata": {},
   "source": []
  },
  {
   "cell_type": "code",
   "execution_count": null,
   "metadata": {},
   "outputs": [],
   "source": []
  },
  {
   "cell_type": "markdown",
   "metadata": {},
   "source": []
  },
  {
   "cell_type": "code",
   "execution_count": null,
   "metadata": {},
   "outputs": [],
   "source": []
  }
 ],
 "metadata": {
  "kernelspec": {
   "display_name": "R",
   "language": "R",
   "name": "ir"
  },
  "language_info": {
   "codemirror_mode": "r",
   "file_extension": ".r",
   "mimetype": "text/x-r-source",
   "name": "R",
   "pygments_lexer": "r",
   "version": "3.5.1"
  }
 },
 "nbformat": 4,
 "nbformat_minor": 2
}
