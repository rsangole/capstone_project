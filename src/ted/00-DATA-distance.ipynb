{
 "cells": [
  {
   "cell_type": "markdown",
   "metadata": {},
   "source": [
    "## Create a file(s) for marker locations containing distance to trap\n",
    "### Originally, all three files were combined but the file size was too big or GitHub\n",
    "### Only hospitals is create in this code for testing purposes"
   ]
  },
  {
   "cell_type": "code",
   "execution_count": 1,
   "metadata": {
    "collapsed": false
   },
   "outputs": [
    {
     "name": "stderr",
     "output_type": "stream",
     "text": [
      "── Attaching packages ─────────────────────────────────────── tidyverse 1.2.1 ──\n",
      "✔ ggplot2 3.1.0.9000     ✔ purrr   0.2.5     \n",
      "✔ tibble  2.0.1          ✔ dplyr   0.7.6     \n",
      "✔ tidyr   0.8.1          ✔ stringr 1.4.0     \n",
      "✔ readr   1.1.1          ✔ forcats 0.3.0     \n",
      "Warning message:\n",
      "“package ‘tibble’ was built under R version 3.4.4”Warning message:\n",
      "“package ‘purrr’ was built under R version 3.4.4”Warning message:\n",
      "“package ‘dplyr’ was built under R version 3.4.4”Warning message:\n",
      "“package ‘stringr’ was built under R version 3.4.4”── Conflicts ────────────────────────────────────────── tidyverse_conflicts() ──\n",
      "✖ dplyr::filter() masks stats::filter()\n",
      "✖ dplyr::lag()    masks stats::lag()\n",
      "\n",
      "Attaching package: ‘data.table’\n",
      "\n",
      "The following objects are masked from ‘package:dplyr’:\n",
      "\n",
      "    between, first, last\n",
      "\n",
      "The following object is masked from ‘package:purrr’:\n",
      "\n",
      "    transpose\n",
      "\n"
     ]
    }
   ],
   "source": [
    "library(tidyverse) # data wrangling\n",
    "library(data.table) # fread\n",
    "library(dplyr)# data wrangling "
   ]
  },
  {
   "cell_type": "code",
   "execution_count": 2,
   "metadata": {
    "collapsed": true
   },
   "outputs": [],
   "source": [
    "hospitals <- fread(\"https://raw.githubusercontent.com/rsangole/capstone_project/master/data/raw/hospitals/hospitals.csv\")\n",
    "schools <- fread(\"https://raw.githubusercontent.com/rsangole/capstone_project/master/data/raw/schools/School%20Point%202014.csv\")\n",
    "senior <- fread(\"https://raw.githubusercontent.com/rsangole/capstone_project/master/data/raw/senior_centers/senior.centers.csv\")\n",
    "wnv_df <- fread(\"https://raw.githubusercontent.com/rsangole/capstone_project/master/data/processed/wnv.trap.date.rev3b.csv\")"
   ]
  },
  {
   "cell_type": "code",
   "execution_count": 3,
   "metadata": {
    "collapsed": false
   },
   "outputs": [
    {
     "data": {
      "text/html": [
       "<table>\n",
       "<thead><tr><th scope=col>CFNAME</th><th scope=col>CFTYPE</th><th scope=col>CFSUBTYPE</th><th scope=col>ADDRESS</th><th scope=col>GNISCODE</th><th scope=col>COMMENT</th><th scope=col>SOURCE</th><th scope=col>Jurisdicti</th><th scope=col>Community</th><th scope=col>MERGEID</th><th scope=col>⋯</th><th scope=col>POINT_Y</th><th scope=col>ZCTA5CE10</th><th scope=col>STATEFP</th><th scope=col>COUNTYFP</th><th scope=col>TRACTCE</th><th scope=col>BLKGRPCE</th><th scope=col>GEOID</th><th scope=col>LATITUDE</th><th scope=col>LONGITUDE</th><th scope=col>community</th></tr></thead>\n",
       "<tbody>\n",
       "\t<tr><td>Advocate Christ Medical Center</td><td>Hospital                      </td><td>Hospital                      </td><td>9340 S Kostner Ave            </td><td> 426825                       </td><td>                              </td><td>CGI                           </td><td>NA                            </td><td>Oak Lawn                      </td><td>11216                         </td><td>⋯                             </td><td>1841934                       </td><td>60453                         </td><td>17                            </td><td>031                           </td><td>822102                        </td><td>1                             </td><td>170318221021                  </td><td>+41.7239031                   </td><td>-087.7273882                  </td><td>NA                            </td></tr>\n",
       "\t<tr><td>Palos Primary Care Center     </td><td>Hospital                      </td><td>Hospital                      </td><td>15300 West Ave                </td><td>2036658                       </td><td>                              </td><td>CL                            </td><td>NA                            </td><td>Orland Park                   </td><td>11376                         </td><td>⋯                             </td><td>1801018                       </td><td>60462                         </td><td>17                            </td><td>031                           </td><td>824116                        </td><td>4                             </td><td>170318241164                  </td><td>+41.6076791                   </td><td>-087.8676051                  </td><td>NA                            </td></tr>\n",
       "</tbody>\n",
       "</table>\n"
      ],
      "text/latex": [
       "\\begin{tabular}{r|lllllllllllllllllllll}\n",
       " CFNAME & CFTYPE & CFSUBTYPE & ADDRESS & GNISCODE & COMMENT & SOURCE & Jurisdicti & Community & MERGEID & ⋯ & POINT\\_Y & ZCTA5CE10 & STATEFP & COUNTYFP & TRACTCE & BLKGRPCE & GEOID & LATITUDE & LONGITUDE & community\\\\\n",
       "\\hline\n",
       "\t Advocate Christ Medical Center & Hospital                       & Hospital                       & 9340 S Kostner Ave             &  426825                        &                                & CGI                            & NA                             & Oak Lawn                       & 11216                          & ⋯                              & 1841934                        & 60453                          & 17                             & 031                            & 822102                         & 1                              & 170318221021                   & +41.7239031                    & -087.7273882                   & NA                            \\\\\n",
       "\t Palos Primary Care Center      & Hospital                       & Hospital                       & 15300 West Ave                 & 2036658                        &                                & CL                             & NA                             & Orland Park                    & 11376                          & ⋯                              & 1801018                        & 60462                          & 17                             & 031                            & 824116                         & 4                              & 170318241164                   & +41.6076791                    & -087.8676051                   & NA                            \\\\\n",
       "\\end{tabular}\n"
      ],
      "text/markdown": [
       "\n",
       "| CFNAME | CFTYPE | CFSUBTYPE | ADDRESS | GNISCODE | COMMENT | SOURCE | Jurisdicti | Community | MERGEID | ⋯ | POINT_Y | ZCTA5CE10 | STATEFP | COUNTYFP | TRACTCE | BLKGRPCE | GEOID | LATITUDE | LONGITUDE | community |\n",
       "|---|---|---|---|---|---|---|---|---|---|---|---|---|---|---|---|---|---|---|---|---|\n",
       "| Advocate Christ Medical Center | Hospital                       | Hospital                       | 9340 S Kostner Ave             |  426825                        |                                | CGI                            | NA                             | Oak Lawn                       | 11216                          | ⋯                              | 1841934                        | 60453                          | 17                             | 031                            | 822102                         | 1                              | 170318221021                   | +41.7239031                    | -087.7273882                   | NA                             |\n",
       "| Palos Primary Care Center      | Hospital                       | Hospital                       | 15300 West Ave                 | 2036658                        |                                | CL                             | NA                             | Orland Park                    | 11376                          | ⋯                              | 1801018                        | 60462                          | 17                             | 031                            | 824116                         | 4                              | 170318241164                   | +41.6076791                    | -087.8676051                   | NA                             |\n",
       "\n"
      ],
      "text/plain": [
       "  CFNAME                         CFTYPE   CFSUBTYPE ADDRESS            GNISCODE\n",
       "1 Advocate Christ Medical Center Hospital Hospital  9340 S Kostner Ave  426825 \n",
       "2 Palos Primary Care Center      Hospital Hospital  15300 West Ave     2036658 \n",
       "  COMMENT SOURCE Jurisdicti Community   MERGEID ⋯ POINT_Y ZCTA5CE10 STATEFP\n",
       "1         CGI    NA         Oak Lawn    11216   ⋯ 1841934 60453     17     \n",
       "2         CL     NA         Orland Park 11376   ⋯ 1801018 60462     17     \n",
       "  COUNTYFP TRACTCE BLKGRPCE GEOID        LATITUDE    LONGITUDE    community\n",
       "1 031      822102  1        170318221021 +41.7239031 -087.7273882 NA       \n",
       "2 031      824116  4        170318241164 +41.6076791 -087.8676051 NA       "
      ]
     },
     "metadata": {},
     "output_type": "display_data"
    },
    {
     "data": {
      "text/html": [
       "<table>\n",
       "<thead><tr><th scope=col>mergeid</th><th scope=col>cftype</th><th scope=col>gniscode</th><th scope=col>cfname</th><th scope=col>cfsubtype</th><th scope=col>comment</th><th scope=col>source</th><th scope=col>jurisdicti</th><th scope=col>community</th><th scope=col>address</th><th scope=col>POINT_X</th><th scope=col>POINT_Y</th></tr></thead>\n",
       "<tbody>\n",
       "\t<tr><td>10000                       </td><td>School                      </td><td> 419204                     </td><td>Strassburg Elementary School</td><td>Public School               </td><td>                            </td><td>ACGIL                       </td><td>SCHOOL DIST #168            </td><td>Sauk Village                </td><td>2002 E 223rd St             </td><td>-87.56634                   </td><td>41.48341                    </td></tr>\n",
       "\t<tr><td>10002                       </td><td>School                      </td><td>2035677                     </td><td>Saint Mark's Lutheran School</td><td>Non Public School           </td><td>                            </td><td>ACG                         </td><td>ST MARK EV LUTH CH          </td><td>Sauk Village                </td><td>22012 Torrence Ave          </td><td>-87.55686                   </td><td>41.48871                    </td></tr>\n",
       "</tbody>\n",
       "</table>\n"
      ],
      "text/latex": [
       "\\begin{tabular}{r|llllllllllll}\n",
       " mergeid & cftype & gniscode & cfname & cfsubtype & comment & source & jurisdicti & community & address & POINT\\_X & POINT\\_Y\\\\\n",
       "\\hline\n",
       "\t 10000                        & School                       &  419204                      & Strassburg Elementary School & Public School                &                              & ACGIL                        & SCHOOL DIST \\#168           & Sauk Village                 & 2002 E 223rd St              & -87.56634                    & 41.48341                    \\\\\n",
       "\t 10002                        & School                       & 2035677                      & Saint Mark's Lutheran School & Non Public School            &                              & ACG                          & ST MARK EV LUTH CH           & Sauk Village                 & 22012 Torrence Ave           & -87.55686                    & 41.48871                    \\\\\n",
       "\\end{tabular}\n"
      ],
      "text/markdown": [
       "\n",
       "| mergeid | cftype | gniscode | cfname | cfsubtype | comment | source | jurisdicti | community | address | POINT_X | POINT_Y |\n",
       "|---|---|---|---|---|---|---|---|---|---|---|---|\n",
       "| 10000                        | School                       |  419204                      | Strassburg Elementary School | Public School                |                              | ACGIL                        | SCHOOL DIST #168             | Sauk Village                 | 2002 E 223rd St              | -87.56634                    | 41.48341                     |\n",
       "| 10002                        | School                       | 2035677                      | Saint Mark's Lutheran School | Non Public School            |                              | ACG                          | ST MARK EV LUTH CH           | Sauk Village                 | 22012 Torrence Ave           | -87.55686                    | 41.48871                     |\n",
       "\n"
      ],
      "text/plain": [
       "  mergeid cftype gniscode cfname                       cfsubtype        \n",
       "1 10000   School  419204  Strassburg Elementary School Public School    \n",
       "2 10002   School 2035677  Saint Mark's Lutheran School Non Public School\n",
       "  comment source jurisdicti         community    address            POINT_X  \n",
       "1         ACGIL  SCHOOL DIST #168   Sauk Village 2002 E 223rd St    -87.56634\n",
       "2         ACG    ST MARK EV LUTH CH Sauk Village 22012 Torrence Ave -87.55686\n",
       "  POINT_Y \n",
       "1 41.48341\n",
       "2 41.48871"
      ]
     },
     "metadata": {},
     "output_type": "display_data"
    },
    {
     "data": {
      "text/html": [
       "<table>\n",
       "<thead><tr><th scope=col>PROGRAM</th><th scope=col>SITE.NAME</th><th scope=col>HOURS.OF.OPERATION</th><th scope=col>ADDRESS</th><th scope=col>CITY</th><th scope=col>STATE</th><th scope=col>ZIP</th><th scope=col>PHONE</th><th scope=col>LOCATION</th><th scope=col>ZCTA5CE10</th><th scope=col>STATEFP</th><th scope=col>COUNTYFP</th><th scope=col>TRACTCE</th><th scope=col>BLKGRPCE</th><th scope=col>GEOID</th><th scope=col>LATITUDE</th><th scope=col>LONGITUDE</th><th scope=col>community</th></tr></thead>\n",
       "<tbody>\n",
       "\t<tr><td>Regional Senior Center                                                            </td><td>Northeast                                                                         </td><td>Mon - Fri 8:30 a.m. to 4:30 p.m. Sat 9:00 a.m. to 4:00 p.m.                       </td><td>2019 W. Lawrence Avenue                                                           </td><td>Chicago                                                                           </td><td>IL                                                                                </td><td>60625                                                                             </td><td>312-744-0784                                                                      </td><td>2019 W Lawrence Avenue\n",
       "Chicago, IL 60625\n",
       "(41.96872254686461, -87.68019238203728)</td><td>60625                                                                             </td><td>17                                                                                </td><td>031                                                                               </td><td>040600                                                                            </td><td>1                                                                                 </td><td>170310406001                                                                      </td><td>+41.9670999                                                                       </td><td>-087.6806413                                                                      </td><td>LINCOLN SQUARE                                                                    </td></tr>\n",
       "\t<tr><td>Regional Senior Center                                                            </td><td>Southwest                                                                         </td><td>Mon - Fri 8:30 a.m. to 4:30 p.m. Sat 9:00 a.m. to 4:00 p.m.                       </td><td>6117 S. Kedzie Avenue                                                             </td><td>Chicago                                                                           </td><td>IL                                                                                </td><td>60629                                                                             </td><td>312-747-0440                                                                      </td><td>6117 S Kedzie Avenue\n",
       "Chicago, IL 60629\n",
       "(41.78212991978889, -87.70319764951621)  </td><td>60629                                                                             </td><td>17                                                                                </td><td>031                                                                               </td><td>660302                                                                            </td><td>2                                                                                 </td><td>170316603022                                                                      </td><td>+41.7835374                                                                       </td><td>-087.7020495                                                                      </td><td>CHICAGO LAWN                                                                      </td></tr>\n",
       "</tbody>\n",
       "</table>\n"
      ],
      "text/latex": [
       "\\begin{tabular}{r|llllllllllllllllll}\n",
       " PROGRAM & SITE.NAME & HOURS.OF.OPERATION & ADDRESS & CITY & STATE & ZIP & PHONE & LOCATION & ZCTA5CE10 & STATEFP & COUNTYFP & TRACTCE & BLKGRPCE & GEOID & LATITUDE & LONGITUDE & community\\\\\n",
       "\\hline\n",
       "\t Regional Senior Center                                                             & Northeast                                                                          & Mon - Fri 8:30 a.m. to 4:30 p.m. Sat 9:00 a.m. to 4:00 p.m.                        & 2019 W. Lawrence Avenue                                                            & Chicago                                                                            & IL                                                                                 & 60625                                                                              & 312-744-0784                                                                       & 2019 W Lawrence Avenue\n",
       "Chicago, IL 60625\n",
       "(41.96872254686461, -87.68019238203728) & 60625                                                                              & 17                                                                                 & 031                                                                                & 040600                                                                             & 1                                                                                  & 170310406001                                                                       & +41.9670999                                                                        & -087.6806413                                                                       & LINCOLN SQUARE                                                                    \\\\\n",
       "\t Regional Senior Center                                                             & Southwest                                                                          & Mon - Fri 8:30 a.m. to 4:30 p.m. Sat 9:00 a.m. to 4:00 p.m.                        & 6117 S. Kedzie Avenue                                                              & Chicago                                                                            & IL                                                                                 & 60629                                                                              & 312-747-0440                                                                       & 6117 S Kedzie Avenue\n",
       "Chicago, IL 60629\n",
       "(41.78212991978889, -87.70319764951621)   & 60629                                                                              & 17                                                                                 & 031                                                                                & 660302                                                                             & 2                                                                                  & 170316603022                                                                       & +41.7835374                                                                        & -087.7020495                                                                       & CHICAGO LAWN                                                                      \\\\\n",
       "\\end{tabular}\n"
      ],
      "text/markdown": [
       "\n",
       "| PROGRAM | SITE.NAME | HOURS.OF.OPERATION | ADDRESS | CITY | STATE | ZIP | PHONE | LOCATION | ZCTA5CE10 | STATEFP | COUNTYFP | TRACTCE | BLKGRPCE | GEOID | LATITUDE | LONGITUDE | community |\n",
       "|---|---|---|---|---|---|---|---|---|---|---|---|---|---|---|---|---|---|\n",
       "| Regional Senior Center                                                             | Northeast                                                                          | Mon - Fri 8:30 a.m. to 4:30 p.m. Sat 9:00 a.m. to 4:00 p.m.                        | 2019 W. Lawrence Avenue                                                            | Chicago                                                                            | IL                                                                                 | 60625                                                                              | 312-744-0784                                                                       | 2019 W Lawrence Avenue\n",
       "Chicago, IL 60625\n",
       "(41.96872254686461, -87.68019238203728) | 60625                                                                              | 17                                                                                 | 031                                                                                | 040600                                                                             | 1                                                                                  | 170310406001                                                                       | +41.9670999                                                                        | -087.6806413                                                                       | LINCOLN SQUARE                                                                     |\n",
       "| Regional Senior Center                                                             | Southwest                                                                          | Mon - Fri 8:30 a.m. to 4:30 p.m. Sat 9:00 a.m. to 4:00 p.m.                        | 6117 S. Kedzie Avenue                                                              | Chicago                                                                            | IL                                                                                 | 60629                                                                              | 312-747-0440                                                                       | 6117 S Kedzie Avenue\n",
       "Chicago, IL 60629\n",
       "(41.78212991978889, -87.70319764951621)   | 60629                                                                              | 17                                                                                 | 031                                                                                | 660302                                                                             | 2                                                                                  | 170316603022                                                                       | +41.7835374                                                                        | -087.7020495                                                                       | CHICAGO LAWN                                                                       |\n",
       "\n"
      ],
      "text/plain": [
       "  PROGRAM                SITE.NAME\n",
       "1 Regional Senior Center Northeast\n",
       "2 Regional Senior Center Southwest\n",
       "  HOURS.OF.OPERATION                                         \n",
       "1 Mon - Fri 8:30 a.m. to 4:30 p.m. Sat 9:00 a.m. to 4:00 p.m.\n",
       "2 Mon - Fri 8:30 a.m. to 4:30 p.m. Sat 9:00 a.m. to 4:00 p.m.\n",
       "  ADDRESS                 CITY    STATE ZIP   PHONE       \n",
       "1 2019 W. Lawrence Avenue Chicago IL    60625 312-744-0784\n",
       "2 6117 S. Kedzie Avenue   Chicago IL    60629 312-747-0440\n",
       "  LOCATION                                                                          \n",
       "1 2019 W Lawrence Avenue\\nChicago, IL 60625\\n(41.96872254686461, -87.68019238203728)\n",
       "2 6117 S Kedzie Avenue\\nChicago, IL 60629\\n(41.78212991978889, -87.70319764951621)  \n",
       "  ZCTA5CE10 STATEFP COUNTYFP TRACTCE BLKGRPCE GEOID        LATITUDE   \n",
       "1 60625     17      031      040600  1        170310406001 +41.9670999\n",
       "2 60629     17      031      660302  2        170316603022 +41.7835374\n",
       "  LONGITUDE    community     \n",
       "1 -087.6806413 LINCOLN SQUARE\n",
       "2 -087.7020495 CHICAGO LAWN  "
      ]
     },
     "metadata": {},
     "output_type": "display_data"
    },
    {
     "name": "stdout",
     "output_type": "stream",
     "text": [
      "Observations: 21\n",
      "Variables: 18\n",
      "$ PROGRAM            <chr> \"Regional Senior Center\", \"Regional Senior Center\"…\n",
      "$ SITE.NAME          <chr> \"Northeast\", \"Southwest\", \"Northwest\", \"Central We…\n",
      "$ HOURS.OF.OPERATION <chr> \"Mon - Fri 8:30 a.m. to 4:30 p.m. Sat 9:00 a.m. to…\n",
      "$ ADDRESS            <chr> \"2019 W. Lawrence Avenue\", \"6117 S. Kedzie Avenue\"…\n",
      "$ CITY               <chr> \"Chicago\", \"Chicago\", \"Chicago\", \"Chicago\", \"Chica…\n",
      "$ STATE              <chr> \"IL\", \"IL\", \"IL\", \"IL\", \"IL\", \"IL\", \"IL\", \"IL\", \"I…\n",
      "$ ZIP                <int> 60625, 60629, 60618, 60612, 60649, 60602, 60619, 6…\n",
      "$ PHONE              <chr> \"312-744-0784\", \"312-747-0440\", \"312-744-6681\", \"3…\n",
      "$ LOCATION           <chr> \"2019 W Lawrence Avenue\\nChicago, IL 60625\\n(41.96…\n",
      "$ ZCTA5CE10          <chr> \"60625\", \"60629\", \"60618\", \"60612\", \"60649\", \"6060…\n",
      "$ STATEFP            <chr> \"17\", \"17\", \"17\", \"17\", \"17\", \"17\", \"17\", \"17\", \"1…\n",
      "$ COUNTYFP           <chr> \"031\", \"031\", \"031\", \"031\", \"031\", \"031\", \"031\", \"…\n",
      "$ TRACTCE            <chr> \"040600\", \"660302\", \"210501\", \"838200\", \"460500\", …\n",
      "$ BLKGRPCE           <chr> \"1\", \"2\", \"2\", \"1\", \"7\", \"1\", \"2\", \"2\", \"4\", \"1\", …\n",
      "$ GEOID              <chr> \"170310406001\", \"170316603022\", \"170312105012\", \"1…\n",
      "$ LATITUDE           <chr> \"+41.9670999\", \"+41.7835374\", \"+41.9373587\", \"+41.…\n",
      "$ LONGITUDE          <chr> \"-087.6806413\", \"-087.7020495\", \"-087.7240049\", \"-…\n",
      "$ community          <chr> \"LINCOLN SQUARE\", \"CHICAGO LAWN\", \"AVONDALE\", \"NEA…\n"
     ]
    }
   ],
   "source": [
    "head(hospitals,2)\n",
    "head(schools,2)\n",
    "head(senior,2)\n",
    "\n",
    "#table(senior$CITY)\n",
    "\n",
    "glimpse(senior)\n"
   ]
  },
  {
   "cell_type": "code",
   "execution_count": 4,
   "metadata": {
    "collapsed": false
   },
   "outputs": [],
   "source": [
    "# --- get chicago hospitals\n",
    "hospitals$LONGITUDE <- as.numeric(hospitals$LONGITUDE)\n",
    "hospitals$LATITUDE <- as.numeric(hospitals$LATITUDE)\n",
    "\n",
    "hosp_df <- hospitals %>%    \n",
    "    select(CFNAME,LONGITUDE, LATITUDE, Community, CFTYPE) %>%\n",
    "    filter(Community %in% \"Chicago\")\n",
    "\n",
    "hosp_df <- hosp_df %>%\n",
    "  setNames(tolower(gsub(\" \",\"_\",names(.))) )\n",
    "\n",
    "# --- get chicago schools\n",
    "sch_df <- schools %>%    \n",
    "    select(cfname,POINT_X, POINT_Y, community, cftype) %>%\n",
    "    rename(LONGITUDE = POINT_X , LATITUDE = POINT_Y) %>%\n",
    "    filter(community %in% \"Chicago\") \n",
    "\n",
    "sch_df <- sch_df %>%\n",
    "  setNames(tolower(gsub(\" \",\"_\",names(.))) )\n",
    "\n",
    "# --- get senior centers\n",
    "senior$LONGITUDE <- as.numeric(senior$LONGITUDE)\n",
    "senior$LATITUDE <- as.numeric(senior$LATITUDE)\n",
    "\n",
    "senior$cfname <- c(paste0(senior$SITE.NAME, \" \", senior$PROGRAM,\" \",senior$community)) # create a name for SC\n",
    "senior$CFTYPE <- \"Senior Center\"\n",
    "\n",
    "snr_df <- senior %>%    \n",
    "    select(cfname,LONGITUDE, LATITUDE, CITY, CFTYPE) %>%\n",
    "    rename(community = CITY)\n",
    "    #filter(CITY %in% \"Chicago\")\n",
    "\n",
    "snr_df <- snr_df %>%\n",
    "  setNames(tolower(gsub(\" \",\"_\",names(.))) )\n",
    "\n"
   ]
  },
  {
   "cell_type": "code",
   "execution_count": 5,
   "metadata": {
    "collapsed": false
   },
   "outputs": [
    {
     "data": {
      "text/html": [
       "<table>\n",
       "<thead><tr><th scope=col>cfname</th><th scope=col>longitude</th><th scope=col>latitude</th><th scope=col>community</th><th scope=col>cftype</th></tr></thead>\n",
       "<tbody>\n",
       "\t<tr><td>Cermak Hospital   </td><td>-87.69757         </td><td>41.84098          </td><td>Chicago           </td><td>Hospital          </td></tr>\n",
       "\t<tr><td>Hartgrove Hospital</td><td>-87.76369         </td><td>41.86881          </td><td>Chicago           </td><td>Hospital          </td></tr>\n",
       "</tbody>\n",
       "</table>\n"
      ],
      "text/latex": [
       "\\begin{tabular}{r|lllll}\n",
       " cfname & longitude & latitude & community & cftype\\\\\n",
       "\\hline\n",
       "\t Cermak Hospital    & -87.69757          & 41.84098           & Chicago            & Hospital          \\\\\n",
       "\t Hartgrove Hospital & -87.76369          & 41.86881           & Chicago            & Hospital          \\\\\n",
       "\\end{tabular}\n"
      ],
      "text/markdown": [
       "\n",
       "| cfname | longitude | latitude | community | cftype |\n",
       "|---|---|---|---|---|\n",
       "| Cermak Hospital    | -87.69757          | 41.84098           | Chicago            | Hospital           |\n",
       "| Hartgrove Hospital | -87.76369          | 41.86881           | Chicago            | Hospital           |\n",
       "\n"
      ],
      "text/plain": [
       "  cfname             longitude latitude community cftype  \n",
       "1 Cermak Hospital    -87.69757 41.84098 Chicago   Hospital\n",
       "2 Hartgrove Hospital -87.76369 41.86881 Chicago   Hospital"
      ]
     },
     "metadata": {},
     "output_type": "display_data"
    },
    {
     "data": {
      "text/html": [
       "<table>\n",
       "<thead><tr><th scope=col>cfname</th><th scope=col>longitude</th><th scope=col>latitude</th><th scope=col>community</th><th scope=col>cftype</th></tr></thead>\n",
       "<tbody>\n",
       "\t<tr><td>Lawrence Hall Youth Services </td><td>-87.70003                    </td><td>41.96984                     </td><td>Chicago                      </td><td>School                       </td></tr>\n",
       "\t<tr><td>House of Good Shepherd School</td><td>-87.65736                    </td><td>41.95191                     </td><td>Chicago                      </td><td>School                       </td></tr>\n",
       "</tbody>\n",
       "</table>\n"
      ],
      "text/latex": [
       "\\begin{tabular}{r|lllll}\n",
       " cfname & longitude & latitude & community & cftype\\\\\n",
       "\\hline\n",
       "\t Lawrence Hall Youth Services  & -87.70003                     & 41.96984                      & Chicago                       & School                       \\\\\n",
       "\t House of Good Shepherd School & -87.65736                     & 41.95191                      & Chicago                       & School                       \\\\\n",
       "\\end{tabular}\n"
      ],
      "text/markdown": [
       "\n",
       "| cfname | longitude | latitude | community | cftype |\n",
       "|---|---|---|---|---|\n",
       "| Lawrence Hall Youth Services  | -87.70003                     | 41.96984                      | Chicago                       | School                        |\n",
       "| House of Good Shepherd School | -87.65736                     | 41.95191                      | Chicago                       | School                        |\n",
       "\n"
      ],
      "text/plain": [
       "  cfname                        longitude latitude community cftype\n",
       "1 Lawrence Hall Youth Services  -87.70003 41.96984 Chicago   School\n",
       "2 House of Good Shepherd School -87.65736 41.95191 Chicago   School"
      ]
     },
     "metadata": {},
     "output_type": "display_data"
    },
    {
     "data": {
      "text/html": [
       "<table>\n",
       "<thead><tr><th scope=col>cfname</th><th scope=col>longitude</th><th scope=col>latitude</th><th scope=col>community</th><th scope=col>cftype</th></tr></thead>\n",
       "<tbody>\n",
       "\t<tr><td>Northeast Regional Senior Center LINCOLN SQUARE</td><td>-87.68064                                      </td><td>41.96710                                       </td><td>Chicago                                        </td><td>Senior Center                                  </td></tr>\n",
       "\t<tr><td>Southwest Regional Senior Center CHICAGO LAWN  </td><td>-87.70205                                      </td><td>41.78354                                       </td><td>Chicago                                        </td><td>Senior Center                                  </td></tr>\n",
       "</tbody>\n",
       "</table>\n"
      ],
      "text/latex": [
       "\\begin{tabular}{r|lllll}\n",
       " cfname & longitude & latitude & community & cftype\\\\\n",
       "\\hline\n",
       "\t Northeast Regional Senior Center LINCOLN SQUARE & -87.68064                                       & 41.96710                                        & Chicago                                         & Senior Center                                  \\\\\n",
       "\t Southwest Regional Senior Center CHICAGO LAWN   & -87.70205                                       & 41.78354                                        & Chicago                                         & Senior Center                                  \\\\\n",
       "\\end{tabular}\n"
      ],
      "text/markdown": [
       "\n",
       "| cfname | longitude | latitude | community | cftype |\n",
       "|---|---|---|---|---|\n",
       "| Northeast Regional Senior Center LINCOLN SQUARE | -87.68064                                       | 41.96710                                        | Chicago                                         | Senior Center                                   |\n",
       "| Southwest Regional Senior Center CHICAGO LAWN   | -87.70205                                       | 41.78354                                        | Chicago                                         | Senior Center                                   |\n",
       "\n"
      ],
      "text/plain": [
       "  cfname                                          longitude latitude community\n",
       "1 Northeast Regional Senior Center LINCOLN SQUARE -87.68064 41.96710 Chicago  \n",
       "2 Southwest Regional Senior Center CHICAGO LAWN   -87.70205 41.78354 Chicago  \n",
       "  cftype       \n",
       "1 Senior Center\n",
       "2 Senior Center"
      ]
     },
     "metadata": {},
     "output_type": "display_data"
    }
   ],
   "source": [
    "head(hosp_df,2)\n",
    "head(sch_df,2)\n",
    "head(snr_df,2)\n",
    "#glimpse(wnv_df)"
   ]
  },
  {
   "cell_type": "markdown",
   "metadata": {},
   "source": [
    "read in the wnv master file and get unique traps info to creat a masterfile of traps"
   ]
  },
  {
   "cell_type": "code",
   "execution_count": 6,
   "metadata": {
    "collapsed": false
   },
   "outputs": [
    {
     "data": {
      "text/html": [
       "<ol class=list-inline>\n",
       "\t<li>13631</li>\n",
       "\t<li>3</li>\n",
       "</ol>\n"
      ],
      "text/latex": [
       "\\begin{enumerate*}\n",
       "\\item 13631\n",
       "\\item 3\n",
       "\\end{enumerate*}\n"
      ],
      "text/markdown": [
       "1. 13631\n",
       "2. 3\n",
       "\n",
       "\n"
      ],
      "text/plain": [
       "[1] 13631     3"
      ]
     },
     "metadata": {},
     "output_type": "display_data"
    },
    {
     "data": {
      "text/html": [
       "<ol class=list-inline>\n",
       "\t<li>194</li>\n",
       "\t<li>3</li>\n",
       "</ol>\n"
      ],
      "text/latex": [
       "\\begin{enumerate*}\n",
       "\\item 194\n",
       "\\item 3\n",
       "\\end{enumerate*}\n"
      ],
      "text/markdown": [
       "1. 194\n",
       "2. 3\n",
       "\n",
       "\n"
      ],
      "text/plain": [
       "[1] 194   3"
      ]
     },
     "metadata": {},
     "output_type": "display_data"
    }
   ],
   "source": [
    "master_trap <- wnv_df %>%\n",
    "    select(trap_trap_name, loc_lat, loc_lng)\n",
    "\n",
    "master_trap_nodup <- master_trap[!duplicated(master_trap),]\n",
    "\n",
    "dim(master_trap)\n",
    "dim(master_trap_nodup)"
   ]
  },
  {
   "cell_type": "markdown",
   "metadata": {},
   "source": [
    "# create 3 marker files with haversine distances to trap\n",
    "- 1 master file is too big for github\n",
    "- the first file is all traps to hospitals"
   ]
  },
  {
   "cell_type": "markdown",
   "metadata": {},
   "source": [
    "## hospital distance"
   ]
  },
  {
   "cell_type": "code",
   "execution_count": 7,
   "metadata": {
    "collapsed": false
   },
   "outputs": [
    {
     "name": "stderr",
     "output_type": "stream",
     "text": [
      "Joining, by = \"dummy\"\n",
      "Warning message:\n",
      "“package ‘bindrcpp’ was built under R version 3.4.4”"
     ]
    },
    {
     "data": {
      "text/html": [
       "<ol class=list-inline>\n",
       "\t<li>9118</li>\n",
       "\t<li>8</li>\n",
       "</ol>\n"
      ],
      "text/latex": [
       "\\begin{enumerate*}\n",
       "\\item 9118\n",
       "\\item 8\n",
       "\\end{enumerate*}\n"
      ],
      "text/markdown": [
       "1. 9118\n",
       "2. 8\n",
       "\n",
       "\n"
      ],
      "text/plain": [
       "[1] 9118    8"
      ]
     },
     "metadata": {},
     "output_type": "display_data"
    },
    {
     "data": {
      "text/html": [
       "<table>\n",
       "<thead><tr><th scope=col>trap_trap_name</th><th scope=col>loc_lat</th><th scope=col>loc_lng</th><th scope=col>cfname</th><th scope=col>longitude</th><th scope=col>latitude</th><th scope=col>cftype</th><th scope=col>dist_round_mi</th></tr></thead>\n",
       "<tbody>\n",
       "\t<tr><td>T002              </td><td>41.9563           </td><td>-87.79752         </td><td>Cermak Hospital   </td><td>-87.69757         </td><td>41.84098          </td><td>Hospital          </td><td>9.5               </td></tr>\n",
       "\t<tr><td>T002              </td><td>41.9563           </td><td>-87.79752         </td><td>Hartgrove Hospital</td><td>-87.76369         </td><td>41.86881          </td><td>Hospital          </td><td>6.3               </td></tr>\n",
       "</tbody>\n",
       "</table>\n"
      ],
      "text/latex": [
       "\\begin{tabular}{r|llllllll}\n",
       " trap\\_trap\\_name & loc\\_lat & loc\\_lng & cfname & longitude & latitude & cftype & dist\\_round\\_mi\\\\\n",
       "\\hline\n",
       "\t T002               & 41.9563            & -87.79752          & Cermak Hospital    & -87.69757          & 41.84098           & Hospital           & 9.5               \\\\\n",
       "\t T002               & 41.9563            & -87.79752          & Hartgrove Hospital & -87.76369          & 41.86881           & Hospital           & 6.3               \\\\\n",
       "\\end{tabular}\n"
      ],
      "text/markdown": [
       "\n",
       "| trap_trap_name | loc_lat | loc_lng | cfname | longitude | latitude | cftype | dist_round_mi |\n",
       "|---|---|---|---|---|---|---|---|\n",
       "| T002               | 41.9563            | -87.79752          | Cermak Hospital    | -87.69757          | 41.84098           | Hospital           | 9.5                |\n",
       "| T002               | 41.9563            | -87.79752          | Hartgrove Hospital | -87.76369          | 41.86881           | Hospital           | 6.3                |\n",
       "\n"
      ],
      "text/plain": [
       "  trap_trap_name loc_lat loc_lng   cfname             longitude latitude\n",
       "1 T002           41.9563 -87.79752 Cermak Hospital    -87.69757 41.84098\n",
       "2 T002           41.9563 -87.79752 Hartgrove Hospital -87.76369 41.86881\n",
       "  cftype   dist_round_mi\n",
       "1 Hospital 9.5          \n",
       "2 Hospital 6.3          "
      ]
     },
     "metadata": {},
     "output_type": "display_data"
    }
   ],
   "source": [
    "dist.from.trap <- inner_join(\n",
    "  cbind(master_trap_nodup[,c(\"trap_trap_name\",\"loc_lat\",\"loc_lng\")],dummy=1)\n",
    "  ,cbind(hosp_df[,c(\"cfname\",\"longitude\",\"latitude\", \"cftype\")],dummy=1)\n",
    ") %>% dplyr::select(-dummy) %>% ## rowwise() %>% \n",
    "  mutate(dist.from.trap.m = \n",
    "    geosphere::distHaversine(p1=cbind(loc_lng,loc_lat)\n",
    "                             ,p2=cbind(as.numeric(longitude),as.numeric(latitude))\n",
    "    )) %>%\n",
    "  mutate(dist.from.trap.ft = dist.from.trap.m * 3.28084) %>%\n",
    "  mutate(dist.from.trap.mi = dist.from.trap.ft / 5280) %>%\n",
    "  dplyr::select(-c(dist.from.trap.ft)) %>%\n",
    "  #dplyr::select(-c(POINT_Y,POINT_X,loc_lng,loc_lat,dist.from.trap.m)) \n",
    "  dplyr::select(-c(dist.from.trap.m)) \n",
    "  \n",
    "  hosp2trap_dist <- dist.from.trap  %>%\n",
    "  setNames(tolower(gsub(\" \",\"_\",names(.))) )\n",
    "\n",
    "#round the miles to the nearest tenth\n",
    "hosp2trap_dist$dist_round_mi <- round(hosp2trap_dist$dist.from.trap.mi, digits=1)\n",
    "\n",
    "hosp2trap_dist <- hosp2trap_dist %>%\n",
    "    select(-dist.from.trap.mi)\n",
    "dim(hosp2trap_dist)\n",
    "\n",
    "#head(hosp2trap_dist)\n",
    "\n",
    "#hosp2trap_dist_nodup <- hosp2trap_dist[!duplicated(hosp2trap_dist),]\n",
    "#dim(hosp2trap_dist_nodup)\n",
    "#dim(hosp2trap_dist)\n",
    "\n",
    "head(hosp2trap_dist,2)"
   ]
  },
  {
   "cell_type": "code",
   "execution_count": 8,
   "metadata": {
    "collapsed": false
   },
   "outputs": [
    {
     "data": {
      "text/html": [
       "'/Users/tedinciong/kaggle/src/jupyter'"
      ],
      "text/latex": [
       "'/Users/tedinciong/kaggle/src/jupyter'"
      ],
      "text/markdown": [
       "'/Users/tedinciong/kaggle/src/jupyter'"
      ],
      "text/plain": [
       "[1] \"/Users/tedinciong/kaggle/src/jupyter\""
      ]
     },
     "metadata": {},
     "output_type": "display_data"
    },
    {
     "data": {
      "text/html": [
       "'/Users/tedinciong/kaggle/data/00-DATA/hospitals'"
      ],
      "text/latex": [
       "'/Users/tedinciong/kaggle/data/00-DATA/hospitals'"
      ],
      "text/markdown": [
       "'/Users/tedinciong/kaggle/data/00-DATA/hospitals'"
      ],
      "text/plain": [
       "[1] \"/Users/tedinciong/kaggle/data/00-DATA/hospitals\""
      ]
     },
     "metadata": {},
     "output_type": "display_data"
    }
   ],
   "source": [
    "getwd()\n",
    "setwd(\"/Users/tedinciong/kaggle/data/00-DATA/hospitals/\")\n",
    "getwd()\n",
    "\n",
    "#save(hosp2trap_dist, file=\"hosp2trap_dist.RData\", compress = FALSE)\n",
    "#write.csv(hosp2trap_dist, 'hosp2trap_dist.csv',row.names = FALSE)"
   ]
  },
  {
   "cell_type": "markdown",
   "metadata": {},
   "source": [
    "### Write out the hospital geospatial info"
   ]
  },
  {
   "cell_type": "code",
   "execution_count": 11,
   "metadata": {
    "collapsed": false
   },
   "outputs": [
    {
     "data": {
      "text/html": [
       "<ol class=list-inline>\n",
       "\t<li>9118</li>\n",
       "\t<li>6</li>\n",
       "</ol>\n"
      ],
      "text/latex": [
       "\\begin{enumerate*}\n",
       "\\item 9118\n",
       "\\item 6\n",
       "\\end{enumerate*}\n"
      ],
      "text/markdown": [
       "1. 9118\n",
       "2. 6\n",
       "\n",
       "\n"
      ],
      "text/plain": [
       "[1] 9118    6"
      ]
     },
     "metadata": {},
     "output_type": "display_data"
    },
    {
     "data": {
      "text/html": [
       "<table>\n",
       "<thead><tr><th scope=col>id</th><th scope=col>longitude</th><th scope=col>latitude</th><th scope=col>cftype</th><th scope=col>dist_to_trap</th><th scope=col>trap_trap_name</th></tr></thead>\n",
       "<tbody>\n",
       "\t<tr><td>Cermak Hospital                         </td><td>-87.69757                               </td><td>41.84098                                </td><td>Hospital                                </td><td>9.5                                     </td><td>T002                                    </td></tr>\n",
       "\t<tr><td>Hartgrove Hospital                      </td><td>-87.76369                               </td><td>41.86881                                </td><td>Hospital                                </td><td>6.3                                     </td><td>T002                                    </td></tr>\n",
       "\t<tr><td>Sacred Heart Hospital                   </td><td>-87.70889                               </td><td>41.89184                                </td><td>Hospital                                </td><td>6.4                                     </td><td>T002                                    </td></tr>\n",
       "\t<tr><td>Saint Mary Of Nazareth Hospital         </td><td>-87.68454                               </td><td>41.90124                                </td><td>Hospital                                </td><td>7.0                                     </td><td>T002                                    </td></tr>\n",
       "\t<tr><td>Saint Elizabeth's Hospital              </td><td>-87.68590                               </td><td>41.90669                                </td><td>Hospital                                </td><td>6.7                                     </td><td>T002                                    </td></tr>\n",
       "\t<tr><td>Advocate Illinois Masonic Medical Center</td><td>-87.65163                               </td><td>41.93813                                </td><td>Hospital                                </td><td>7.6                                     </td><td>T002                                    </td></tr>\n",
       "</tbody>\n",
       "</table>\n"
      ],
      "text/latex": [
       "\\begin{tabular}{r|llllll}\n",
       " id & longitude & latitude & cftype & dist\\_to\\_trap & trap\\_trap\\_name\\\\\n",
       "\\hline\n",
       "\t Cermak Hospital                          & -87.69757                                & 41.84098                                 & Hospital                                 & 9.5                                      & T002                                    \\\\\n",
       "\t Hartgrove Hospital                       & -87.76369                                & 41.86881                                 & Hospital                                 & 6.3                                      & T002                                    \\\\\n",
       "\t Sacred Heart Hospital                    & -87.70889                                & 41.89184                                 & Hospital                                 & 6.4                                      & T002                                    \\\\\n",
       "\t Saint Mary Of Nazareth Hospital          & -87.68454                                & 41.90124                                 & Hospital                                 & 7.0                                      & T002                                    \\\\\n",
       "\t Saint Elizabeth's Hospital               & -87.68590                                & 41.90669                                 & Hospital                                 & 6.7                                      & T002                                    \\\\\n",
       "\t Advocate Illinois Masonic Medical Center & -87.65163                                & 41.93813                                 & Hospital                                 & 7.6                                      & T002                                    \\\\\n",
       "\\end{tabular}\n"
      ],
      "text/markdown": [
       "\n",
       "| id | longitude | latitude | cftype | dist_to_trap | trap_trap_name |\n",
       "|---|---|---|---|---|---|\n",
       "| Cermak Hospital                          | -87.69757                                | 41.84098                                 | Hospital                                 | 9.5                                      | T002                                     |\n",
       "| Hartgrove Hospital                       | -87.76369                                | 41.86881                                 | Hospital                                 | 6.3                                      | T002                                     |\n",
       "| Sacred Heart Hospital                    | -87.70889                                | 41.89184                                 | Hospital                                 | 6.4                                      | T002                                     |\n",
       "| Saint Mary Of Nazareth Hospital          | -87.68454                                | 41.90124                                 | Hospital                                 | 7.0                                      | T002                                     |\n",
       "| Saint Elizabeth's Hospital               | -87.68590                                | 41.90669                                 | Hospital                                 | 6.7                                      | T002                                     |\n",
       "| Advocate Illinois Masonic Medical Center | -87.65163                                | 41.93813                                 | Hospital                                 | 7.6                                      | T002                                     |\n",
       "\n"
      ],
      "text/plain": [
       "  id                                       longitude latitude cftype  \n",
       "1 Cermak Hospital                          -87.69757 41.84098 Hospital\n",
       "2 Hartgrove Hospital                       -87.76369 41.86881 Hospital\n",
       "3 Sacred Heart Hospital                    -87.70889 41.89184 Hospital\n",
       "4 Saint Mary Of Nazareth Hospital          -87.68454 41.90124 Hospital\n",
       "5 Saint Elizabeth's Hospital               -87.68590 41.90669 Hospital\n",
       "6 Advocate Illinois Masonic Medical Center -87.65163 41.93813 Hospital\n",
       "  dist_to_trap trap_trap_name\n",
       "1 9.5          T002          \n",
       "2 6.3          T002          \n",
       "3 6.4          T002          \n",
       "4 7.0          T002          \n",
       "5 6.7          T002          \n",
       "6 7.6          T002          "
      ]
     },
     "metadata": {},
     "output_type": "display_data"
    }
   ],
   "source": [
    "nodes_hosp_df <- hosp2trap_dist %>%\n",
    "    select(-c(\"loc_lat\", \"loc_lng\")) %>%\n",
    "    rename(\"id\" = \"cfname\", \"dist_to_trap\" = \"dist_round_mi\")\n",
    "#reorder var names\n",
    "nodes_hosp_df <- nodes_hosp_df[,c(2:6,1)]\n",
    "#total obs\n",
    "dim(nodes_hosp_df)\n",
    "\n",
    "head(nodes_hosp_df)"
   ]
  },
  {
   "cell_type": "code",
   "execution_count": 12,
   "metadata": {
    "collapsed": false
   },
   "outputs": [
    {
     "data": {
      "text/html": [
       "<ol class=list-inline>\n",
       "\t<li>0</li>\n",
       "\t<li>6</li>\n",
       "</ol>\n"
      ],
      "text/latex": [
       "\\begin{enumerate*}\n",
       "\\item 0\n",
       "\\item 6\n",
       "\\end{enumerate*}\n"
      ],
      "text/markdown": [
       "1. 0\n",
       "2. 6\n",
       "\n",
       "\n"
      ],
      "text/plain": [
       "[1] 0 6"
      ]
     },
     "metadata": {},
     "output_type": "display_data"
    }
   ],
   "source": [
    "#check for dups\n",
    "check_for_dups <- nodes_hosp_df[duplicated(nodes_hosp_df),] # keep unique traps\n",
    "dim(check_for_dups)\n"
   ]
  },
  {
   "cell_type": "code",
   "execution_count": 13,
   "metadata": {
    "collapsed": false
   },
   "outputs": [
    {
     "data": {
      "text/html": [
       "<ol class=list-inline>\n",
       "\t<li>9118</li>\n",
       "\t<li>6</li>\n",
       "</ol>\n"
      ],
      "text/latex": [
       "\\begin{enumerate*}\n",
       "\\item 9118\n",
       "\\item 6\n",
       "\\end{enumerate*}\n"
      ],
      "text/markdown": [
       "1. 9118\n",
       "2. 6\n",
       "\n",
       "\n"
      ],
      "text/plain": [
       "[1] 9118    6"
      ]
     },
     "metadata": {},
     "output_type": "display_data"
    }
   ],
   "source": [
    "#check after dedupped\n",
    "dedupped <- nodes_hosp_df[!duplicated(nodes_hosp_df),] # keep unique traps\n",
    "dim(dedupped)"
   ]
  },
  {
   "cell_type": "code",
   "execution_count": 15,
   "metadata": {
    "collapsed": false
   },
   "outputs": [
    {
     "data": {
      "text/html": [
       "<ol class=list-inline>\n",
       "\t<li>9118</li>\n",
       "\t<li>6</li>\n",
       "</ol>\n"
      ],
      "text/latex": [
       "\\begin{enumerate*}\n",
       "\\item 9118\n",
       "\\item 6\n",
       "\\end{enumerate*}\n"
      ],
      "text/markdown": [
       "1. 9118\n",
       "2. 6\n",
       "\n",
       "\n"
      ],
      "text/plain": [
       "[1] 9118    6"
      ]
     },
     "metadata": {},
     "output_type": "display_data"
    }
   ],
   "source": [
    "# dedup df\n",
    "nodes_hosp_df <- nodes_hosp_df[!duplicated(nodes_hosp_df),] # keep unique traps\n",
    "dim(nodes_hosp_df)\n"
   ]
  },
  {
   "cell_type": "code",
   "execution_count": 16,
   "metadata": {
    "collapsed": true
   },
   "outputs": [],
   "source": [
    "save(nodes_hosp_df, file=\"nodes_hosp_df.RData\", compress = FALSE)\n",
    "write.csv(nodes_hosp_df, 'nodes_hosp_df.csv',row.names = FALSE)"
   ]
  },
  {
   "cell_type": "code",
   "execution_count": null,
   "metadata": {
    "collapsed": true
   },
   "outputs": [],
   "source": [
    "#### Write out the trap geospatial info"
   ]
  },
  {
   "cell_type": "code",
   "execution_count": 17,
   "metadata": {
    "collapsed": false
   },
   "outputs": [
    {
     "data": {
      "text/html": [
       "<ol class=list-inline>\n",
       "\t<li>9118</li>\n",
       "\t<li>3</li>\n",
       "</ol>\n"
      ],
      "text/latex": [
       "\\begin{enumerate*}\n",
       "\\item 9118\n",
       "\\item 3\n",
       "\\end{enumerate*}\n"
      ],
      "text/markdown": [
       "1. 9118\n",
       "2. 3\n",
       "\n",
       "\n"
      ],
      "text/plain": [
       "[1] 9118    3"
      ]
     },
     "metadata": {},
     "output_type": "display_data"
    },
    {
     "data": {
      "text/html": [
       "<table>\n",
       "<thead><tr><th scope=col>id</th><th scope=col>latitude</th><th scope=col>longitude</th></tr></thead>\n",
       "<tbody>\n",
       "\t<tr><td>T002     </td><td>41.9563  </td><td>-87.79752</td></tr>\n",
       "\t<tr><td>T002     </td><td>41.9563  </td><td>-87.79752</td></tr>\n",
       "\t<tr><td>T002     </td><td>41.9563  </td><td>-87.79752</td></tr>\n",
       "\t<tr><td>T002     </td><td>41.9563  </td><td>-87.79752</td></tr>\n",
       "\t<tr><td>T002     </td><td>41.9563  </td><td>-87.79752</td></tr>\n",
       "\t<tr><td>T002     </td><td>41.9563  </td><td>-87.79752</td></tr>\n",
       "</tbody>\n",
       "</table>\n"
      ],
      "text/latex": [
       "\\begin{tabular}{r|lll}\n",
       " id & latitude & longitude\\\\\n",
       "\\hline\n",
       "\t T002      & 41.9563   & -87.79752\\\\\n",
       "\t T002      & 41.9563   & -87.79752\\\\\n",
       "\t T002      & 41.9563   & -87.79752\\\\\n",
       "\t T002      & 41.9563   & -87.79752\\\\\n",
       "\t T002      & 41.9563   & -87.79752\\\\\n",
       "\t T002      & 41.9563   & -87.79752\\\\\n",
       "\\end{tabular}\n"
      ],
      "text/markdown": [
       "\n",
       "| id | latitude | longitude |\n",
       "|---|---|---|\n",
       "| T002      | 41.9563   | -87.79752 |\n",
       "| T002      | 41.9563   | -87.79752 |\n",
       "| T002      | 41.9563   | -87.79752 |\n",
       "| T002      | 41.9563   | -87.79752 |\n",
       "| T002      | 41.9563   | -87.79752 |\n",
       "| T002      | 41.9563   | -87.79752 |\n",
       "\n"
      ],
      "text/plain": [
       "  id   latitude longitude\n",
       "1 T002 41.9563  -87.79752\n",
       "2 T002 41.9563  -87.79752\n",
       "3 T002 41.9563  -87.79752\n",
       "4 T002 41.9563  -87.79752\n",
       "5 T002 41.9563  -87.79752\n",
       "6 T002 41.9563  -87.79752"
      ]
     },
     "metadata": {},
     "output_type": "display_data"
    }
   ],
   "source": [
    "nodes_trap_df <- hosp2trap_dist %>%\n",
    "    select(c(\"trap_trap_name\", \"loc_lat\", \"loc_lng\")) %>%\n",
    "    rename(\"id\" = \"trap_trap_name\",\"longitude\" = \"loc_lng\", \"latitude\" = \"loc_lat\" )\n",
    "dim(nodes_trap_df)\n",
    "head(nodes_trap_df)"
   ]
  },
  {
   "cell_type": "code",
   "execution_count": 18,
   "metadata": {
    "collapsed": false
   },
   "outputs": [
    {
     "data": {
      "text/html": [
       "<ol class=list-inline>\n",
       "\t<li>8924</li>\n",
       "\t<li>3</li>\n",
       "</ol>\n"
      ],
      "text/latex": [
       "\\begin{enumerate*}\n",
       "\\item 8924\n",
       "\\item 3\n",
       "\\end{enumerate*}\n"
      ],
      "text/markdown": [
       "1. 8924\n",
       "2. 3\n",
       "\n",
       "\n"
      ],
      "text/plain": [
       "[1] 8924    3"
      ]
     },
     "metadata": {},
     "output_type": "display_data"
    }
   ],
   "source": [
    "#check for dups\n",
    "check_for_dups <- nodes_trap_df[duplicated(nodes_trap_df),] # keep unique traps\n",
    "dim(check_for_dups)\n"
   ]
  },
  {
   "cell_type": "code",
   "execution_count": 19,
   "metadata": {
    "collapsed": false
   },
   "outputs": [
    {
     "data": {
      "text/html": [
       "<ol class=list-inline>\n",
       "\t<li>194</li>\n",
       "\t<li>3</li>\n",
       "</ol>\n"
      ],
      "text/latex": [
       "\\begin{enumerate*}\n",
       "\\item 194\n",
       "\\item 3\n",
       "\\end{enumerate*}\n"
      ],
      "text/markdown": [
       "1. 194\n",
       "2. 3\n",
       "\n",
       "\n"
      ],
      "text/plain": [
       "[1] 194   3"
      ]
     },
     "metadata": {},
     "output_type": "display_data"
    }
   ],
   "source": [
    "#check after dedupped\n",
    "dedupped <- nodes_trap_df[!duplicated(nodes_trap_df),] # keep unique traps\n",
    "dim(dedupped)"
   ]
  },
  {
   "cell_type": "code",
   "execution_count": 20,
   "metadata": {
    "collapsed": false
   },
   "outputs": [
    {
     "data": {
      "text/html": [
       "<ol class=list-inline>\n",
       "\t<li>194</li>\n",
       "\t<li>3</li>\n",
       "</ol>\n"
      ],
      "text/latex": [
       "\\begin{enumerate*}\n",
       "\\item 194\n",
       "\\item 3\n",
       "\\end{enumerate*}\n"
      ],
      "text/markdown": [
       "1. 194\n",
       "2. 3\n",
       "\n",
       "\n"
      ],
      "text/plain": [
       "[1] 194   3"
      ]
     },
     "metadata": {},
     "output_type": "display_data"
    }
   ],
   "source": [
    "nodes_trap_df <- nodes_trap_df[!duplicated(nodes_trap_df),] # keep unique traps\n",
    "dim(nodes_trap_df)\n",
    "save(nodes_trap_df, file=\"nodes_trap_df.RData\", compress = FALSE)\n",
    "write.csv(nodes_trap_df, 'nodes_trap_df.csv',row.names = FALSE)"
   ]
  },
  {
   "cell_type": "markdown",
   "metadata": {},
   "source": [
    "#### Write out the hospital to trap edges"
   ]
  },
  {
   "cell_type": "code",
   "execution_count": 23,
   "metadata": {
    "collapsed": false
   },
   "outputs": [
    {
     "data": {
      "text/html": [
       "<table>\n",
       "<thead><tr><th scope=col>from</th><th scope=col>to</th></tr></thead>\n",
       "<tbody>\n",
       "\t<tr><td>T002              </td><td>Cermak Hospital   </td></tr>\n",
       "\t<tr><td>T002              </td><td>Hartgrove Hospital</td></tr>\n",
       "</tbody>\n",
       "</table>\n"
      ],
      "text/latex": [
       "\\begin{tabular}{r|ll}\n",
       " from & to\\\\\n",
       "\\hline\n",
       "\t T002               & Cermak Hospital   \\\\\n",
       "\t T002               & Hartgrove Hospital\\\\\n",
       "\\end{tabular}\n"
      ],
      "text/markdown": [
       "\n",
       "| from | to |\n",
       "|---|---|\n",
       "| T002               | Cermak Hospital    |\n",
       "| T002               | Hartgrove Hospital |\n",
       "\n"
      ],
      "text/plain": [
       "  from to                \n",
       "1 T002 Cermak Hospital   \n",
       "2 T002 Hartgrove Hospital"
      ]
     },
     "metadata": {},
     "output_type": "display_data"
    },
    {
     "data": {
      "text/html": [
       "<ol class=list-inline>\n",
       "\t<li>9118</li>\n",
       "\t<li>2</li>\n",
       "</ol>\n"
      ],
      "text/latex": [
       "\\begin{enumerate*}\n",
       "\\item 9118\n",
       "\\item 2\n",
       "\\end{enumerate*}\n"
      ],
      "text/markdown": [
       "1. 9118\n",
       "2. 2\n",
       "\n",
       "\n"
      ],
      "text/plain": [
       "[1] 9118    2"
      ]
     },
     "metadata": {},
     "output_type": "display_data"
    }
   ],
   "source": [
    "edges_hosp_df <- hosp2trap_dist[,c(1,4)]\n",
    "\n",
    "colnames(edges_hosp_df) <- c(\"from\", \"to\")\n",
    "head(edges_hosp_df,2)\n",
    "dim(edges_hosp_df)\n"
   ]
  },
  {
   "cell_type": "code",
   "execution_count": 24,
   "metadata": {
    "collapsed": false
   },
   "outputs": [
    {
     "data": {
      "text/html": [
       "<ol class=list-inline>\n",
       "\t<li>9118</li>\n",
       "\t<li>2</li>\n",
       "</ol>\n"
      ],
      "text/latex": [
       "\\begin{enumerate*}\n",
       "\\item 9118\n",
       "\\item 2\n",
       "\\end{enumerate*}\n"
      ],
      "text/markdown": [
       "1. 9118\n",
       "2. 2\n",
       "\n",
       "\n"
      ],
      "text/plain": [
       "[1] 9118    2"
      ]
     },
     "metadata": {},
     "output_type": "display_data"
    },
    {
     "data": {
      "text/html": [
       "<table>\n",
       "<thead><tr><th></th><th scope=col>from</th><th scope=col>to</th></tr></thead>\n",
       "<tbody>\n",
       "\t<tr><th scope=row>26</th><td>T002                   </td><td>Englewood Health Center</td></tr>\n",
       "\t<tr><th scope=row>73</th><td>T007                   </td><td>Englewood Health Center</td></tr>\n",
       "\t<tr><th scope=row>120</th><td>T015                   </td><td>Englewood Health Center</td></tr>\n",
       "</tbody>\n",
       "</table>\n"
      ],
      "text/latex": [
       "\\begin{tabular}{r|ll}\n",
       "  & from & to\\\\\n",
       "\\hline\n",
       "\t26 & T002                    & Englewood Health Center\\\\\n",
       "\t73 & T007                    & Englewood Health Center\\\\\n",
       "\t120 & T015                    & Englewood Health Center\\\\\n",
       "\\end{tabular}\n"
      ],
      "text/markdown": [
       "\n",
       "| <!--/--> | from | to |\n",
       "|---|---|---|\n",
       "| 26 | T002                    | Englewood Health Center |\n",
       "| 73 | T007                    | Englewood Health Center |\n",
       "| 120 | T015                    | Englewood Health Center |\n",
       "\n"
      ],
      "text/plain": [
       "    from to                     \n",
       "26  T002 Englewood Health Center\n",
       "73  T007 Englewood Health Center\n",
       "120 T015 Englewood Health Center"
      ]
     },
     "metadata": {},
     "output_type": "display_data"
    },
    {
     "data": {
      "text/html": [
       "<table>\n",
       "<thead><tr><th scope=col>from</th><th scope=col>to</th></tr></thead>\n",
       "<tbody>\n",
       "\t<tr><td>T007                   </td><td>Englewood Health Center</td></tr>\n",
       "\t<tr><td>T007                   </td><td>Englewood Health Center</td></tr>\n",
       "</tbody>\n",
       "</table>\n"
      ],
      "text/latex": [
       "\\begin{tabular}{r|ll}\n",
       " from & to\\\\\n",
       "\\hline\n",
       "\t T007                    & Englewood Health Center\\\\\n",
       "\t T007                    & Englewood Health Center\\\\\n",
       "\\end{tabular}\n"
      ],
      "text/markdown": [
       "\n",
       "| from | to |\n",
       "|---|---|\n",
       "| T007                    | Englewood Health Center |\n",
       "| T007                    | Englewood Health Center |\n",
       "\n"
      ],
      "text/plain": [
       "  from to                     \n",
       "1 T007 Englewood Health Center\n",
       "2 T007 Englewood Health Center"
      ]
     },
     "metadata": {},
     "output_type": "display_data"
    }
   ],
   "source": [
    "check_for_dups <- edges_hosp_df[duplicated(edges_hosp_df),] # keep unique traps\n",
    "dim(edges_hosp_df)\n",
    "head(check_for_dups,3)\n",
    "\n",
    "edges_hosp_df %>%\n",
    "    filter(from %in% \"T007\") %>%\n",
    "    filter(to %in% \"Englewood Health Center\")"
   ]
  },
  {
   "cell_type": "code",
   "execution_count": 25,
   "metadata": {
    "collapsed": false
   },
   "outputs": [
    {
     "data": {
      "text/html": [
       "<ol class=list-inline>\n",
       "\t<li>8924</li>\n",
       "\t<li>2</li>\n",
       "</ol>\n"
      ],
      "text/latex": [
       "\\begin{enumerate*}\n",
       "\\item 8924\n",
       "\\item 2\n",
       "\\end{enumerate*}\n"
      ],
      "text/markdown": [
       "1. 8924\n",
       "2. 2\n",
       "\n",
       "\n"
      ],
      "text/plain": [
       "[1] 8924    2"
      ]
     },
     "metadata": {},
     "output_type": "display_data"
    }
   ],
   "source": [
    "#check after dedupped\n",
    "dedupped <- edges_hosp_df[!duplicated(edges_hosp_df),] # keep unique traps\n",
    "dim(dedupped)"
   ]
  },
  {
   "cell_type": "code",
   "execution_count": 26,
   "metadata": {
    "collapsed": false
   },
   "outputs": [
    {
     "data": {
      "text/html": [
       "<ol class=list-inline>\n",
       "\t<li>8924</li>\n",
       "\t<li>2</li>\n",
       "</ol>\n"
      ],
      "text/latex": [
       "\\begin{enumerate*}\n",
       "\\item 8924\n",
       "\\item 2\n",
       "\\end{enumerate*}\n"
      ],
      "text/markdown": [
       "1. 8924\n",
       "2. 2\n",
       "\n",
       "\n"
      ],
      "text/plain": [
       "[1] 8924    2"
      ]
     },
     "metadata": {},
     "output_type": "display_data"
    }
   ],
   "source": [
    "edges_hosp_df <- edges_hosp_df[!duplicated(edges_hosp_df),] # keep unique traps\n",
    "dim(edges_hosp_df)\n",
    "\n",
    "\n",
    "#h2t_nodes_df <- data.frame(\"id\" = unique(unlist(h2t_edges_df)))\n",
    "\n",
    "save(edges_hosp_df, file=\"edges_hosp_df.RData\", compress = FALSE)\n",
    "write.csv(edges_hosp_df, 'edges_hosp_df.csv',row.names = FALSE)"
   ]
  },
  {
   "cell_type": "code",
   "execution_count": null,
   "metadata": {
    "collapsed": true
   },
   "outputs": [],
   "source": []
  },
  {
   "cell_type": "code",
   "execution_count": null,
   "metadata": {
    "collapsed": true
   },
   "outputs": [],
   "source": []
  }
 ],
 "metadata": {
  "kernelspec": {
   "display_name": "R",
   "language": "R",
   "name": "ir"
  },
  "language_info": {
   "codemirror_mode": "r",
   "file_extension": ".r",
   "mimetype": "text/x-r-source",
   "name": "R",
   "pygments_lexer": "r",
   "version": "3.4.3"
  }
 },
 "nbformat": 4,
 "nbformat_minor": 2
}
